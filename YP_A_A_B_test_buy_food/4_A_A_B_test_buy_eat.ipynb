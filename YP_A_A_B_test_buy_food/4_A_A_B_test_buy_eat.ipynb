{
  "cells": [
    {
      "cell_type": "markdown",
      "metadata": {
        "id": "Jj5BT6lu0TO6"
      },
      "source": [
        "**Стартап по продаже продуктов питания**\n"
      ]
    },
    {
      "cell_type": "markdown",
      "metadata": {
        "id": "0fR-sz_G0haz"
      },
      "source": [
        "анализ поведения пользователей мобильного приложения"
      ]
    },
    {
      "cell_type": "markdown",
      "metadata": {
        "id": "wJzoNPGi0mUM"
      },
      "source": [
        "# Содержание\n",
        "[ТЗ](#TZ)\n",
        "\n",
        "[служебные блоки](#code_block)\n",
        "\n",
        "[1. обзор данных](#data_review)\n",
        "\n",
        "[2. подготовка данных](#data_prepare)\n",
        "\n",
        "[3. изучение данных](#data_discovery)\n",
        "\n",
        "[4. воронка событий](#vorona)\n",
        "\n",
        "[5. результаты эксперимента](#A_A_B_test)\n",
        "\n",
        ">[5.1 расчёт результатов А/А эксперимента](#A_A_test)\n",
        "\n",
        ">[5.2 расчёт результатов А/В эксперимента](#A_B_test)\n",
        "\n",
        "[ вывод](#conclusion)"
      ]
    },
    {
      "cell_type": "markdown",
      "metadata": {
        "id": "zoeNpioB0zwt"
      },
      "source": [
        "## ТЗ <a name=\"TZ\"></a>"
      ]
    },
    {
      "cell_type": "markdown",
      "metadata": {
        "id": "vKWIbN4E00B-"
      },
      "source": [
        "Задача: определить поведение пользователей мобильного приложения по продаже еды используя воронку продаж.\n",
        "\n",
        "Определить:\n",
        "* как пользователи доходят до покупки\n",
        "* сколько пользователей доходит до покупки\n",
        "* шаги, на которых \"застревают\" пользователи\n",
        "\n",
        "Проанализировать проведённый А/А/В тест по изменению шрифтов в приложении\n",
        "\n"
      ]
    },
    {
      "cell_type": "markdown",
      "metadata": {
        "id": "l7IE-Dqv1LE6"
      },
      "source": [
        "Описание данных\n",
        "\n",
        "Каждая запись в логе — это действие пользователя, или событие.\n",
        "\n",
        "**EventName** — название события;\n",
        "\n",
        "**DeviceIDHash** — уникальный идентификатор пользователя;\n",
        "\n",
        "**EventTimestamp** — время события;\n",
        "\n",
        "**ExpId** — номер эксперимента: 246 и 247 — контрольные группы, а 248 — экспериментальная."
      ]
    },
    {
      "cell_type": "markdown",
      "metadata": {
        "id": "ulWoUCFA173-"
      },
      "source": [
        "## служебные блоки <a name=\"code_block\"></a>"
      ]
    },
    {
      "cell_type": "markdown",
      "metadata": {
        "id": "PyrTlWRw1bMz"
      },
      "source": [
        "---\n",
        "---"
      ]
    },
    {
      "cell_type": "code",
      "execution_count": null,
      "metadata": {
        "id": "ylXuD3kq1cWc"
      },
      "outputs": [],
      "source": [
        "import pandas as pd\n",
        "import matplotlib.pyplot as plt\n",
        "\n",
        "from scipy import stats as st\n",
        "import numpy as np"
      ]
    },
    {
      "cell_type": "markdown",
      "metadata": {
        "id": "qAfJr--P1cZG"
      },
      "source": [
        "---\n",
        "---\n"
      ]
    },
    {
      "cell_type": "code",
      "execution_count": null,
      "metadata": {
        "id": "xSsuEhvKkNsY"
      },
      "outputs": [],
      "source": [
        "def grafic_bar_1 (size_x, size_y, title, x_data, y_data, x_lable, y_lable ):\n",
        "  fig, ax = plt.subplots(nrows = 1, ncols = 1, figsize=(size_x,size_y))\n",
        "\n",
        "  ax.set_title(title)\n",
        "  ax.bar(x= x_data , height= y_data)\n",
        "  ax.set_xlabel(x_lable)\n",
        "  ax.set_ylabel(y_lable)\n",
        "  plt.xticks(rotation=-45, ha='left')\n",
        "\n",
        "\n",
        "  for bar in ax.patches:\n",
        "      ax.annotate(bar.get_height(), \n",
        "                     (bar.get_x() + bar.get_width() / 2, \n",
        "                      bar.get_height()), ha='center', va='center',\n",
        "                     size=15, xytext=(0, 8),\n",
        "                     textcoords='offset points')\n",
        "    \n",
        "  plt.show()"
      ]
    },
    {
      "cell_type": "code",
      "execution_count": null,
      "metadata": {
        "id": "dHLjLjWhB4wu"
      },
      "outputs": [],
      "source": [
        "def ttest_func (df, znach1, znach2, group1, group2, alpha   ):\n",
        "    gr_A = df[ ( (df['EventName'] == znach1) |  (df['EventName'] == znach2)  ) & (df['ExpId'] == group1) ]['rang_event_name']\n",
        "    gr_B = df[ ( (df['EventName'] == znach1) |  (df['EventName'] == znach2)  ) & (df['ExpId'] == group2) ]['rang_event_name']\n",
        "    #print(gr_A)\n",
        "    results = st.ttest_ind(gr_A, gr_B, equal_var = False)\n",
        "    \n",
        "    if results.pvalue < alpha:\n",
        "        return results.pvalue , False\n",
        "    else:\n",
        "        return results.pvalue , True\n"
      ]
    },
    {
      "cell_type": "code",
      "execution_count": null,
      "metadata": {
        "id": "-DASvwDUpDSh"
      },
      "outputs": [],
      "source": [
        "def tabl_group_data (df, name1 , name2 , group):\n",
        "\n",
        "  for i in range(4):\n",
        "    df.loc[ i , name1] = df_log_end_clear[ ( df_log_end_clear['EventName'] == results_test['EventName'][i] ) & (df_log_end_clear['ExpId'] == group ) ]['DeviceIDHash'].nunique()\n",
        "\n",
        "  df[ name2 ] = round( df[name1] / df[ name1 ].shift(+1) , 3)"
      ]
    },
    {
      "cell_type": "markdown",
      "metadata": {
        "id": "2Q6Ew6aOkN_l"
      },
      "source": [
        "---\n",
        "---"
      ]
    },
    {
      "cell_type": "markdown",
      "metadata": {
        "id": "TJOwkfBr00Eb"
      },
      "source": [
        "## обзор данных <a name=\"data_review\"></a>"
      ]
    },
    {
      "cell_type": "code",
      "execution_count": null,
      "metadata": {
        "id": "OhtB9aYX00Gj"
      },
      "outputs": [],
      "source": [
        "try:\n",
        "  df_log = pd.read_csv('/datasets/logs_exp.csv',sep = '\\t')\n",
        "except:\n",
        "  df_log = pd.read_csv('https://...logs_exp.csv',sep = '\\t')"
      ]
    },
    {
      "cell_type": "code",
      "execution_count": null,
      "metadata": {
        "colab": {
          "base_uri": "https://localhost:8080/",
          "height": 143
        },
        "id": "GtaFP-UF00Oa",
        "outputId": "000fe53b-a582-410b-ab42-bed01fad5ee5",
        "scrolled": true
      },
      "outputs": [
        {
          "output_type": "execute_result",
          "data": {
            "text/html": [
              "\n",
              "  <div id=\"df-ff76e0be-73e5-4aa1-aea6-965d7bd68d72\">\n",
              "    <div class=\"colab-df-container\">\n",
              "      <div>\n",
              "<style scoped>\n",
              "    .dataframe tbody tr th:only-of-type {\n",
              "        vertical-align: middle;\n",
              "    }\n",
              "\n",
              "    .dataframe tbody tr th {\n",
              "        vertical-align: top;\n",
              "    }\n",
              "\n",
              "    .dataframe thead th {\n",
              "        text-align: right;\n",
              "    }\n",
              "</style>\n",
              "<table border=\"1\" class=\"dataframe\">\n",
              "  <thead>\n",
              "    <tr style=\"text-align: right;\">\n",
              "      <th></th>\n",
              "      <th>EventName</th>\n",
              "      <th>DeviceIDHash</th>\n",
              "      <th>EventTimestamp</th>\n",
              "      <th>ExpId</th>\n",
              "    </tr>\n",
              "  </thead>\n",
              "  <tbody>\n",
              "    <tr>\n",
              "      <th>140338</th>\n",
              "      <td>CartScreenAppear</td>\n",
              "      <td>6991340031069409368</td>\n",
              "      <td>1564955287</td>\n",
              "      <td>246</td>\n",
              "    </tr>\n",
              "    <tr>\n",
              "      <th>238663</th>\n",
              "      <td>CartScreenAppear</td>\n",
              "      <td>4286084469604846869</td>\n",
              "      <td>1565198343</td>\n",
              "      <td>247</td>\n",
              "    </tr>\n",
              "    <tr>\n",
              "      <th>73728</th>\n",
              "      <td>PaymentScreenSuccessful</td>\n",
              "      <td>1989685320445148348</td>\n",
              "      <td>1564780061</td>\n",
              "      <td>247</td>\n",
              "    </tr>\n",
              "  </tbody>\n",
              "</table>\n",
              "</div>\n",
              "      <button class=\"colab-df-convert\" onclick=\"convertToInteractive('df-ff76e0be-73e5-4aa1-aea6-965d7bd68d72')\"\n",
              "              title=\"Convert this dataframe to an interactive table.\"\n",
              "              style=\"display:none;\">\n",
              "        \n",
              "  <svg xmlns=\"http://www.w3.org/2000/svg\" height=\"24px\"viewBox=\"0 0 24 24\"\n",
              "       width=\"24px\">\n",
              "    <path d=\"M0 0h24v24H0V0z\" fill=\"none\"/>\n",
              "    <path d=\"M18.56 5.44l.94 2.06.94-2.06 2.06-.94-2.06-.94-.94-2.06-.94 2.06-2.06.94zm-11 1L8.5 8.5l.94-2.06 2.06-.94-2.06-.94L8.5 2.5l-.94 2.06-2.06.94zm10 10l.94 2.06.94-2.06 2.06-.94-2.06-.94-.94-2.06-.94 2.06-2.06.94z\"/><path d=\"M17.41 7.96l-1.37-1.37c-.4-.4-.92-.59-1.43-.59-.52 0-1.04.2-1.43.59L10.3 9.45l-7.72 7.72c-.78.78-.78 2.05 0 2.83L4 21.41c.39.39.9.59 1.41.59.51 0 1.02-.2 1.41-.59l7.78-7.78 2.81-2.81c.8-.78.8-2.07 0-2.86zM5.41 20L4 18.59l7.72-7.72 1.47 1.35L5.41 20z\"/>\n",
              "  </svg>\n",
              "      </button>\n",
              "      \n",
              "  <style>\n",
              "    .colab-df-container {\n",
              "      display:flex;\n",
              "      flex-wrap:wrap;\n",
              "      gap: 12px;\n",
              "    }\n",
              "\n",
              "    .colab-df-convert {\n",
              "      background-color: #E8F0FE;\n",
              "      border: none;\n",
              "      border-radius: 50%;\n",
              "      cursor: pointer;\n",
              "      display: none;\n",
              "      fill: #1967D2;\n",
              "      height: 32px;\n",
              "      padding: 0 0 0 0;\n",
              "      width: 32px;\n",
              "    }\n",
              "\n",
              "    .colab-df-convert:hover {\n",
              "      background-color: #E2EBFA;\n",
              "      box-shadow: 0px 1px 2px rgba(60, 64, 67, 0.3), 0px 1px 3px 1px rgba(60, 64, 67, 0.15);\n",
              "      fill: #174EA6;\n",
              "    }\n",
              "\n",
              "    [theme=dark] .colab-df-convert {\n",
              "      background-color: #3B4455;\n",
              "      fill: #D2E3FC;\n",
              "    }\n",
              "\n",
              "    [theme=dark] .colab-df-convert:hover {\n",
              "      background-color: #434B5C;\n",
              "      box-shadow: 0px 1px 3px 1px rgba(0, 0, 0, 0.15);\n",
              "      filter: drop-shadow(0px 1px 2px rgba(0, 0, 0, 0.3));\n",
              "      fill: #FFFFFF;\n",
              "    }\n",
              "  </style>\n",
              "\n",
              "      <script>\n",
              "        const buttonEl =\n",
              "          document.querySelector('#df-ff76e0be-73e5-4aa1-aea6-965d7bd68d72 button.colab-df-convert');\n",
              "        buttonEl.style.display =\n",
              "          google.colab.kernel.accessAllowed ? 'block' : 'none';\n",
              "\n",
              "        async function convertToInteractive(key) {\n",
              "          const element = document.querySelector('#df-ff76e0be-73e5-4aa1-aea6-965d7bd68d72');\n",
              "          const dataTable =\n",
              "            await google.colab.kernel.invokeFunction('convertToInteractive',\n",
              "                                                     [key], {});\n",
              "          if (!dataTable) return;\n",
              "\n",
              "          const docLinkHtml = 'Like what you see? Visit the ' +\n",
              "            '<a target=\"_blank\" href=https://colab.research.google.com/notebooks/data_table.ipynb>data table notebook</a>'\n",
              "            + ' to learn more about interactive tables.';\n",
              "          element.innerHTML = '';\n",
              "          dataTable['output_type'] = 'display_data';\n",
              "          await google.colab.output.renderOutput(dataTable, element);\n",
              "          const docLink = document.createElement('div');\n",
              "          docLink.innerHTML = docLinkHtml;\n",
              "          element.appendChild(docLink);\n",
              "        }\n",
              "      </script>\n",
              "    </div>\n",
              "  </div>\n",
              "  "
            ],
            "text/plain": [
              "                      EventName         DeviceIDHash  EventTimestamp  ExpId\n",
              "140338         CartScreenAppear  6991340031069409368      1564955287    246\n",
              "238663         CartScreenAppear  4286084469604846869      1565198343    247\n",
              "73728   PaymentScreenSuccessful  1989685320445148348      1564780061    247"
            ]
          },
          "metadata": {},
          "execution_count": 6
        }
      ],
      "source": [
        "df_log.sample(3)\n"
      ]
    },
    {
      "cell_type": "code",
      "execution_count": null,
      "metadata": {
        "colab": {
          "base_uri": "https://localhost:8080/"
        },
        "id": "1cMraCfH2nwq",
        "outputId": "df00acef-d8b5-4cf8-ca51-b3efc0a914b6"
      },
      "outputs": [
        {
          "output_type": "stream",
          "name": "stdout",
          "text": [
            "<class 'pandas.core.frame.DataFrame'>\n",
            "RangeIndex: 244126 entries, 0 to 244125\n",
            "Data columns (total 4 columns):\n",
            " #   Column          Non-Null Count   Dtype \n",
            "---  ------          --------------   ----- \n",
            " 0   EventName       244126 non-null  object\n",
            " 1   DeviceIDHash    244126 non-null  int64 \n",
            " 2   EventTimestamp  244126 non-null  int64 \n",
            " 3   ExpId           244126 non-null  int64 \n",
            "dtypes: int64(3), object(1)\n",
            "memory usage: 7.5+ MB\n"
          ]
        }
      ],
      "source": [
        "df_log.info()"
      ]
    },
    {
      "cell_type": "code",
      "execution_count": null,
      "metadata": {
        "colab": {
          "base_uri": "https://localhost:8080/"
        },
        "id": "PPr4vG883Kyy",
        "outputId": "081bef21-5977-4fa9-e586-6db4af7285ea"
      },
      "outputs": [
        {
          "output_type": "stream",
          "name": "stdout",
          "text": [
            "уникальные значения номеров экспериметнов:  [246 248 247]\n"
          ]
        }
      ],
      "source": [
        "print('уникальные значения номеров экспериметнов: ', df_log.ExpId.unique() )"
      ]
    },
    {
      "cell_type": "code",
      "execution_count": null,
      "metadata": {
        "colab": {
          "base_uri": "https://localhost:8080/"
        },
        "id": "QkOZAtdf-UjY",
        "outputId": "bd9e2ed0-5440-4f53-bf6f-8fc30f6b0749"
      },
      "outputs": [
        {
          "output_type": "stream",
          "name": "stdout",
          "text": [
            "кол-во дубликатов: 413\n"
          ]
        }
      ],
      "source": [
        "print('кол-во дубликатов:', df_log.duplicated().sum() )"
      ]
    },
    {
      "cell_type": "markdown",
      "metadata": {
        "id": "2pgOwk18-LXE"
      },
      "source": [
        "учитывая тот факт, что время задано в секундах от стартового момента, то отметём версию, что пользователь успел дважды вызвать форму за один момент отсчитываемого времени (ну или не будем смотреть на супербыстрых пользователей постоянно обновляющих страницу (* как отличить  квакера от других- квакер после загрузки сразу жмёт F5). Поэтому будем считать, что у нас есть дубликаты"
      ]
    },
    {
      "cell_type": "markdown",
      "metadata": {
        "id": "E2ZbpHtU00QX"
      },
      "source": [
        "данные загружены. Явных пропусков нет. Есть необходимость преобразования типа даты, борьбы с дублкатами"
      ]
    },
    {
      "cell_type": "markdown",
      "metadata": {
        "id": "459bYqBy00S8"
      },
      "source": [
        "## подготовка данных <a name=\"data_prepare\"></a>"
      ]
    },
    {
      "cell_type": "markdown",
      "metadata": {
        "id": "mXnZctHm_QhK"
      },
      "source": [
        "удалим дубликаты:"
      ]
    },
    {
      "cell_type": "code",
      "execution_count": null,
      "metadata": {
        "id": "ceFJHOhY_QpI"
      },
      "outputs": [],
      "source": [
        "df_log.drop_duplicates(inplace=True)"
      ]
    },
    {
      "cell_type": "code",
      "execution_count": null,
      "metadata": {
        "id": "lU7A6AuA_Qq3"
      },
      "outputs": [],
      "source": [
        "#df_log.sample()"
      ]
    },
    {
      "cell_type": "markdown",
      "metadata": {
        "id": "cz_CCWup00Um"
      },
      "source": [
        "проверим на правильность распределения пользователей по группам (пользователь должен принадлежать только к одной группе, иначе- ошибка распределения и данные с такого пользователя могут исказить А-А-В тест):"
      ]
    },
    {
      "cell_type": "code",
      "execution_count": null,
      "metadata": {
        "colab": {
          "base_uri": "https://localhost:8080/"
        },
        "id": "q0XpXuzKBL0H",
        "outputId": "0d4707b0-ea45-4359-8fc6-c8ebdaa3e4d8"
      },
      "outputs": [
        {
          "output_type": "stream",
          "name": "stdout",
          "text": [
            "распределние проведено верно\n"
          ]
        }
      ],
      "source": [
        "df_prob = df_log.groupby('DeviceIDHash')['ExpId'].nunique().to_frame()\n",
        "if (df_prob['ExpId'].max() >1 ):\n",
        "  print('есть ошибки в распределении пользователей')\n",
        "else:\n",
        "  print('распределние проведено верно')"
      ]
    },
    {
      "cell_type": "markdown",
      "metadata": {
        "id": "mtsHiay2BL2b"
      },
      "source": [
        "создадим столбцы с датами и временем и отдельный столбец с датой:\n"
      ]
    },
    {
      "cell_type": "code",
      "execution_count": null,
      "metadata": {
        "colab": {
          "base_uri": "https://localhost:8080/",
          "height": 206
        },
        "id": "ukepvZj_FKBl",
        "outputId": "bd9a890c-6172-4609-9e1a-4f3fdd5d2ea6"
      },
      "outputs": [
        {
          "output_type": "execute_result",
          "data": {
            "text/html": [
              "\n",
              "  <div id=\"df-de7aa297-1bc1-4572-bd55-7ed05b37bf0a\">\n",
              "    <div class=\"colab-df-container\">\n",
              "      <div>\n",
              "<style scoped>\n",
              "    .dataframe tbody tr th:only-of-type {\n",
              "        vertical-align: middle;\n",
              "    }\n",
              "\n",
              "    .dataframe tbody tr th {\n",
              "        vertical-align: top;\n",
              "    }\n",
              "\n",
              "    .dataframe thead th {\n",
              "        text-align: right;\n",
              "    }\n",
              "</style>\n",
              "<table border=\"1\" class=\"dataframe\">\n",
              "  <thead>\n",
              "    <tr style=\"text-align: right;\">\n",
              "      <th></th>\n",
              "      <th>EventName</th>\n",
              "      <th>DeviceIDHash</th>\n",
              "      <th>EventTimestamp</th>\n",
              "      <th>ExpId</th>\n",
              "      <th>date_time</th>\n",
              "      <th>date</th>\n",
              "    </tr>\n",
              "  </thead>\n",
              "  <tbody>\n",
              "    <tr>\n",
              "      <th>147504</th>\n",
              "      <td>OffersScreenAppear</td>\n",
              "      <td>7543879591140518446</td>\n",
              "      <td>1564992167</td>\n",
              "      <td>246</td>\n",
              "      <td>2019-08-05 08:02:47</td>\n",
              "      <td>2019-08-05</td>\n",
              "    </tr>\n",
              "    <tr>\n",
              "      <th>137831</th>\n",
              "      <td>MainScreenAppear</td>\n",
              "      <td>8969408093899945802</td>\n",
              "      <td>1564946005</td>\n",
              "      <td>248</td>\n",
              "      <td>2019-08-04 19:13:25</td>\n",
              "      <td>2019-08-04</td>\n",
              "    </tr>\n",
              "    <tr>\n",
              "      <th>226602</th>\n",
              "      <td>MainScreenAppear</td>\n",
              "      <td>5793836960337731722</td>\n",
              "      <td>1565179362</td>\n",
              "      <td>248</td>\n",
              "      <td>2019-08-07 12:02:42</td>\n",
              "      <td>2019-08-07</td>\n",
              "    </tr>\n",
              "    <tr>\n",
              "      <th>211202</th>\n",
              "      <td>PaymentScreenSuccessful</td>\n",
              "      <td>3447945165857834216</td>\n",
              "      <td>1565121862</td>\n",
              "      <td>247</td>\n",
              "      <td>2019-08-06 20:04:22</td>\n",
              "      <td>2019-08-06</td>\n",
              "    </tr>\n",
              "    <tr>\n",
              "      <th>163180</th>\n",
              "      <td>MainScreenAppear</td>\n",
              "      <td>4317170660410519835</td>\n",
              "      <td>1565016764</td>\n",
              "      <td>248</td>\n",
              "      <td>2019-08-05 14:52:44</td>\n",
              "      <td>2019-08-05</td>\n",
              "    </tr>\n",
              "  </tbody>\n",
              "</table>\n",
              "</div>\n",
              "      <button class=\"colab-df-convert\" onclick=\"convertToInteractive('df-de7aa297-1bc1-4572-bd55-7ed05b37bf0a')\"\n",
              "              title=\"Convert this dataframe to an interactive table.\"\n",
              "              style=\"display:none;\">\n",
              "        \n",
              "  <svg xmlns=\"http://www.w3.org/2000/svg\" height=\"24px\"viewBox=\"0 0 24 24\"\n",
              "       width=\"24px\">\n",
              "    <path d=\"M0 0h24v24H0V0z\" fill=\"none\"/>\n",
              "    <path d=\"M18.56 5.44l.94 2.06.94-2.06 2.06-.94-2.06-.94-.94-2.06-.94 2.06-2.06.94zm-11 1L8.5 8.5l.94-2.06 2.06-.94-2.06-.94L8.5 2.5l-.94 2.06-2.06.94zm10 10l.94 2.06.94-2.06 2.06-.94-2.06-.94-.94-2.06-.94 2.06-2.06.94z\"/><path d=\"M17.41 7.96l-1.37-1.37c-.4-.4-.92-.59-1.43-.59-.52 0-1.04.2-1.43.59L10.3 9.45l-7.72 7.72c-.78.78-.78 2.05 0 2.83L4 21.41c.39.39.9.59 1.41.59.51 0 1.02-.2 1.41-.59l7.78-7.78 2.81-2.81c.8-.78.8-2.07 0-2.86zM5.41 20L4 18.59l7.72-7.72 1.47 1.35L5.41 20z\"/>\n",
              "  </svg>\n",
              "      </button>\n",
              "      \n",
              "  <style>\n",
              "    .colab-df-container {\n",
              "      display:flex;\n",
              "      flex-wrap:wrap;\n",
              "      gap: 12px;\n",
              "    }\n",
              "\n",
              "    .colab-df-convert {\n",
              "      background-color: #E8F0FE;\n",
              "      border: none;\n",
              "      border-radius: 50%;\n",
              "      cursor: pointer;\n",
              "      display: none;\n",
              "      fill: #1967D2;\n",
              "      height: 32px;\n",
              "      padding: 0 0 0 0;\n",
              "      width: 32px;\n",
              "    }\n",
              "\n",
              "    .colab-df-convert:hover {\n",
              "      background-color: #E2EBFA;\n",
              "      box-shadow: 0px 1px 2px rgba(60, 64, 67, 0.3), 0px 1px 3px 1px rgba(60, 64, 67, 0.15);\n",
              "      fill: #174EA6;\n",
              "    }\n",
              "\n",
              "    [theme=dark] .colab-df-convert {\n",
              "      background-color: #3B4455;\n",
              "      fill: #D2E3FC;\n",
              "    }\n",
              "\n",
              "    [theme=dark] .colab-df-convert:hover {\n",
              "      background-color: #434B5C;\n",
              "      box-shadow: 0px 1px 3px 1px rgba(0, 0, 0, 0.15);\n",
              "      filter: drop-shadow(0px 1px 2px rgba(0, 0, 0, 0.3));\n",
              "      fill: #FFFFFF;\n",
              "    }\n",
              "  </style>\n",
              "\n",
              "      <script>\n",
              "        const buttonEl =\n",
              "          document.querySelector('#df-de7aa297-1bc1-4572-bd55-7ed05b37bf0a button.colab-df-convert');\n",
              "        buttonEl.style.display =\n",
              "          google.colab.kernel.accessAllowed ? 'block' : 'none';\n",
              "\n",
              "        async function convertToInteractive(key) {\n",
              "          const element = document.querySelector('#df-de7aa297-1bc1-4572-bd55-7ed05b37bf0a');\n",
              "          const dataTable =\n",
              "            await google.colab.kernel.invokeFunction('convertToInteractive',\n",
              "                                                     [key], {});\n",
              "          if (!dataTable) return;\n",
              "\n",
              "          const docLinkHtml = 'Like what you see? Visit the ' +\n",
              "            '<a target=\"_blank\" href=https://colab.research.google.com/notebooks/data_table.ipynb>data table notebook</a>'\n",
              "            + ' to learn more about interactive tables.';\n",
              "          element.innerHTML = '';\n",
              "          dataTable['output_type'] = 'display_data';\n",
              "          await google.colab.output.renderOutput(dataTable, element);\n",
              "          const docLink = document.createElement('div');\n",
              "          docLink.innerHTML = docLinkHtml;\n",
              "          element.appendChild(docLink);\n",
              "        }\n",
              "      </script>\n",
              "    </div>\n",
              "  </div>\n",
              "  "
            ],
            "text/plain": [
              "                      EventName  ...       date\n",
              "147504       OffersScreenAppear  ... 2019-08-05\n",
              "137831         MainScreenAppear  ... 2019-08-04\n",
              "226602         MainScreenAppear  ... 2019-08-07\n",
              "211202  PaymentScreenSuccessful  ... 2019-08-06\n",
              "163180         MainScreenAppear  ... 2019-08-05\n",
              "\n",
              "[5 rows x 6 columns]"
            ]
          },
          "metadata": {},
          "execution_count": 13
        }
      ],
      "source": [
        "df_log['date_time'] = pd.to_datetime(df_log['EventTimestamp'], unit='s')\n",
        "df_log['date'] = df_log['date_time'].astype('datetime64[D]')\n",
        "df_log.sample(5)"
      ]
    },
    {
      "cell_type": "code",
      "execution_count": null,
      "metadata": {
        "colab": {
          "base_uri": "https://localhost:8080/"
        },
        "id": "b5Nzrpd0Ik56",
        "outputId": "6617852d-1fca-4053-bb14-1250a4bafe68"
      },
      "outputs": [
        {
          "output_type": "stream",
          "name": "stdout",
          "text": [
            "<class 'pandas.core.frame.DataFrame'>\n",
            "Int64Index: 243713 entries, 0 to 244125\n",
            "Data columns (total 6 columns):\n",
            " #   Column          Non-Null Count   Dtype         \n",
            "---  ------          --------------   -----         \n",
            " 0   EventName       243713 non-null  object        \n",
            " 1   DeviceIDHash    243713 non-null  int64         \n",
            " 2   EventTimestamp  243713 non-null  int64         \n",
            " 3   ExpId           243713 non-null  int64         \n",
            " 4   date_time       243713 non-null  datetime64[ns]\n",
            " 5   date            243713 non-null  datetime64[ns]\n",
            "dtypes: datetime64[ns](2), int64(3), object(1)\n",
            "memory usage: 13.0+ MB\n"
          ]
        }
      ],
      "source": [
        "df_log.info()"
      ]
    },
    {
      "cell_type": "markdown",
      "metadata": {
        "id": "XXNojmxoJ_6q"
      },
      "source": [
        "данные подготовили. можем начинать изучать"
      ]
    },
    {
      "cell_type": "markdown",
      "metadata": {
        "id": "eML8dwruBL4Y"
      },
      "source": [
        "## изучение данных <a name=\"data_discovery\"></a>"
      ]
    },
    {
      "cell_type": "code",
      "execution_count": null,
      "metadata": {
        "colab": {
          "base_uri": "https://localhost:8080/"
        },
        "id": "oI8WC321G4e7",
        "outputId": "245519da-bc29-485a-9aa8-8c5d71a2ce3f"
      },
      "outputs": [
        {
          "output_type": "stream",
          "name": "stdout",
          "text": [
            "кол-во событий в логе: 243713\n",
            "\n",
            "кол-во уникальных пользователей в логе: 7551\n",
            "\n",
            "среднее кол-во событий на одного пользователя: 32.28\n",
            "\n",
            "временной период данных: 2019-07-25 04:43:36  -  2019-08-07 21:15:17\n"
          ]
        }
      ],
      "source": [
        "print('кол-во событий в логе:' , len(df_log))\n",
        "print('\\nкол-во уникальных пользователей в логе:', df_log['DeviceIDHash'].nunique())\n",
        "print('\\nсреднее кол-во событий на одного пользователя:' , round( len(df_log) / df_log['DeviceIDHash'].nunique() , 2))\n",
        "print('\\nвременной период данных:', df_log['date_time'].min()  , ' - ' , df_log['date_time'].max())\n"
      ]
    },
    {
      "cell_type": "markdown",
      "metadata": {
        "id": "Q98J6LYp0yIX"
      },
      "source": [
        "посмотрим на распределение"
      ]
    },
    {
      "cell_type": "code",
      "execution_count": null,
      "metadata": {
        "colab": {
          "base_uri": "https://localhost:8080/",
          "height": 296
        },
        "id": "zrQ2szQx0yIX",
        "outputId": "f8995bd0-f162-4a01-ff8f-47d9a7725c5e"
      },
      "outputs": [
        {
          "output_type": "execute_result",
          "data": {
            "text/plain": [
              "<matplotlib.axes._subplots.AxesSubplot at 0x7fd1d8a95e50>"
            ]
          },
          "metadata": {},
          "execution_count": 16
        },
        {
          "output_type": "display_data",
          "data": {
            "image/png": "[encoded data removed]",
            "text/plain": [
              "<Figure size 432x288 with 1 Axes>"
            ]
          },
          "metadata": {
            "needs_background": "light"
          }
        }
      ],
      "source": [
        "df_log.groupby('DeviceIDHash')['EventTimestamp'].count().to_frame().reset_index().reset_index().rename(columns = {'EventTimestamp' : 'count_event'}).plot.scatter(x='index', y = 'count_event' )"
      ]
    },
    {
      "cell_type": "markdown",
      "metadata": {
        "id": "wDKLU0P30yIX"
      },
      "source": [
        "впринципе, для оценки меры среднего значения лучше использовать медиану"
      ]
    },
    {
      "cell_type": "code",
      "execution_count": null,
      "metadata": {
        "colab": {
          "base_uri": "https://localhost:8080/"
        },
        "id": "MyPJltEn0yIY",
        "outputId": "90a9c5cc-5944-4b3c-c43d-e4f978380b1a"
      },
      "outputs": [
        {
          "output_type": "stream",
          "name": "stdout",
          "text": [
            "\n",
            "среднее (медианное) кол-во событий на одного пользователя: 20.0\n"
          ]
        }
      ],
      "source": [
        "print('\\nсреднее (медианное) кол-во событий на одного пользователя:' , \n",
        "      df_log.groupby('DeviceIDHash')['EventTimestamp'].count().to_frame().EventTimestamp.median()\n",
        "     )"
      ]
    },
    {
      "cell_type": "markdown",
      "metadata": {
        "id": "tNqGlDsCB_Al"
      },
      "source": [
        "построим гистограму распределения кол-ва логов по датам:"
      ]
    },
    {
      "cell_type": "code",
      "execution_count": null,
      "metadata": {
        "colab": {
          "base_uri": "https://localhost:8080/",
          "height": 551
        },
        "id": "lH3uWiB_Iaoe",
        "outputId": "62732d86-ca35-47e4-f05f-49b8480fb9d2"
      },
      "outputs": [
        {
          "output_type": "display_data",
          "data": {
            "image/png": "[encoded data removed]",
            "text/plain": [
              "<Figure size 1080x576 with 1 Axes>"
            ]
          },
          "metadata": {
            "needs_background": "light"
          }
        }
      ],
      "source": [
        "grafic_bar_1 (\n",
        "    15, 8\n",
        "    , 'кол-ва логированных событий по датам'\n",
        "    , df_log.groupby('date')['date_time'].count().reset_index().date\n",
        "    , df_log.groupby('date')['date_time'].count().reset_index().date_time\n",
        "    , 'дата'\n",
        "    , 'кол-во логированных событий, шт.'\n",
        "     )"
      ]
    },
    {
      "cell_type": "markdown",
      "metadata": {
        "id": "BhXrltJGIaqU"
      },
      "source": [
        "можем увидеть на гистограмме перекос данных с 2019-08-01. Вероятно данные с более ранних дат ушли в поздние даты. Отбросим \"пустые\" с потерей небольшого кол-ва данных. дату обрезки данных сделаем с 2019-08-01 как первый полный день:\n"
      ]
    },
    {
      "cell_type": "code",
      "execution_count": null,
      "metadata": {
        "id": "BIBHH6IRDzAY"
      },
      "outputs": [],
      "source": [
        "df_log_end = df_log[df_log['date'] >= '2019-08-01']\n",
        "#df_log_end"
      ]
    },
    {
      "cell_type": "code",
      "execution_count": null,
      "metadata": {
        "colab": {
          "base_uri": "https://localhost:8080/"
        },
        "id": "dn0yDFTWDbkn",
        "outputId": "b7b73774-6d4a-4cda-fdd2-bf1677604ff2"
      },
      "outputs": [
        {
          "output_type": "stream",
          "name": "stdout",
          "text": [
            "реальный временной период данных: 2019-08-01 00:07:28  -  2019-08-07 21:15:17\n",
            "\n",
            "кол-во \"потерянных\" событий: 2826 шт. ( 1.16 % )\n",
            "\n",
            "кол-во пользователей в каждой экспериментальной  группе: \n",
            "        user_count\n",
            "ExpId            \n",
            "246          2484\n",
            "247          2513\n",
            "248          2537\n"
          ]
        }
      ],
      "source": [
        "print('реальный временной период данных:', df_log_end['date_time'].min()  , ' - ' , df_log_end['date_time'].max())\n",
        "print('\\nкол-во \"потерянных\" событий:', len(df_log) - len(df_log_end)  , 'шт. (', round( 100*(len(df_log) - len(df_log_end))/len(df_log) , 2) ,'% )')\n",
        "print('\\nкол-во пользователей в каждой экспериментальной  группе: \\n', df_log_end.groupby('ExpId')['DeviceIDHash'].nunique().to_frame().rename(columns = {'DeviceIDHash': 'user_count'}))\n"
      ]
    },
    {
      "cell_type": "markdown",
      "metadata": {
        "id": "iwV5xnh4Fd0g"
      },
      "source": [
        "данные изучены и проверены и мы готовы к получению полезного результата. В итоговых данных пользователи распределены по группам примерно равномерно"
      ]
    },
    {
      "cell_type": "markdown",
      "metadata": {
        "id": "Jjxv1ZsTIbUH"
      },
      "source": [
        "## воронка событий <a name=\"vorona\"></a>"
      ]
    },
    {
      "cell_type": "markdown",
      "metadata": {
        "id": "f5KLXZ-U68Sj"
      },
      "source": [
        "подготовим рабочую таблицу:\n"
      ]
    },
    {
      "cell_type": "code",
      "execution_count": null,
      "metadata": {
        "colab": {
          "base_uri": "https://localhost:8080/",
          "height": 238
        },
        "id": "-0DIcumz7AMv",
        "outputId": "134c52ee-6fbc-4083-f1ce-631936c01b0d"
      },
      "outputs": [
        {
          "output_type": "execute_result",
          "data": {
            "text/html": [
              "\n",
              "  <div id=\"df-d4169ca6-cf90-469a-a2e7-81d92e1ccc1f\">\n",
              "    <div class=\"colab-df-container\">\n",
              "      <div>\n",
              "<style scoped>\n",
              "    .dataframe tbody tr th:only-of-type {\n",
              "        vertical-align: middle;\n",
              "    }\n",
              "\n",
              "    .dataframe tbody tr th {\n",
              "        vertical-align: top;\n",
              "    }\n",
              "\n",
              "    .dataframe thead th {\n",
              "        text-align: right;\n",
              "    }\n",
              "</style>\n",
              "<table border=\"1\" class=\"dataframe\">\n",
              "  <thead>\n",
              "    <tr style=\"text-align: right;\">\n",
              "      <th></th>\n",
              "      <th>event_name_count</th>\n",
              "      <th>users_count</th>\n",
              "      <th>users_part</th>\n",
              "    </tr>\n",
              "    <tr>\n",
              "      <th>EventName</th>\n",
              "      <th></th>\n",
              "      <th></th>\n",
              "      <th></th>\n",
              "    </tr>\n",
              "  </thead>\n",
              "  <tbody>\n",
              "    <tr>\n",
              "      <th>CartScreenAppear</th>\n",
              "      <td>42303</td>\n",
              "      <td>3734</td>\n",
              "      <td>0.495620</td>\n",
              "    </tr>\n",
              "    <tr>\n",
              "      <th>MainScreenAppear</th>\n",
              "      <td>117328</td>\n",
              "      <td>7419</td>\n",
              "      <td>0.984736</td>\n",
              "    </tr>\n",
              "    <tr>\n",
              "      <th>OffersScreenAppear</th>\n",
              "      <td>46333</td>\n",
              "      <td>4593</td>\n",
              "      <td>0.609636</td>\n",
              "    </tr>\n",
              "    <tr>\n",
              "      <th>PaymentScreenSuccessful</th>\n",
              "      <td>33918</td>\n",
              "      <td>3539</td>\n",
              "      <td>0.469737</td>\n",
              "    </tr>\n",
              "    <tr>\n",
              "      <th>Tutorial</th>\n",
              "      <td>1005</td>\n",
              "      <td>840</td>\n",
              "      <td>0.111495</td>\n",
              "    </tr>\n",
              "  </tbody>\n",
              "</table>\n",
              "</div>\n",
              "      <button class=\"colab-df-convert\" onclick=\"convertToInteractive('df-d4169ca6-cf90-469a-a2e7-81d92e1ccc1f')\"\n",
              "              title=\"Convert this dataframe to an interactive table.\"\n",
              "              style=\"display:none;\">\n",
              "        \n",
              "  <svg xmlns=\"http://www.w3.org/2000/svg\" height=\"24px\"viewBox=\"0 0 24 24\"\n",
              "       width=\"24px\">\n",
              "    <path d=\"M0 0h24v24H0V0z\" fill=\"none\"/>\n",
              "    <path d=\"M18.56 5.44l.94 2.06.94-2.06 2.06-.94-2.06-.94-.94-2.06-.94 2.06-2.06.94zm-11 1L8.5 8.5l.94-2.06 2.06-.94-2.06-.94L8.5 2.5l-.94 2.06-2.06.94zm10 10l.94 2.06.94-2.06 2.06-.94-2.06-.94-.94-2.06-.94 2.06-2.06.94z\"/><path d=\"M17.41 7.96l-1.37-1.37c-.4-.4-.92-.59-1.43-.59-.52 0-1.04.2-1.43.59L10.3 9.45l-7.72 7.72c-.78.78-.78 2.05 0 2.83L4 21.41c.39.39.9.59 1.41.59.51 0 1.02-.2 1.41-.59l7.78-7.78 2.81-2.81c.8-.78.8-2.07 0-2.86zM5.41 20L4 18.59l7.72-7.72 1.47 1.35L5.41 20z\"/>\n",
              "  </svg>\n",
              "      </button>\n",
              "      \n",
              "  <style>\n",
              "    .colab-df-container {\n",
              "      display:flex;\n",
              "      flex-wrap:wrap;\n",
              "      gap: 12px;\n",
              "    }\n",
              "\n",
              "    .colab-df-convert {\n",
              "      background-color: #E8F0FE;\n",
              "      border: none;\n",
              "      border-radius: 50%;\n",
              "      cursor: pointer;\n",
              "      display: none;\n",
              "      fill: #1967D2;\n",
              "      height: 32px;\n",
              "      padding: 0 0 0 0;\n",
              "      width: 32px;\n",
              "    }\n",
              "\n",
              "    .colab-df-convert:hover {\n",
              "      background-color: #E2EBFA;\n",
              "      box-shadow: 0px 1px 2px rgba(60, 64, 67, 0.3), 0px 1px 3px 1px rgba(60, 64, 67, 0.15);\n",
              "      fill: #174EA6;\n",
              "    }\n",
              "\n",
              "    [theme=dark] .colab-df-convert {\n",
              "      background-color: #3B4455;\n",
              "      fill: #D2E3FC;\n",
              "    }\n",
              "\n",
              "    [theme=dark] .colab-df-convert:hover {\n",
              "      background-color: #434B5C;\n",
              "      box-shadow: 0px 1px 3px 1px rgba(0, 0, 0, 0.15);\n",
              "      filter: drop-shadow(0px 1px 2px rgba(0, 0, 0, 0.3));\n",
              "      fill: #FFFFFF;\n",
              "    }\n",
              "  </style>\n",
              "\n",
              "      <script>\n",
              "        const buttonEl =\n",
              "          document.querySelector('#df-d4169ca6-cf90-469a-a2e7-81d92e1ccc1f button.colab-df-convert');\n",
              "        buttonEl.style.display =\n",
              "          google.colab.kernel.accessAllowed ? 'block' : 'none';\n",
              "\n",
              "        async function convertToInteractive(key) {\n",
              "          const element = document.querySelector('#df-d4169ca6-cf90-469a-a2e7-81d92e1ccc1f');\n",
              "          const dataTable =\n",
              "            await google.colab.kernel.invokeFunction('convertToInteractive',\n",
              "                                                     [key], {});\n",
              "          if (!dataTable) return;\n",
              "\n",
              "          const docLinkHtml = 'Like what you see? Visit the ' +\n",
              "            '<a target=\"_blank\" href=https://colab.research.google.com/notebooks/data_table.ipynb>data table notebook</a>'\n",
              "            + ' to learn more about interactive tables.';\n",
              "          element.innerHTML = '';\n",
              "          dataTable['output_type'] = 'display_data';\n",
              "          await google.colab.output.renderOutput(dataTable, element);\n",
              "          const docLink = document.createElement('div');\n",
              "          docLink.innerHTML = docLinkHtml;\n",
              "          element.appendChild(docLink);\n",
              "        }\n",
              "      </script>\n",
              "    </div>\n",
              "  </div>\n",
              "  "
            ],
            "text/plain": [
              "                         event_name_count  users_count  users_part\n",
              "EventName                                                         \n",
              "CartScreenAppear                    42303         3734    0.495620\n",
              "MainScreenAppear                   117328         7419    0.984736\n",
              "OffersScreenAppear                  46333         4593    0.609636\n",
              "PaymentScreenSuccessful             33918         3539    0.469737\n",
              "Tutorial                             1005          840    0.111495"
            ]
          },
          "metadata": {},
          "execution_count": 21
        }
      ],
      "source": [
        "df_voronka = df_log_end.groupby('EventName').agg({'date' : 'count', 'DeviceIDHash' : 'nunique'}).rename(columns = {'date' : 'event_name_count', 'DeviceIDHash' : 'users_count'})\n",
        "df_voronka['users_part'] = df_voronka['users_count'] / df_log_end['DeviceIDHash'].nunique()\n",
        "df_voronka"
      ]
    },
    {
      "cell_type": "markdown",
      "metadata": {
        "id": "lLs4LPeHIbXp"
      },
      "source": [
        "посмотрим на частоту появления разных событий:"
      ]
    },
    {
      "cell_type": "code",
      "execution_count": null,
      "metadata": {
        "colab": {
          "base_uri": "https://localhost:8080/",
          "height": 238
        },
        "id": "4MplPoZ65x7r",
        "outputId": "2874657b-c93b-49b1-c9f5-ec15e86e2c67"
      },
      "outputs": [
        {
          "output_type": "execute_result",
          "data": {
            "text/html": [
              "\n",
              "  <div id=\"df-df4ff08c-129f-4489-8b71-c55eddd81b7c\">\n",
              "    <div class=\"colab-df-container\">\n",
              "      <div>\n",
              "<style scoped>\n",
              "    .dataframe tbody tr th:only-of-type {\n",
              "        vertical-align: middle;\n",
              "    }\n",
              "\n",
              "    .dataframe tbody tr th {\n",
              "        vertical-align: top;\n",
              "    }\n",
              "\n",
              "    .dataframe thead th {\n",
              "        text-align: right;\n",
              "    }\n",
              "</style>\n",
              "<table border=\"1\" class=\"dataframe\">\n",
              "  <thead>\n",
              "    <tr style=\"text-align: right;\">\n",
              "      <th></th>\n",
              "      <th>event_name_count</th>\n",
              "    </tr>\n",
              "    <tr>\n",
              "      <th>EventName</th>\n",
              "      <th></th>\n",
              "    </tr>\n",
              "  </thead>\n",
              "  <tbody>\n",
              "    <tr>\n",
              "      <th>MainScreenAppear</th>\n",
              "      <td>117328</td>\n",
              "    </tr>\n",
              "    <tr>\n",
              "      <th>OffersScreenAppear</th>\n",
              "      <td>46333</td>\n",
              "    </tr>\n",
              "    <tr>\n",
              "      <th>CartScreenAppear</th>\n",
              "      <td>42303</td>\n",
              "    </tr>\n",
              "    <tr>\n",
              "      <th>PaymentScreenSuccessful</th>\n",
              "      <td>33918</td>\n",
              "    </tr>\n",
              "    <tr>\n",
              "      <th>Tutorial</th>\n",
              "      <td>1005</td>\n",
              "    </tr>\n",
              "  </tbody>\n",
              "</table>\n",
              "</div>\n",
              "      <button class=\"colab-df-convert\" onclick=\"convertToInteractive('df-df4ff08c-129f-4489-8b71-c55eddd81b7c')\"\n",
              "              title=\"Convert this dataframe to an interactive table.\"\n",
              "              style=\"display:none;\">\n",
              "        \n",
              "  <svg xmlns=\"http://www.w3.org/2000/svg\" height=\"24px\"viewBox=\"0 0 24 24\"\n",
              "       width=\"24px\">\n",
              "    <path d=\"M0 0h24v24H0V0z\" fill=\"none\"/>\n",
              "    <path d=\"M18.56 5.44l.94 2.06.94-2.06 2.06-.94-2.06-.94-.94-2.06-.94 2.06-2.06.94zm-11 1L8.5 8.5l.94-2.06 2.06-.94-2.06-.94L8.5 2.5l-.94 2.06-2.06.94zm10 10l.94 2.06.94-2.06 2.06-.94-2.06-.94-.94-2.06-.94 2.06-2.06.94z\"/><path d=\"M17.41 7.96l-1.37-1.37c-.4-.4-.92-.59-1.43-.59-.52 0-1.04.2-1.43.59L10.3 9.45l-7.72 7.72c-.78.78-.78 2.05 0 2.83L4 21.41c.39.39.9.59 1.41.59.51 0 1.02-.2 1.41-.59l7.78-7.78 2.81-2.81c.8-.78.8-2.07 0-2.86zM5.41 20L4 18.59l7.72-7.72 1.47 1.35L5.41 20z\"/>\n",
              "  </svg>\n",
              "      </button>\n",
              "      \n",
              "  <style>\n",
              "    .colab-df-container {\n",
              "      display:flex;\n",
              "      flex-wrap:wrap;\n",
              "      gap: 12px;\n",
              "    }\n",
              "\n",
              "    .colab-df-convert {\n",
              "      background-color: #E8F0FE;\n",
              "      border: none;\n",
              "      border-radius: 50%;\n",
              "      cursor: pointer;\n",
              "      display: none;\n",
              "      fill: #1967D2;\n",
              "      height: 32px;\n",
              "      padding: 0 0 0 0;\n",
              "      width: 32px;\n",
              "    }\n",
              "\n",
              "    .colab-df-convert:hover {\n",
              "      background-color: #E2EBFA;\n",
              "      box-shadow: 0px 1px 2px rgba(60, 64, 67, 0.3), 0px 1px 3px 1px rgba(60, 64, 67, 0.15);\n",
              "      fill: #174EA6;\n",
              "    }\n",
              "\n",
              "    [theme=dark] .colab-df-convert {\n",
              "      background-color: #3B4455;\n",
              "      fill: #D2E3FC;\n",
              "    }\n",
              "\n",
              "    [theme=dark] .colab-df-convert:hover {\n",
              "      background-color: #434B5C;\n",
              "      box-shadow: 0px 1px 3px 1px rgba(0, 0, 0, 0.15);\n",
              "      filter: drop-shadow(0px 1px 2px rgba(0, 0, 0, 0.3));\n",
              "      fill: #FFFFFF;\n",
              "    }\n",
              "  </style>\n",
              "\n",
              "      <script>\n",
              "        const buttonEl =\n",
              "          document.querySelector('#df-df4ff08c-129f-4489-8b71-c55eddd81b7c button.colab-df-convert');\n",
              "        buttonEl.style.display =\n",
              "          google.colab.kernel.accessAllowed ? 'block' : 'none';\n",
              "\n",
              "        async function convertToInteractive(key) {\n",
              "          const element = document.querySelector('#df-df4ff08c-129f-4489-8b71-c55eddd81b7c');\n",
              "          const dataTable =\n",
              "            await google.colab.kernel.invokeFunction('convertToInteractive',\n",
              "                                                     [key], {});\n",
              "          if (!dataTable) return;\n",
              "\n",
              "          const docLinkHtml = 'Like what you see? Visit the ' +\n",
              "            '<a target=\"_blank\" href=https://colab.research.google.com/notebooks/data_table.ipynb>data table notebook</a>'\n",
              "            + ' to learn more about interactive tables.';\n",
              "          element.innerHTML = '';\n",
              "          dataTable['output_type'] = 'display_data';\n",
              "          await google.colab.output.renderOutput(dataTable, element);\n",
              "          const docLink = document.createElement('div');\n",
              "          docLink.innerHTML = docLinkHtml;\n",
              "          element.appendChild(docLink);\n",
              "        }\n",
              "      </script>\n",
              "    </div>\n",
              "  </div>\n",
              "  "
            ],
            "text/plain": [
              "                         event_name_count\n",
              "EventName                                \n",
              "MainScreenAppear                   117328\n",
              "OffersScreenAppear                  46333\n",
              "CartScreenAppear                    42303\n",
              "PaymentScreenSuccessful             33918\n",
              "Tutorial                             1005"
            ]
          },
          "metadata": {},
          "execution_count": 22
        }
      ],
      "source": [
        "df_voronka[['event_name_count']].sort_values('event_name_count', ascending = False)"
      ]
    },
    {
      "cell_type": "markdown",
      "metadata": {
        "id": "hHlPVJGa5x-s"
      },
      "source": [
        "посмотрим какое кол-во уникальных пользователей совершали каждое событие и их долю от общего числа пользователей:"
      ]
    },
    {
      "cell_type": "code",
      "execution_count": null,
      "metadata": {
        "colab": {
          "base_uri": "https://localhost:8080/",
          "height": 238
        },
        "id": "mN5_qhTi69DB",
        "outputId": "01233d7b-fb11-41bc-b9c0-fff4ff475f64"
      },
      "outputs": [
        {
          "output_type": "execute_result",
          "data": {
            "text/html": [
              "\n",
              "  <div id=\"df-8f3f7906-7598-4073-82e9-a64af51e2c11\">\n",
              "    <div class=\"colab-df-container\">\n",
              "      <div>\n",
              "<style scoped>\n",
              "    .dataframe tbody tr th:only-of-type {\n",
              "        vertical-align: middle;\n",
              "    }\n",
              "\n",
              "    .dataframe tbody tr th {\n",
              "        vertical-align: top;\n",
              "    }\n",
              "\n",
              "    .dataframe thead th {\n",
              "        text-align: right;\n",
              "    }\n",
              "</style>\n",
              "<table border=\"1\" class=\"dataframe\">\n",
              "  <thead>\n",
              "    <tr style=\"text-align: right;\">\n",
              "      <th></th>\n",
              "      <th>users_count</th>\n",
              "      <th>users_part</th>\n",
              "    </tr>\n",
              "    <tr>\n",
              "      <th>EventName</th>\n",
              "      <th></th>\n",
              "      <th></th>\n",
              "    </tr>\n",
              "  </thead>\n",
              "  <tbody>\n",
              "    <tr>\n",
              "      <th>MainScreenAppear</th>\n",
              "      <td>7419</td>\n",
              "      <td>0.984736</td>\n",
              "    </tr>\n",
              "    <tr>\n",
              "      <th>OffersScreenAppear</th>\n",
              "      <td>4593</td>\n",
              "      <td>0.609636</td>\n",
              "    </tr>\n",
              "    <tr>\n",
              "      <th>CartScreenAppear</th>\n",
              "      <td>3734</td>\n",
              "      <td>0.495620</td>\n",
              "    </tr>\n",
              "    <tr>\n",
              "      <th>PaymentScreenSuccessful</th>\n",
              "      <td>3539</td>\n",
              "      <td>0.469737</td>\n",
              "    </tr>\n",
              "    <tr>\n",
              "      <th>Tutorial</th>\n",
              "      <td>840</td>\n",
              "      <td>0.111495</td>\n",
              "    </tr>\n",
              "  </tbody>\n",
              "</table>\n",
              "</div>\n",
              "      <button class=\"colab-df-convert\" onclick=\"convertToInteractive('df-8f3f7906-7598-4073-82e9-a64af51e2c11')\"\n",
              "              title=\"Convert this dataframe to an interactive table.\"\n",
              "              style=\"display:none;\">\n",
              "        \n",
              "  <svg xmlns=\"http://www.w3.org/2000/svg\" height=\"24px\"viewBox=\"0 0 24 24\"\n",
              "       width=\"24px\">\n",
              "    <path d=\"M0 0h24v24H0V0z\" fill=\"none\"/>\n",
              "    <path d=\"M18.56 5.44l.94 2.06.94-2.06 2.06-.94-2.06-.94-.94-2.06-.94 2.06-2.06.94zm-11 1L8.5 8.5l.94-2.06 2.06-.94-2.06-.94L8.5 2.5l-.94 2.06-2.06.94zm10 10l.94 2.06.94-2.06 2.06-.94-2.06-.94-.94-2.06-.94 2.06-2.06.94z\"/><path d=\"M17.41 7.96l-1.37-1.37c-.4-.4-.92-.59-1.43-.59-.52 0-1.04.2-1.43.59L10.3 9.45l-7.72 7.72c-.78.78-.78 2.05 0 2.83L4 21.41c.39.39.9.59 1.41.59.51 0 1.02-.2 1.41-.59l7.78-7.78 2.81-2.81c.8-.78.8-2.07 0-2.86zM5.41 20L4 18.59l7.72-7.72 1.47 1.35L5.41 20z\"/>\n",
              "  </svg>\n",
              "      </button>\n",
              "      \n",
              "  <style>\n",
              "    .colab-df-container {\n",
              "      display:flex;\n",
              "      flex-wrap:wrap;\n",
              "      gap: 12px;\n",
              "    }\n",
              "\n",
              "    .colab-df-convert {\n",
              "      background-color: #E8F0FE;\n",
              "      border: none;\n",
              "      border-radius: 50%;\n",
              "      cursor: pointer;\n",
              "      display: none;\n",
              "      fill: #1967D2;\n",
              "      height: 32px;\n",
              "      padding: 0 0 0 0;\n",
              "      width: 32px;\n",
              "    }\n",
              "\n",
              "    .colab-df-convert:hover {\n",
              "      background-color: #E2EBFA;\n",
              "      box-shadow: 0px 1px 2px rgba(60, 64, 67, 0.3), 0px 1px 3px 1px rgba(60, 64, 67, 0.15);\n",
              "      fill: #174EA6;\n",
              "    }\n",
              "\n",
              "    [theme=dark] .colab-df-convert {\n",
              "      background-color: #3B4455;\n",
              "      fill: #D2E3FC;\n",
              "    }\n",
              "\n",
              "    [theme=dark] .colab-df-convert:hover {\n",
              "      background-color: #434B5C;\n",
              "      box-shadow: 0px 1px 3px 1px rgba(0, 0, 0, 0.15);\n",
              "      filter: drop-shadow(0px 1px 2px rgba(0, 0, 0, 0.3));\n",
              "      fill: #FFFFFF;\n",
              "    }\n",
              "  </style>\n",
              "\n",
              "      <script>\n",
              "        const buttonEl =\n",
              "          document.querySelector('#df-8f3f7906-7598-4073-82e9-a64af51e2c11 button.colab-df-convert');\n",
              "        buttonEl.style.display =\n",
              "          google.colab.kernel.accessAllowed ? 'block' : 'none';\n",
              "\n",
              "        async function convertToInteractive(key) {\n",
              "          const element = document.querySelector('#df-8f3f7906-7598-4073-82e9-a64af51e2c11');\n",
              "          const dataTable =\n",
              "            await google.colab.kernel.invokeFunction('convertToInteractive',\n",
              "                                                     [key], {});\n",
              "          if (!dataTable) return;\n",
              "\n",
              "          const docLinkHtml = 'Like what you see? Visit the ' +\n",
              "            '<a target=\"_blank\" href=https://colab.research.google.com/notebooks/data_table.ipynb>data table notebook</a>'\n",
              "            + ' to learn more about interactive tables.';\n",
              "          element.innerHTML = '';\n",
              "          dataTable['output_type'] = 'display_data';\n",
              "          await google.colab.output.renderOutput(dataTable, element);\n",
              "          const docLink = document.createElement('div');\n",
              "          docLink.innerHTML = docLinkHtml;\n",
              "          element.appendChild(docLink);\n",
              "        }\n",
              "      </script>\n",
              "    </div>\n",
              "  </div>\n",
              "  "
            ],
            "text/plain": [
              "                         users_count  users_part\n",
              "EventName                                       \n",
              "MainScreenAppear                7419    0.984736\n",
              "OffersScreenAppear              4593    0.609636\n",
              "CartScreenAppear                3734    0.495620\n",
              "PaymentScreenSuccessful         3539    0.469737\n",
              "Tutorial                         840    0.111495"
            ]
          },
          "metadata": {},
          "execution_count": 23
        }
      ],
      "source": [
        "df_voronka[['users_count' , 'users_part']].sort_values('users_count', ascending = False)"
      ]
    },
    {
      "cell_type": "markdown",
      "metadata": {
        "id": "Cv6ATUfB6S05"
      },
      "source": [
        "события продажи продукта проходят в следующем порядке: Главный экран -> эркран продажи -> экран оплаты -> экран подтверждения факта оплаты. Экран с инструкцией в данном случае излишен (не нужен при расчёте воронки продаж). Избавимся от лишнего действия:"
      ]
    },
    {
      "cell_type": "code",
      "execution_count": null,
      "metadata": {
        "colab": {
          "base_uri": "https://localhost:8080/",
          "height": 206
        },
        "id": "MFMtBdci6S22",
        "outputId": "e6564035-9e68-4cc5-d2f5-a2ec253f850e"
      },
      "outputs": [
        {
          "output_type": "execute_result",
          "data": {
            "text/html": [
              "\n",
              "  <div id=\"df-a658047e-fa93-47f3-91bc-756291b32b00\">\n",
              "    <div class=\"colab-df-container\">\n",
              "      <div>\n",
              "<style scoped>\n",
              "    .dataframe tbody tr th:only-of-type {\n",
              "        vertical-align: middle;\n",
              "    }\n",
              "\n",
              "    .dataframe tbody tr th {\n",
              "        vertical-align: top;\n",
              "    }\n",
              "\n",
              "    .dataframe thead th {\n",
              "        text-align: right;\n",
              "    }\n",
              "</style>\n",
              "<table border=\"1\" class=\"dataframe\">\n",
              "  <thead>\n",
              "    <tr style=\"text-align: right;\">\n",
              "      <th></th>\n",
              "      <th>event_name_count</th>\n",
              "      <th>users_count</th>\n",
              "      <th>users_part</th>\n",
              "    </tr>\n",
              "    <tr>\n",
              "      <th>EventName</th>\n",
              "      <th></th>\n",
              "      <th></th>\n",
              "      <th></th>\n",
              "    </tr>\n",
              "  </thead>\n",
              "  <tbody>\n",
              "    <tr>\n",
              "      <th>MainScreenAppear</th>\n",
              "      <td>117328</td>\n",
              "      <td>7419</td>\n",
              "      <td>0.984736</td>\n",
              "    </tr>\n",
              "    <tr>\n",
              "      <th>OffersScreenAppear</th>\n",
              "      <td>46333</td>\n",
              "      <td>4593</td>\n",
              "      <td>0.609636</td>\n",
              "    </tr>\n",
              "    <tr>\n",
              "      <th>CartScreenAppear</th>\n",
              "      <td>42303</td>\n",
              "      <td>3734</td>\n",
              "      <td>0.495620</td>\n",
              "    </tr>\n",
              "    <tr>\n",
              "      <th>PaymentScreenSuccessful</th>\n",
              "      <td>33918</td>\n",
              "      <td>3539</td>\n",
              "      <td>0.469737</td>\n",
              "    </tr>\n",
              "  </tbody>\n",
              "</table>\n",
              "</div>\n",
              "      <button class=\"colab-df-convert\" onclick=\"convertToInteractive('df-a658047e-fa93-47f3-91bc-756291b32b00')\"\n",
              "              title=\"Convert this dataframe to an interactive table.\"\n",
              "              style=\"display:none;\">\n",
              "        \n",
              "  <svg xmlns=\"http://www.w3.org/2000/svg\" height=\"24px\"viewBox=\"0 0 24 24\"\n",
              "       width=\"24px\">\n",
              "    <path d=\"M0 0h24v24H0V0z\" fill=\"none\"/>\n",
              "    <path d=\"M18.56 5.44l.94 2.06.94-2.06 2.06-.94-2.06-.94-.94-2.06-.94 2.06-2.06.94zm-11 1L8.5 8.5l.94-2.06 2.06-.94-2.06-.94L8.5 2.5l-.94 2.06-2.06.94zm10 10l.94 2.06.94-2.06 2.06-.94-2.06-.94-.94-2.06-.94 2.06-2.06.94z\"/><path d=\"M17.41 7.96l-1.37-1.37c-.4-.4-.92-.59-1.43-.59-.52 0-1.04.2-1.43.59L10.3 9.45l-7.72 7.72c-.78.78-.78 2.05 0 2.83L4 21.41c.39.39.9.59 1.41.59.51 0 1.02-.2 1.41-.59l7.78-7.78 2.81-2.81c.8-.78.8-2.07 0-2.86zM5.41 20L4 18.59l7.72-7.72 1.47 1.35L5.41 20z\"/>\n",
              "  </svg>\n",
              "      </button>\n",
              "      \n",
              "  <style>\n",
              "    .colab-df-container {\n",
              "      display:flex;\n",
              "      flex-wrap:wrap;\n",
              "      gap: 12px;\n",
              "    }\n",
              "\n",
              "    .colab-df-convert {\n",
              "      background-color: #E8F0FE;\n",
              "      border: none;\n",
              "      border-radius: 50%;\n",
              "      cursor: pointer;\n",
              "      display: none;\n",
              "      fill: #1967D2;\n",
              "      height: 32px;\n",
              "      padding: 0 0 0 0;\n",
              "      width: 32px;\n",
              "    }\n",
              "\n",
              "    .colab-df-convert:hover {\n",
              "      background-color: #E2EBFA;\n",
              "      box-shadow: 0px 1px 2px rgba(60, 64, 67, 0.3), 0px 1px 3px 1px rgba(60, 64, 67, 0.15);\n",
              "      fill: #174EA6;\n",
              "    }\n",
              "\n",
              "    [theme=dark] .colab-df-convert {\n",
              "      background-color: #3B4455;\n",
              "      fill: #D2E3FC;\n",
              "    }\n",
              "\n",
              "    [theme=dark] .colab-df-convert:hover {\n",
              "      background-color: #434B5C;\n",
              "      box-shadow: 0px 1px 3px 1px rgba(0, 0, 0, 0.15);\n",
              "      filter: drop-shadow(0px 1px 2px rgba(0, 0, 0, 0.3));\n",
              "      fill: #FFFFFF;\n",
              "    }\n",
              "  </style>\n",
              "\n",
              "      <script>\n",
              "        const buttonEl =\n",
              "          document.querySelector('#df-a658047e-fa93-47f3-91bc-756291b32b00 button.colab-df-convert');\n",
              "        buttonEl.style.display =\n",
              "          google.colab.kernel.accessAllowed ? 'block' : 'none';\n",
              "\n",
              "        async function convertToInteractive(key) {\n",
              "          const element = document.querySelector('#df-a658047e-fa93-47f3-91bc-756291b32b00');\n",
              "          const dataTable =\n",
              "            await google.colab.kernel.invokeFunction('convertToInteractive',\n",
              "                                                     [key], {});\n",
              "          if (!dataTable) return;\n",
              "\n",
              "          const docLinkHtml = 'Like what you see? Visit the ' +\n",
              "            '<a target=\"_blank\" href=https://colab.research.google.com/notebooks/data_table.ipynb>data table notebook</a>'\n",
              "            + ' to learn more about interactive tables.';\n",
              "          element.innerHTML = '';\n",
              "          dataTable['output_type'] = 'display_data';\n",
              "          await google.colab.output.renderOutput(dataTable, element);\n",
              "          const docLink = document.createElement('div');\n",
              "          docLink.innerHTML = docLinkHtml;\n",
              "          element.appendChild(docLink);\n",
              "        }\n",
              "      </script>\n",
              "    </div>\n",
              "  </div>\n",
              "  "
            ],
            "text/plain": [
              "                         event_name_count  users_count  users_part\n",
              "EventName                                                         \n",
              "MainScreenAppear                   117328         7419    0.984736\n",
              "OffersScreenAppear                  46333         4593    0.609636\n",
              "CartScreenAppear                    42303         3734    0.495620\n",
              "PaymentScreenSuccessful             33918         3539    0.469737"
            ]
          },
          "metadata": {},
          "execution_count": 24
        }
      ],
      "source": [
        "df_voronka = df_voronka.sort_values('users_count', ascending = False).iloc[0:4]\n",
        "df_voronka"
      ]
    },
    {
      "cell_type": "markdown",
      "metadata": {
        "id": "PlZx9EQlTlbg"
      },
      "source": [
        "так же, учтём что не все пользователи заходили на главный экран (возможно из поисковых систем сразу попадали на экран продажи). Нам в данном случае не интересен путь таких пользователй (наша задача- исследовать приложение, которое пускается с главного экрана). Поэтому удалим таких пользователей и продолжим без них:"
      ]
    },
    {
      "cell_type": "code",
      "execution_count": null,
      "metadata": {
        "colab": {
          "base_uri": "https://localhost:8080/",
          "height": 206
        },
        "id": "vZWnNFJhUjzV",
        "outputId": "0db5956d-c84f-499f-9f94-725789c40690"
      },
      "outputs": [
        {
          "output_type": "execute_result",
          "data": {
            "text/html": [
              "\n",
              "  <div id=\"df-fa49a931-61c6-43bc-8c74-8d31b5b4ef17\">\n",
              "    <div class=\"colab-df-container\">\n",
              "      <div>\n",
              "<style scoped>\n",
              "    .dataframe tbody tr th:only-of-type {\n",
              "        vertical-align: middle;\n",
              "    }\n",
              "\n",
              "    .dataframe tbody tr th {\n",
              "        vertical-align: top;\n",
              "    }\n",
              "\n",
              "    .dataframe thead th {\n",
              "        text-align: right;\n",
              "    }\n",
              "</style>\n",
              "<table border=\"1\" class=\"dataframe\">\n",
              "  <thead>\n",
              "    <tr style=\"text-align: right;\">\n",
              "      <th></th>\n",
              "      <th>event_name_count</th>\n",
              "      <th>users_count</th>\n",
              "      <th>users_part</th>\n",
              "    </tr>\n",
              "    <tr>\n",
              "      <th>EventName</th>\n",
              "      <th></th>\n",
              "      <th></th>\n",
              "      <th></th>\n",
              "    </tr>\n",
              "  </thead>\n",
              "  <tbody>\n",
              "    <tr>\n",
              "      <th>MainScreenAppear</th>\n",
              "      <td>117328</td>\n",
              "      <td>7419</td>\n",
              "      <td>1.000000</td>\n",
              "    </tr>\n",
              "    <tr>\n",
              "      <th>OffersScreenAppear</th>\n",
              "      <td>45385</td>\n",
              "      <td>4482</td>\n",
              "      <td>0.604125</td>\n",
              "    </tr>\n",
              "    <tr>\n",
              "      <th>CartScreenAppear</th>\n",
              "      <td>41394</td>\n",
              "      <td>3635</td>\n",
              "      <td>0.489958</td>\n",
              "    </tr>\n",
              "    <tr>\n",
              "      <th>PaymentScreenSuccessful</th>\n",
              "      <td>33171</td>\n",
              "      <td>3441</td>\n",
              "      <td>0.463809</td>\n",
              "    </tr>\n",
              "  </tbody>\n",
              "</table>\n",
              "</div>\n",
              "      <button class=\"colab-df-convert\" onclick=\"convertToInteractive('df-fa49a931-61c6-43bc-8c74-8d31b5b4ef17')\"\n",
              "              title=\"Convert this dataframe to an interactive table.\"\n",
              "              style=\"display:none;\">\n",
              "        \n",
              "  <svg xmlns=\"http://www.w3.org/2000/svg\" height=\"24px\"viewBox=\"0 0 24 24\"\n",
              "       width=\"24px\">\n",
              "    <path d=\"M0 0h24v24H0V0z\" fill=\"none\"/>\n",
              "    <path d=\"M18.56 5.44l.94 2.06.94-2.06 2.06-.94-2.06-.94-.94-2.06-.94 2.06-2.06.94zm-11 1L8.5 8.5l.94-2.06 2.06-.94-2.06-.94L8.5 2.5l-.94 2.06-2.06.94zm10 10l.94 2.06.94-2.06 2.06-.94-2.06-.94-.94-2.06-.94 2.06-2.06.94z\"/><path d=\"M17.41 7.96l-1.37-1.37c-.4-.4-.92-.59-1.43-.59-.52 0-1.04.2-1.43.59L10.3 9.45l-7.72 7.72c-.78.78-.78 2.05 0 2.83L4 21.41c.39.39.9.59 1.41.59.51 0 1.02-.2 1.41-.59l7.78-7.78 2.81-2.81c.8-.78.8-2.07 0-2.86zM5.41 20L4 18.59l7.72-7.72 1.47 1.35L5.41 20z\"/>\n",
              "  </svg>\n",
              "      </button>\n",
              "      \n",
              "  <style>\n",
              "    .colab-df-container {\n",
              "      display:flex;\n",
              "      flex-wrap:wrap;\n",
              "      gap: 12px;\n",
              "    }\n",
              "\n",
              "    .colab-df-convert {\n",
              "      background-color: #E8F0FE;\n",
              "      border: none;\n",
              "      border-radius: 50%;\n",
              "      cursor: pointer;\n",
              "      display: none;\n",
              "      fill: #1967D2;\n",
              "      height: 32px;\n",
              "      padding: 0 0 0 0;\n",
              "      width: 32px;\n",
              "    }\n",
              "\n",
              "    .colab-df-convert:hover {\n",
              "      background-color: #E2EBFA;\n",
              "      box-shadow: 0px 1px 2px rgba(60, 64, 67, 0.3), 0px 1px 3px 1px rgba(60, 64, 67, 0.15);\n",
              "      fill: #174EA6;\n",
              "    }\n",
              "\n",
              "    [theme=dark] .colab-df-convert {\n",
              "      background-color: #3B4455;\n",
              "      fill: #D2E3FC;\n",
              "    }\n",
              "\n",
              "    [theme=dark] .colab-df-convert:hover {\n",
              "      background-color: #434B5C;\n",
              "      box-shadow: 0px 1px 3px 1px rgba(0, 0, 0, 0.15);\n",
              "      filter: drop-shadow(0px 1px 2px rgba(0, 0, 0, 0.3));\n",
              "      fill: #FFFFFF;\n",
              "    }\n",
              "  </style>\n",
              "\n",
              "      <script>\n",
              "        const buttonEl =\n",
              "          document.querySelector('#df-fa49a931-61c6-43bc-8c74-8d31b5b4ef17 button.colab-df-convert');\n",
              "        buttonEl.style.display =\n",
              "          google.colab.kernel.accessAllowed ? 'block' : 'none';\n",
              "\n",
              "        async function convertToInteractive(key) {\n",
              "          const element = document.querySelector('#df-fa49a931-61c6-43bc-8c74-8d31b5b4ef17');\n",
              "          const dataTable =\n",
              "            await google.colab.kernel.invokeFunction('convertToInteractive',\n",
              "                                                     [key], {});\n",
              "          if (!dataTable) return;\n",
              "\n",
              "          const docLinkHtml = 'Like what you see? Visit the ' +\n",
              "            '<a target=\"_blank\" href=https://colab.research.google.com/notebooks/data_table.ipynb>data table notebook</a>'\n",
              "            + ' to learn more about interactive tables.';\n",
              "          element.innerHTML = '';\n",
              "          dataTable['output_type'] = 'display_data';\n",
              "          await google.colab.output.renderOutput(dataTable, element);\n",
              "          const docLink = document.createElement('div');\n",
              "          docLink.innerHTML = docLinkHtml;\n",
              "          element.appendChild(docLink);\n",
              "        }\n",
              "      </script>\n",
              "    </div>\n",
              "  </div>\n",
              "  "
            ],
            "text/plain": [
              "                         event_name_count  users_count  users_part\n",
              "EventName                                                         \n",
              "MainScreenAppear                   117328         7419    1.000000\n",
              "OffersScreenAppear                  45385         4482    0.604125\n",
              "CartScreenAppear                    41394         3635    0.489958\n",
              "PaymentScreenSuccessful             33171         3441    0.463809"
            ]
          },
          "metadata": {},
          "execution_count": 25
        }
      ],
      "source": [
        "df_log_end_clear = df_log_end[ df_log_end['DeviceIDHash'].isin(df_log_end[ df_log_end['EventName'] == 'MainScreenAppear']['DeviceIDHash'].unique()) ]\n",
        "df_voronka_clear = df_log_end_clear.groupby('EventName').agg({'date' : 'count', 'DeviceIDHash' : 'nunique'}).rename(columns = {'date' : 'event_name_count', 'DeviceIDHash' : 'users_count'})\n",
        "df_voronka_clear['users_part'] = df_voronka_clear['users_count'] / df_log_end_clear['DeviceIDHash'].nunique()\n",
        "df_voronka_clear = df_voronka_clear.sort_values('users_count', ascending = False).iloc[0:4]\n",
        "df_voronka_clear_rab = df_voronka_clear.copy()\n",
        "df_voronka_clear"
      ]
    },
    {
      "cell_type": "markdown",
      "metadata": {
        "id": "79gEfNfa6S5M"
      },
      "source": [
        "посчитаем долю пользователей перешедших на следующий этап:"
      ]
    },
    {
      "cell_type": "code",
      "execution_count": null,
      "metadata": {
        "colab": {
          "base_uri": "https://localhost:8080/",
          "height": 241
        },
        "id": "Pbo-L44H6S7i",
        "outputId": "776f72ef-1dda-45e3-ade9-1e0c84f03a8d"
      },
      "outputs": [
        {
          "output_type": "display_data",
          "data": {
            "text/html": [
              "\n",
              "  <div id=\"df-8038e478-5654-476e-a66d-642717b3c796\">\n",
              "    <div class=\"colab-df-container\">\n",
              "      <div>\n",
              "<style scoped>\n",
              "    .dataframe tbody tr th:only-of-type {\n",
              "        vertical-align: middle;\n",
              "    }\n",
              "\n",
              "    .dataframe tbody tr th {\n",
              "        vertical-align: top;\n",
              "    }\n",
              "\n",
              "    .dataframe thead th {\n",
              "        text-align: right;\n",
              "    }\n",
              "</style>\n",
              "<table border=\"1\" class=\"dataframe\">\n",
              "  <thead>\n",
              "    <tr style=\"text-align: right;\">\n",
              "      <th></th>\n",
              "      <th>event_name_count</th>\n",
              "      <th>users_count</th>\n",
              "      <th>users_part</th>\n",
              "      <th>part_transit</th>\n",
              "    </tr>\n",
              "    <tr>\n",
              "      <th>EventName</th>\n",
              "      <th></th>\n",
              "      <th></th>\n",
              "      <th></th>\n",
              "      <th></th>\n",
              "    </tr>\n",
              "  </thead>\n",
              "  <tbody>\n",
              "    <tr>\n",
              "      <th>MainScreenAppear</th>\n",
              "      <td>117328</td>\n",
              "      <td>7419</td>\n",
              "      <td>1.000000</td>\n",
              "      <td>1.00</td>\n",
              "    </tr>\n",
              "    <tr>\n",
              "      <th>OffersScreenAppear</th>\n",
              "      <td>45385</td>\n",
              "      <td>4482</td>\n",
              "      <td>0.604125</td>\n",
              "      <td>0.60</td>\n",
              "    </tr>\n",
              "    <tr>\n",
              "      <th>CartScreenAppear</th>\n",
              "      <td>41394</td>\n",
              "      <td>3635</td>\n",
              "      <td>0.489958</td>\n",
              "      <td>0.81</td>\n",
              "    </tr>\n",
              "    <tr>\n",
              "      <th>PaymentScreenSuccessful</th>\n",
              "      <td>33171</td>\n",
              "      <td>3441</td>\n",
              "      <td>0.463809</td>\n",
              "      <td>0.95</td>\n",
              "    </tr>\n",
              "  </tbody>\n",
              "</table>\n",
              "</div>\n",
              "      <button class=\"colab-df-convert\" onclick=\"convertToInteractive('df-8038e478-5654-476e-a66d-642717b3c796')\"\n",
              "              title=\"Convert this dataframe to an interactive table.\"\n",
              "              style=\"display:none;\">\n",
              "        \n",
              "  <svg xmlns=\"http://www.w3.org/2000/svg\" height=\"24px\"viewBox=\"0 0 24 24\"\n",
              "       width=\"24px\">\n",
              "    <path d=\"M0 0h24v24H0V0z\" fill=\"none\"/>\n",
              "    <path d=\"M18.56 5.44l.94 2.06.94-2.06 2.06-.94-2.06-.94-.94-2.06-.94 2.06-2.06.94zm-11 1L8.5 8.5l.94-2.06 2.06-.94-2.06-.94L8.5 2.5l-.94 2.06-2.06.94zm10 10l.94 2.06.94-2.06 2.06-.94-2.06-.94-.94-2.06-.94 2.06-2.06.94z\"/><path d=\"M17.41 7.96l-1.37-1.37c-.4-.4-.92-.59-1.43-.59-.52 0-1.04.2-1.43.59L10.3 9.45l-7.72 7.72c-.78.78-.78 2.05 0 2.83L4 21.41c.39.39.9.59 1.41.59.51 0 1.02-.2 1.41-.59l7.78-7.78 2.81-2.81c.8-.78.8-2.07 0-2.86zM5.41 20L4 18.59l7.72-7.72 1.47 1.35L5.41 20z\"/>\n",
              "  </svg>\n",
              "      </button>\n",
              "      \n",
              "  <style>\n",
              "    .colab-df-container {\n",
              "      display:flex;\n",
              "      flex-wrap:wrap;\n",
              "      gap: 12px;\n",
              "    }\n",
              "\n",
              "    .colab-df-convert {\n",
              "      background-color: #E8F0FE;\n",
              "      border: none;\n",
              "      border-radius: 50%;\n",
              "      cursor: pointer;\n",
              "      display: none;\n",
              "      fill: #1967D2;\n",
              "      height: 32px;\n",
              "      padding: 0 0 0 0;\n",
              "      width: 32px;\n",
              "    }\n",
              "\n",
              "    .colab-df-convert:hover {\n",
              "      background-color: #E2EBFA;\n",
              "      box-shadow: 0px 1px 2px rgba(60, 64, 67, 0.3), 0px 1px 3px 1px rgba(60, 64, 67, 0.15);\n",
              "      fill: #174EA6;\n",
              "    }\n",
              "\n",
              "    [theme=dark] .colab-df-convert {\n",
              "      background-color: #3B4455;\n",
              "      fill: #D2E3FC;\n",
              "    }\n",
              "\n",
              "    [theme=dark] .colab-df-convert:hover {\n",
              "      background-color: #434B5C;\n",
              "      box-shadow: 0px 1px 3px 1px rgba(0, 0, 0, 0.15);\n",
              "      filter: drop-shadow(0px 1px 2px rgba(0, 0, 0, 0.3));\n",
              "      fill: #FFFFFF;\n",
              "    }\n",
              "  </style>\n",
              "\n",
              "      <script>\n",
              "        const buttonEl =\n",
              "          document.querySelector('#df-8038e478-5654-476e-a66d-642717b3c796 button.colab-df-convert');\n",
              "        buttonEl.style.display =\n",
              "          google.colab.kernel.accessAllowed ? 'block' : 'none';\n",
              "\n",
              "        async function convertToInteractive(key) {\n",
              "          const element = document.querySelector('#df-8038e478-5654-476e-a66d-642717b3c796');\n",
              "          const dataTable =\n",
              "            await google.colab.kernel.invokeFunction('convertToInteractive',\n",
              "                                                     [key], {});\n",
              "          if (!dataTable) return;\n",
              "\n",
              "          const docLinkHtml = 'Like what you see? Visit the ' +\n",
              "            '<a target=\"_blank\" href=https://colab.research.google.com/notebooks/data_table.ipynb>data table notebook</a>'\n",
              "            + ' to learn more about interactive tables.';\n",
              "          element.innerHTML = '';\n",
              "          dataTable['output_type'] = 'display_data';\n",
              "          await google.colab.output.renderOutput(dataTable, element);\n",
              "          const docLink = document.createElement('div');\n",
              "          docLink.innerHTML = docLinkHtml;\n",
              "          element.appendChild(docLink);\n",
              "        }\n",
              "      </script>\n",
              "    </div>\n",
              "  </div>\n",
              "  "
            ],
            "text/plain": [
              "                         event_name_count  ...  part_transit\n",
              "EventName                                  ...              \n",
              "MainScreenAppear                   117328  ...          1.00\n",
              "OffersScreenAppear                  45385  ...          0.60\n",
              "CartScreenAppear                    41394  ...          0.81\n",
              "PaymentScreenSuccessful             33171  ...          0.95\n",
              "\n",
              "[4 rows x 4 columns]"
            ]
          },
          "metadata": {}
        },
        {
          "output_type": "stream",
          "name": "stdout",
          "text": [
            "\n",
            " доля пользователей прошедших весь цикл продажи: 0.46\n"
          ]
        }
      ],
      "source": [
        "df_voronka_clear['part_transit'] = round( df_voronka_clear['users_count'] / df_voronka_clear['users_count'].shift(+1) , 2)\n",
        "df_voronka_clear.fillna(1.00, inplace = True)\n",
        "display(df_voronka_clear)\n",
        "print('\\n доля пользователей прошедших весь цикл продажи:', round(df_voronka_clear['users_count'].min() / df_voronka_clear['users_count'].max()  ,2) )\n"
      ]
    },
    {
      "cell_type": "markdown",
      "metadata": {
        "id": "HCwaJJLy6S9y"
      },
      "source": [
        "\n",
        "как можем увидеть из таблицы- больше всего пользователей \"теряется\" при переходе к окну продажи (OffersScreenAppear). Если пользователдь всё-таки дошёл до покупки- небольша часть пользователей \"отваливается\" в процессе. Есть какая-то проблема по завершению оплаты (завершают только 95% пользователей). Возможно оставшиеся 5% пользователей используют системы оплаты, не поддерживаемые приложением. \n",
        "\n",
        "46% пользователей проходит весь путь от посещения сайта до завершения оплаты\n"
      ]
    },
    {
      "cell_type": "markdown",
      "metadata": {
        "id": "1-SskH8Q5oji"
      },
      "source": [
        "## результаты эксперимента <a name=\"A_A_B_test\"></a>"
      ]
    },
    {
      "cell_type": "code",
      "execution_count": null,
      "metadata": {
        "colab": {
          "base_uri": "https://localhost:8080/"
        },
        "id": "a-zWWuFzSh5u",
        "outputId": "b8345389-551e-4e38-d591-9a7a6ec923ec"
      },
      "outputs": [
        {
          "output_type": "stream",
          "name": "stdout",
          "text": [
            "\n",
            "кол-во пользователей в каждой экспериментальной  группе: \n",
            "        user_count\n",
            "ExpId            \n",
            "246          2450\n",
            "247          2476\n",
            "248          2493\n"
          ]
        }
      ],
      "source": [
        "print('\\nкол-во пользователей в каждой экспериментальной  группе: \\n', df_log_end_clear.groupby('ExpId')['DeviceIDHash'].nunique().to_frame().rename(columns = {'DeviceIDHash': 'user_count'}))"
      ]
    },
    {
      "cell_type": "markdown",
      "metadata": {
        "id": "Isy2iLiLSh7n"
      },
      "source": [
        "группы по кол-ву примерно равны. "
      ]
    },
    {
      "cell_type": "markdown",
      "metadata": {
        "id": "TDuz95Ju5omj"
      },
      "source": [
        "подготовим данные для ТТестов: заменим значение событий на числа для расчёта средней конверсии для каждого этапа:"
      ]
    },
    {
      "cell_type": "code",
      "execution_count": null,
      "metadata": {
        "colab": {
          "base_uri": "https://localhost:8080/",
          "height": 352
        },
        "id": "kXPshnU9ZyvQ",
        "outputId": "eaebc52b-aae0-4180-b021-db52d917bd06"
      },
      "outputs": [
        {
          "output_type": "stream",
          "name": "stderr",
          "text": [
            "/usr/local/lib/python3.7/dist-packages/pandas/core/indexing.py:1596: SettingWithCopyWarning: \n",
            "A value is trying to be set on a copy of a slice from a DataFrame.\n",
            "Try using .loc[row_indexer,col_indexer] = value instead\n",
            "\n",
            "See the caveats in the documentation: https://pandas.pydata.org/pandas-docs/stable/user_guide/indexing.html#returning-a-view-versus-a-copy\n",
            "  self.obj[key] = _infer_fill_value(value)\n",
            "/usr/local/lib/python3.7/dist-packages/pandas/core/indexing.py:1763: SettingWithCopyWarning: \n",
            "A value is trying to be set on a copy of a slice from a DataFrame.\n",
            "Try using .loc[row_indexer,col_indexer] = value instead\n",
            "\n",
            "See the caveats in the documentation: https://pandas.pydata.org/pandas-docs/stable/user_guide/indexing.html#returning-a-view-versus-a-copy\n",
            "  isetter(loc, value)\n"
          ]
        },
        {
          "output_type": "execute_result",
          "data": {
            "text/html": [
              "\n",
              "  <div id=\"df-71ae569c-9c01-4438-b671-ff9999204ec4\">\n",
              "    <div class=\"colab-df-container\">\n",
              "      <div>\n",
              "<style scoped>\n",
              "    .dataframe tbody tr th:only-of-type {\n",
              "        vertical-align: middle;\n",
              "    }\n",
              "\n",
              "    .dataframe tbody tr th {\n",
              "        vertical-align: top;\n",
              "    }\n",
              "\n",
              "    .dataframe thead th {\n",
              "        text-align: right;\n",
              "    }\n",
              "</style>\n",
              "<table border=\"1\" class=\"dataframe\">\n",
              "  <thead>\n",
              "    <tr style=\"text-align: right;\">\n",
              "      <th></th>\n",
              "      <th>EventName</th>\n",
              "      <th>DeviceIDHash</th>\n",
              "      <th>EventTimestamp</th>\n",
              "      <th>ExpId</th>\n",
              "      <th>date_time</th>\n",
              "      <th>date</th>\n",
              "      <th>rang_event_name</th>\n",
              "    </tr>\n",
              "  </thead>\n",
              "  <tbody>\n",
              "    <tr>\n",
              "      <th>112285</th>\n",
              "      <td>MainScreenAppear</td>\n",
              "      <td>1207877788215001499</td>\n",
              "      <td>1564902279</td>\n",
              "      <td>246</td>\n",
              "      <td>2019-08-04 07:04:39</td>\n",
              "      <td>2019-08-04</td>\n",
              "      <td>1.0</td>\n",
              "    </tr>\n",
              "    <tr>\n",
              "      <th>59070</th>\n",
              "      <td>PaymentScreenSuccessful</td>\n",
              "      <td>4887737919252726639</td>\n",
              "      <td>1564753412</td>\n",
              "      <td>247</td>\n",
              "      <td>2019-08-02 13:43:32</td>\n",
              "      <td>2019-08-02</td>\n",
              "      <td>4.0</td>\n",
              "    </tr>\n",
              "    <tr>\n",
              "      <th>10925</th>\n",
              "      <td>MainScreenAppear</td>\n",
              "      <td>4595859422077715633</td>\n",
              "      <td>1564649324</td>\n",
              "      <td>248</td>\n",
              "      <td>2019-08-01 08:48:44</td>\n",
              "      <td>2019-08-01</td>\n",
              "      <td>1.0</td>\n",
              "    </tr>\n",
              "  </tbody>\n",
              "</table>\n",
              "</div>\n",
              "      <button class=\"colab-df-convert\" onclick=\"convertToInteractive('df-71ae569c-9c01-4438-b671-ff9999204ec4')\"\n",
              "              title=\"Convert this dataframe to an interactive table.\"\n",
              "              style=\"display:none;\">\n",
              "        \n",
              "  <svg xmlns=\"http://www.w3.org/2000/svg\" height=\"24px\"viewBox=\"0 0 24 24\"\n",
              "       width=\"24px\">\n",
              "    <path d=\"M0 0h24v24H0V0z\" fill=\"none\"/>\n",
              "    <path d=\"M18.56 5.44l.94 2.06.94-2.06 2.06-.94-2.06-.94-.94-2.06-.94 2.06-2.06.94zm-11 1L8.5 8.5l.94-2.06 2.06-.94-2.06-.94L8.5 2.5l-.94 2.06-2.06.94zm10 10l.94 2.06.94-2.06 2.06-.94-2.06-.94-.94-2.06-.94 2.06-2.06.94z\"/><path d=\"M17.41 7.96l-1.37-1.37c-.4-.4-.92-.59-1.43-.59-.52 0-1.04.2-1.43.59L10.3 9.45l-7.72 7.72c-.78.78-.78 2.05 0 2.83L4 21.41c.39.39.9.59 1.41.59.51 0 1.02-.2 1.41-.59l7.78-7.78 2.81-2.81c.8-.78.8-2.07 0-2.86zM5.41 20L4 18.59l7.72-7.72 1.47 1.35L5.41 20z\"/>\n",
              "  </svg>\n",
              "      </button>\n",
              "      \n",
              "  <style>\n",
              "    .colab-df-container {\n",
              "      display:flex;\n",
              "      flex-wrap:wrap;\n",
              "      gap: 12px;\n",
              "    }\n",
              "\n",
              "    .colab-df-convert {\n",
              "      background-color: #E8F0FE;\n",
              "      border: none;\n",
              "      border-radius: 50%;\n",
              "      cursor: pointer;\n",
              "      display: none;\n",
              "      fill: #1967D2;\n",
              "      height: 32px;\n",
              "      padding: 0 0 0 0;\n",
              "      width: 32px;\n",
              "    }\n",
              "\n",
              "    .colab-df-convert:hover {\n",
              "      background-color: #E2EBFA;\n",
              "      box-shadow: 0px 1px 2px rgba(60, 64, 67, 0.3), 0px 1px 3px 1px rgba(60, 64, 67, 0.15);\n",
              "      fill: #174EA6;\n",
              "    }\n",
              "\n",
              "    [theme=dark] .colab-df-convert {\n",
              "      background-color: #3B4455;\n",
              "      fill: #D2E3FC;\n",
              "    }\n",
              "\n",
              "    [theme=dark] .colab-df-convert:hover {\n",
              "      background-color: #434B5C;\n",
              "      box-shadow: 0px 1px 3px 1px rgba(0, 0, 0, 0.15);\n",
              "      filter: drop-shadow(0px 1px 2px rgba(0, 0, 0, 0.3));\n",
              "      fill: #FFFFFF;\n",
              "    }\n",
              "  </style>\n",
              "\n",
              "      <script>\n",
              "        const buttonEl =\n",
              "          document.querySelector('#df-71ae569c-9c01-4438-b671-ff9999204ec4 button.colab-df-convert');\n",
              "        buttonEl.style.display =\n",
              "          google.colab.kernel.accessAllowed ? 'block' : 'none';\n",
              "\n",
              "        async function convertToInteractive(key) {\n",
              "          const element = document.querySelector('#df-71ae569c-9c01-4438-b671-ff9999204ec4');\n",
              "          const dataTable =\n",
              "            await google.colab.kernel.invokeFunction('convertToInteractive',\n",
              "                                                     [key], {});\n",
              "          if (!dataTable) return;\n",
              "\n",
              "          const docLinkHtml = 'Like what you see? Visit the ' +\n",
              "            '<a target=\"_blank\" href=https://colab.research.google.com/notebooks/data_table.ipynb>data table notebook</a>'\n",
              "            + ' to learn more about interactive tables.';\n",
              "          element.innerHTML = '';\n",
              "          dataTable['output_type'] = 'display_data';\n",
              "          await google.colab.output.renderOutput(dataTable, element);\n",
              "          const docLink = document.createElement('div');\n",
              "          docLink.innerHTML = docLinkHtml;\n",
              "          element.appendChild(docLink);\n",
              "        }\n",
              "      </script>\n",
              "    </div>\n",
              "  </div>\n",
              "  "
            ],
            "text/plain": [
              "                      EventName  ...  rang_event_name\n",
              "112285         MainScreenAppear  ...              1.0\n",
              "59070   PaymentScreenSuccessful  ...              4.0\n",
              "10925          MainScreenAppear  ...              1.0\n",
              "\n",
              "[3 rows x 7 columns]"
            ]
          },
          "metadata": {},
          "execution_count": 28
        }
      ],
      "source": [
        "for i in range(len(df_log_end_clear['EventName'].unique())):\n",
        "  df_log_end_clear.loc[ df_log_end_clear['EventName'] == df_log_end_clear['EventName'].unique()[i] , 'rang_event_name'] = i\n",
        "\n",
        "df_log_end_clear.sample(3)"
      ]
    },
    {
      "cell_type": "markdown",
      "metadata": {
        "id": "wjirm4wTc4iR"
      },
      "source": [
        "данные подготовлены можно начинать счтать\n",
        "\n",
        "считать будем равенство средних конверсий для каждого перехода (например, MainScreenAppear в OffersScreenAppear) "
      ]
    },
    {
      "cell_type": "markdown",
      "metadata": {
        "id": "rgObFG3LWaaE"
      },
      "source": [
        "### расчёт результатов А/А эксперимента <a name=\"A_A_test\"></a>"
      ]
    },
    {
      "cell_type": "code",
      "execution_count": null,
      "metadata": {
        "id": "aPS2LzqNbsTv"
      },
      "outputs": [],
      "source": [
        "#df_voronka_clear"
      ]
    },
    {
      "cell_type": "markdown",
      "metadata": {
        "id": "lxN0luGOnWL3"
      },
      "source": [
        "примем уровень доверия- 0,05. За нулевую гипотезу примем, что статистически значимых различий между группами нет. Проверим каждую конверсию (по каждому этапу и занесём данные в таблицу). Применим параметрический метод (в нашем случае метод Стьюдента) к свойству \"конверсия\""
      ]
    },
    {
      "cell_type": "markdown",
      "metadata": {
        "id": "RCuQKUS50yIg"
      },
      "source": [
        "\"нулевая\" гипотеза Н0: статистически значимых различий между группами нет\n",
        "\n",
        "альтернативная гипотеза Н1: статистически значимые различия между группами наблюдаются (есть)"
      ]
    },
    {
      "cell_type": "code",
      "execution_count": null,
      "metadata": {
        "id": "BCVCzADdnrp0"
      },
      "outputs": [],
      "source": [
        "results_test = df_voronka_clear.reset_index().EventName.to_frame()\n",
        "#results_test"
      ]
    },
    {
      "cell_type": "code",
      "execution_count": null,
      "metadata": {
        "colab": {
          "base_uri": "https://localhost:8080/",
          "height": 175
        },
        "id": "suf1s-xBnrsD",
        "outputId": "5b3da55b-86b6-435c-e4ff-9ef5f9fb444e"
      },
      "outputs": [
        {
          "output_type": "execute_result",
          "data": {
            "text/html": [
              "\n",
              "  <div id=\"df-3f06b298-803b-4ea1-beb8-fa592dc020a6\">\n",
              "    <div class=\"colab-df-container\">\n",
              "      <div>\n",
              "<style scoped>\n",
              "    .dataframe tbody tr th:only-of-type {\n",
              "        vertical-align: middle;\n",
              "    }\n",
              "\n",
              "    .dataframe tbody tr th {\n",
              "        vertical-align: top;\n",
              "    }\n",
              "\n",
              "    .dataframe thead th {\n",
              "        text-align: right;\n",
              "    }\n",
              "</style>\n",
              "<table border=\"1\" class=\"dataframe\">\n",
              "  <thead>\n",
              "    <tr style=\"text-align: right;\">\n",
              "      <th></th>\n",
              "      <th>EventName</th>\n",
              "      <th>AA_p_value</th>\n",
              "      <th>AA_viborki_ravni</th>\n",
              "    </tr>\n",
              "  </thead>\n",
              "  <tbody>\n",
              "    <tr>\n",
              "      <th>0</th>\n",
              "      <td>MainScreenAppear</td>\n",
              "      <td>NaN</td>\n",
              "      <td>NaN</td>\n",
              "    </tr>\n",
              "    <tr>\n",
              "      <th>1</th>\n",
              "      <td>OffersScreenAppear</td>\n",
              "      <td>0.363</td>\n",
              "      <td>True</td>\n",
              "    </tr>\n",
              "    <tr>\n",
              "      <th>2</th>\n",
              "      <td>CartScreenAppear</td>\n",
              "      <td>0.000</td>\n",
              "      <td>False</td>\n",
              "    </tr>\n",
              "    <tr>\n",
              "      <th>3</th>\n",
              "      <td>PaymentScreenSuccessful</td>\n",
              "      <td>0.908</td>\n",
              "      <td>True</td>\n",
              "    </tr>\n",
              "  </tbody>\n",
              "</table>\n",
              "</div>\n",
              "      <button class=\"colab-df-convert\" onclick=\"convertToInteractive('df-3f06b298-803b-4ea1-beb8-fa592dc020a6')\"\n",
              "              title=\"Convert this dataframe to an interactive table.\"\n",
              "              style=\"display:none;\">\n",
              "        \n",
              "  <svg xmlns=\"http://www.w3.org/2000/svg\" height=\"24px\"viewBox=\"0 0 24 24\"\n",
              "       width=\"24px\">\n",
              "    <path d=\"M0 0h24v24H0V0z\" fill=\"none\"/>\n",
              "    <path d=\"M18.56 5.44l.94 2.06.94-2.06 2.06-.94-2.06-.94-.94-2.06-.94 2.06-2.06.94zm-11 1L8.5 8.5l.94-2.06 2.06-.94-2.06-.94L8.5 2.5l-.94 2.06-2.06.94zm10 10l.94 2.06.94-2.06 2.06-.94-2.06-.94-.94-2.06-.94 2.06-2.06.94z\"/><path d=\"M17.41 7.96l-1.37-1.37c-.4-.4-.92-.59-1.43-.59-.52 0-1.04.2-1.43.59L10.3 9.45l-7.72 7.72c-.78.78-.78 2.05 0 2.83L4 21.41c.39.39.9.59 1.41.59.51 0 1.02-.2 1.41-.59l7.78-7.78 2.81-2.81c.8-.78.8-2.07 0-2.86zM5.41 20L4 18.59l7.72-7.72 1.47 1.35L5.41 20z\"/>\n",
              "  </svg>\n",
              "      </button>\n",
              "      \n",
              "  <style>\n",
              "    .colab-df-container {\n",
              "      display:flex;\n",
              "      flex-wrap:wrap;\n",
              "      gap: 12px;\n",
              "    }\n",
              "\n",
              "    .colab-df-convert {\n",
              "      background-color: #E8F0FE;\n",
              "      border: none;\n",
              "      border-radius: 50%;\n",
              "      cursor: pointer;\n",
              "      display: none;\n",
              "      fill: #1967D2;\n",
              "      height: 32px;\n",
              "      padding: 0 0 0 0;\n",
              "      width: 32px;\n",
              "    }\n",
              "\n",
              "    .colab-df-convert:hover {\n",
              "      background-color: #E2EBFA;\n",
              "      box-shadow: 0px 1px 2px rgba(60, 64, 67, 0.3), 0px 1px 3px 1px rgba(60, 64, 67, 0.15);\n",
              "      fill: #174EA6;\n",
              "    }\n",
              "\n",
              "    [theme=dark] .colab-df-convert {\n",
              "      background-color: #3B4455;\n",
              "      fill: #D2E3FC;\n",
              "    }\n",
              "\n",
              "    [theme=dark] .colab-df-convert:hover {\n",
              "      background-color: #434B5C;\n",
              "      box-shadow: 0px 1px 3px 1px rgba(0, 0, 0, 0.15);\n",
              "      filter: drop-shadow(0px 1px 2px rgba(0, 0, 0, 0.3));\n",
              "      fill: #FFFFFF;\n",
              "    }\n",
              "  </style>\n",
              "\n",
              "      <script>\n",
              "        const buttonEl =\n",
              "          document.querySelector('#df-3f06b298-803b-4ea1-beb8-fa592dc020a6 button.colab-df-convert');\n",
              "        buttonEl.style.display =\n",
              "          google.colab.kernel.accessAllowed ? 'block' : 'none';\n",
              "\n",
              "        async function convertToInteractive(key) {\n",
              "          const element = document.querySelector('#df-3f06b298-803b-4ea1-beb8-fa592dc020a6');\n",
              "          const dataTable =\n",
              "            await google.colab.kernel.invokeFunction('convertToInteractive',\n",
              "                                                     [key], {});\n",
              "          if (!dataTable) return;\n",
              "\n",
              "          const docLinkHtml = 'Like what you see? Visit the ' +\n",
              "            '<a target=\"_blank\" href=https://colab.research.google.com/notebooks/data_table.ipynb>data table notebook</a>'\n",
              "            + ' to learn more about interactive tables.';\n",
              "          element.innerHTML = '';\n",
              "          dataTable['output_type'] = 'display_data';\n",
              "          await google.colab.output.renderOutput(dataTable, element);\n",
              "          const docLink = document.createElement('div');\n",
              "          docLink.innerHTML = docLinkHtml;\n",
              "          element.appendChild(docLink);\n",
              "        }\n",
              "      </script>\n",
              "    </div>\n",
              "  </div>\n",
              "  "
            ],
            "text/plain": [
              "                 EventName  AA_p_value AA_viborki_ravni\n",
              "0         MainScreenAppear         NaN              NaN\n",
              "1       OffersScreenAppear       0.363             True\n",
              "2         CartScreenAppear       0.000            False\n",
              "3  PaymentScreenSuccessful       0.908             True"
            ]
          },
          "metadata": {},
          "execution_count": 31
        }
      ],
      "source": [
        "for i in range(1, 4):\n",
        "    ff =ttest_func (df_log_end_clear, results_test['EventName'][i-1], results_test['EventName'][i], 246 , 247, 0.05   )\n",
        "    results_test.loc[ i , 'AA_p_value'] = round(ff[0] , 3)\n",
        "    results_test.loc[ i , 'AA_viborki_ravni'] = ff[1]\n",
        "  \n",
        "  \n",
        "results_test"
      ]
    },
    {
      "cell_type": "markdown",
      "metadata": {
        "id": "eHEgZn-H5orp"
      },
      "source": [
        "как можем увидеть из таблицы- конверсия при переходе из OffersScreenAppear в CartScreenAppear различается. Остальные 2 конверсии статистически не различимы"
      ]
    },
    {
      "cell_type": "markdown",
      "metadata": {
        "id": "X3TZFQXPktnc"
      },
      "source": [
        "заполним данные по каждой исследуемой группе в нашей таблице:"
      ]
    },
    {
      "cell_type": "code",
      "execution_count": null,
      "metadata": {
        "colab": {
          "base_uri": "https://localhost:8080/",
          "height": 175
        },
        "id": "RW5GeYiCktpD",
        "outputId": "51024666-871f-436a-89c8-9c20987b8f7c"
      },
      "outputs": [
        {
          "output_type": "execute_result",
          "data": {
            "text/html": [
              "\n",
              "  <div id=\"df-71cc3538-c7e8-430e-b870-9ac802d96044\">\n",
              "    <div class=\"colab-df-container\">\n",
              "      <div>\n",
              "<style scoped>\n",
              "    .dataframe tbody tr th:only-of-type {\n",
              "        vertical-align: middle;\n",
              "    }\n",
              "\n",
              "    .dataframe tbody tr th {\n",
              "        vertical-align: top;\n",
              "    }\n",
              "\n",
              "    .dataframe thead th {\n",
              "        text-align: right;\n",
              "    }\n",
              "</style>\n",
              "<table border=\"1\" class=\"dataframe\">\n",
              "  <thead>\n",
              "    <tr style=\"text-align: right;\">\n",
              "      <th></th>\n",
              "      <th>EventName</th>\n",
              "      <th>AA_p_value</th>\n",
              "      <th>AA_viborki_ravni</th>\n",
              "      <th>246_user_count</th>\n",
              "      <th>246_part_transit</th>\n",
              "      <th>247_user_count</th>\n",
              "      <th>247_part_transit</th>\n",
              "    </tr>\n",
              "  </thead>\n",
              "  <tbody>\n",
              "    <tr>\n",
              "      <th>0</th>\n",
              "      <td>MainScreenAppear</td>\n",
              "      <td>NaN</td>\n",
              "      <td>NaN</td>\n",
              "      <td>2450.0</td>\n",
              "      <td>NaN</td>\n",
              "      <td>2476.0</td>\n",
              "      <td>NaN</td>\n",
              "    </tr>\n",
              "    <tr>\n",
              "      <th>1</th>\n",
              "      <td>OffersScreenAppear</td>\n",
              "      <td>0.363</td>\n",
              "      <td>True</td>\n",
              "      <td>1509.0</td>\n",
              "      <td>0.616</td>\n",
              "      <td>1484.0</td>\n",
              "      <td>0.599</td>\n",
              "    </tr>\n",
              "    <tr>\n",
              "      <th>2</th>\n",
              "      <td>CartScreenAppear</td>\n",
              "      <td>0.000</td>\n",
              "      <td>False</td>\n",
              "      <td>1236.0</td>\n",
              "      <td>0.819</td>\n",
              "      <td>1207.0</td>\n",
              "      <td>0.813</td>\n",
              "    </tr>\n",
              "    <tr>\n",
              "      <th>3</th>\n",
              "      <td>PaymentScreenSuccessful</td>\n",
              "      <td>0.908</td>\n",
              "      <td>True</td>\n",
              "      <td>1170.0</td>\n",
              "      <td>0.947</td>\n",
              "      <td>1128.0</td>\n",
              "      <td>0.935</td>\n",
              "    </tr>\n",
              "  </tbody>\n",
              "</table>\n",
              "</div>\n",
              "      <button class=\"colab-df-convert\" onclick=\"convertToInteractive('df-71cc3538-c7e8-430e-b870-9ac802d96044')\"\n",
              "              title=\"Convert this dataframe to an interactive table.\"\n",
              "              style=\"display:none;\">\n",
              "        \n",
              "  <svg xmlns=\"http://www.w3.org/2000/svg\" height=\"24px\"viewBox=\"0 0 24 24\"\n",
              "       width=\"24px\">\n",
              "    <path d=\"M0 0h24v24H0V0z\" fill=\"none\"/>\n",
              "    <path d=\"M18.56 5.44l.94 2.06.94-2.06 2.06-.94-2.06-.94-.94-2.06-.94 2.06-2.06.94zm-11 1L8.5 8.5l.94-2.06 2.06-.94-2.06-.94L8.5 2.5l-.94 2.06-2.06.94zm10 10l.94 2.06.94-2.06 2.06-.94-2.06-.94-.94-2.06-.94 2.06-2.06.94z\"/><path d=\"M17.41 7.96l-1.37-1.37c-.4-.4-.92-.59-1.43-.59-.52 0-1.04.2-1.43.59L10.3 9.45l-7.72 7.72c-.78.78-.78 2.05 0 2.83L4 21.41c.39.39.9.59 1.41.59.51 0 1.02-.2 1.41-.59l7.78-7.78 2.81-2.81c.8-.78.8-2.07 0-2.86zM5.41 20L4 18.59l7.72-7.72 1.47 1.35L5.41 20z\"/>\n",
              "  </svg>\n",
              "      </button>\n",
              "      \n",
              "  <style>\n",
              "    .colab-df-container {\n",
              "      display:flex;\n",
              "      flex-wrap:wrap;\n",
              "      gap: 12px;\n",
              "    }\n",
              "\n",
              "    .colab-df-convert {\n",
              "      background-color: #E8F0FE;\n",
              "      border: none;\n",
              "      border-radius: 50%;\n",
              "      cursor: pointer;\n",
              "      display: none;\n",
              "      fill: #1967D2;\n",
              "      height: 32px;\n",
              "      padding: 0 0 0 0;\n",
              "      width: 32px;\n",
              "    }\n",
              "\n",
              "    .colab-df-convert:hover {\n",
              "      background-color: #E2EBFA;\n",
              "      box-shadow: 0px 1px 2px rgba(60, 64, 67, 0.3), 0px 1px 3px 1px rgba(60, 64, 67, 0.15);\n",
              "      fill: #174EA6;\n",
              "    }\n",
              "\n",
              "    [theme=dark] .colab-df-convert {\n",
              "      background-color: #3B4455;\n",
              "      fill: #D2E3FC;\n",
              "    }\n",
              "\n",
              "    [theme=dark] .colab-df-convert:hover {\n",
              "      background-color: #434B5C;\n",
              "      box-shadow: 0px 1px 3px 1px rgba(0, 0, 0, 0.15);\n",
              "      filter: drop-shadow(0px 1px 2px rgba(0, 0, 0, 0.3));\n",
              "      fill: #FFFFFF;\n",
              "    }\n",
              "  </style>\n",
              "\n",
              "      <script>\n",
              "        const buttonEl =\n",
              "          document.querySelector('#df-71cc3538-c7e8-430e-b870-9ac802d96044 button.colab-df-convert');\n",
              "        buttonEl.style.display =\n",
              "          google.colab.kernel.accessAllowed ? 'block' : 'none';\n",
              "\n",
              "        async function convertToInteractive(key) {\n",
              "          const element = document.querySelector('#df-71cc3538-c7e8-430e-b870-9ac802d96044');\n",
              "          const dataTable =\n",
              "            await google.colab.kernel.invokeFunction('convertToInteractive',\n",
              "                                                     [key], {});\n",
              "          if (!dataTable) return;\n",
              "\n",
              "          const docLinkHtml = 'Like what you see? Visit the ' +\n",
              "            '<a target=\"_blank\" href=https://colab.research.google.com/notebooks/data_table.ipynb>data table notebook</a>'\n",
              "            + ' to learn more about interactive tables.';\n",
              "          element.innerHTML = '';\n",
              "          dataTable['output_type'] = 'display_data';\n",
              "          await google.colab.output.renderOutput(dataTable, element);\n",
              "          const docLink = document.createElement('div');\n",
              "          docLink.innerHTML = docLinkHtml;\n",
              "          element.appendChild(docLink);\n",
              "        }\n",
              "      </script>\n",
              "    </div>\n",
              "  </div>\n",
              "  "
            ],
            "text/plain": [
              "                 EventName  AA_p_value  ... 247_user_count  247_part_transit\n",
              "0         MainScreenAppear         NaN  ...         2476.0               NaN\n",
              "1       OffersScreenAppear       0.363  ...         1484.0             0.599\n",
              "2         CartScreenAppear       0.000  ...         1207.0             0.813\n",
              "3  PaymentScreenSuccessful       0.908  ...         1128.0             0.935\n",
              "\n",
              "[4 rows x 7 columns]"
            ]
          },
          "metadata": {},
          "execution_count": 32
        }
      ],
      "source": [
        "tabl_group_data(\n",
        "    results_test\n",
        "    , '246_user_count'\n",
        "    , '246_part_transit'\n",
        "    , 246\n",
        ")\n",
        "\n",
        "tabl_group_data(\n",
        "    results_test\n",
        "    , '247_user_count'\n",
        "    , '247_part_transit'\n",
        "    , 247\n",
        ")\n",
        "\n",
        "results_test"
      ]
    },
    {
      "cell_type": "markdown",
      "metadata": {
        "id": "LX5osE2Cnnsg"
      },
      "source": [
        "можем увидеть различие между группам по конверсии OffersScreenAppear в CartScreenAppear (столбец \"AA_viborki_ravni\" == False - говорть что есть статистически значимая разница). Можем сказать что группы А1 и А2 выбраны неверно. С другой тороны, конверсия в окно PaymentScreenSuccessful из CartScreenAppear статистически не различимы, так же как и попадание на страницу покупки."
      ]
    },
    {
      "cell_type": "markdown",
      "metadata": {
        "id": "6dK1alf3Ef7v"
      },
      "source": [
        "### расчёт результатов А/В эксперимента <a name=\"A_B_test\"></a>"
      ]
    },
    {
      "cell_type": "markdown",
      "metadata": {
        "id": "VbQCvDU5m9gx"
      },
      "source": [
        "добавим результаты обсчёта тестов в туже таблицу"
      ]
    },
    {
      "cell_type": "code",
      "execution_count": null,
      "metadata": {
        "colab": {
          "base_uri": "https://localhost:8080/"
        },
        "id": "hlUZSPXy0yIk",
        "outputId": "5a4a601d-4001-478c-e5c6-b2506fc204da"
      },
      "outputs": [
        {
          "output_type": "stream",
          "name": "stderr",
          "text": [
            "/usr/local/lib/python3.7/dist-packages/statsmodels/tools/_testing.py:19: FutureWarning: pandas.util.testing is deprecated. Use the functions in the public API at pandas.testing instead.\n",
            "  import pandas.util.testing as tm\n"
          ]
        }
      ],
      "source": [
        "from statsmodels.stats.proportion import proportions_ztest"
      ]
    },
    {
      "cell_type": "code",
      "execution_count": null,
      "metadata": {
        "id": "F-cTAX5s0yIk"
      },
      "outputs": [],
      "source": [
        "#df_log_end_clear.head()"
      ]
    },
    {
      "cell_type": "markdown",
      "metadata": {
        "id": "z16dsgvJ0yIl"
      },
      "source": [
        "создадим таблицу с исходными данными:"
      ]
    },
    {
      "cell_type": "code",
      "execution_count": null,
      "metadata": {
        "colab": {
          "base_uri": "https://localhost:8080/",
          "height": 457
        },
        "id": "ZQefeb6c0yIl",
        "outputId": "9e7d3f2d-fcd4-4c21-b4fb-7c95855f95bc"
      },
      "outputs": [
        {
          "output_type": "execute_result",
          "data": {
            "text/html": [
              "\n",
              "  <div id=\"df-8e69723a-358d-4ae1-a841-ec5c97482f62\">\n",
              "    <div class=\"colab-df-container\">\n",
              "      <div>\n",
              "<style scoped>\n",
              "    .dataframe tbody tr th:only-of-type {\n",
              "        vertical-align: middle;\n",
              "    }\n",
              "\n",
              "    .dataframe tbody tr th {\n",
              "        vertical-align: top;\n",
              "    }\n",
              "\n",
              "    .dataframe thead th {\n",
              "        text-align: right;\n",
              "    }\n",
              "</style>\n",
              "<table border=\"1\" class=\"dataframe\">\n",
              "  <thead>\n",
              "    <tr style=\"text-align: right;\">\n",
              "      <th></th>\n",
              "      <th></th>\n",
              "      <th>count_nunique</th>\n",
              "    </tr>\n",
              "    <tr>\n",
              "      <th>EventName</th>\n",
              "      <th>ExpId</th>\n",
              "      <th></th>\n",
              "    </tr>\n",
              "  </thead>\n",
              "  <tbody>\n",
              "    <tr>\n",
              "      <th rowspan=\"3\" valign=\"top\">MainScreenAppear</th>\n",
              "      <th>248</th>\n",
              "      <td>2493</td>\n",
              "    </tr>\n",
              "    <tr>\n",
              "      <th>247</th>\n",
              "      <td>2476</td>\n",
              "    </tr>\n",
              "    <tr>\n",
              "      <th>246</th>\n",
              "      <td>2450</td>\n",
              "    </tr>\n",
              "    <tr>\n",
              "      <th rowspan=\"3\" valign=\"top\">OffersScreenAppear</th>\n",
              "      <th>246</th>\n",
              "      <td>1509</td>\n",
              "    </tr>\n",
              "    <tr>\n",
              "      <th>248</th>\n",
              "      <td>1489</td>\n",
              "    </tr>\n",
              "    <tr>\n",
              "      <th>247</th>\n",
              "      <td>1484</td>\n",
              "    </tr>\n",
              "    <tr>\n",
              "      <th rowspan=\"3\" valign=\"top\">CartScreenAppear</th>\n",
              "      <th>246</th>\n",
              "      <td>1236</td>\n",
              "    </tr>\n",
              "    <tr>\n",
              "      <th>247</th>\n",
              "      <td>1207</td>\n",
              "    </tr>\n",
              "    <tr>\n",
              "      <th>248</th>\n",
              "      <td>1192</td>\n",
              "    </tr>\n",
              "    <tr>\n",
              "      <th rowspan=\"3\" valign=\"top\">PaymentScreenSuccessful</th>\n",
              "      <th>246</th>\n",
              "      <td>1170</td>\n",
              "    </tr>\n",
              "    <tr>\n",
              "      <th>248</th>\n",
              "      <td>1143</td>\n",
              "    </tr>\n",
              "    <tr>\n",
              "      <th>247</th>\n",
              "      <td>1128</td>\n",
              "    </tr>\n",
              "  </tbody>\n",
              "</table>\n",
              "</div>\n",
              "      <button class=\"colab-df-convert\" onclick=\"convertToInteractive('df-8e69723a-358d-4ae1-a841-ec5c97482f62')\"\n",
              "              title=\"Convert this dataframe to an interactive table.\"\n",
              "              style=\"display:none;\">\n",
              "        \n",
              "  <svg xmlns=\"http://www.w3.org/2000/svg\" height=\"24px\"viewBox=\"0 0 24 24\"\n",
              "       width=\"24px\">\n",
              "    <path d=\"M0 0h24v24H0V0z\" fill=\"none\"/>\n",
              "    <path d=\"M18.56 5.44l.94 2.06.94-2.06 2.06-.94-2.06-.94-.94-2.06-.94 2.06-2.06.94zm-11 1L8.5 8.5l.94-2.06 2.06-.94-2.06-.94L8.5 2.5l-.94 2.06-2.06.94zm10 10l.94 2.06.94-2.06 2.06-.94-2.06-.94-.94-2.06-.94 2.06-2.06.94z\"/><path d=\"M17.41 7.96l-1.37-1.37c-.4-.4-.92-.59-1.43-.59-.52 0-1.04.2-1.43.59L10.3 9.45l-7.72 7.72c-.78.78-.78 2.05 0 2.83L4 21.41c.39.39.9.59 1.41.59.51 0 1.02-.2 1.41-.59l7.78-7.78 2.81-2.81c.8-.78.8-2.07 0-2.86zM5.41 20L4 18.59l7.72-7.72 1.47 1.35L5.41 20z\"/>\n",
              "  </svg>\n",
              "      </button>\n",
              "      \n",
              "  <style>\n",
              "    .colab-df-container {\n",
              "      display:flex;\n",
              "      flex-wrap:wrap;\n",
              "      gap: 12px;\n",
              "    }\n",
              "\n",
              "    .colab-df-convert {\n",
              "      background-color: #E8F0FE;\n",
              "      border: none;\n",
              "      border-radius: 50%;\n",
              "      cursor: pointer;\n",
              "      display: none;\n",
              "      fill: #1967D2;\n",
              "      height: 32px;\n",
              "      padding: 0 0 0 0;\n",
              "      width: 32px;\n",
              "    }\n",
              "\n",
              "    .colab-df-convert:hover {\n",
              "      background-color: #E2EBFA;\n",
              "      box-shadow: 0px 1px 2px rgba(60, 64, 67, 0.3), 0px 1px 3px 1px rgba(60, 64, 67, 0.15);\n",
              "      fill: #174EA6;\n",
              "    }\n",
              "\n",
              "    [theme=dark] .colab-df-convert {\n",
              "      background-color: #3B4455;\n",
              "      fill: #D2E3FC;\n",
              "    }\n",
              "\n",
              "    [theme=dark] .colab-df-convert:hover {\n",
              "      background-color: #434B5C;\n",
              "      box-shadow: 0px 1px 3px 1px rgba(0, 0, 0, 0.15);\n",
              "      filter: drop-shadow(0px 1px 2px rgba(0, 0, 0, 0.3));\n",
              "      fill: #FFFFFF;\n",
              "    }\n",
              "  </style>\n",
              "\n",
              "      <script>\n",
              "        const buttonEl =\n",
              "          document.querySelector('#df-8e69723a-358d-4ae1-a841-ec5c97482f62 button.colab-df-convert');\n",
              "        buttonEl.style.display =\n",
              "          google.colab.kernel.accessAllowed ? 'block' : 'none';\n",
              "\n",
              "        async function convertToInteractive(key) {\n",
              "          const element = document.querySelector('#df-8e69723a-358d-4ae1-a841-ec5c97482f62');\n",
              "          const dataTable =\n",
              "            await google.colab.kernel.invokeFunction('convertToInteractive',\n",
              "                                                     [key], {});\n",
              "          if (!dataTable) return;\n",
              "\n",
              "          const docLinkHtml = 'Like what you see? Visit the ' +\n",
              "            '<a target=\"_blank\" href=https://colab.research.google.com/notebooks/data_table.ipynb>data table notebook</a>'\n",
              "            + ' to learn more about interactive tables.';\n",
              "          element.innerHTML = '';\n",
              "          dataTable['output_type'] = 'display_data';\n",
              "          await google.colab.output.renderOutput(dataTable, element);\n",
              "          const docLink = document.createElement('div');\n",
              "          docLink.innerHTML = docLinkHtml;\n",
              "          element.appendChild(docLink);\n",
              "        }\n",
              "      </script>\n",
              "    </div>\n",
              "  </div>\n",
              "  "
            ],
            "text/plain": [
              "                               count_nunique\n",
              "EventName               ExpId               \n",
              "MainScreenAppear        248             2493\n",
              "                        247             2476\n",
              "                        246             2450\n",
              "OffersScreenAppear      246             1509\n",
              "                        248             1489\n",
              "                        247             1484\n",
              "CartScreenAppear        246             1236\n",
              "                        247             1207\n",
              "                        248             1192\n",
              "PaymentScreenSuccessful 246             1170\n",
              "                        248             1143\n",
              "                        247             1128"
            ]
          },
          "metadata": {},
          "execution_count": 35
        }
      ],
      "source": [
        "df_z_test_group_by = df_log_end_clear[ df_log_end_clear['EventName'] != 'Tutorial' ].groupby(['EventName','ExpId'])['DeviceIDHash'].nunique().to_frame().rename(columns={'DeviceIDHash':'count_nunique'}).sort_values('count_nunique', ascending = False)\n",
        "df_z_test_group_by"
      ]
    },
    {
      "cell_type": "code",
      "execution_count": null,
      "metadata": {
        "id": "4gXaKgok0yIl"
      },
      "outputs": [],
      "source": [
        "#df_z_test_group_by.index\n"
      ]
    },
    {
      "cell_type": "code",
      "execution_count": null,
      "metadata": {
        "id": "ci4BQYf10yIl"
      },
      "outputs": [],
      "source": [
        "#df_voronka_clear_rab"
      ]
    },
    {
      "cell_type": "markdown",
      "metadata": {
        "id": "WrvwDHcX0yIm"
      },
      "source": [
        "напишем функцию проверки и создания таблиц:"
      ]
    },
    {
      "cell_type": "code",
      "execution_count": null,
      "metadata": {
        "id": "8a3dmcCZ0yIm"
      },
      "outputs": [],
      "source": [
        "# дополним таблицу суммарным (А1 и А2) измерением\n",
        "result = df_voronka_clear_rab.copy()\n",
        "for i in range(0,4):\n",
        "        \n",
        "        df_z_test_group_by.loc[ (result.index[i], 555) , 'count_nunique'] =(\n",
        "            df_z_test_group_by.loc[ (result.index[i], 246) , 'count_nunique'] +\n",
        "            df_z_test_group_by.loc[ (result.index[i], 247) , 'count_nunique']       \n",
        "        )       \n",
        "\n",
        "#df_z_test_group_by"
      ]
    },
    {
      "cell_type": "code",
      "execution_count": null,
      "metadata": {
        "id": "-ysn7nKc0yIm"
      },
      "outputs": [],
      "source": [
        "\n",
        "\n",
        "def z_test_table(group, kriteriy , alpha):\n",
        "    result = df_voronka_clear_rab.copy()\n",
        "    for i in range(1,4):\n",
        "        count = df_z_test_group_by.loc[ (result.index[i], group) , 'count_nunique']\n",
        "        nobs = df_z_test_group_by.loc[ ( 'MainScreenAppear', group) , 'count_nunique']\n",
        "        value = df_z_test_group_by.loc[ (result.index[i], kriteriy ) , 'count_nunique'] / df_z_test_group_by.loc[ ( 'MainScreenAppear', kriteriy), 'count_nunique']\n",
        "        stat, pval = proportions_ztest(count, nobs, value)\n",
        "        #print(pval)\n",
        "                \n",
        "        result.loc[result.index[i] ,'p_value']=pval\n",
        "        \n",
        "        if (pval > alpha):\n",
        "            result.loc[result.index[i] ,'viborki_ravni']= True\n",
        "        else:\n",
        "            result.loc[result.index[i] ,'viborki_ravni']= False\n",
        "        \n",
        "        \n",
        "    return result[['p_value','viborki_ravni']]\n",
        "    \n",
        "    "
      ]
    },
    {
      "cell_type": "markdown",
      "metadata": {
        "id": "qqaRrEZn0yIn"
      },
      "source": [
        "**результаты А1-A2 тестирования**"
      ]
    },
    {
      "cell_type": "code",
      "execution_count": null,
      "metadata": {
        "colab": {
          "base_uri": "https://localhost:8080/",
          "height": 206
        },
        "id": "m7yrN5RQ0yIn",
        "outputId": "d20a2bac-85c3-4f88-bd37-9940bbe32fe0"
      },
      "outputs": [
        {
          "output_type": "execute_result",
          "data": {
            "text/html": [
              "\n",
              "  <div id=\"df-331f5c5c-db75-472e-9064-4cb3b4813000\">\n",
              "    <div class=\"colab-df-container\">\n",
              "      <div>\n",
              "<style scoped>\n",
              "    .dataframe tbody tr th:only-of-type {\n",
              "        vertical-align: middle;\n",
              "    }\n",
              "\n",
              "    .dataframe tbody tr th {\n",
              "        vertical-align: top;\n",
              "    }\n",
              "\n",
              "    .dataframe thead th {\n",
              "        text-align: right;\n",
              "    }\n",
              "</style>\n",
              "<table border=\"1\" class=\"dataframe\">\n",
              "  <thead>\n",
              "    <tr style=\"text-align: right;\">\n",
              "      <th></th>\n",
              "      <th>p_value</th>\n",
              "      <th>viborki_ravni</th>\n",
              "    </tr>\n",
              "    <tr>\n",
              "      <th>EventName</th>\n",
              "      <th></th>\n",
              "      <th></th>\n",
              "    </tr>\n",
              "  </thead>\n",
              "  <tbody>\n",
              "    <tr>\n",
              "      <th>MainScreenAppear</th>\n",
              "      <td>NaN</td>\n",
              "      <td>NaN</td>\n",
              "    </tr>\n",
              "    <tr>\n",
              "      <th>OffersScreenAppear</th>\n",
              "      <td>0.091846</td>\n",
              "      <td>True</td>\n",
              "    </tr>\n",
              "    <tr>\n",
              "      <th>CartScreenAppear</th>\n",
              "      <td>0.092187</td>\n",
              "      <td>True</td>\n",
              "    </tr>\n",
              "    <tr>\n",
              "      <th>PaymentScreenSuccessful</th>\n",
              "      <td>0.029417</td>\n",
              "      <td>False</td>\n",
              "    </tr>\n",
              "  </tbody>\n",
              "</table>\n",
              "</div>\n",
              "      <button class=\"colab-df-convert\" onclick=\"convertToInteractive('df-331f5c5c-db75-472e-9064-4cb3b4813000')\"\n",
              "              title=\"Convert this dataframe to an interactive table.\"\n",
              "              style=\"display:none;\">\n",
              "        \n",
              "  <svg xmlns=\"http://www.w3.org/2000/svg\" height=\"24px\"viewBox=\"0 0 24 24\"\n",
              "       width=\"24px\">\n",
              "    <path d=\"M0 0h24v24H0V0z\" fill=\"none\"/>\n",
              "    <path d=\"M18.56 5.44l.94 2.06.94-2.06 2.06-.94-2.06-.94-.94-2.06-.94 2.06-2.06.94zm-11 1L8.5 8.5l.94-2.06 2.06-.94-2.06-.94L8.5 2.5l-.94 2.06-2.06.94zm10 10l.94 2.06.94-2.06 2.06-.94-2.06-.94-.94-2.06-.94 2.06-2.06.94z\"/><path d=\"M17.41 7.96l-1.37-1.37c-.4-.4-.92-.59-1.43-.59-.52 0-1.04.2-1.43.59L10.3 9.45l-7.72 7.72c-.78.78-.78 2.05 0 2.83L4 21.41c.39.39.9.59 1.41.59.51 0 1.02-.2 1.41-.59l7.78-7.78 2.81-2.81c.8-.78.8-2.07 0-2.86zM5.41 20L4 18.59l7.72-7.72 1.47 1.35L5.41 20z\"/>\n",
              "  </svg>\n",
              "      </button>\n",
              "      \n",
              "  <style>\n",
              "    .colab-df-container {\n",
              "      display:flex;\n",
              "      flex-wrap:wrap;\n",
              "      gap: 12px;\n",
              "    }\n",
              "\n",
              "    .colab-df-convert {\n",
              "      background-color: #E8F0FE;\n",
              "      border: none;\n",
              "      border-radius: 50%;\n",
              "      cursor: pointer;\n",
              "      display: none;\n",
              "      fill: #1967D2;\n",
              "      height: 32px;\n",
              "      padding: 0 0 0 0;\n",
              "      width: 32px;\n",
              "    }\n",
              "\n",
              "    .colab-df-convert:hover {\n",
              "      background-color: #E2EBFA;\n",
              "      box-shadow: 0px 1px 2px rgba(60, 64, 67, 0.3), 0px 1px 3px 1px rgba(60, 64, 67, 0.15);\n",
              "      fill: #174EA6;\n",
              "    }\n",
              "\n",
              "    [theme=dark] .colab-df-convert {\n",
              "      background-color: #3B4455;\n",
              "      fill: #D2E3FC;\n",
              "    }\n",
              "\n",
              "    [theme=dark] .colab-df-convert:hover {\n",
              "      background-color: #434B5C;\n",
              "      box-shadow: 0px 1px 3px 1px rgba(0, 0, 0, 0.15);\n",
              "      filter: drop-shadow(0px 1px 2px rgba(0, 0, 0, 0.3));\n",
              "      fill: #FFFFFF;\n",
              "    }\n",
              "  </style>\n",
              "\n",
              "      <script>\n",
              "        const buttonEl =\n",
              "          document.querySelector('#df-331f5c5c-db75-472e-9064-4cb3b4813000 button.colab-df-convert');\n",
              "        buttonEl.style.display =\n",
              "          google.colab.kernel.accessAllowed ? 'block' : 'none';\n",
              "\n",
              "        async function convertToInteractive(key) {\n",
              "          const element = document.querySelector('#df-331f5c5c-db75-472e-9064-4cb3b4813000');\n",
              "          const dataTable =\n",
              "            await google.colab.kernel.invokeFunction('convertToInteractive',\n",
              "                                                     [key], {});\n",
              "          if (!dataTable) return;\n",
              "\n",
              "          const docLinkHtml = 'Like what you see? Visit the ' +\n",
              "            '<a target=\"_blank\" href=https://colab.research.google.com/notebooks/data_table.ipynb>data table notebook</a>'\n",
              "            + ' to learn more about interactive tables.';\n",
              "          element.innerHTML = '';\n",
              "          dataTable['output_type'] = 'display_data';\n",
              "          await google.colab.output.renderOutput(dataTable, element);\n",
              "          const docLink = document.createElement('div');\n",
              "          docLink.innerHTML = docLinkHtml;\n",
              "          element.appendChild(docLink);\n",
              "        }\n",
              "      </script>\n",
              "    </div>\n",
              "  </div>\n",
              "  "
            ],
            "text/plain": [
              "                          p_value viborki_ravni\n",
              "EventName                                      \n",
              "MainScreenAppear              NaN           NaN\n",
              "OffersScreenAppear       0.091846          True\n",
              "CartScreenAppear         0.092187          True\n",
              "PaymentScreenSuccessful  0.029417         False"
            ]
          },
          "metadata": {},
          "execution_count": 40
        }
      ],
      "source": [
        "z_test_table(246, 247, 0.05)"
      ]
    },
    {
      "cell_type": "markdown",
      "metadata": {
        "id": "Nn7EsBa30yIo"
      },
      "source": [
        "**результаты А1-В тестирования**"
      ]
    },
    {
      "cell_type": "code",
      "execution_count": null,
      "metadata": {
        "colab": {
          "base_uri": "https://localhost:8080/",
          "height": 206
        },
        "id": "OHp0LPsk0yIo",
        "outputId": "581c5d40-f0fd-419f-e326-9572d01ce48e"
      },
      "outputs": [
        {
          "output_type": "execute_result",
          "data": {
            "text/html": [
              "\n",
              "  <div id=\"df-fc0ed353-0ccb-4bad-95c6-76eb9777850b\">\n",
              "    <div class=\"colab-df-container\">\n",
              "      <div>\n",
              "<style scoped>\n",
              "    .dataframe tbody tr th:only-of-type {\n",
              "        vertical-align: middle;\n",
              "    }\n",
              "\n",
              "    .dataframe tbody tr th {\n",
              "        vertical-align: top;\n",
              "    }\n",
              "\n",
              "    .dataframe thead th {\n",
              "        text-align: right;\n",
              "    }\n",
              "</style>\n",
              "<table border=\"1\" class=\"dataframe\">\n",
              "  <thead>\n",
              "    <tr style=\"text-align: right;\">\n",
              "      <th></th>\n",
              "      <th>p_value</th>\n",
              "      <th>viborki_ravni</th>\n",
              "    </tr>\n",
              "    <tr>\n",
              "      <th>EventName</th>\n",
              "      <th></th>\n",
              "      <th></th>\n",
              "    </tr>\n",
              "  </thead>\n",
              "  <tbody>\n",
              "    <tr>\n",
              "      <th>MainScreenAppear</th>\n",
              "      <td>NaN</td>\n",
              "      <td>NaN</td>\n",
              "    </tr>\n",
              "    <tr>\n",
              "      <th>OffersScreenAppear</th>\n",
              "      <td>0.057754</td>\n",
              "      <td>True</td>\n",
              "    </tr>\n",
              "    <tr>\n",
              "      <th>CartScreenAppear</th>\n",
              "      <td>0.009088</td>\n",
              "      <td>False</td>\n",
              "    </tr>\n",
              "    <tr>\n",
              "      <th>PaymentScreenSuccessful</th>\n",
              "      <td>0.058829</td>\n",
              "      <td>True</td>\n",
              "    </tr>\n",
              "  </tbody>\n",
              "</table>\n",
              "</div>\n",
              "      <button class=\"colab-df-convert\" onclick=\"convertToInteractive('df-fc0ed353-0ccb-4bad-95c6-76eb9777850b')\"\n",
              "              title=\"Convert this dataframe to an interactive table.\"\n",
              "              style=\"display:none;\">\n",
              "        \n",
              "  <svg xmlns=\"http://www.w3.org/2000/svg\" height=\"24px\"viewBox=\"0 0 24 24\"\n",
              "       width=\"24px\">\n",
              "    <path d=\"M0 0h24v24H0V0z\" fill=\"none\"/>\n",
              "    <path d=\"M18.56 5.44l.94 2.06.94-2.06 2.06-.94-2.06-.94-.94-2.06-.94 2.06-2.06.94zm-11 1L8.5 8.5l.94-2.06 2.06-.94-2.06-.94L8.5 2.5l-.94 2.06-2.06.94zm10 10l.94 2.06.94-2.06 2.06-.94-2.06-.94-.94-2.06-.94 2.06-2.06.94z\"/><path d=\"M17.41 7.96l-1.37-1.37c-.4-.4-.92-.59-1.43-.59-.52 0-1.04.2-1.43.59L10.3 9.45l-7.72 7.72c-.78.78-.78 2.05 0 2.83L4 21.41c.39.39.9.59 1.41.59.51 0 1.02-.2 1.41-.59l7.78-7.78 2.81-2.81c.8-.78.8-2.07 0-2.86zM5.41 20L4 18.59l7.72-7.72 1.47 1.35L5.41 20z\"/>\n",
              "  </svg>\n",
              "      </button>\n",
              "      \n",
              "  <style>\n",
              "    .colab-df-container {\n",
              "      display:flex;\n",
              "      flex-wrap:wrap;\n",
              "      gap: 12px;\n",
              "    }\n",
              "\n",
              "    .colab-df-convert {\n",
              "      background-color: #E8F0FE;\n",
              "      border: none;\n",
              "      border-radius: 50%;\n",
              "      cursor: pointer;\n",
              "      display: none;\n",
              "      fill: #1967D2;\n",
              "      height: 32px;\n",
              "      padding: 0 0 0 0;\n",
              "      width: 32px;\n",
              "    }\n",
              "\n",
              "    .colab-df-convert:hover {\n",
              "      background-color: #E2EBFA;\n",
              "      box-shadow: 0px 1px 2px rgba(60, 64, 67, 0.3), 0px 1px 3px 1px rgba(60, 64, 67, 0.15);\n",
              "      fill: #174EA6;\n",
              "    }\n",
              "\n",
              "    [theme=dark] .colab-df-convert {\n",
              "      background-color: #3B4455;\n",
              "      fill: #D2E3FC;\n",
              "    }\n",
              "\n",
              "    [theme=dark] .colab-df-convert:hover {\n",
              "      background-color: #434B5C;\n",
              "      box-shadow: 0px 1px 3px 1px rgba(0, 0, 0, 0.15);\n",
              "      filter: drop-shadow(0px 1px 2px rgba(0, 0, 0, 0.3));\n",
              "      fill: #FFFFFF;\n",
              "    }\n",
              "  </style>\n",
              "\n",
              "      <script>\n",
              "        const buttonEl =\n",
              "          document.querySelector('#df-fc0ed353-0ccb-4bad-95c6-76eb9777850b button.colab-df-convert');\n",
              "        buttonEl.style.display =\n",
              "          google.colab.kernel.accessAllowed ? 'block' : 'none';\n",
              "\n",
              "        async function convertToInteractive(key) {\n",
              "          const element = document.querySelector('#df-fc0ed353-0ccb-4bad-95c6-76eb9777850b');\n",
              "          const dataTable =\n",
              "            await google.colab.kernel.invokeFunction('convertToInteractive',\n",
              "                                                     [key], {});\n",
              "          if (!dataTable) return;\n",
              "\n",
              "          const docLinkHtml = 'Like what you see? Visit the ' +\n",
              "            '<a target=\"_blank\" href=https://colab.research.google.com/notebooks/data_table.ipynb>data table notebook</a>'\n",
              "            + ' to learn more about interactive tables.';\n",
              "          element.innerHTML = '';\n",
              "          dataTable['output_type'] = 'display_data';\n",
              "          await google.colab.output.renderOutput(dataTable, element);\n",
              "          const docLink = document.createElement('div');\n",
              "          docLink.innerHTML = docLinkHtml;\n",
              "          element.appendChild(docLink);\n",
              "        }\n",
              "      </script>\n",
              "    </div>\n",
              "  </div>\n",
              "  "
            ],
            "text/plain": [
              "                          p_value viborki_ravni\n",
              "EventName                                      \n",
              "MainScreenAppear              NaN           NaN\n",
              "OffersScreenAppear       0.057754          True\n",
              "CartScreenAppear         0.009088         False\n",
              "PaymentScreenSuccessful  0.058829          True"
            ]
          },
          "metadata": {},
          "execution_count": 41
        }
      ],
      "source": [
        "z_test_table(246, 248, 0.05)"
      ]
    },
    {
      "cell_type": "markdown",
      "metadata": {
        "id": "034nYYsL0yIo"
      },
      "source": [
        "**результаты А2-В тестирования**"
      ]
    },
    {
      "cell_type": "code",
      "execution_count": null,
      "metadata": {
        "colab": {
          "base_uri": "https://localhost:8080/",
          "height": 206
        },
        "id": "saZa2BpN0yIo",
        "outputId": "46904a40-a974-4c0e-c438-af2e68ab5f0d"
      },
      "outputs": [
        {
          "output_type": "execute_result",
          "data": {
            "text/html": [
              "\n",
              "  <div id=\"df-04de4489-aa96-44ca-a971-38950f0e4313\">\n",
              "    <div class=\"colab-df-container\">\n",
              "      <div>\n",
              "<style scoped>\n",
              "    .dataframe tbody tr th:only-of-type {\n",
              "        vertical-align: middle;\n",
              "    }\n",
              "\n",
              "    .dataframe tbody tr th {\n",
              "        vertical-align: top;\n",
              "    }\n",
              "\n",
              "    .dataframe thead th {\n",
              "        text-align: right;\n",
              "    }\n",
              "</style>\n",
              "<table border=\"1\" class=\"dataframe\">\n",
              "  <thead>\n",
              "    <tr style=\"text-align: right;\">\n",
              "      <th></th>\n",
              "      <th>p_value</th>\n",
              "      <th>viborki_ravni</th>\n",
              "    </tr>\n",
              "    <tr>\n",
              "      <th>EventName</th>\n",
              "      <th></th>\n",
              "      <th></th>\n",
              "    </tr>\n",
              "  </thead>\n",
              "  <tbody>\n",
              "    <tr>\n",
              "      <th>MainScreenAppear</th>\n",
              "      <td>NaN</td>\n",
              "      <td>NaN</td>\n",
              "    </tr>\n",
              "    <tr>\n",
              "      <th>OffersScreenAppear</th>\n",
              "      <td>0.832609</td>\n",
              "      <td>True</td>\n",
              "    </tr>\n",
              "    <tr>\n",
              "      <th>CartScreenAppear</th>\n",
              "      <td>0.352423</td>\n",
              "      <td>True</td>\n",
              "    </tr>\n",
              "    <tr>\n",
              "      <th>PaymentScreenSuccessful</th>\n",
              "      <td>0.771224</td>\n",
              "      <td>True</td>\n",
              "    </tr>\n",
              "  </tbody>\n",
              "</table>\n",
              "</div>\n",
              "      <button class=\"colab-df-convert\" onclick=\"convertToInteractive('df-04de4489-aa96-44ca-a971-38950f0e4313')\"\n",
              "              title=\"Convert this dataframe to an interactive table.\"\n",
              "              style=\"display:none;\">\n",
              "        \n",
              "  <svg xmlns=\"http://www.w3.org/2000/svg\" height=\"24px\"viewBox=\"0 0 24 24\"\n",
              "       width=\"24px\">\n",
              "    <path d=\"M0 0h24v24H0V0z\" fill=\"none\"/>\n",
              "    <path d=\"M18.56 5.44l.94 2.06.94-2.06 2.06-.94-2.06-.94-.94-2.06-.94 2.06-2.06.94zm-11 1L8.5 8.5l.94-2.06 2.06-.94-2.06-.94L8.5 2.5l-.94 2.06-2.06.94zm10 10l.94 2.06.94-2.06 2.06-.94-2.06-.94-.94-2.06-.94 2.06-2.06.94z\"/><path d=\"M17.41 7.96l-1.37-1.37c-.4-.4-.92-.59-1.43-.59-.52 0-1.04.2-1.43.59L10.3 9.45l-7.72 7.72c-.78.78-.78 2.05 0 2.83L4 21.41c.39.39.9.59 1.41.59.51 0 1.02-.2 1.41-.59l7.78-7.78 2.81-2.81c.8-.78.8-2.07 0-2.86zM5.41 20L4 18.59l7.72-7.72 1.47 1.35L5.41 20z\"/>\n",
              "  </svg>\n",
              "      </button>\n",
              "      \n",
              "  <style>\n",
              "    .colab-df-container {\n",
              "      display:flex;\n",
              "      flex-wrap:wrap;\n",
              "      gap: 12px;\n",
              "    }\n",
              "\n",
              "    .colab-df-convert {\n",
              "      background-color: #E8F0FE;\n",
              "      border: none;\n",
              "      border-radius: 50%;\n",
              "      cursor: pointer;\n",
              "      display: none;\n",
              "      fill: #1967D2;\n",
              "      height: 32px;\n",
              "      padding: 0 0 0 0;\n",
              "      width: 32px;\n",
              "    }\n",
              "\n",
              "    .colab-df-convert:hover {\n",
              "      background-color: #E2EBFA;\n",
              "      box-shadow: 0px 1px 2px rgba(60, 64, 67, 0.3), 0px 1px 3px 1px rgba(60, 64, 67, 0.15);\n",
              "      fill: #174EA6;\n",
              "    }\n",
              "\n",
              "    [theme=dark] .colab-df-convert {\n",
              "      background-color: #3B4455;\n",
              "      fill: #D2E3FC;\n",
              "    }\n",
              "\n",
              "    [theme=dark] .colab-df-convert:hover {\n",
              "      background-color: #434B5C;\n",
              "      box-shadow: 0px 1px 3px 1px rgba(0, 0, 0, 0.15);\n",
              "      filter: drop-shadow(0px 1px 2px rgba(0, 0, 0, 0.3));\n",
              "      fill: #FFFFFF;\n",
              "    }\n",
              "  </style>\n",
              "\n",
              "      <script>\n",
              "        const buttonEl =\n",
              "          document.querySelector('#df-04de4489-aa96-44ca-a971-38950f0e4313 button.colab-df-convert');\n",
              "        buttonEl.style.display =\n",
              "          google.colab.kernel.accessAllowed ? 'block' : 'none';\n",
              "\n",
              "        async function convertToInteractive(key) {\n",
              "          const element = document.querySelector('#df-04de4489-aa96-44ca-a971-38950f0e4313');\n",
              "          const dataTable =\n",
              "            await google.colab.kernel.invokeFunction('convertToInteractive',\n",
              "                                                     [key], {});\n",
              "          if (!dataTable) return;\n",
              "\n",
              "          const docLinkHtml = 'Like what you see? Visit the ' +\n",
              "            '<a target=\"_blank\" href=https://colab.research.google.com/notebooks/data_table.ipynb>data table notebook</a>'\n",
              "            + ' to learn more about interactive tables.';\n",
              "          element.innerHTML = '';\n",
              "          dataTable['output_type'] = 'display_data';\n",
              "          await google.colab.output.renderOutput(dataTable, element);\n",
              "          const docLink = document.createElement('div');\n",
              "          docLink.innerHTML = docLinkHtml;\n",
              "          element.appendChild(docLink);\n",
              "        }\n",
              "      </script>\n",
              "    </div>\n",
              "  </div>\n",
              "  "
            ],
            "text/plain": [
              "                          p_value viborki_ravni\n",
              "EventName                                      \n",
              "MainScreenAppear              NaN           NaN\n",
              "OffersScreenAppear       0.832609          True\n",
              "CartScreenAppear         0.352423          True\n",
              "PaymentScreenSuccessful  0.771224          True"
            ]
          },
          "metadata": {},
          "execution_count": 42
        }
      ],
      "source": [
        "z_test_table(247, 248, 0.05)"
      ]
    },
    {
      "cell_type": "markdown",
      "metadata": {
        "id": "ECipJlp70yIp"
      },
      "source": [
        "**результаты А1А2-В тестирования**"
      ]
    },
    {
      "cell_type": "code",
      "execution_count": null,
      "metadata": {
        "colab": {
          "base_uri": "https://localhost:8080/",
          "height": 206
        },
        "id": "PhxoBgFl0yIp",
        "outputId": "2bd15bb2-1809-40d4-a84b-156ca9eb4c66"
      },
      "outputs": [
        {
          "output_type": "execute_result",
          "data": {
            "text/html": [
              "\n",
              "  <div id=\"df-c8aa76c4-b9df-46cd-80d7-77a9565cb5af\">\n",
              "    <div class=\"colab-df-container\">\n",
              "      <div>\n",
              "<style scoped>\n",
              "    .dataframe tbody tr th:only-of-type {\n",
              "        vertical-align: middle;\n",
              "    }\n",
              "\n",
              "    .dataframe tbody tr th {\n",
              "        vertical-align: top;\n",
              "    }\n",
              "\n",
              "    .dataframe thead th {\n",
              "        text-align: right;\n",
              "    }\n",
              "</style>\n",
              "<table border=\"1\" class=\"dataframe\">\n",
              "  <thead>\n",
              "    <tr style=\"text-align: right;\">\n",
              "      <th></th>\n",
              "      <th>p_value</th>\n",
              "      <th>viborki_ravni</th>\n",
              "    </tr>\n",
              "    <tr>\n",
              "      <th>EventName</th>\n",
              "      <th></th>\n",
              "      <th></th>\n",
              "    </tr>\n",
              "  </thead>\n",
              "  <tbody>\n",
              "    <tr>\n",
              "      <th>MainScreenAppear</th>\n",
              "      <td>NaN</td>\n",
              "      <td>NaN</td>\n",
              "    </tr>\n",
              "    <tr>\n",
              "      <th>OffersScreenAppear</th>\n",
              "      <td>0.137974</td>\n",
              "      <td>True</td>\n",
              "    </tr>\n",
              "    <tr>\n",
              "      <th>CartScreenAppear</th>\n",
              "      <td>0.012460</td>\n",
              "      <td>False</td>\n",
              "    </tr>\n",
              "    <tr>\n",
              "      <th>PaymentScreenSuccessful</th>\n",
              "      <td>0.259159</td>\n",
              "      <td>True</td>\n",
              "    </tr>\n",
              "  </tbody>\n",
              "</table>\n",
              "</div>\n",
              "      <button class=\"colab-df-convert\" onclick=\"convertToInteractive('df-c8aa76c4-b9df-46cd-80d7-77a9565cb5af')\"\n",
              "              title=\"Convert this dataframe to an interactive table.\"\n",
              "              style=\"display:none;\">\n",
              "        \n",
              "  <svg xmlns=\"http://www.w3.org/2000/svg\" height=\"24px\"viewBox=\"0 0 24 24\"\n",
              "       width=\"24px\">\n",
              "    <path d=\"M0 0h24v24H0V0z\" fill=\"none\"/>\n",
              "    <path d=\"M18.56 5.44l.94 2.06.94-2.06 2.06-.94-2.06-.94-.94-2.06-.94 2.06-2.06.94zm-11 1L8.5 8.5l.94-2.06 2.06-.94-2.06-.94L8.5 2.5l-.94 2.06-2.06.94zm10 10l.94 2.06.94-2.06 2.06-.94-2.06-.94-.94-2.06-.94 2.06-2.06.94z\"/><path d=\"M17.41 7.96l-1.37-1.37c-.4-.4-.92-.59-1.43-.59-.52 0-1.04.2-1.43.59L10.3 9.45l-7.72 7.72c-.78.78-.78 2.05 0 2.83L4 21.41c.39.39.9.59 1.41.59.51 0 1.02-.2 1.41-.59l7.78-7.78 2.81-2.81c.8-.78.8-2.07 0-2.86zM5.41 20L4 18.59l7.72-7.72 1.47 1.35L5.41 20z\"/>\n",
              "  </svg>\n",
              "      </button>\n",
              "      \n",
              "  <style>\n",
              "    .colab-df-container {\n",
              "      display:flex;\n",
              "      flex-wrap:wrap;\n",
              "      gap: 12px;\n",
              "    }\n",
              "\n",
              "    .colab-df-convert {\n",
              "      background-color: #E8F0FE;\n",
              "      border: none;\n",
              "      border-radius: 50%;\n",
              "      cursor: pointer;\n",
              "      display: none;\n",
              "      fill: #1967D2;\n",
              "      height: 32px;\n",
              "      padding: 0 0 0 0;\n",
              "      width: 32px;\n",
              "    }\n",
              "\n",
              "    .colab-df-convert:hover {\n",
              "      background-color: #E2EBFA;\n",
              "      box-shadow: 0px 1px 2px rgba(60, 64, 67, 0.3), 0px 1px 3px 1px rgba(60, 64, 67, 0.15);\n",
              "      fill: #174EA6;\n",
              "    }\n",
              "\n",
              "    [theme=dark] .colab-df-convert {\n",
              "      background-color: #3B4455;\n",
              "      fill: #D2E3FC;\n",
              "    }\n",
              "\n",
              "    [theme=dark] .colab-df-convert:hover {\n",
              "      background-color: #434B5C;\n",
              "      box-shadow: 0px 1px 3px 1px rgba(0, 0, 0, 0.15);\n",
              "      filter: drop-shadow(0px 1px 2px rgba(0, 0, 0, 0.3));\n",
              "      fill: #FFFFFF;\n",
              "    }\n",
              "  </style>\n",
              "\n",
              "      <script>\n",
              "        const buttonEl =\n",
              "          document.querySelector('#df-c8aa76c4-b9df-46cd-80d7-77a9565cb5af button.colab-df-convert');\n",
              "        buttonEl.style.display =\n",
              "          google.colab.kernel.accessAllowed ? 'block' : 'none';\n",
              "\n",
              "        async function convertToInteractive(key) {\n",
              "          const element = document.querySelector('#df-c8aa76c4-b9df-46cd-80d7-77a9565cb5af');\n",
              "          const dataTable =\n",
              "            await google.colab.kernel.invokeFunction('convertToInteractive',\n",
              "                                                     [key], {});\n",
              "          if (!dataTable) return;\n",
              "\n",
              "          const docLinkHtml = 'Like what you see? Visit the ' +\n",
              "            '<a target=\"_blank\" href=https://colab.research.google.com/notebooks/data_table.ipynb>data table notebook</a>'\n",
              "            + ' to learn more about interactive tables.';\n",
              "          element.innerHTML = '';\n",
              "          dataTable['output_type'] = 'display_data';\n",
              "          await google.colab.output.renderOutput(dataTable, element);\n",
              "          const docLink = document.createElement('div');\n",
              "          docLink.innerHTML = docLinkHtml;\n",
              "          element.appendChild(docLink);\n",
              "        }\n",
              "      </script>\n",
              "    </div>\n",
              "  </div>\n",
              "  "
            ],
            "text/plain": [
              "                          p_value viborki_ravni\n",
              "EventName                                      \n",
              "MainScreenAppear              NaN           NaN\n",
              "OffersScreenAppear       0.137974          True\n",
              "CartScreenAppear         0.012460         False\n",
              "PaymentScreenSuccessful  0.259159          True"
            ]
          },
          "metadata": {},
          "execution_count": 43
        }
      ],
      "source": [
        "z_test_table(555, 248, 0.05)"
      ]
    },
    {
      "cell_type": "markdown",
      "metadata": {
        "id": "t4D51heE0yIp"
      },
      "source": [
        "**кол-во пользователей по выборкам (555- суммарная выборка ждя групп 246 и 247)**"
      ]
    },
    {
      "cell_type": "code",
      "execution_count": null,
      "metadata": {
        "colab": {
          "base_uri": "https://localhost:8080/",
          "height": 582
        },
        "id": "szGoDBOq0yIp",
        "outputId": "244b1b09-50e4-4727-cb53-79d7eafdabde"
      },
      "outputs": [
        {
          "output_type": "execute_result",
          "data": {
            "text/html": [
              "\n",
              "  <div id=\"df-3e3c429a-9a19-4aaa-9129-9640142f76ea\">\n",
              "    <div class=\"colab-df-container\">\n",
              "      <div>\n",
              "<style scoped>\n",
              "    .dataframe tbody tr th:only-of-type {\n",
              "        vertical-align: middle;\n",
              "    }\n",
              "\n",
              "    .dataframe tbody tr th {\n",
              "        vertical-align: top;\n",
              "    }\n",
              "\n",
              "    .dataframe thead th {\n",
              "        text-align: right;\n",
              "    }\n",
              "</style>\n",
              "<table border=\"1\" class=\"dataframe\">\n",
              "  <thead>\n",
              "    <tr style=\"text-align: right;\">\n",
              "      <th></th>\n",
              "      <th></th>\n",
              "      <th>count_nunique</th>\n",
              "    </tr>\n",
              "    <tr>\n",
              "      <th>EventName</th>\n",
              "      <th>ExpId</th>\n",
              "      <th></th>\n",
              "    </tr>\n",
              "  </thead>\n",
              "  <tbody>\n",
              "    <tr>\n",
              "      <th rowspan=\"3\" valign=\"top\">MainScreenAppear</th>\n",
              "      <th>248</th>\n",
              "      <td>2493.0</td>\n",
              "    </tr>\n",
              "    <tr>\n",
              "      <th>247</th>\n",
              "      <td>2476.0</td>\n",
              "    </tr>\n",
              "    <tr>\n",
              "      <th>246</th>\n",
              "      <td>2450.0</td>\n",
              "    </tr>\n",
              "    <tr>\n",
              "      <th rowspan=\"3\" valign=\"top\">OffersScreenAppear</th>\n",
              "      <th>246</th>\n",
              "      <td>1509.0</td>\n",
              "    </tr>\n",
              "    <tr>\n",
              "      <th>248</th>\n",
              "      <td>1489.0</td>\n",
              "    </tr>\n",
              "    <tr>\n",
              "      <th>247</th>\n",
              "      <td>1484.0</td>\n",
              "    </tr>\n",
              "    <tr>\n",
              "      <th rowspan=\"3\" valign=\"top\">CartScreenAppear</th>\n",
              "      <th>246</th>\n",
              "      <td>1236.0</td>\n",
              "    </tr>\n",
              "    <tr>\n",
              "      <th>247</th>\n",
              "      <td>1207.0</td>\n",
              "    </tr>\n",
              "    <tr>\n",
              "      <th>248</th>\n",
              "      <td>1192.0</td>\n",
              "    </tr>\n",
              "    <tr>\n",
              "      <th rowspan=\"3\" valign=\"top\">PaymentScreenSuccessful</th>\n",
              "      <th>246</th>\n",
              "      <td>1170.0</td>\n",
              "    </tr>\n",
              "    <tr>\n",
              "      <th>248</th>\n",
              "      <td>1143.0</td>\n",
              "    </tr>\n",
              "    <tr>\n",
              "      <th>247</th>\n",
              "      <td>1128.0</td>\n",
              "    </tr>\n",
              "    <tr>\n",
              "      <th>MainScreenAppear</th>\n",
              "      <th>555</th>\n",
              "      <td>4926.0</td>\n",
              "    </tr>\n",
              "    <tr>\n",
              "      <th>OffersScreenAppear</th>\n",
              "      <th>555</th>\n",
              "      <td>2993.0</td>\n",
              "    </tr>\n",
              "    <tr>\n",
              "      <th>CartScreenAppear</th>\n",
              "      <th>555</th>\n",
              "      <td>2443.0</td>\n",
              "    </tr>\n",
              "    <tr>\n",
              "      <th>PaymentScreenSuccessful</th>\n",
              "      <th>555</th>\n",
              "      <td>2298.0</td>\n",
              "    </tr>\n",
              "  </tbody>\n",
              "</table>\n",
              "</div>\n",
              "      <button class=\"colab-df-convert\" onclick=\"convertToInteractive('df-3e3c429a-9a19-4aaa-9129-9640142f76ea')\"\n",
              "              title=\"Convert this dataframe to an interactive table.\"\n",
              "              style=\"display:none;\">\n",
              "        \n",
              "  <svg xmlns=\"http://www.w3.org/2000/svg\" height=\"24px\"viewBox=\"0 0 24 24\"\n",
              "       width=\"24px\">\n",
              "    <path d=\"M0 0h24v24H0V0z\" fill=\"none\"/>\n",
              "    <path d=\"M18.56 5.44l.94 2.06.94-2.06 2.06-.94-2.06-.94-.94-2.06-.94 2.06-2.06.94zm-11 1L8.5 8.5l.94-2.06 2.06-.94-2.06-.94L8.5 2.5l-.94 2.06-2.06.94zm10 10l.94 2.06.94-2.06 2.06-.94-2.06-.94-.94-2.06-.94 2.06-2.06.94z\"/><path d=\"M17.41 7.96l-1.37-1.37c-.4-.4-.92-.59-1.43-.59-.52 0-1.04.2-1.43.59L10.3 9.45l-7.72 7.72c-.78.78-.78 2.05 0 2.83L4 21.41c.39.39.9.59 1.41.59.51 0 1.02-.2 1.41-.59l7.78-7.78 2.81-2.81c.8-.78.8-2.07 0-2.86zM5.41 20L4 18.59l7.72-7.72 1.47 1.35L5.41 20z\"/>\n",
              "  </svg>\n",
              "      </button>\n",
              "      \n",
              "  <style>\n",
              "    .colab-df-container {\n",
              "      display:flex;\n",
              "      flex-wrap:wrap;\n",
              "      gap: 12px;\n",
              "    }\n",
              "\n",
              "    .colab-df-convert {\n",
              "      background-color: #E8F0FE;\n",
              "      border: none;\n",
              "      border-radius: 50%;\n",
              "      cursor: pointer;\n",
              "      display: none;\n",
              "      fill: #1967D2;\n",
              "      height: 32px;\n",
              "      padding: 0 0 0 0;\n",
              "      width: 32px;\n",
              "    }\n",
              "\n",
              "    .colab-df-convert:hover {\n",
              "      background-color: #E2EBFA;\n",
              "      box-shadow: 0px 1px 2px rgba(60, 64, 67, 0.3), 0px 1px 3px 1px rgba(60, 64, 67, 0.15);\n",
              "      fill: #174EA6;\n",
              "    }\n",
              "\n",
              "    [theme=dark] .colab-df-convert {\n",
              "      background-color: #3B4455;\n",
              "      fill: #D2E3FC;\n",
              "    }\n",
              "\n",
              "    [theme=dark] .colab-df-convert:hover {\n",
              "      background-color: #434B5C;\n",
              "      box-shadow: 0px 1px 3px 1px rgba(0, 0, 0, 0.15);\n",
              "      filter: drop-shadow(0px 1px 2px rgba(0, 0, 0, 0.3));\n",
              "      fill: #FFFFFF;\n",
              "    }\n",
              "  </style>\n",
              "\n",
              "      <script>\n",
              "        const buttonEl =\n",
              "          document.querySelector('#df-3e3c429a-9a19-4aaa-9129-9640142f76ea button.colab-df-convert');\n",
              "        buttonEl.style.display =\n",
              "          google.colab.kernel.accessAllowed ? 'block' : 'none';\n",
              "\n",
              "        async function convertToInteractive(key) {\n",
              "          const element = document.querySelector('#df-3e3c429a-9a19-4aaa-9129-9640142f76ea');\n",
              "          const dataTable =\n",
              "            await google.colab.kernel.invokeFunction('convertToInteractive',\n",
              "                                                     [key], {});\n",
              "          if (!dataTable) return;\n",
              "\n",
              "          const docLinkHtml = 'Like what you see? Visit the ' +\n",
              "            '<a target=\"_blank\" href=https://colab.research.google.com/notebooks/data_table.ipynb>data table notebook</a>'\n",
              "            + ' to learn more about interactive tables.';\n",
              "          element.innerHTML = '';\n",
              "          dataTable['output_type'] = 'display_data';\n",
              "          await google.colab.output.renderOutput(dataTable, element);\n",
              "          const docLink = document.createElement('div');\n",
              "          docLink.innerHTML = docLinkHtml;\n",
              "          element.appendChild(docLink);\n",
              "        }\n",
              "      </script>\n",
              "    </div>\n",
              "  </div>\n",
              "  "
            ],
            "text/plain": [
              "                               count_nunique\n",
              "EventName               ExpId               \n",
              "MainScreenAppear        248           2493.0\n",
              "                        247           2476.0\n",
              "                        246           2450.0\n",
              "OffersScreenAppear      246           1509.0\n",
              "                        248           1489.0\n",
              "                        247           1484.0\n",
              "CartScreenAppear        246           1236.0\n",
              "                        247           1207.0\n",
              "                        248           1192.0\n",
              "PaymentScreenSuccessful 246           1170.0\n",
              "                        248           1143.0\n",
              "                        247           1128.0\n",
              "MainScreenAppear        555           4926.0\n",
              "OffersScreenAppear      555           2993.0\n",
              "CartScreenAppear        555           2443.0\n",
              "PaymentScreenSuccessful 555           2298.0"
            ]
          },
          "metadata": {},
          "execution_count": 47
        }
      ],
      "source": [
        "df_z_test_group_by"
      ]
    },
    {
      "cell_type": "markdown",
      "metadata": {
        "id": "xDOFxzfa0yIq"
      },
      "source": [
        "Было проведено 4*3 = 12 проверки статистических гипотез при уровне значимаости 0,05. При таком уровне значимаости каждый 20 анализ может получиться ложнымю Но при условии, что полученные уровни значимаости (p value)  находятся далеко от 0,05- результаты можно считать надёжными. Так же, мы считаем наши выборки независимыми друг от друга, т.е. нельзя говорить, что какой-то из результатов стат теста будет ложным при большом кол-ве стат тестов на разных (независимых) выборках. параметр Альфа- это пороговое значение, которое даёт с определённым уровнем доверия возможность строго (математически) оценить различия в выборках. При необходимости включения в результаты измерений параметров случайных выбросов мы можем проверить наши выборки на грубвые выбросы (ГОСТ 8.207-76 и ГОСТ 11.002-73)(правда, это работает только на измерениях- т.е. на не бимодальных величинах) или включить расчёт доверительного интервала (СКО при необходимости) в выводные результаты)\n",
        "\n",
        "Строго говоря, уровень стат значимости выбирается не из кол-ва тестов а из необходимости консервативного похода к измерениям (т.е. чем выше значимость измерений, тем уровень доверия должен быть выше (67%, 95%, 99%, 99,7%...). С точки зрения значимости данного измерения: в уровене доверия в 99% нет необходимости (это не медицинские исследования), уровень доверия 67% тоже не сильно подходит (этот соц опросы- у нас вопрос денег), поэтому выбираем стандартный - 95%"
      ]
    },
    {
      "cell_type": "markdown",
      "metadata": {
        "id": "eYzXx_2BnnwF"
      },
      "source": [
        "## вывод <a name=\"conclusion\"></a>"
      ]
    },
    {
      "cell_type": "markdown",
      "metadata": {
        "id": "NR0kuIWSD4Wv"
      },
      "source": [
        "А-А-В эксперимент не удался. Произошёл какой-то сбой в распреелении пользователей по группам. Для 2-ух контрольных групп (А1 и А2) наййдены статистически значимые различия, которых быть не должно. "
      ]
    },
    {
      "cell_type": "markdown",
      "metadata": {
        "id": "IW8gSYgbG0Sd"
      },
      "source": [
        "была получена предварительная картинка конверсии между окон (ошибка в эксперименте могла несколько повлиять на результат, но глобально она его не изменила):"
      ]
    },
    {
      "cell_type": "code",
      "execution_count": null,
      "metadata": {
        "colab": {
          "base_uri": "https://localhost:8080/",
          "height": 206
        },
        "id": "YIKVLkbbD4Zi",
        "outputId": "4f96879f-111c-4fea-e329-d4ef5f0b9537"
      },
      "outputs": [
        {
          "output_type": "execute_result",
          "data": {
            "text/html": [
              "\n",
              "  <div id=\"df-f13ffe1d-f926-4443-9eb3-88500ec00d21\">\n",
              "    <div class=\"colab-df-container\">\n",
              "      <div>\n",
              "<style scoped>\n",
              "    .dataframe tbody tr th:only-of-type {\n",
              "        vertical-align: middle;\n",
              "    }\n",
              "\n",
              "    .dataframe tbody tr th {\n",
              "        vertical-align: top;\n",
              "    }\n",
              "\n",
              "    .dataframe thead th {\n",
              "        text-align: right;\n",
              "    }\n",
              "</style>\n",
              "<table border=\"1\" class=\"dataframe\">\n",
              "  <thead>\n",
              "    <tr style=\"text-align: right;\">\n",
              "      <th></th>\n",
              "      <th>event_name_count</th>\n",
              "      <th>users_count</th>\n",
              "      <th>part_transit</th>\n",
              "    </tr>\n",
              "    <tr>\n",
              "      <th>EventName</th>\n",
              "      <th></th>\n",
              "      <th></th>\n",
              "      <th></th>\n",
              "    </tr>\n",
              "  </thead>\n",
              "  <tbody>\n",
              "    <tr>\n",
              "      <th>MainScreenAppear</th>\n",
              "      <td>117328</td>\n",
              "      <td>7419</td>\n",
              "      <td>1.00</td>\n",
              "    </tr>\n",
              "    <tr>\n",
              "      <th>OffersScreenAppear</th>\n",
              "      <td>45385</td>\n",
              "      <td>4482</td>\n",
              "      <td>0.60</td>\n",
              "    </tr>\n",
              "    <tr>\n",
              "      <th>CartScreenAppear</th>\n",
              "      <td>41394</td>\n",
              "      <td>3635</td>\n",
              "      <td>0.81</td>\n",
              "    </tr>\n",
              "    <tr>\n",
              "      <th>PaymentScreenSuccessful</th>\n",
              "      <td>33171</td>\n",
              "      <td>3441</td>\n",
              "      <td>0.95</td>\n",
              "    </tr>\n",
              "  </tbody>\n",
              "</table>\n",
              "</div>\n",
              "      <button class=\"colab-df-convert\" onclick=\"convertToInteractive('df-f13ffe1d-f926-4443-9eb3-88500ec00d21')\"\n",
              "              title=\"Convert this dataframe to an interactive table.\"\n",
              "              style=\"display:none;\">\n",
              "        \n",
              "  <svg xmlns=\"http://www.w3.org/2000/svg\" height=\"24px\"viewBox=\"0 0 24 24\"\n",
              "       width=\"24px\">\n",
              "    <path d=\"M0 0h24v24H0V0z\" fill=\"none\"/>\n",
              "    <path d=\"M18.56 5.44l.94 2.06.94-2.06 2.06-.94-2.06-.94-.94-2.06-.94 2.06-2.06.94zm-11 1L8.5 8.5l.94-2.06 2.06-.94-2.06-.94L8.5 2.5l-.94 2.06-2.06.94zm10 10l.94 2.06.94-2.06 2.06-.94-2.06-.94-.94-2.06-.94 2.06-2.06.94z\"/><path d=\"M17.41 7.96l-1.37-1.37c-.4-.4-.92-.59-1.43-.59-.52 0-1.04.2-1.43.59L10.3 9.45l-7.72 7.72c-.78.78-.78 2.05 0 2.83L4 21.41c.39.39.9.59 1.41.59.51 0 1.02-.2 1.41-.59l7.78-7.78 2.81-2.81c.8-.78.8-2.07 0-2.86zM5.41 20L4 18.59l7.72-7.72 1.47 1.35L5.41 20z\"/>\n",
              "  </svg>\n",
              "      </button>\n",
              "      \n",
              "  <style>\n",
              "    .colab-df-container {\n",
              "      display:flex;\n",
              "      flex-wrap:wrap;\n",
              "      gap: 12px;\n",
              "    }\n",
              "\n",
              "    .colab-df-convert {\n",
              "      background-color: #E8F0FE;\n",
              "      border: none;\n",
              "      border-radius: 50%;\n",
              "      cursor: pointer;\n",
              "      display: none;\n",
              "      fill: #1967D2;\n",
              "      height: 32px;\n",
              "      padding: 0 0 0 0;\n",
              "      width: 32px;\n",
              "    }\n",
              "\n",
              "    .colab-df-convert:hover {\n",
              "      background-color: #E2EBFA;\n",
              "      box-shadow: 0px 1px 2px rgba(60, 64, 67, 0.3), 0px 1px 3px 1px rgba(60, 64, 67, 0.15);\n",
              "      fill: #174EA6;\n",
              "    }\n",
              "\n",
              "    [theme=dark] .colab-df-convert {\n",
              "      background-color: #3B4455;\n",
              "      fill: #D2E3FC;\n",
              "    }\n",
              "\n",
              "    [theme=dark] .colab-df-convert:hover {\n",
              "      background-color: #434B5C;\n",
              "      box-shadow: 0px 1px 3px 1px rgba(0, 0, 0, 0.15);\n",
              "      filter: drop-shadow(0px 1px 2px rgba(0, 0, 0, 0.3));\n",
              "      fill: #FFFFFF;\n",
              "    }\n",
              "  </style>\n",
              "\n",
              "      <script>\n",
              "        const buttonEl =\n",
              "          document.querySelector('#df-f13ffe1d-f926-4443-9eb3-88500ec00d21 button.colab-df-convert');\n",
              "        buttonEl.style.display =\n",
              "          google.colab.kernel.accessAllowed ? 'block' : 'none';\n",
              "\n",
              "        async function convertToInteractive(key) {\n",
              "          const element = document.querySelector('#df-f13ffe1d-f926-4443-9eb3-88500ec00d21');\n",
              "          const dataTable =\n",
              "            await google.colab.kernel.invokeFunction('convertToInteractive',\n",
              "                                                     [key], {});\n",
              "          if (!dataTable) return;\n",
              "\n",
              "          const docLinkHtml = 'Like what you see? Visit the ' +\n",
              "            '<a target=\"_blank\" href=https://colab.research.google.com/notebooks/data_table.ipynb>data table notebook</a>'\n",
              "            + ' to learn more about interactive tables.';\n",
              "          element.innerHTML = '';\n",
              "          dataTable['output_type'] = 'display_data';\n",
              "          await google.colab.output.renderOutput(dataTable, element);\n",
              "          const docLink = document.createElement('div');\n",
              "          docLink.innerHTML = docLinkHtml;\n",
              "          element.appendChild(docLink);\n",
              "        }\n",
              "      </script>\n",
              "    </div>\n",
              "  </div>\n",
              "  "
            ],
            "text/plain": [
              "                         event_name_count  users_count  part_transit\n",
              "EventName                                                           \n",
              "MainScreenAppear                   117328         7419          1.00\n",
              "OffersScreenAppear                  45385         4482          0.60\n",
              "CartScreenAppear                    41394         3635          0.81\n",
              "PaymentScreenSuccessful             33171         3441          0.95"
            ]
          },
          "metadata": {},
          "execution_count": 46
        }
      ],
      "source": [
        "df_voronka_clear[['event_name_count','users_count','part_transit']]"
      ]
    },
    {
      "cell_type": "markdown",
      "metadata": {
        "id": "l6qW9aWGD4bQ"
      },
      "source": [
        "Можем наблюдать хороший уровень конверсии из просмотра главной страницы в страницу продажи товара (60%). Далее 81% пользователей переходит непосредственно к оплате. НО оплатить получается только у 95% пользователей, что может быть объяснено оплатой нестандартным способом, который не может обеспечить системаприёма платеей приложения. Данная проблема служит потерией 5% платёжеспособны клиентов. Необходимо как-то поправить данный момент."
      ]
    }
  ],
  "metadata": {
    "ExecuteTimeLog": [
      {
        "duration": 1354,
        "start_time": "2021-07-23T19:24:11.275Z"
      },
      {
        "duration": 6,
        "start_time": "2021-07-23T19:24:12.632Z"
      },
      {
        "duration": 21,
        "start_time": "2021-07-23T19:24:12.641Z"
      },
      {
        "duration": 7,
        "start_time": "2021-07-23T19:24:12.664Z"
      },
      {
        "duration": 170,
        "start_time": "2021-07-23T19:24:12.673Z"
      },
      {
        "duration": 31,
        "start_time": "2021-07-23T19:24:12.845Z"
      },
      {
        "duration": 21,
        "start_time": "2021-07-23T19:24:12.878Z"
      },
      {
        "duration": 6,
        "start_time": "2021-07-23T19:24:12.902Z"
      },
      {
        "duration": 118,
        "start_time": "2021-07-23T19:24:12.911Z"
      },
      {
        "duration": 102,
        "start_time": "2021-07-23T19:24:13.032Z"
      },
      {
        "duration": 3,
        "start_time": "2021-07-23T19:24:13.137Z"
      },
      {
        "duration": 59,
        "start_time": "2021-07-23T19:24:13.142Z"
      },
      {
        "duration": 64,
        "start_time": "2021-07-23T19:24:13.204Z"
      },
      {
        "duration": 21,
        "start_time": "2021-07-23T19:24:13.271Z"
      },
      {
        "duration": 14,
        "start_time": "2021-07-23T19:24:13.295Z"
      },
      {
        "duration": 641,
        "start_time": "2021-07-23T19:24:13.311Z"
      },
      {
        "duration": 19,
        "start_time": "2021-07-23T19:24:13.961Z"
      },
      {
        "duration": 51,
        "start_time": "2021-07-23T19:24:13.983Z"
      },
      {
        "duration": 99,
        "start_time": "2021-07-23T19:24:14.037Z"
      },
      {
        "duration": 23,
        "start_time": "2021-07-23T19:24:14.139Z"
      },
      {
        "duration": 12,
        "start_time": "2021-07-23T19:24:14.165Z"
      },
      {
        "duration": 12,
        "start_time": "2021-07-23T19:24:14.180Z"
      },
      {
        "duration": 169,
        "start_time": "2021-07-23T19:24:14.197Z"
      },
      {
        "duration": 16,
        "start_time": "2021-07-23T19:24:14.369Z"
      },
      {
        "duration": 39,
        "start_time": "2021-07-23T19:24:14.387Z"
      },
      {
        "duration": 238,
        "start_time": "2021-07-23T19:24:14.428Z"
      },
      {
        "duration": 3,
        "start_time": "2021-07-23T19:24:14.669Z"
      },
      {
        "duration": 11,
        "start_time": "2021-07-23T19:24:14.674Z"
      },
      {
        "duration": 261,
        "start_time": "2021-07-23T19:24:14.688Z"
      },
      {
        "duration": 201,
        "start_time": "2021-07-23T19:24:14.952Z"
      },
      {
        "duration": 819,
        "start_time": "2021-07-23T19:24:15.155Z"
      },
      {
        "duration": 11,
        "start_time": "2021-07-23T19:24:15.976Z"
      },
      {
        "duration": 52087,
        "start_time": "2021-07-23T19:29:21.010Z"
      },
      {
        "duration": 6,
        "start_time": "2021-07-23T19:40:55.125Z"
      },
      {
        "duration": 8,
        "start_time": "2021-07-23T19:41:24.469Z"
      },
      {
        "duration": 6,
        "start_time": "2021-07-23T19:41:28.927Z"
      },
      {
        "duration": 8541,
        "start_time": "2021-07-23T19:41:42.214Z"
      },
      {
        "duration": 8851,
        "start_time": "2021-07-23T19:42:09.153Z"
      },
      {
        "duration": 7,
        "start_time": "2021-07-23T19:42:19.311Z"
      },
      {
        "duration": 242,
        "start_time": "2021-07-23T19:42:20.313Z"
      },
      {
        "duration": 6,
        "start_time": "2021-07-23T19:44:19.711Z"
      },
      {
        "duration": 227,
        "start_time": "2021-07-23T19:44:42.295Z"
      },
      {
        "duration": 360,
        "start_time": "2021-07-23T19:51:00.057Z"
      },
      {
        "duration": 20,
        "start_time": "2021-07-23T19:51:06.927Z"
      },
      {
        "duration": 352,
        "start_time": "2021-07-23T19:51:14.729Z"
      },
      {
        "duration": 740,
        "start_time": "2021-07-23T19:51:23.990Z"
      },
      {
        "duration": 466,
        "start_time": "2021-07-23T19:51:31.799Z"
      },
      {
        "duration": 319,
        "start_time": "2021-07-23T19:51:50.447Z"
      },
      {
        "duration": 301,
        "start_time": "2021-07-23T19:52:10.934Z"
      },
      {
        "duration": 7,
        "start_time": "2021-07-24T05:41:56.802Z"
      },
      {
        "duration": 767,
        "start_time": "2021-07-24T05:48:43.797Z"
      },
      {
        "duration": 385,
        "start_time": "2021-07-24T05:51:30.085Z"
      },
      {
        "duration": 1872,
        "start_time": "2021-07-24T05:51:40.989Z"
      },
      {
        "duration": 6,
        "start_time": "2021-07-24T05:51:42.864Z"
      },
      {
        "duration": 14,
        "start_time": "2021-07-24T05:51:42.873Z"
      },
      {
        "duration": 13,
        "start_time": "2021-07-24T05:51:42.890Z"
      },
      {
        "duration": 166,
        "start_time": "2021-07-24T05:51:42.906Z"
      },
      {
        "duration": 164,
        "start_time": "2021-07-24T05:51:43.074Z"
      },
      {
        "duration": 186,
        "start_time": "2021-07-24T05:51:46.102Z"
      },
      {
        "duration": 21,
        "start_time": "2021-07-24T05:51:47.993Z"
      },
      {
        "duration": 161,
        "start_time": "2021-07-24T05:52:10.909Z"
      },
      {
        "duration": 1356,
        "start_time": "2021-07-24T05:52:28.406Z"
      },
      {
        "duration": 6,
        "start_time": "2021-07-24T05:52:29.765Z"
      },
      {
        "duration": 17,
        "start_time": "2021-07-24T05:52:29.774Z"
      },
      {
        "duration": 25,
        "start_time": "2021-07-24T05:52:29.793Z"
      },
      {
        "duration": 173,
        "start_time": "2021-07-24T05:52:29.821Z"
      },
      {
        "duration": 165,
        "start_time": "2021-07-24T05:52:29.997Z"
      },
      {
        "duration": 23,
        "start_time": "2021-07-24T05:52:30.164Z"
      },
      {
        "duration": 717,
        "start_time": "2021-07-24T05:52:30.203Z"
      },
      {
        "duration": 21,
        "start_time": "2021-07-24T05:52:30.923Z"
      },
      {
        "duration": 8,
        "start_time": "2021-07-24T05:52:30.948Z"
      },
      {
        "duration": 113,
        "start_time": "2021-07-24T05:52:30.959Z"
      },
      {
        "duration": 95,
        "start_time": "2021-07-24T05:52:31.075Z"
      },
      {
        "duration": 4,
        "start_time": "2021-07-24T05:52:31.173Z"
      },
      {
        "duration": 73,
        "start_time": "2021-07-24T05:52:31.180Z"
      },
      {
        "duration": 89,
        "start_time": "2021-07-24T05:52:31.257Z"
      },
      {
        "duration": 30,
        "start_time": "2021-07-24T05:52:31.349Z"
      },
      {
        "duration": 31,
        "start_time": "2021-07-24T05:52:31.383Z"
      },
      {
        "duration": 626,
        "start_time": "2021-07-24T05:52:31.417Z"
      },
      {
        "duration": 21,
        "start_time": "2021-07-24T05:52:32.045Z"
      },
      {
        "duration": 70,
        "start_time": "2021-07-24T05:52:32.069Z"
      },
      {
        "duration": 89,
        "start_time": "2021-07-24T05:52:32.141Z"
      },
      {
        "duration": 11,
        "start_time": "2021-07-24T05:52:32.232Z"
      },
      {
        "duration": 12,
        "start_time": "2021-07-24T05:52:32.248Z"
      },
      {
        "duration": 39,
        "start_time": "2021-07-24T05:52:32.263Z"
      },
      {
        "duration": 129,
        "start_time": "2021-07-24T05:52:32.304Z"
      },
      {
        "duration": 17,
        "start_time": "2021-07-24T05:52:32.435Z"
      },
      {
        "duration": 61,
        "start_time": "2021-07-24T05:52:32.455Z"
      },
      {
        "duration": 208,
        "start_time": "2021-07-24T05:52:32.519Z"
      },
      {
        "duration": 3,
        "start_time": "2021-07-24T05:52:32.729Z"
      },
      {
        "duration": 10,
        "start_time": "2021-07-24T05:52:32.735Z"
      },
      {
        "duration": 479,
        "start_time": "2021-07-24T05:52:32.747Z"
      },
      {
        "duration": 316,
        "start_time": "2021-07-24T05:52:33.228Z"
      },
      {
        "duration": 762,
        "start_time": "2021-07-24T05:52:33.546Z"
      },
      {
        "duration": 13,
        "start_time": "2021-07-24T05:52:34.311Z"
      },
      {
        "duration": 260,
        "start_time": "2021-07-24T05:53:03.781Z"
      },
      {
        "duration": 496,
        "start_time": "2021-07-24T05:58:31.274Z"
      },
      {
        "duration": 148,
        "start_time": "2021-07-24T05:58:48.024Z"
      },
      {
        "duration": 54,
        "start_time": "2021-07-24T06:05:21.750Z"
      },
      {
        "duration": 14,
        "start_time": "2021-07-24T06:11:00.296Z"
      },
      {
        "duration": 17,
        "start_time": "2021-07-24T06:11:45.325Z"
      },
      {
        "duration": 20,
        "start_time": "2021-07-24T06:11:54.069Z"
      },
      {
        "duration": 15,
        "start_time": "2021-07-24T06:12:11.125Z"
      },
      {
        "duration": 21,
        "start_time": "2021-07-24T06:12:22.799Z"
      },
      {
        "duration": 17,
        "start_time": "2021-07-24T06:12:31.289Z"
      },
      {
        "duration": 15,
        "start_time": "2021-07-24T06:12:53.289Z"
      },
      {
        "duration": 538,
        "start_time": "2021-07-24T06:13:08.102Z"
      },
      {
        "duration": 15,
        "start_time": "2021-07-24T06:13:11.673Z"
      },
      {
        "duration": 14,
        "start_time": "2021-07-24T06:13:35.226Z"
      },
      {
        "duration": 16,
        "start_time": "2021-07-24T06:14:06.146Z"
      },
      {
        "duration": 406,
        "start_time": "2021-07-24T06:14:45.913Z"
      },
      {
        "duration": 386,
        "start_time": "2021-07-24T06:15:01.601Z"
      },
      {
        "duration": 19,
        "start_time": "2021-07-24T06:15:43.347Z"
      },
      {
        "duration": 21,
        "start_time": "2021-07-24T06:15:51.431Z"
      },
      {
        "duration": 24,
        "start_time": "2021-07-24T06:15:55.590Z"
      },
      {
        "duration": 376,
        "start_time": "2021-07-24T06:16:30.483Z"
      },
      {
        "duration": 24,
        "start_time": "2021-07-24T06:17:08.188Z"
      },
      {
        "duration": 161,
        "start_time": "2021-07-24T06:17:23.246Z"
      },
      {
        "duration": 556,
        "start_time": "2021-07-24T06:17:33.152Z"
      },
      {
        "duration": 23,
        "start_time": "2021-07-24T06:18:37.093Z"
      },
      {
        "duration": 530,
        "start_time": "2021-07-24T06:18:53.451Z"
      },
      {
        "duration": 493,
        "start_time": "2021-07-24T06:19:41.417Z"
      },
      {
        "duration": 7,
        "start_time": "2021-07-24T06:29:31.674Z"
      },
      {
        "duration": 20,
        "start_time": "2021-07-24T06:44:03.542Z"
      },
      {
        "duration": 23,
        "start_time": "2021-07-24T06:44:16.446Z"
      },
      {
        "duration": 1325,
        "start_time": "2021-07-24T13:36:25.713Z"
      },
      {
        "duration": 7,
        "start_time": "2021-07-24T13:36:27.040Z"
      },
      {
        "duration": 17,
        "start_time": "2021-07-24T13:36:27.050Z"
      },
      {
        "duration": 5,
        "start_time": "2021-07-24T13:36:27.070Z"
      },
      {
        "duration": 175,
        "start_time": "2021-07-24T13:36:27.077Z"
      },
      {
        "duration": 166,
        "start_time": "2021-07-24T13:36:27.254Z"
      },
      {
        "duration": 21,
        "start_time": "2021-07-24T13:36:27.423Z"
      },
      {
        "duration": 733,
        "start_time": "2021-07-24T13:36:27.447Z"
      },
      {
        "duration": 23,
        "start_time": "2021-07-24T13:36:28.183Z"
      },
      {
        "duration": 7,
        "start_time": "2021-07-24T13:36:28.208Z"
      },
      {
        "duration": 108,
        "start_time": "2021-07-24T13:36:28.219Z"
      },
      {
        "duration": 93,
        "start_time": "2021-07-24T13:36:28.329Z"
      },
      {
        "duration": 3,
        "start_time": "2021-07-24T13:36:28.424Z"
      },
      {
        "duration": 63,
        "start_time": "2021-07-24T13:36:28.429Z"
      },
      {
        "duration": 50,
        "start_time": "2021-07-24T13:36:28.494Z"
      },
      {
        "duration": 38,
        "start_time": "2021-07-24T13:36:28.547Z"
      },
      {
        "duration": 15,
        "start_time": "2021-07-24T13:36:28.587Z"
      },
      {
        "duration": 593,
        "start_time": "2021-07-24T13:36:28.604Z"
      },
      {
        "duration": 15,
        "start_time": "2021-07-24T13:36:29.200Z"
      },
      {
        "duration": 706,
        "start_time": "2021-07-24T13:36:29.217Z"
      },
      {
        "duration": 20,
        "start_time": "2021-07-24T13:36:29.925Z"
      },
      {
        "duration": 65,
        "start_time": "2021-07-24T13:36:29.947Z"
      },
      {
        "duration": 100,
        "start_time": "2021-07-24T13:36:30.017Z"
      },
      {
        "duration": 11,
        "start_time": "2021-07-24T13:36:30.119Z"
      },
      {
        "duration": 23,
        "start_time": "2021-07-24T13:36:30.132Z"
      },
      {
        "duration": 17,
        "start_time": "2021-07-24T13:36:30.158Z"
      },
      {
        "duration": 150,
        "start_time": "2021-07-24T13:36:30.177Z"
      },
      {
        "duration": 18,
        "start_time": "2021-07-24T13:36:30.329Z"
      },
      {
        "duration": 67,
        "start_time": "2021-07-24T13:36:30.349Z"
      },
      {
        "duration": 234,
        "start_time": "2021-07-24T13:36:30.419Z"
      },
      {
        "duration": 3,
        "start_time": "2021-07-24T13:36:30.656Z"
      },
      {
        "duration": 15,
        "start_time": "2021-07-24T13:36:30.668Z"
      },
      {
        "duration": 251,
        "start_time": "2021-07-24T13:36:30.685Z"
      },
      {
        "duration": 197,
        "start_time": "2021-07-24T13:36:30.938Z"
      },
      {
        "duration": 865,
        "start_time": "2021-07-24T13:36:31.137Z"
      },
      {
        "duration": 21,
        "start_time": "2021-07-24T13:36:32.004Z"
      },
      {
        "duration": 15,
        "start_time": "2021-07-24T13:36:32.027Z"
      },
      {
        "duration": 20,
        "start_time": "2021-07-24T13:37:46.260Z"
      },
      {
        "duration": 5,
        "start_time": "2021-07-24T14:24:55.977Z"
      },
      {
        "duration": 10,
        "start_time": "2021-07-24T14:24:55.985Z"
      },
      {
        "duration": 6,
        "start_time": "2021-07-24T14:24:56.000Z"
      },
      {
        "duration": 10,
        "start_time": "2021-07-24T14:24:56.009Z"
      },
      {
        "duration": 211,
        "start_time": "2021-07-24T14:24:56.021Z"
      },
      {
        "duration": 146,
        "start_time": "2021-07-24T14:24:56.234Z"
      },
      {
        "duration": 26,
        "start_time": "2021-07-24T14:24:56.382Z"
      },
      {
        "duration": 85,
        "start_time": "2021-07-24T14:24:56.411Z"
      },
      {
        "duration": 21,
        "start_time": "2021-07-24T14:24:56.500Z"
      },
      {
        "duration": 6,
        "start_time": "2021-07-24T14:24:56.524Z"
      },
      {
        "duration": 105,
        "start_time": "2021-07-24T14:24:56.532Z"
      },
      {
        "duration": 102,
        "start_time": "2021-07-24T14:24:56.639Z"
      },
      {
        "duration": 3,
        "start_time": "2021-07-24T14:24:56.744Z"
      },
      {
        "duration": 63,
        "start_time": "2021-07-24T14:24:56.749Z"
      },
      {
        "duration": 66,
        "start_time": "2021-07-24T14:24:56.814Z"
      },
      {
        "duration": 23,
        "start_time": "2021-07-24T14:24:56.882Z"
      },
      {
        "duration": 16,
        "start_time": "2021-07-24T14:24:56.908Z"
      },
      {
        "duration": 527,
        "start_time": "2021-07-24T14:24:56.926Z"
      },
      {
        "duration": 25,
        "start_time": "2021-07-24T14:24:57.456Z"
      },
      {
        "duration": 623,
        "start_time": "2021-07-24T14:24:57.484Z"
      },
      {
        "duration": 20,
        "start_time": "2021-07-24T14:24:58.111Z"
      },
      {
        "duration": 72,
        "start_time": "2021-07-24T14:24:58.134Z"
      },
      {
        "duration": 103,
        "start_time": "2021-07-24T14:24:58.209Z"
      },
      {
        "duration": 10,
        "start_time": "2021-07-24T14:24:58.315Z"
      },
      {
        "duration": 15,
        "start_time": "2021-07-24T14:24:58.327Z"
      },
      {
        "duration": 38,
        "start_time": "2021-07-24T14:24:58.344Z"
      },
      {
        "duration": 146,
        "start_time": "2021-07-24T14:24:58.387Z"
      },
      {
        "duration": 17,
        "start_time": "2021-07-24T14:24:58.536Z"
      },
      {
        "duration": 40,
        "start_time": "2021-07-24T14:24:58.578Z"
      },
      {
        "duration": 234,
        "start_time": "2021-07-24T14:24:58.620Z"
      },
      {
        "duration": 12,
        "start_time": "2021-07-24T14:24:58.856Z"
      },
      {
        "duration": 9,
        "start_time": "2021-07-24T14:24:58.870Z"
      },
      {
        "duration": 262,
        "start_time": "2021-07-24T14:24:58.881Z"
      },
      {
        "duration": 204,
        "start_time": "2021-07-24T14:24:59.146Z"
      },
      {
        "duration": 864,
        "start_time": "2021-07-24T14:24:59.352Z"
      },
      {
        "duration": 15,
        "start_time": "2021-07-24T14:25:00.218Z"
      },
      {
        "duration": 33,
        "start_time": "2021-07-24T14:25:00.235Z"
      },
      {
        "duration": 5,
        "start_time": "2021-07-24T16:04:50.675Z"
      },
      {
        "duration": 1083,
        "start_time": "2021-07-25T11:02:24.170Z"
      },
      {
        "duration": 4,
        "start_time": "2021-07-25T11:02:25.255Z"
      },
      {
        "duration": 5,
        "start_time": "2021-07-25T11:02:25.261Z"
      },
      {
        "duration": 5,
        "start_time": "2021-07-25T11:02:25.268Z"
      },
      {
        "duration": 125,
        "start_time": "2021-07-25T11:02:25.285Z"
      },
      {
        "duration": 117,
        "start_time": "2021-07-25T11:02:25.412Z"
      },
      {
        "duration": 22,
        "start_time": "2021-07-25T11:02:25.531Z"
      },
      {
        "duration": 317,
        "start_time": "2021-07-25T11:02:25.555Z"
      },
      {
        "duration": 16,
        "start_time": "2021-07-25T11:02:25.875Z"
      },
      {
        "duration": 5,
        "start_time": "2021-07-25T11:02:25.892Z"
      },
      {
        "duration": 60,
        "start_time": "2021-07-25T11:02:25.899Z"
      },
      {
        "duration": 68,
        "start_time": "2021-07-25T11:02:25.961Z"
      },
      {
        "duration": 2,
        "start_time": "2021-07-25T11:02:26.031Z"
      },
      {
        "duration": 52,
        "start_time": "2021-07-25T11:02:26.035Z"
      },
      {
        "duration": 37,
        "start_time": "2021-07-25T11:02:26.088Z"
      },
      {
        "duration": 15,
        "start_time": "2021-07-25T11:02:26.126Z"
      },
      {
        "duration": 11,
        "start_time": "2021-07-25T11:02:26.143Z"
      },
      {
        "duration": 431,
        "start_time": "2021-07-25T11:02:26.156Z"
      },
      {
        "duration": 12,
        "start_time": "2021-07-25T11:02:26.589Z"
      },
      {
        "duration": 376,
        "start_time": "2021-07-25T11:02:26.602Z"
      },
      {
        "duration": 17,
        "start_time": "2021-07-25T11:02:26.980Z"
      },
      {
        "duration": 38,
        "start_time": "2021-07-25T11:02:26.998Z"
      },
      {
        "duration": 75,
        "start_time": "2021-07-25T11:02:27.039Z"
      },
      {
        "duration": 6,
        "start_time": "2021-07-25T11:02:27.116Z"
      },
      {
        "duration": 13,
        "start_time": "2021-07-25T11:02:27.124Z"
      },
      {
        "duration": 17,
        "start_time": "2021-07-25T11:02:27.138Z"
      },
      {
        "duration": 101,
        "start_time": "2021-07-25T11:02:27.157Z"
      },
      {
        "duration": 10,
        "start_time": "2021-07-25T11:02:27.260Z"
      },
      {
        "duration": 39,
        "start_time": "2021-07-25T11:02:27.272Z"
      },
      {
        "duration": 153,
        "start_time": "2021-07-25T11:02:27.313Z"
      },
      {
        "duration": 2,
        "start_time": "2021-07-25T11:02:27.468Z"
      },
      {
        "duration": 19,
        "start_time": "2021-07-25T11:02:27.471Z"
      },
      {
        "duration": 166,
        "start_time": "2021-07-25T11:02:27.491Z"
      },
      {
        "duration": 127,
        "start_time": "2021-07-25T11:02:27.658Z"
      },
      {
        "duration": 553,
        "start_time": "2021-07-25T11:02:27.787Z"
      },
      {
        "duration": 9,
        "start_time": "2021-07-25T11:02:28.342Z"
      },
      {
        "duration": 10,
        "start_time": "2021-07-25T11:02:28.353Z"
      },
      {
        "duration": 20,
        "start_time": "2021-07-25T11:02:28.365Z"
      },
      {
        "duration": 10,
        "start_time": "2021-07-25T11:07:18.864Z"
      },
      {
        "duration": 3,
        "start_time": "2021-07-25T11:08:33.099Z"
      },
      {
        "duration": 5,
        "start_time": "2021-07-25T11:09:13.860Z"
      },
      {
        "duration": 4,
        "start_time": "2021-07-25T11:09:20.613Z"
      },
      {
        "duration": 6,
        "start_time": "2021-07-25T11:10:46.122Z"
      },
      {
        "duration": 7,
        "start_time": "2021-07-25T11:13:03.250Z"
      },
      {
        "duration": 9,
        "start_time": "2021-07-25T11:13:39.111Z"
      },
      {
        "duration": 10,
        "start_time": "2021-07-25T11:13:57.643Z"
      },
      {
        "duration": 4,
        "start_time": "2021-07-25T11:13:59.871Z"
      },
      {
        "duration": 10,
        "start_time": "2021-07-25T11:14:00.183Z"
      },
      {
        "duration": 10,
        "start_time": "2021-07-25T11:14:13.855Z"
      },
      {
        "duration": 9,
        "start_time": "2021-07-25T11:14:17.191Z"
      },
      {
        "duration": 10,
        "start_time": "2021-07-25T11:14:19.187Z"
      },
      {
        "duration": 19,
        "start_time": "2021-07-25T11:14:56.483Z"
      },
      {
        "duration": 9,
        "start_time": "2021-07-25T11:15:00.463Z"
      },
      {
        "duration": 26,
        "start_time": "2021-07-25T11:15:07.720Z"
      },
      {
        "duration": 39,
        "start_time": "2021-07-25T11:15:10.564Z"
      },
      {
        "duration": 37,
        "start_time": "2021-07-25T11:15:27.699Z"
      },
      {
        "duration": 7,
        "start_time": "2021-07-25T11:16:10.872Z"
      },
      {
        "duration": 4,
        "start_time": "2021-07-25T11:17:50.405Z"
      },
      {
        "duration": 978,
        "start_time": "2021-07-25T13:51:34.485Z"
      },
      {
        "duration": 5,
        "start_time": "2021-07-25T13:51:35.465Z"
      },
      {
        "duration": 8,
        "start_time": "2021-07-25T13:51:35.472Z"
      },
      {
        "duration": 17,
        "start_time": "2021-07-25T13:51:35.484Z"
      },
      {
        "duration": 125,
        "start_time": "2021-07-25T13:51:35.503Z"
      },
      {
        "duration": 116,
        "start_time": "2021-07-25T13:51:35.630Z"
      },
      {
        "duration": 15,
        "start_time": "2021-07-25T13:51:35.748Z"
      },
      {
        "duration": 320,
        "start_time": "2021-07-25T13:51:35.766Z"
      },
      {
        "duration": 17,
        "start_time": "2021-07-25T13:51:36.089Z"
      },
      {
        "duration": 5,
        "start_time": "2021-07-25T13:51:36.108Z"
      },
      {
        "duration": 79,
        "start_time": "2021-07-25T13:51:36.115Z"
      },
      {
        "duration": 54,
        "start_time": "2021-07-25T13:51:36.196Z"
      },
      {
        "duration": 3,
        "start_time": "2021-07-25T13:51:36.251Z"
      },
      {
        "duration": 53,
        "start_time": "2021-07-25T13:51:36.255Z"
      },
      {
        "duration": 34,
        "start_time": "2021-07-25T13:51:36.309Z"
      },
      {
        "duration": 15,
        "start_time": "2021-07-25T13:51:36.345Z"
      },
      {
        "duration": 31,
        "start_time": "2021-07-25T13:51:36.362Z"
      },
      {
        "duration": 378,
        "start_time": "2021-07-25T13:51:36.394Z"
      },
      {
        "duration": 13,
        "start_time": "2021-07-25T13:51:36.774Z"
      },
      {
        "duration": 352,
        "start_time": "2021-07-25T13:51:36.789Z"
      },
      {
        "duration": 14,
        "start_time": "2021-07-25T13:51:37.143Z"
      },
      {
        "duration": 54,
        "start_time": "2021-07-25T13:51:37.159Z"
      },
      {
        "duration": 51,
        "start_time": "2021-07-25T13:51:37.216Z"
      },
      {
        "duration": 19,
        "start_time": "2021-07-25T13:51:37.269Z"
      },
      {
        "duration": 9,
        "start_time": "2021-07-25T13:51:37.290Z"
      },
      {
        "duration": 8,
        "start_time": "2021-07-25T13:51:37.300Z"
      },
      {
        "duration": 102,
        "start_time": "2021-07-25T13:51:37.309Z"
      },
      {
        "duration": 10,
        "start_time": "2021-07-25T13:51:37.412Z"
      },
      {
        "duration": 28,
        "start_time": "2021-07-25T13:51:37.424Z"
      },
      {
        "duration": 155,
        "start_time": "2021-07-25T13:51:37.454Z"
      },
      {
        "duration": 2,
        "start_time": "2021-07-25T13:51:37.611Z"
      },
      {
        "duration": 6,
        "start_time": "2021-07-25T13:51:37.615Z"
      },
      {
        "duration": 176,
        "start_time": "2021-07-25T13:51:37.623Z"
      },
      {
        "duration": 126,
        "start_time": "2021-07-25T13:51:37.801Z"
      },
      {
        "duration": 566,
        "start_time": "2021-07-25T13:51:37.929Z"
      },
      {
        "duration": 9,
        "start_time": "2021-07-25T13:51:38.497Z"
      },
      {
        "duration": 9,
        "start_time": "2021-07-25T13:51:38.508Z"
      },
      {
        "duration": 7,
        "start_time": "2021-07-25T13:51:38.519Z"
      },
      {
        "duration": 31,
        "start_time": "2021-07-25T13:51:38.529Z"
      },
      {
        "duration": 60,
        "start_time": "2021-07-25T13:51:38.562Z"
      },
      {
        "duration": 7,
        "start_time": "2021-07-25T13:51:38.624Z"
      },
      {
        "duration": 6,
        "start_time": "2021-07-25T13:51:38.632Z"
      },
      {
        "duration": 9,
        "start_time": "2021-07-25T13:51:38.640Z"
      },
      {
        "duration": 1122,
        "start_time": "2021-07-26T10:28:00.591Z"
      },
      {
        "duration": 5,
        "start_time": "2021-07-26T10:28:01.714Z"
      },
      {
        "duration": 6,
        "start_time": "2021-07-26T10:28:01.720Z"
      },
      {
        "duration": 6,
        "start_time": "2021-07-26T10:28:01.728Z"
      },
      {
        "duration": 119,
        "start_time": "2021-07-26T10:28:01.741Z"
      },
      {
        "duration": 113,
        "start_time": "2021-07-26T10:28:01.862Z"
      },
      {
        "duration": 16,
        "start_time": "2021-07-26T10:28:01.976Z"
      },
      {
        "duration": 587,
        "start_time": "2021-07-26T10:28:01.994Z"
      },
      {
        "duration": 16,
        "start_time": "2021-07-26T10:28:02.583Z"
      },
      {
        "duration": 5,
        "start_time": "2021-07-26T10:28:02.600Z"
      },
      {
        "duration": 71,
        "start_time": "2021-07-26T10:28:02.607Z"
      },
      {
        "duration": 50,
        "start_time": "2021-07-26T10:28:02.679Z"
      },
      {
        "duration": 10,
        "start_time": "2021-07-26T10:28:02.731Z"
      },
      {
        "duration": 36,
        "start_time": "2021-07-26T10:28:02.743Z"
      },
      {
        "duration": 35,
        "start_time": "2021-07-26T10:28:02.781Z"
      },
      {
        "duration": 32,
        "start_time": "2021-07-26T10:28:02.817Z"
      },
      {
        "duration": 11,
        "start_time": "2021-07-26T10:28:02.850Z"
      },
      {
        "duration": 398,
        "start_time": "2021-07-26T10:28:02.862Z"
      },
      {
        "duration": 13,
        "start_time": "2021-07-26T10:28:03.263Z"
      },
      {
        "duration": 352,
        "start_time": "2021-07-26T10:28:03.277Z"
      },
      {
        "duration": 21,
        "start_time": "2021-07-26T10:28:03.631Z"
      },
      {
        "duration": 36,
        "start_time": "2021-07-26T10:28:03.654Z"
      },
      {
        "duration": 73,
        "start_time": "2021-07-26T10:28:03.693Z"
      },
      {
        "duration": 7,
        "start_time": "2021-07-26T10:28:03.769Z"
      },
      {
        "duration": 9,
        "start_time": "2021-07-26T10:28:03.778Z"
      },
      {
        "duration": 11,
        "start_time": "2021-07-26T10:28:03.789Z"
      },
      {
        "duration": 102,
        "start_time": "2021-07-26T10:28:03.802Z"
      },
      {
        "duration": 11,
        "start_time": "2021-07-26T10:28:03.906Z"
      },
      {
        "duration": 57,
        "start_time": "2021-07-26T10:28:03.919Z"
      },
      {
        "duration": 236,
        "start_time": "2021-07-26T10:28:03.978Z"
      },
      {
        "duration": 4,
        "start_time": "2021-07-26T10:28:04.216Z"
      },
      {
        "duration": 6,
        "start_time": "2021-07-26T10:28:04.221Z"
      },
      {
        "duration": 180,
        "start_time": "2021-07-26T10:28:04.228Z"
      },
      {
        "duration": 136,
        "start_time": "2021-07-26T10:28:04.410Z"
      },
      {
        "duration": 556,
        "start_time": "2021-07-26T10:28:04.547Z"
      },
      {
        "duration": 11,
        "start_time": "2021-07-26T10:28:05.105Z"
      },
      {
        "duration": 23,
        "start_time": "2021-07-26T10:28:05.118Z"
      },
      {
        "duration": 14,
        "start_time": "2021-07-26T10:28:05.142Z"
      },
      {
        "duration": 25,
        "start_time": "2021-07-26T10:28:05.158Z"
      },
      {
        "duration": 41,
        "start_time": "2021-07-26T10:28:05.185Z"
      },
      {
        "duration": 17,
        "start_time": "2021-07-26T10:28:05.228Z"
      },
      {
        "duration": 12,
        "start_time": "2021-07-26T10:28:05.247Z"
      },
      {
        "duration": 12,
        "start_time": "2021-07-26T10:28:05.261Z"
      },
      {
        "duration": 76,
        "start_time": "2021-07-26T10:30:04.842Z"
      },
      {
        "duration": 54,
        "start_time": "2021-07-26T10:30:11.700Z"
      },
      {
        "duration": 1004,
        "start_time": "2021-07-26T10:30:22.720Z"
      },
      {
        "duration": 55,
        "start_time": "2021-07-26T10:30:25.995Z"
      },
      {
        "duration": 52,
        "start_time": "2021-07-26T10:30:46.508Z"
      },
      {
        "duration": 56,
        "start_time": "2021-07-26T10:30:49.981Z"
      },
      {
        "duration": 85,
        "start_time": "2021-07-26T10:32:22.724Z"
      },
      {
        "duration": 1028,
        "start_time": "2021-07-26T10:32:33.809Z"
      },
      {
        "duration": 5,
        "start_time": "2021-07-26T10:32:34.840Z"
      },
      {
        "duration": 5,
        "start_time": "2021-07-26T10:32:34.848Z"
      },
      {
        "duration": 6,
        "start_time": "2021-07-26T10:32:34.855Z"
      },
      {
        "duration": 121,
        "start_time": "2021-07-26T10:32:34.863Z"
      },
      {
        "duration": 109,
        "start_time": "2021-07-26T10:32:34.986Z"
      },
      {
        "duration": 17,
        "start_time": "2021-07-26T10:32:35.097Z"
      },
      {
        "duration": 727,
        "start_time": "2021-07-26T10:32:35.115Z"
      },
      {
        "duration": 26,
        "start_time": "2021-07-26T10:32:35.846Z"
      },
      {
        "duration": 4,
        "start_time": "2021-07-26T10:32:35.874Z"
      },
      {
        "duration": 69,
        "start_time": "2021-07-26T10:32:35.880Z"
      },
      {
        "duration": 51,
        "start_time": "2021-07-26T10:32:35.951Z"
      },
      {
        "duration": 2,
        "start_time": "2021-07-26T10:32:36.004Z"
      },
      {
        "duration": 57,
        "start_time": "2021-07-26T10:32:36.007Z"
      },
      {
        "duration": 34,
        "start_time": "2021-07-26T10:32:36.065Z"
      },
      {
        "duration": 15,
        "start_time": "2021-07-26T10:32:36.101Z"
      },
      {
        "duration": 29,
        "start_time": "2021-07-26T10:32:36.118Z"
      },
      {
        "duration": 423,
        "start_time": "2021-07-26T10:32:36.148Z"
      },
      {
        "duration": 10,
        "start_time": "2021-07-26T10:32:36.573Z"
      },
      {
        "duration": 338,
        "start_time": "2021-07-26T10:32:36.584Z"
      },
      {
        "duration": 23,
        "start_time": "2021-07-26T10:32:36.924Z"
      },
      {
        "duration": 38,
        "start_time": "2021-07-26T10:32:36.948Z"
      },
      {
        "duration": 73,
        "start_time": "2021-07-26T10:32:36.988Z"
      },
      {
        "duration": 7,
        "start_time": "2021-07-26T10:32:37.063Z"
      },
      {
        "duration": 9,
        "start_time": "2021-07-26T10:32:37.071Z"
      },
      {
        "duration": 8,
        "start_time": "2021-07-26T10:32:37.082Z"
      },
      {
        "duration": 96,
        "start_time": "2021-07-26T10:32:37.093Z"
      },
      {
        "duration": 11,
        "start_time": "2021-07-26T10:32:37.191Z"
      },
      {
        "duration": 42,
        "start_time": "2021-07-26T10:32:37.204Z"
      },
      {
        "duration": 155,
        "start_time": "2021-07-26T10:32:37.248Z"
      },
      {
        "duration": 2,
        "start_time": "2021-07-26T10:32:37.405Z"
      },
      {
        "duration": 6,
        "start_time": "2021-07-26T10:32:37.409Z"
      },
      {
        "duration": 168,
        "start_time": "2021-07-26T10:32:37.417Z"
      },
      {
        "duration": 130,
        "start_time": "2021-07-26T10:32:37.587Z"
      },
      {
        "duration": 546,
        "start_time": "2021-07-26T10:32:37.719Z"
      },
      {
        "duration": 13,
        "start_time": "2021-07-26T10:32:38.267Z"
      },
      {
        "duration": 9,
        "start_time": "2021-07-26T10:32:38.281Z"
      },
      {
        "duration": 6,
        "start_time": "2021-07-26T10:32:38.292Z"
      },
      {
        "duration": 76,
        "start_time": "2021-07-26T10:32:38.300Z"
      },
      {
        "duration": 8,
        "start_time": "2021-07-26T10:32:38.378Z"
      },
      {
        "duration": 6,
        "start_time": "2021-07-26T10:32:38.388Z"
      },
      {
        "duration": 10,
        "start_time": "2021-07-26T10:32:38.395Z"
      },
      {
        "duration": 7,
        "start_time": "2021-07-26T10:32:52.015Z"
      },
      {
        "duration": 57,
        "start_time": "2021-07-26T10:33:16.657Z"
      },
      {
        "duration": 56,
        "start_time": "2021-07-26T10:33:35.511Z"
      },
      {
        "duration": 64,
        "start_time": "2021-07-26T10:33:50.102Z"
      },
      {
        "duration": 62,
        "start_time": "2021-07-26T10:33:59.110Z"
      },
      {
        "duration": 60,
        "start_time": "2021-07-26T10:34:32.504Z"
      },
      {
        "duration": 59,
        "start_time": "2021-07-26T10:34:44.920Z"
      },
      {
        "duration": 9,
        "start_time": "2021-07-26T10:34:48.924Z"
      },
      {
        "duration": 62,
        "start_time": "2021-07-26T10:35:30.540Z"
      },
      {
        "duration": 64,
        "start_time": "2021-07-26T10:35:44.978Z"
      },
      {
        "duration": 81,
        "start_time": "2021-07-26T10:36:48.136Z"
      },
      {
        "duration": 86,
        "start_time": "2021-07-26T10:39:58.940Z"
      },
      {
        "duration": 350,
        "start_time": "2021-07-26T10:40:03.781Z"
      },
      {
        "duration": 5,
        "start_time": "2021-07-26T10:40:09.647Z"
      },
      {
        "duration": 4,
        "start_time": "2021-07-26T10:41:19.134Z"
      },
      {
        "duration": 260,
        "start_time": "2021-07-26T10:43:20.127Z"
      },
      {
        "duration": 2,
        "start_time": "2021-07-26T10:45:07.588Z"
      },
      {
        "duration": 4,
        "start_time": "2021-07-26T10:45:11.385Z"
      },
      {
        "duration": 6,
        "start_time": "2021-07-26T10:45:13.734Z"
      },
      {
        "duration": 3,
        "start_time": "2021-07-26T10:45:59.808Z"
      },
      {
        "duration": 4,
        "start_time": "2021-07-26T10:46:00.139Z"
      },
      {
        "duration": 306,
        "start_time": "2021-07-26T10:51:29.702Z"
      },
      {
        "duration": 5,
        "start_time": "2021-07-26T10:51:57.329Z"
      },
      {
        "duration": 8903,
        "start_time": "2021-07-26T10:51:57.351Z"
      },
      {
        "duration": 5,
        "start_time": "2021-07-26T10:52:23.319Z"
      },
      {
        "duration": 14976,
        "start_time": "2021-07-26T10:52:25.054Z"
      },
      {
        "duration": 330,
        "start_time": "2021-07-26T10:53:06.802Z"
      },
      {
        "duration": 384,
        "start_time": "2021-07-26T10:53:20.992Z"
      },
      {
        "duration": 355,
        "start_time": "2021-07-26T10:53:21.022Z"
      },
      {
        "duration": 5,
        "start_time": "2021-07-26T10:53:27.629Z"
      },
      {
        "duration": 12658,
        "start_time": "2021-07-26T10:53:28.504Z"
      },
      {
        "duration": 4,
        "start_time": "2021-07-26T10:54:26.553Z"
      },
      {
        "duration": 9583,
        "start_time": "2021-07-26T10:54:27.344Z"
      },
      {
        "duration": 6,
        "start_time": "2021-07-26T10:55:33.849Z"
      },
      {
        "duration": 17,
        "start_time": "2021-07-26T10:55:34.922Z"
      },
      {
        "duration": 5,
        "start_time": "2021-07-26T10:56:38.110Z"
      },
      {
        "duration": 15,
        "start_time": "2021-07-26T10:56:38.476Z"
      },
      {
        "duration": 5,
        "start_time": "2021-07-26T10:59:14.238Z"
      },
      {
        "duration": 16,
        "start_time": "2021-07-26T10:59:14.497Z"
      },
      {
        "duration": 15,
        "start_time": "2021-07-26T10:59:51.602Z"
      },
      {
        "duration": 8,
        "start_time": "2021-07-26T11:01:11.237Z"
      },
      {
        "duration": 1038,
        "start_time": "2021-07-26T11:01:27.463Z"
      },
      {
        "duration": 697,
        "start_time": "2021-07-26T11:01:37.940Z"
      },
      {
        "duration": 7,
        "start_time": "2021-07-26T11:02:31.762Z"
      },
      {
        "duration": 90,
        "start_time": "2021-07-26T11:03:23.695Z"
      },
      {
        "duration": 100,
        "start_time": "2021-07-26T11:03:36.575Z"
      },
      {
        "duration": 91,
        "start_time": "2021-07-26T11:03:40.054Z"
      },
      {
        "duration": 276,
        "start_time": "2021-07-26T11:03:55.005Z"
      },
      {
        "duration": 13,
        "start_time": "2021-07-26T11:04:57.552Z"
      },
      {
        "duration": 13,
        "start_time": "2021-07-26T11:06:00.620Z"
      },
      {
        "duration": 15,
        "start_time": "2021-07-26T11:06:02.509Z"
      },
      {
        "duration": 94,
        "start_time": "2021-07-26T11:06:35.786Z"
      },
      {
        "duration": 95,
        "start_time": "2021-07-26T11:06:51.825Z"
      },
      {
        "duration": 78,
        "start_time": "2021-07-26T11:07:11.584Z"
      },
      {
        "duration": 7,
        "start_time": "2021-07-26T11:07:16.312Z"
      },
      {
        "duration": 7,
        "start_time": "2021-07-26T11:07:52.751Z"
      },
      {
        "duration": 274,
        "start_time": "2021-07-26T11:09:16.454Z"
      },
      {
        "duration": 19,
        "start_time": "2021-07-26T11:09:38.472Z"
      },
      {
        "duration": 16,
        "start_time": "2021-07-26T11:10:05.811Z"
      },
      {
        "duration": 10,
        "start_time": "2021-07-26T11:10:35.610Z"
      },
      {
        "duration": 15,
        "start_time": "2021-07-26T11:10:37.489Z"
      },
      {
        "duration": 989,
        "start_time": "2021-07-26T11:10:53.958Z"
      },
      {
        "duration": 4,
        "start_time": "2021-07-26T11:10:54.949Z"
      },
      {
        "duration": 11,
        "start_time": "2021-07-26T11:10:54.955Z"
      },
      {
        "duration": 7,
        "start_time": "2021-07-26T11:10:54.968Z"
      },
      {
        "duration": 118,
        "start_time": "2021-07-26T11:10:54.976Z"
      },
      {
        "duration": 105,
        "start_time": "2021-07-26T11:10:55.096Z"
      },
      {
        "duration": 15,
        "start_time": "2021-07-26T11:10:55.203Z"
      },
      {
        "duration": 566,
        "start_time": "2021-07-26T11:10:55.219Z"
      },
      {
        "duration": 16,
        "start_time": "2021-07-26T11:10:55.788Z"
      },
      {
        "duration": 4,
        "start_time": "2021-07-26T11:10:55.806Z"
      },
      {
        "duration": 72,
        "start_time": "2021-07-26T11:10:55.811Z"
      },
      {
        "duration": 59,
        "start_time": "2021-07-26T11:10:55.884Z"
      },
      {
        "duration": 2,
        "start_time": "2021-07-26T11:10:55.945Z"
      },
      {
        "duration": 38,
        "start_time": "2021-07-26T11:10:55.948Z"
      },
      {
        "duration": 34,
        "start_time": "2021-07-26T11:10:55.988Z"
      },
      {
        "duration": 31,
        "start_time": "2021-07-26T11:10:56.023Z"
      },
      {
        "duration": 11,
        "start_time": "2021-07-26T11:10:56.056Z"
      },
      {
        "duration": 383,
        "start_time": "2021-07-26T11:10:56.069Z"
      },
      {
        "duration": 10,
        "start_time": "2021-07-26T11:10:56.454Z"
      },
      {
        "duration": 349,
        "start_time": "2021-07-26T11:10:56.466Z"
      },
      {
        "duration": 13,
        "start_time": "2021-07-26T11:10:56.817Z"
      },
      {
        "duration": 41,
        "start_time": "2021-07-26T11:10:56.832Z"
      },
      {
        "duration": 54,
        "start_time": "2021-07-26T11:10:56.874Z"
      },
      {
        "duration": 7,
        "start_time": "2021-07-26T11:10:56.941Z"
      },
      {
        "duration": 16,
        "start_time": "2021-07-26T11:10:56.949Z"
      },
      {
        "duration": 26,
        "start_time": "2021-07-26T11:10:56.967Z"
      },
      {
        "duration": 81,
        "start_time": "2021-07-26T11:10:56.996Z"
      },
      {
        "duration": 10,
        "start_time": "2021-07-26T11:10:57.079Z"
      },
      {
        "duration": 37,
        "start_time": "2021-07-26T11:10:57.090Z"
      },
      {
        "duration": 143,
        "start_time": "2021-07-26T11:10:57.128Z"
      },
      {
        "duration": 2,
        "start_time": "2021-07-26T11:10:57.273Z"
      },
      {
        "duration": 8,
        "start_time": "2021-07-26T11:10:57.276Z"
      },
      {
        "duration": 177,
        "start_time": "2021-07-26T11:10:57.286Z"
      },
      {
        "duration": 129,
        "start_time": "2021-07-26T11:10:57.464Z"
      },
      {
        "duration": 556,
        "start_time": "2021-07-26T11:10:57.595Z"
      },
      {
        "duration": 12,
        "start_time": "2021-07-26T11:10:58.152Z"
      },
      {
        "duration": 2,
        "start_time": "2021-07-26T11:10:58.166Z"
      },
      {
        "duration": 96,
        "start_time": "2021-07-26T11:10:58.170Z"
      },
      {
        "duration": 3,
        "start_time": "2021-07-26T11:10:58.268Z"
      },
      {
        "duration": 5,
        "start_time": "2021-07-26T11:10:58.273Z"
      },
      {
        "duration": 19,
        "start_time": "2021-07-26T11:10:58.280Z"
      },
      {
        "duration": 41,
        "start_time": "2021-07-26T11:10:58.301Z"
      },
      {
        "duration": 9,
        "start_time": "2021-07-26T11:10:58.344Z"
      },
      {
        "duration": 1041,
        "start_time": "2021-07-26T11:11:20.360Z"
      },
      {
        "duration": 4,
        "start_time": "2021-07-26T11:11:21.403Z"
      },
      {
        "duration": 16,
        "start_time": "2021-07-26T11:11:21.409Z"
      },
      {
        "duration": 27,
        "start_time": "2021-07-26T11:11:21.427Z"
      },
      {
        "duration": 129,
        "start_time": "2021-07-26T11:11:21.456Z"
      },
      {
        "duration": 106,
        "start_time": "2021-07-26T11:11:21.586Z"
      },
      {
        "duration": 14,
        "start_time": "2021-07-26T11:11:21.694Z"
      },
      {
        "duration": 550,
        "start_time": "2021-07-26T11:11:21.710Z"
      },
      {
        "duration": 15,
        "start_time": "2021-07-26T11:11:22.263Z"
      },
      {
        "duration": 4,
        "start_time": "2021-07-26T11:11:22.280Z"
      },
      {
        "duration": 64,
        "start_time": "2021-07-26T11:11:22.286Z"
      },
      {
        "duration": 51,
        "start_time": "2021-07-26T11:11:22.351Z"
      },
      {
        "duration": 2,
        "start_time": "2021-07-26T11:11:22.404Z"
      },
      {
        "duration": 52,
        "start_time": "2021-07-26T11:11:22.407Z"
      },
      {
        "duration": 34,
        "start_time": "2021-07-26T11:11:22.460Z"
      },
      {
        "duration": 15,
        "start_time": "2021-07-26T11:11:22.495Z"
      },
      {
        "duration": 30,
        "start_time": "2021-07-26T11:11:22.511Z"
      },
      {
        "duration": 405,
        "start_time": "2021-07-26T11:11:22.543Z"
      },
      {
        "duration": 11,
        "start_time": "2021-07-26T11:11:22.949Z"
      },
      {
        "duration": 333,
        "start_time": "2021-07-26T11:11:22.961Z"
      },
      {
        "duration": 13,
        "start_time": "2021-07-26T11:11:23.296Z"
      },
      {
        "duration": 49,
        "start_time": "2021-07-26T11:11:23.311Z"
      },
      {
        "duration": 54,
        "start_time": "2021-07-26T11:11:23.362Z"
      },
      {
        "duration": 7,
        "start_time": "2021-07-26T11:11:23.417Z"
      },
      {
        "duration": 8,
        "start_time": "2021-07-26T11:11:23.441Z"
      },
      {
        "duration": 21,
        "start_time": "2021-07-26T11:11:23.451Z"
      },
      {
        "duration": 85,
        "start_time": "2021-07-26T11:11:23.475Z"
      },
      {
        "duration": 10,
        "start_time": "2021-07-26T11:11:23.563Z"
      },
      {
        "duration": 36,
        "start_time": "2021-07-26T11:11:23.574Z"
      },
      {
        "duration": 141,
        "start_time": "2021-07-26T11:11:23.611Z"
      },
      {
        "duration": 2,
        "start_time": "2021-07-26T11:11:23.754Z"
      },
      {
        "duration": 7,
        "start_time": "2021-07-26T11:11:23.757Z"
      },
      {
        "duration": 175,
        "start_time": "2021-07-26T11:11:23.766Z"
      },
      {
        "duration": 130,
        "start_time": "2021-07-26T11:11:23.943Z"
      },
      {
        "duration": 558,
        "start_time": "2021-07-26T11:11:24.075Z"
      },
      {
        "duration": 12,
        "start_time": "2021-07-26T11:11:24.634Z"
      },
      {
        "duration": 2,
        "start_time": "2021-07-26T11:11:24.648Z"
      },
      {
        "duration": 88,
        "start_time": "2021-07-26T11:11:24.652Z"
      },
      {
        "duration": 2,
        "start_time": "2021-07-26T11:11:24.742Z"
      },
      {
        "duration": 13,
        "start_time": "2021-07-26T11:11:24.746Z"
      },
      {
        "duration": 22,
        "start_time": "2021-07-26T11:11:24.761Z"
      },
      {
        "duration": 10,
        "start_time": "2021-07-26T11:11:24.784Z"
      },
      {
        "duration": 39,
        "start_time": "2021-07-26T11:11:24.795Z"
      },
      {
        "duration": 8,
        "start_time": "2021-07-26T11:11:24.835Z"
      },
      {
        "duration": 5,
        "start_time": "2021-07-26T11:11:36.051Z"
      },
      {
        "duration": 15,
        "start_time": "2021-07-26T11:12:00.873Z"
      },
      {
        "duration": 15,
        "start_time": "2021-07-26T11:12:16.373Z"
      },
      {
        "duration": 15,
        "start_time": "2021-07-26T11:12:39.806Z"
      },
      {
        "duration": 8,
        "start_time": "2021-07-26T11:13:36.904Z"
      },
      {
        "duration": 1061,
        "start_time": "2021-07-26T11:14:37.313Z"
      },
      {
        "duration": 6,
        "start_time": "2021-07-26T11:14:38.376Z"
      },
      {
        "duration": 29,
        "start_time": "2021-07-26T11:14:38.384Z"
      },
      {
        "duration": 20,
        "start_time": "2021-07-26T11:14:38.415Z"
      },
      {
        "duration": 130,
        "start_time": "2021-07-26T11:14:38.437Z"
      },
      {
        "duration": 114,
        "start_time": "2021-07-26T11:14:38.568Z"
      },
      {
        "duration": 15,
        "start_time": "2021-07-26T11:14:38.684Z"
      },
      {
        "duration": 976,
        "start_time": "2021-07-26T11:14:38.701Z"
      },
      {
        "duration": 15,
        "start_time": "2021-07-26T11:14:39.680Z"
      },
      {
        "duration": 13,
        "start_time": "2021-07-26T11:14:39.697Z"
      },
      {
        "duration": 63,
        "start_time": "2021-07-26T11:14:39.711Z"
      },
      {
        "duration": 50,
        "start_time": "2021-07-26T11:14:39.776Z"
      },
      {
        "duration": 13,
        "start_time": "2021-07-26T11:14:39.828Z"
      },
      {
        "duration": 38,
        "start_time": "2021-07-26T11:14:39.842Z"
      },
      {
        "duration": 34,
        "start_time": "2021-07-26T11:14:39.882Z"
      },
      {
        "duration": 35,
        "start_time": "2021-07-26T11:14:39.918Z"
      },
      {
        "duration": 10,
        "start_time": "2021-07-26T11:14:39.955Z"
      },
      {
        "duration": 349,
        "start_time": "2021-07-26T11:14:39.967Z"
      },
      {
        "duration": 10,
        "start_time": "2021-07-26T11:14:40.318Z"
      },
      {
        "duration": 335,
        "start_time": "2021-07-26T11:14:40.329Z"
      },
      {
        "duration": 14,
        "start_time": "2021-07-26T11:14:40.665Z"
      },
      {
        "duration": 35,
        "start_time": "2021-07-26T11:14:40.680Z"
      },
      {
        "duration": 74,
        "start_time": "2021-07-26T11:14:40.718Z"
      },
      {
        "duration": 7,
        "start_time": "2021-07-26T11:14:40.794Z"
      },
      {
        "duration": 10,
        "start_time": "2021-07-26T11:14:40.803Z"
      },
      {
        "duration": 27,
        "start_time": "2021-07-26T11:14:40.814Z"
      },
      {
        "duration": 83,
        "start_time": "2021-07-26T11:14:40.843Z"
      },
      {
        "duration": 20,
        "start_time": "2021-07-26T11:14:40.928Z"
      },
      {
        "duration": 33,
        "start_time": "2021-07-26T11:14:40.949Z"
      },
      {
        "duration": 152,
        "start_time": "2021-07-26T11:14:40.984Z"
      },
      {
        "duration": 2,
        "start_time": "2021-07-26T11:14:41.138Z"
      },
      {
        "duration": 32,
        "start_time": "2021-07-26T11:14:41.142Z"
      },
      {
        "duration": 185,
        "start_time": "2021-07-26T11:14:41.176Z"
      },
      {
        "duration": 129,
        "start_time": "2021-07-26T11:14:41.363Z"
      },
      {
        "duration": 564,
        "start_time": "2021-07-26T11:14:41.494Z"
      },
      {
        "duration": 12,
        "start_time": "2021-07-26T11:14:42.060Z"
      },
      {
        "duration": 3,
        "start_time": "2021-07-26T11:14:42.074Z"
      },
      {
        "duration": 95,
        "start_time": "2021-07-26T11:14:42.079Z"
      },
      {
        "duration": 3,
        "start_time": "2021-07-26T11:14:42.175Z"
      },
      {
        "duration": 5,
        "start_time": "2021-07-26T11:14:42.180Z"
      },
      {
        "duration": 17,
        "start_time": "2021-07-26T11:14:42.187Z"
      },
      {
        "duration": 5,
        "start_time": "2021-07-26T11:14:42.206Z"
      },
      {
        "duration": 39,
        "start_time": "2021-07-26T11:14:42.213Z"
      },
      {
        "duration": 17,
        "start_time": "2021-07-26T11:14:42.255Z"
      },
      {
        "duration": 17,
        "start_time": "2021-07-26T11:14:42.274Z"
      },
      {
        "duration": 10,
        "start_time": "2021-07-26T11:14:42.293Z"
      },
      {
        "duration": 8,
        "start_time": "2021-07-26T11:14:42.304Z"
      },
      {
        "duration": 336,
        "start_time": "2021-07-26T11:56:53.244Z"
      },
      {
        "duration": 353,
        "start_time": "2021-07-26T11:57:23.209Z"
      },
      {
        "duration": 1074,
        "start_time": "2021-07-26T11:58:43.446Z"
      },
      {
        "duration": 5,
        "start_time": "2021-07-26T11:58:44.521Z"
      },
      {
        "duration": 12,
        "start_time": "2021-07-26T11:58:44.528Z"
      },
      {
        "duration": 3,
        "start_time": "2021-07-26T11:58:44.543Z"
      },
      {
        "duration": 129,
        "start_time": "2021-07-26T11:58:44.548Z"
      },
      {
        "duration": 115,
        "start_time": "2021-07-26T11:58:44.678Z"
      },
      {
        "duration": 16,
        "start_time": "2021-07-26T11:58:44.795Z"
      },
      {
        "duration": 569,
        "start_time": "2021-07-26T11:58:44.813Z"
      },
      {
        "duration": 21,
        "start_time": "2021-07-26T11:58:45.385Z"
      },
      {
        "duration": 4,
        "start_time": "2021-07-26T11:58:45.408Z"
      },
      {
        "duration": 72,
        "start_time": "2021-07-26T11:58:45.414Z"
      },
      {
        "duration": 66,
        "start_time": "2021-07-26T11:58:45.488Z"
      },
      {
        "duration": 2,
        "start_time": "2021-07-26T11:58:45.556Z"
      },
      {
        "duration": 37,
        "start_time": "2021-07-26T11:58:45.560Z"
      },
      {
        "duration": 48,
        "start_time": "2021-07-26T11:58:45.598Z"
      },
      {
        "duration": 16,
        "start_time": "2021-07-26T11:58:45.647Z"
      },
      {
        "duration": 12,
        "start_time": "2021-07-26T11:58:45.664Z"
      },
      {
        "duration": 412,
        "start_time": "2021-07-26T11:58:45.677Z"
      },
      {
        "duration": 10,
        "start_time": "2021-07-26T11:58:46.091Z"
      },
      {
        "duration": 343,
        "start_time": "2021-07-26T11:58:46.102Z"
      },
      {
        "duration": 14,
        "start_time": "2021-07-26T11:58:46.447Z"
      },
      {
        "duration": 35,
        "start_time": "2021-07-26T11:58:46.463Z"
      },
      {
        "duration": 75,
        "start_time": "2021-07-26T11:58:46.501Z"
      },
      {
        "duration": 6,
        "start_time": "2021-07-26T11:58:46.578Z"
      },
      {
        "duration": 11,
        "start_time": "2021-07-26T11:58:46.586Z"
      },
      {
        "duration": 9,
        "start_time": "2021-07-26T11:58:46.599Z"
      },
      {
        "duration": 100,
        "start_time": "2021-07-26T11:58:46.609Z"
      },
      {
        "duration": 11,
        "start_time": "2021-07-26T11:58:46.711Z"
      },
      {
        "duration": 42,
        "start_time": "2021-07-26T11:58:46.723Z"
      },
      {
        "duration": 150,
        "start_time": "2021-07-26T11:58:46.767Z"
      },
      {
        "duration": 2,
        "start_time": "2021-07-26T11:58:46.919Z"
      },
      {
        "duration": 7,
        "start_time": "2021-07-26T11:58:46.923Z"
      },
      {
        "duration": 183,
        "start_time": "2021-07-26T11:58:46.931Z"
      },
      {
        "duration": 131,
        "start_time": "2021-07-26T11:58:47.116Z"
      },
      {
        "duration": 572,
        "start_time": "2021-07-26T11:58:47.249Z"
      },
      {
        "duration": 17,
        "start_time": "2021-07-26T11:58:47.823Z"
      },
      {
        "duration": 2,
        "start_time": "2021-07-26T11:58:47.841Z"
      },
      {
        "duration": 93,
        "start_time": "2021-07-26T11:58:47.845Z"
      },
      {
        "duration": 2,
        "start_time": "2021-07-26T11:58:47.940Z"
      },
      {
        "duration": 5,
        "start_time": "2021-07-26T11:58:47.943Z"
      },
      {
        "duration": 16,
        "start_time": "2021-07-26T11:58:47.950Z"
      },
      {
        "duration": 10,
        "start_time": "2021-07-26T11:58:47.967Z"
      },
      {
        "duration": 18,
        "start_time": "2021-07-26T11:58:47.978Z"
      },
      {
        "duration": 14,
        "start_time": "2021-07-26T11:58:47.998Z"
      },
      {
        "duration": 37,
        "start_time": "2021-07-26T11:58:48.014Z"
      },
      {
        "duration": 11,
        "start_time": "2021-07-26T11:58:48.053Z"
      },
      {
        "duration": 12,
        "start_time": "2021-07-26T11:58:48.065Z"
      },
      {
        "duration": 1319,
        "start_time": "2021-07-27T05:19:48.309Z"
      },
      {
        "duration": 8,
        "start_time": "2021-07-27T05:19:49.631Z"
      },
      {
        "duration": 6,
        "start_time": "2021-07-27T05:19:49.642Z"
      },
      {
        "duration": 5,
        "start_time": "2021-07-27T05:19:49.651Z"
      },
      {
        "duration": 174,
        "start_time": "2021-07-27T05:19:49.658Z"
      },
      {
        "duration": 153,
        "start_time": "2021-07-27T05:19:49.834Z"
      },
      {
        "duration": 22,
        "start_time": "2021-07-27T05:19:49.989Z"
      },
      {
        "duration": 58529,
        "start_time": "2021-07-27T05:19:50.016Z"
      },
      {
        "duration": 33,
        "start_time": "2021-07-27T05:20:48.549Z"
      },
      {
        "duration": 6,
        "start_time": "2021-07-27T05:20:48.585Z"
      },
      {
        "duration": 97,
        "start_time": "2021-07-27T05:20:48.594Z"
      },
      {
        "duration": 74,
        "start_time": "2021-07-27T05:20:48.694Z"
      },
      {
        "duration": 13,
        "start_time": "2021-07-27T05:20:48.770Z"
      },
      {
        "duration": 53,
        "start_time": "2021-07-27T05:20:48.786Z"
      },
      {
        "duration": 63,
        "start_time": "2021-07-27T05:20:48.842Z"
      },
      {
        "duration": 21,
        "start_time": "2021-07-27T05:20:48.908Z"
      },
      {
        "duration": 16,
        "start_time": "2021-07-27T05:20:48.931Z"
      },
      {
        "duration": 537,
        "start_time": "2021-07-27T05:20:48.950Z"
      },
      {
        "duration": 16,
        "start_time": "2021-07-27T05:20:49.491Z"
      },
      {
        "duration": 583,
        "start_time": "2021-07-27T05:20:49.510Z"
      },
      {
        "duration": 20,
        "start_time": "2021-07-27T05:20:50.096Z"
      },
      {
        "duration": 80,
        "start_time": "2021-07-27T05:20:50.119Z"
      },
      {
        "duration": 193,
        "start_time": "2021-07-27T05:20:50.206Z"
      },
      {
        "duration": 11,
        "start_time": "2021-07-27T05:20:50.403Z"
      },
      {
        "duration": 15,
        "start_time": "2021-07-27T05:20:50.417Z"
      },
      {
        "duration": 20,
        "start_time": "2021-07-27T05:20:50.435Z"
      },
      {
        "duration": 136,
        "start_time": "2021-07-27T05:20:50.458Z"
      },
      {
        "duration": 21,
        "start_time": "2021-07-27T05:20:50.596Z"
      },
      {
        "duration": 65,
        "start_time": "2021-07-27T05:20:50.620Z"
      },
      {
        "duration": 201,
        "start_time": "2021-07-27T05:20:50.687Z"
      },
      {
        "duration": 3,
        "start_time": "2021-07-27T05:20:50.890Z"
      },
      {
        "duration": 12,
        "start_time": "2021-07-27T05:20:50.895Z"
      },
      {
        "duration": 252,
        "start_time": "2021-07-27T05:20:50.909Z"
      },
      {
        "duration": 181,
        "start_time": "2021-07-27T05:20:51.163Z"
      },
      {
        "duration": 758,
        "start_time": "2021-07-27T05:20:51.346Z"
      },
      {
        "duration": 15,
        "start_time": "2021-07-27T05:20:52.106Z"
      },
      {
        "duration": 3,
        "start_time": "2021-07-27T05:20:52.124Z"
      },
      {
        "duration": 130,
        "start_time": "2021-07-27T05:20:52.129Z"
      },
      {
        "duration": 3,
        "start_time": "2021-07-27T05:20:52.261Z"
      },
      {
        "duration": 17,
        "start_time": "2021-07-27T05:20:52.266Z"
      },
      {
        "duration": 26,
        "start_time": "2021-07-27T05:20:52.286Z"
      },
      {
        "duration": 32,
        "start_time": "2021-07-27T05:20:52.314Z"
      },
      {
        "duration": 38,
        "start_time": "2021-07-27T05:20:52.348Z"
      },
      {
        "duration": 22,
        "start_time": "2021-07-27T05:20:52.388Z"
      },
      {
        "duration": 37,
        "start_time": "2021-07-27T05:20:52.413Z"
      },
      {
        "duration": 25,
        "start_time": "2021-07-27T05:20:52.453Z"
      },
      {
        "duration": 21,
        "start_time": "2021-07-27T05:20:52.483Z"
      },
      {
        "duration": 5,
        "start_time": "2021-07-27T06:16:32.209Z"
      },
      {
        "duration": 218,
        "start_time": "2021-07-27T06:17:17.188Z"
      },
      {
        "duration": 106,
        "start_time": "2021-07-27T06:17:30.389Z"
      },
      {
        "duration": 203,
        "start_time": "2021-07-27T06:18:12.569Z"
      },
      {
        "duration": 7,
        "start_time": "2021-07-27T06:27:35.849Z"
      },
      {
        "duration": 28,
        "start_time": "2021-07-27T06:27:39.648Z"
      },
      {
        "duration": 10,
        "start_time": "2021-07-27T06:28:08.090Z"
      },
      {
        "duration": 31,
        "start_time": "2021-07-27T06:28:09.569Z"
      },
      {
        "duration": 29,
        "start_time": "2021-07-27T06:28:45.029Z"
      },
      {
        "duration": 40,
        "start_time": "2021-07-27T06:28:52.371Z"
      },
      {
        "duration": 28,
        "start_time": "2021-07-27T06:28:57.588Z"
      },
      {
        "duration": 7,
        "start_time": "2021-07-27T06:29:08.089Z"
      },
      {
        "duration": 25,
        "start_time": "2021-07-27T06:29:08.468Z"
      },
      {
        "duration": 1096,
        "start_time": "2021-07-27T08:22:10.315Z"
      },
      {
        "duration": 4,
        "start_time": "2021-07-27T08:22:11.413Z"
      },
      {
        "duration": 10,
        "start_time": "2021-07-27T08:22:11.419Z"
      },
      {
        "duration": 7,
        "start_time": "2021-07-27T08:22:11.430Z"
      },
      {
        "duration": 116,
        "start_time": "2021-07-27T08:22:11.441Z"
      },
      {
        "duration": 107,
        "start_time": "2021-07-27T08:22:11.558Z"
      },
      {
        "duration": 3,
        "start_time": "2021-07-27T08:22:11.666Z"
      },
      {
        "duration": 23,
        "start_time": "2021-07-27T08:22:11.670Z"
      },
      {
        "duration": 564,
        "start_time": "2021-07-27T08:22:11.696Z"
      },
      {
        "duration": 16,
        "start_time": "2021-07-27T08:22:12.262Z"
      },
      {
        "duration": 4,
        "start_time": "2021-07-27T08:22:12.279Z"
      },
      {
        "duration": 69,
        "start_time": "2021-07-27T08:22:12.285Z"
      },
      {
        "duration": 51,
        "start_time": "2021-07-27T08:22:12.356Z"
      },
      {
        "duration": 2,
        "start_time": "2021-07-27T08:22:12.409Z"
      },
      {
        "duration": 51,
        "start_time": "2021-07-27T08:22:12.412Z"
      },
      {
        "duration": 34,
        "start_time": "2021-07-27T08:22:12.464Z"
      },
      {
        "duration": 15,
        "start_time": "2021-07-27T08:22:12.500Z"
      },
      {
        "duration": 29,
        "start_time": "2021-07-27T08:22:12.517Z"
      },
      {
        "duration": 376,
        "start_time": "2021-07-27T08:22:12.548Z"
      },
      {
        "duration": 16,
        "start_time": "2021-07-27T08:22:12.925Z"
      },
      {
        "duration": 332,
        "start_time": "2021-07-27T08:22:12.942Z"
      },
      {
        "duration": 14,
        "start_time": "2021-07-27T08:22:13.275Z"
      },
      {
        "duration": 53,
        "start_time": "2021-07-27T08:22:13.291Z"
      },
      {
        "duration": 55,
        "start_time": "2021-07-27T08:22:13.345Z"
      },
      {
        "duration": 7,
        "start_time": "2021-07-27T08:22:13.401Z"
      },
      {
        "duration": 9,
        "start_time": "2021-07-27T08:22:13.409Z"
      },
      {
        "duration": 21,
        "start_time": "2021-07-27T08:22:13.421Z"
      },
      {
        "duration": 88,
        "start_time": "2021-07-27T08:22:13.444Z"
      },
      {
        "duration": 16,
        "start_time": "2021-07-27T08:22:13.533Z"
      },
      {
        "duration": 30,
        "start_time": "2021-07-27T08:22:13.551Z"
      },
      {
        "duration": 168,
        "start_time": "2021-07-27T08:22:13.583Z"
      },
      {
        "duration": 2,
        "start_time": "2021-07-27T08:22:13.752Z"
      },
      {
        "duration": 6,
        "start_time": "2021-07-27T08:22:13.756Z"
      },
      {
        "duration": 172,
        "start_time": "2021-07-27T08:22:13.764Z"
      },
      {
        "duration": 132,
        "start_time": "2021-07-27T08:22:13.938Z"
      },
      {
        "duration": 554,
        "start_time": "2021-07-27T08:22:14.071Z"
      },
      {
        "duration": 19,
        "start_time": "2021-07-27T08:22:14.627Z"
      },
      {
        "duration": 2,
        "start_time": "2021-07-27T08:22:14.647Z"
      },
      {
        "duration": 89,
        "start_time": "2021-07-27T08:22:14.651Z"
      },
      {
        "duration": 2,
        "start_time": "2021-07-27T08:22:14.742Z"
      },
      {
        "duration": 9,
        "start_time": "2021-07-27T08:22:14.746Z"
      },
      {
        "duration": 20,
        "start_time": "2021-07-27T08:22:14.756Z"
      },
      {
        "duration": 13,
        "start_time": "2021-07-27T08:22:14.778Z"
      },
      {
        "duration": 23,
        "start_time": "2021-07-27T08:22:14.793Z"
      },
      {
        "duration": 14,
        "start_time": "2021-07-27T08:22:14.818Z"
      },
      {
        "duration": 15,
        "start_time": "2021-07-27T08:22:14.841Z"
      },
      {
        "duration": 16,
        "start_time": "2021-07-27T08:22:14.858Z"
      },
      {
        "duration": 11,
        "start_time": "2021-07-27T08:22:14.875Z"
      },
      {
        "duration": 5,
        "start_time": "2021-07-27T08:31:22.247Z"
      },
      {
        "duration": 15,
        "start_time": "2021-07-27T08:31:29.563Z"
      },
      {
        "duration": 18,
        "start_time": "2021-07-27T08:31:35.317Z"
      },
      {
        "duration": 18,
        "start_time": "2021-07-27T08:31:37.593Z"
      },
      {
        "duration": 16,
        "start_time": "2021-07-27T08:32:35.726Z"
      },
      {
        "duration": 1043,
        "start_time": "2021-07-27T08:32:47.373Z"
      },
      {
        "duration": 5,
        "start_time": "2021-07-27T08:32:48.418Z"
      },
      {
        "duration": 5,
        "start_time": "2021-07-27T08:32:48.425Z"
      },
      {
        "duration": 16,
        "start_time": "2021-07-27T08:32:48.432Z"
      },
      {
        "duration": 118,
        "start_time": "2021-07-27T08:32:48.450Z"
      },
      {
        "duration": 110,
        "start_time": "2021-07-27T08:32:48.570Z"
      },
      {
        "duration": 3,
        "start_time": "2021-07-27T08:32:48.681Z"
      },
      {
        "duration": 18,
        "start_time": "2021-07-27T08:32:48.686Z"
      },
      {
        "duration": 550,
        "start_time": "2021-07-27T08:32:48.707Z"
      },
      {
        "duration": 15,
        "start_time": "2021-07-27T08:32:49.259Z"
      },
      {
        "duration": 4,
        "start_time": "2021-07-27T08:32:49.276Z"
      },
      {
        "duration": 70,
        "start_time": "2021-07-27T08:32:49.282Z"
      },
      {
        "duration": 54,
        "start_time": "2021-07-27T08:32:49.354Z"
      },
      {
        "duration": 2,
        "start_time": "2021-07-27T08:32:49.410Z"
      },
      {
        "duration": 49,
        "start_time": "2021-07-27T08:32:49.414Z"
      },
      {
        "duration": 34,
        "start_time": "2021-07-27T08:32:49.464Z"
      },
      {
        "duration": 15,
        "start_time": "2021-07-27T08:32:49.499Z"
      },
      {
        "duration": 26,
        "start_time": "2021-07-27T08:32:49.516Z"
      },
      {
        "duration": 378,
        "start_time": "2021-07-27T08:32:49.544Z"
      },
      {
        "duration": 17,
        "start_time": "2021-07-27T08:32:49.924Z"
      },
      {
        "duration": 345,
        "start_time": "2021-07-27T08:32:49.943Z"
      },
      {
        "duration": 16,
        "start_time": "2021-07-27T08:32:50.289Z"
      },
      {
        "duration": 54,
        "start_time": "2021-07-27T08:32:50.307Z"
      },
      {
        "duration": 56,
        "start_time": "2021-07-27T08:32:50.364Z"
      },
      {
        "duration": 19,
        "start_time": "2021-07-27T08:32:50.422Z"
      },
      {
        "duration": 7,
        "start_time": "2021-07-27T08:32:50.443Z"
      },
      {
        "duration": 7,
        "start_time": "2021-07-27T08:32:50.454Z"
      },
      {
        "duration": 102,
        "start_time": "2021-07-27T08:32:50.463Z"
      },
      {
        "duration": 10,
        "start_time": "2021-07-27T08:32:50.567Z"
      },
      {
        "duration": 31,
        "start_time": "2021-07-27T08:32:50.578Z"
      },
      {
        "duration": 155,
        "start_time": "2021-07-27T08:32:50.611Z"
      },
      {
        "duration": 2,
        "start_time": "2021-07-27T08:32:50.767Z"
      },
      {
        "duration": 10,
        "start_time": "2021-07-27T08:32:50.771Z"
      },
      {
        "duration": 171,
        "start_time": "2021-07-27T08:32:50.782Z"
      },
      {
        "duration": 131,
        "start_time": "2021-07-27T08:32:50.955Z"
      },
      {
        "duration": 555,
        "start_time": "2021-07-27T08:32:51.088Z"
      },
      {
        "duration": 11,
        "start_time": "2021-07-27T08:32:51.644Z"
      },
      {
        "duration": 2,
        "start_time": "2021-07-27T08:32:51.657Z"
      },
      {
        "duration": 90,
        "start_time": "2021-07-27T08:32:51.660Z"
      },
      {
        "duration": 2,
        "start_time": "2021-07-27T08:32:51.751Z"
      },
      {
        "duration": 8,
        "start_time": "2021-07-27T08:32:51.755Z"
      },
      {
        "duration": 22,
        "start_time": "2021-07-27T08:32:51.765Z"
      },
      {
        "duration": 8,
        "start_time": "2021-07-27T08:32:51.788Z"
      },
      {
        "duration": 23,
        "start_time": "2021-07-27T08:32:51.797Z"
      },
      {
        "duration": 23,
        "start_time": "2021-07-27T08:32:51.822Z"
      },
      {
        "duration": 15,
        "start_time": "2021-07-27T08:32:51.847Z"
      },
      {
        "duration": 32,
        "start_time": "2021-07-27T08:32:51.864Z"
      },
      {
        "duration": 14,
        "start_time": "2021-07-27T08:32:51.898Z"
      },
      {
        "duration": 16,
        "start_time": "2021-07-27T08:32:51.914Z"
      },
      {
        "duration": 15,
        "start_time": "2021-07-27T08:33:14.532Z"
      },
      {
        "duration": 16,
        "start_time": "2021-07-27T08:33:23.794Z"
      },
      {
        "duration": 16,
        "start_time": "2021-07-27T08:33:34.642Z"
      },
      {
        "duration": 15,
        "start_time": "2021-07-27T08:33:40.153Z"
      },
      {
        "duration": 7,
        "start_time": "2021-07-27T08:37:32.146Z"
      },
      {
        "duration": 15,
        "start_time": "2021-07-27T08:37:41.365Z"
      },
      {
        "duration": 15,
        "start_time": "2021-07-27T08:37:52.681Z"
      },
      {
        "duration": 18,
        "start_time": "2021-07-27T08:40:32.450Z"
      },
      {
        "duration": 8,
        "start_time": "2021-07-27T09:38:56.533Z"
      },
      {
        "duration": 57,
        "start_time": "2021-07-27T09:40:30.855Z"
      },
      {
        "duration": 10,
        "start_time": "2021-07-27T09:41:40.830Z"
      },
      {
        "duration": 10,
        "start_time": "2021-07-27T09:43:46.328Z"
      },
      {
        "duration": 10,
        "start_time": "2021-07-27T09:44:53.274Z"
      },
      {
        "duration": 13,
        "start_time": "2021-07-27T09:46:21.743Z"
      },
      {
        "duration": 20,
        "start_time": "2021-07-27T09:46:32.926Z"
      },
      {
        "duration": 4934,
        "start_time": "2021-07-27T09:47:38.343Z"
      },
      {
        "duration": 5237,
        "start_time": "2021-07-27T09:47:56.898Z"
      },
      {
        "duration": 20,
        "start_time": "2021-07-27T09:48:07.365Z"
      },
      {
        "duration": 22,
        "start_time": "2021-07-27T09:48:25.121Z"
      },
      {
        "duration": 28,
        "start_time": "2021-07-27T09:48:32.936Z"
      },
      {
        "duration": 26,
        "start_time": "2021-07-27T09:48:46.715Z"
      },
      {
        "duration": 30,
        "start_time": "2021-07-27T09:49:25.844Z"
      },
      {
        "duration": 30,
        "start_time": "2021-07-27T09:50:15.329Z"
      },
      {
        "duration": 31,
        "start_time": "2021-07-27T09:50:20.531Z"
      },
      {
        "duration": 29,
        "start_time": "2021-07-27T09:50:22.669Z"
      },
      {
        "duration": 33,
        "start_time": "2021-07-27T09:51:00.080Z"
      },
      {
        "duration": 35,
        "start_time": "2021-07-27T09:51:07.130Z"
      },
      {
        "duration": 36,
        "start_time": "2021-07-27T09:51:17.757Z"
      },
      {
        "duration": 34,
        "start_time": "2021-07-27T09:51:21.593Z"
      },
      {
        "duration": 34,
        "start_time": "2021-07-27T09:51:25.949Z"
      },
      {
        "duration": 30,
        "start_time": "2021-07-27T09:51:36.693Z"
      },
      {
        "duration": 32,
        "start_time": "2021-07-27T09:51:41.695Z"
      },
      {
        "duration": 34,
        "start_time": "2021-07-27T09:51:49.064Z"
      },
      {
        "duration": 32,
        "start_time": "2021-07-27T09:51:54.409Z"
      },
      {
        "duration": 31,
        "start_time": "2021-07-27T09:52:02.006Z"
      },
      {
        "duration": 1030,
        "start_time": "2021-07-28T05:23:06.561Z"
      },
      {
        "duration": 4,
        "start_time": "2021-07-28T05:23:07.593Z"
      },
      {
        "duration": 14,
        "start_time": "2021-07-28T05:23:07.599Z"
      },
      {
        "duration": 12,
        "start_time": "2021-07-28T05:23:07.615Z"
      },
      {
        "duration": 114,
        "start_time": "2021-07-28T05:23:07.628Z"
      },
      {
        "duration": 108,
        "start_time": "2021-07-28T05:23:07.743Z"
      },
      {
        "duration": 3,
        "start_time": "2021-07-28T05:23:07.853Z"
      },
      {
        "duration": 16,
        "start_time": "2021-07-28T05:23:07.858Z"
      },
      {
        "duration": 39743,
        "start_time": "2021-07-28T05:23:07.876Z"
      },
      {
        "duration": 14,
        "start_time": "2021-07-28T05:23:47.621Z"
      },
      {
        "duration": 4,
        "start_time": "2021-07-28T05:23:47.637Z"
      },
      {
        "duration": 66,
        "start_time": "2021-07-28T05:23:47.642Z"
      },
      {
        "duration": 49,
        "start_time": "2021-07-28T05:23:47.709Z"
      },
      {
        "duration": 2,
        "start_time": "2021-07-28T05:23:47.760Z"
      },
      {
        "duration": 47,
        "start_time": "2021-07-28T05:23:47.763Z"
      },
      {
        "duration": 31,
        "start_time": "2021-07-28T05:23:47.811Z"
      },
      {
        "duration": 15,
        "start_time": "2021-07-28T05:23:47.843Z"
      },
      {
        "duration": 10,
        "start_time": "2021-07-28T05:23:47.859Z"
      },
      {
        "duration": 366,
        "start_time": "2021-07-28T05:23:47.891Z"
      },
      {
        "duration": 12,
        "start_time": "2021-07-28T05:23:48.259Z"
      },
      {
        "duration": 323,
        "start_time": "2021-07-28T05:23:48.272Z"
      },
      {
        "duration": 13,
        "start_time": "2021-07-28T05:23:48.596Z"
      },
      {
        "duration": 33,
        "start_time": "2021-07-28T05:23:48.613Z"
      },
      {
        "duration": 158,
        "start_time": "2021-07-28T05:23:48.648Z"
      },
      {
        "duration": 5,
        "start_time": "2021-07-28T05:23:48.808Z"
      },
      {
        "duration": 8,
        "start_time": "2021-07-28T05:23:48.815Z"
      },
      {
        "duration": 10,
        "start_time": "2021-07-28T05:23:48.825Z"
      },
      {
        "duration": 86,
        "start_time": "2021-07-28T05:23:48.837Z"
      },
      {
        "duration": 9,
        "start_time": "2021-07-28T05:23:48.925Z"
      },
      {
        "duration": 30,
        "start_time": "2021-07-28T05:23:48.936Z"
      },
      {
        "duration": 136,
        "start_time": "2021-07-28T05:23:48.968Z"
      },
      {
        "duration": 2,
        "start_time": "2021-07-28T05:23:49.105Z"
      },
      {
        "duration": 8,
        "start_time": "2021-07-28T05:23:49.108Z"
      },
      {
        "duration": 164,
        "start_time": "2021-07-28T05:23:49.117Z"
      },
      {
        "duration": 118,
        "start_time": "2021-07-28T05:23:49.282Z"
      },
      {
        "duration": 548,
        "start_time": "2021-07-28T05:23:49.401Z"
      },
      {
        "duration": 11,
        "start_time": "2021-07-28T05:23:49.950Z"
      },
      {
        "duration": 2,
        "start_time": "2021-07-28T05:23:49.963Z"
      },
      {
        "duration": 85,
        "start_time": "2021-07-28T05:23:49.967Z"
      },
      {
        "duration": 2,
        "start_time": "2021-07-28T05:23:50.053Z"
      },
      {
        "duration": 6,
        "start_time": "2021-07-28T05:23:50.057Z"
      },
      {
        "duration": 15,
        "start_time": "2021-07-28T05:23:50.064Z"
      },
      {
        "duration": 4,
        "start_time": "2021-07-28T05:23:50.091Z"
      },
      {
        "duration": 16,
        "start_time": "2021-07-28T05:23:50.097Z"
      },
      {
        "duration": 14,
        "start_time": "2021-07-28T05:23:50.114Z"
      },
      {
        "duration": 14,
        "start_time": "2021-07-28T05:23:50.129Z"
      },
      {
        "duration": 14,
        "start_time": "2021-07-28T05:23:50.144Z"
      },
      {
        "duration": 34,
        "start_time": "2021-07-28T05:23:50.160Z"
      },
      {
        "duration": 29,
        "start_time": "2021-07-28T05:23:50.195Z"
      },
      {
        "duration": 6,
        "start_time": "2021-07-28T05:23:50.226Z"
      }
    ],
    "colab": {
      "collapsed_sections": [],
      "name": "Копия блокнота \"4. A_A_B_test_buy_eat.ipynb\"",
      "provenance": [],
      "toc_visible": true
    },
    "kernelspec": {
      "display_name": "Python 3",
      "language": "python",
      "name": "python3"
    },
    "language_info": {
      "codemirror_mode": {
        "name": "ipython",
        "version": 3
      },
      "file_extension": ".py",
      "mimetype": "text/x-python",
      "name": "python",
      "nbconvert_exporter": "python",
      "pygments_lexer": "ipython3",
      "version": "3.7.8"
    },
    "toc": {
      "base_numbering": 1,
      "nav_menu": {},
      "number_sections": true,
      "sideBar": true,
      "skip_h1_title": true,
      "title_cell": "Table of Contents",
      "title_sidebar": "Contents",
      "toc_cell": false,
      "toc_position": {
        "height": "calc(100% - 180px)",
        "left": "10px",
        "top": "150px",
        "width": "366.391px"
      },
      "toc_section_display": true,
      "toc_window_display": true
    }
  },
  "nbformat": 4,
  "nbformat_minor": 0
}