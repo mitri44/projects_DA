{
  "nbformat": 4,
  "nbformat_minor": 0,
  "metadata": {
    "ExecuteTimeLog": [
      {
        "duration": 1423,
        "start_time": "2021-09-16T06:04:45.178Z"
      },
      {
        "duration": 18,
        "start_time": "2021-09-16T06:04:46.604Z"
      },
      {
        "duration": 9,
        "start_time": "2021-09-16T06:04:46.626Z"
      },
      {
        "duration": 13,
        "start_time": "2021-09-16T06:04:46.638Z"
      },
      {
        "duration": 34,
        "start_time": "2021-09-16T06:04:46.654Z"
      },
      {
        "duration": 13,
        "start_time": "2021-09-16T06:04:46.691Z"
      },
      {
        "duration": 1137,
        "start_time": "2021-09-16T06:04:46.707Z"
      },
      {
        "duration": 20,
        "start_time": "2021-09-16T06:04:47.848Z"
      },
      {
        "duration": 28,
        "start_time": "2021-09-16T06:04:47.884Z"
      },
      {
        "duration": 6,
        "start_time": "2021-09-16T06:04:47.914Z"
      },
      {
        "duration": 18,
        "start_time": "2021-09-16T06:04:47.923Z"
      },
      {
        "duration": 43,
        "start_time": "2021-09-16T06:04:47.943Z"
      },
      {
        "duration": 18,
        "start_time": "2021-09-16T06:04:47.989Z"
      },
      {
        "duration": 13,
        "start_time": "2021-09-16T06:04:48.010Z"
      },
      {
        "duration": 32,
        "start_time": "2021-09-16T06:04:48.026Z"
      },
      {
        "duration": 35,
        "start_time": "2021-09-16T06:04:48.061Z"
      },
      {
        "duration": 3,
        "start_time": "2021-09-16T06:04:48.099Z"
      },
      {
        "duration": 24,
        "start_time": "2021-09-16T06:04:48.104Z"
      },
      {
        "duration": 36,
        "start_time": "2021-09-16T06:04:48.130Z"
      },
      {
        "duration": 42,
        "start_time": "2021-09-16T06:04:48.168Z"
      },
      {
        "duration": 116,
        "start_time": "2021-09-16T06:04:48.213Z"
      },
      {
        "duration": 67,
        "start_time": "2021-09-16T06:04:48.332Z"
      },
      {
        "duration": 3,
        "start_time": "2021-09-16T06:04:48.406Z"
      },
      {
        "duration": 26,
        "start_time": "2021-09-16T06:04:48.413Z"
      },
      {
        "duration": 9,
        "start_time": "2021-09-16T06:04:48.441Z"
      },
      {
        "duration": 18,
        "start_time": "2021-09-16T06:04:48.483Z"
      },
      {
        "duration": 10,
        "start_time": "2021-09-16T06:04:48.503Z"
      },
      {
        "duration": 13,
        "start_time": "2021-09-16T06:04:48.515Z"
      },
      {
        "duration": 729,
        "start_time": "2021-09-16T06:04:48.530Z"
      },
      {
        "duration": 10,
        "start_time": "2021-09-16T06:04:49.261Z"
      },
      {
        "duration": 24,
        "start_time": "2021-09-16T06:04:49.283Z"
      },
      {
        "duration": 59,
        "start_time": "2021-09-16T06:04:49.309Z"
      },
      {
        "duration": 66,
        "start_time": "2021-09-16T06:04:49.371Z"
      },
      {
        "duration": 14,
        "start_time": "2021-09-16T06:04:49.440Z"
      },
      {
        "duration": 495,
        "start_time": "2021-09-16T06:04:49.457Z"
      },
      {
        "duration": -525,
        "start_time": "2021-09-16T06:04:50.481Z"
      },
      {
        "duration": -533,
        "start_time": "2021-09-16T06:04:50.491Z"
      },
      {
        "duration": -536,
        "start_time": "2021-09-16T06:04:50.496Z"
      },
      {
        "duration": -539,
        "start_time": "2021-09-16T06:04:50.500Z"
      },
      {
        "duration": -541,
        "start_time": "2021-09-16T06:04:50.504Z"
      },
      {
        "duration": -543,
        "start_time": "2021-09-16T06:04:50.507Z"
      },
      {
        "duration": -545,
        "start_time": "2021-09-16T06:04:50.511Z"
      },
      {
        "duration": -545,
        "start_time": "2021-09-16T06:04:50.513Z"
      },
      {
        "duration": -547,
        "start_time": "2021-09-16T06:04:50.516Z"
      },
      {
        "duration": -548,
        "start_time": "2021-09-16T06:04:50.519Z"
      },
      {
        "duration": -549,
        "start_time": "2021-09-16T06:04:50.521Z"
      },
      {
        "duration": -549,
        "start_time": "2021-09-16T06:04:50.523Z"
      },
      {
        "duration": -551,
        "start_time": "2021-09-16T06:04:50.526Z"
      },
      {
        "duration": -551,
        "start_time": "2021-09-16T06:04:50.528Z"
      },
      {
        "duration": -553,
        "start_time": "2021-09-16T06:04:50.531Z"
      },
      {
        "duration": -553,
        "start_time": "2021-09-16T06:04:50.533Z"
      },
      {
        "duration": -553,
        "start_time": "2021-09-16T06:04:50.535Z"
      },
      {
        "duration": -555,
        "start_time": "2021-09-16T06:04:50.538Z"
      },
      {
        "duration": -556,
        "start_time": "2021-09-16T06:04:50.541Z"
      },
      {
        "duration": -557,
        "start_time": "2021-09-16T06:04:50.543Z"
      },
      {
        "duration": -557,
        "start_time": "2021-09-16T06:04:50.545Z"
      },
      {
        "duration": -557,
        "start_time": "2021-09-16T06:04:50.547Z"
      },
      {
        "duration": -559,
        "start_time": "2021-09-16T06:04:50.550Z"
      },
      {
        "duration": -559,
        "start_time": "2021-09-16T06:04:50.552Z"
      },
      {
        "duration": -560,
        "start_time": "2021-09-16T06:04:50.554Z"
      },
      {
        "duration": -560,
        "start_time": "2021-09-16T06:04:50.556Z"
      },
      {
        "duration": -561,
        "start_time": "2021-09-16T06:04:50.559Z"
      },
      {
        "duration": -562,
        "start_time": "2021-09-16T06:04:50.561Z"
      },
      {
        "duration": -562,
        "start_time": "2021-09-16T06:04:50.563Z"
      },
      {
        "duration": -563,
        "start_time": "2021-09-16T06:04:50.565Z"
      },
      {
        "duration": -598,
        "start_time": "2021-09-16T06:04:50.602Z"
      },
      {
        "duration": -599,
        "start_time": "2021-09-16T06:04:50.604Z"
      },
      {
        "duration": -600,
        "start_time": "2021-09-16T06:04:50.607Z"
      },
      {
        "duration": -601,
        "start_time": "2021-09-16T06:04:50.609Z"
      },
      {
        "duration": -602,
        "start_time": "2021-09-16T06:04:50.612Z"
      },
      {
        "duration": -603,
        "start_time": "2021-09-16T06:04:50.614Z"
      },
      {
        "duration": -604,
        "start_time": "2021-09-16T06:04:50.616Z"
      },
      {
        "duration": -604,
        "start_time": "2021-09-16T06:04:50.618Z"
      },
      {
        "duration": -606,
        "start_time": "2021-09-16T06:04:50.621Z"
      },
      {
        "duration": -607,
        "start_time": "2021-09-16T06:04:50.624Z"
      },
      {
        "duration": -607,
        "start_time": "2021-09-16T06:04:50.626Z"
      },
      {
        "duration": -609,
        "start_time": "2021-09-16T06:04:50.629Z"
      },
      {
        "duration": -551,
        "start_time": "2021-09-16T06:04:50.632Z"
      },
      {
        "duration": -551,
        "start_time": "2021-09-16T06:04:50.634Z"
      },
      {
        "duration": -551,
        "start_time": "2021-09-16T06:04:50.636Z"
      },
      {
        "duration": -550,
        "start_time": "2021-09-16T06:04:50.639Z"
      },
      {
        "duration": -551,
        "start_time": "2021-09-16T06:04:50.641Z"
      },
      {
        "duration": -551,
        "start_time": "2021-09-16T06:04:50.643Z"
      },
      {
        "duration": -552,
        "start_time": "2021-09-16T06:04:50.646Z"
      },
      {
        "duration": -553,
        "start_time": "2021-09-16T06:04:50.648Z"
      },
      {
        "duration": -554,
        "start_time": "2021-09-16T06:04:50.651Z"
      },
      {
        "duration": -554,
        "start_time": "2021-09-16T06:04:50.653Z"
      },
      {
        "duration": 10326,
        "start_time": "2021-09-16T06:06:07.949Z"
      },
      {
        "duration": 4431,
        "start_time": "2021-09-16T06:06:27.685Z"
      },
      {
        "duration": 1525,
        "start_time": "2021-09-16T06:06:32.119Z"
      },
      {
        "duration": 17,
        "start_time": "2021-09-16T06:06:33.647Z"
      },
      {
        "duration": 4,
        "start_time": "2021-09-16T06:06:33.682Z"
      },
      {
        "duration": 9,
        "start_time": "2021-09-16T06:06:33.688Z"
      },
      {
        "duration": 16,
        "start_time": "2021-09-16T06:06:33.699Z"
      },
      {
        "duration": 10,
        "start_time": "2021-09-16T06:06:33.717Z"
      },
      {
        "duration": 1231,
        "start_time": "2021-09-16T06:06:33.730Z"
      },
      {
        "duration": 29,
        "start_time": "2021-09-16T06:06:34.965Z"
      },
      {
        "duration": 33,
        "start_time": "2021-09-16T06:06:34.997Z"
      },
      {
        "duration": 8,
        "start_time": "2021-09-16T06:06:35.033Z"
      },
      {
        "duration": 55,
        "start_time": "2021-09-16T06:06:35.044Z"
      },
      {
        "duration": 6,
        "start_time": "2021-09-16T06:06:35.102Z"
      },
      {
        "duration": 6,
        "start_time": "2021-09-16T06:06:35.111Z"
      },
      {
        "duration": 8,
        "start_time": "2021-09-16T06:06:35.119Z"
      },
      {
        "duration": 53,
        "start_time": "2021-09-16T06:06:35.129Z"
      },
      {
        "duration": 42,
        "start_time": "2021-09-16T06:06:35.186Z"
      },
      {
        "duration": 3,
        "start_time": "2021-09-16T06:06:35.230Z"
      },
      {
        "duration": 16,
        "start_time": "2021-09-16T06:06:35.235Z"
      },
      {
        "duration": 57,
        "start_time": "2021-09-16T06:06:35.254Z"
      },
      {
        "duration": 34,
        "start_time": "2021-09-16T06:06:35.313Z"
      },
      {
        "duration": 101,
        "start_time": "2021-09-16T06:06:35.349Z"
      },
      {
        "duration": 56,
        "start_time": "2021-09-16T06:06:35.452Z"
      },
      {
        "duration": 3,
        "start_time": "2021-09-16T06:06:35.510Z"
      },
      {
        "duration": 32,
        "start_time": "2021-09-16T06:06:35.515Z"
      },
      {
        "duration": 8,
        "start_time": "2021-09-16T06:06:35.550Z"
      },
      {
        "duration": 14,
        "start_time": "2021-09-16T06:06:35.565Z"
      },
      {
        "duration": 11,
        "start_time": "2021-09-16T06:06:35.584Z"
      },
      {
        "duration": 11,
        "start_time": "2021-09-16T06:06:35.598Z"
      },
      {
        "duration": 445,
        "start_time": "2021-09-16T06:06:35.611Z"
      },
      {
        "duration": 10,
        "start_time": "2021-09-16T06:06:36.058Z"
      },
      {
        "duration": 18,
        "start_time": "2021-09-16T06:06:36.071Z"
      },
      {
        "duration": 26,
        "start_time": "2021-09-16T06:06:36.091Z"
      },
      {
        "duration": 8,
        "start_time": "2021-09-16T06:06:36.119Z"
      },
      {
        "duration": 9,
        "start_time": "2021-09-16T06:06:36.130Z"
      },
      {
        "duration": 14,
        "start_time": "2021-09-16T06:06:36.141Z"
      },
      {
        "duration": 10,
        "start_time": "2021-09-16T06:06:36.157Z"
      },
      {
        "duration": 14,
        "start_time": "2021-09-16T06:06:36.169Z"
      },
      {
        "duration": 19,
        "start_time": "2021-09-16T06:06:36.185Z"
      },
      {
        "duration": 5,
        "start_time": "2021-09-16T06:06:36.206Z"
      },
      {
        "duration": 39,
        "start_time": "2021-09-16T06:06:36.213Z"
      },
      {
        "duration": 6,
        "start_time": "2021-09-16T06:06:36.254Z"
      },
      {
        "duration": 8,
        "start_time": "2021-09-16T06:06:36.262Z"
      },
      {
        "duration": 14,
        "start_time": "2021-09-16T06:06:36.272Z"
      },
      {
        "duration": 7,
        "start_time": "2021-09-16T06:06:36.288Z"
      },
      {
        "duration": 10,
        "start_time": "2021-09-16T06:06:36.297Z"
      },
      {
        "duration": 14,
        "start_time": "2021-09-16T06:06:36.309Z"
      },
      {
        "duration": 9,
        "start_time": "2021-09-16T06:06:36.325Z"
      },
      {
        "duration": 10,
        "start_time": "2021-09-16T06:06:36.336Z"
      },
      {
        "duration": 7,
        "start_time": "2021-09-16T06:06:36.349Z"
      },
      {
        "duration": 5,
        "start_time": "2021-09-16T06:06:36.359Z"
      },
      {
        "duration": 11,
        "start_time": "2021-09-16T06:06:36.366Z"
      },
      {
        "duration": 18,
        "start_time": "2021-09-16T06:06:36.383Z"
      },
      {
        "duration": 191,
        "start_time": "2021-09-16T06:06:36.403Z"
      },
      {
        "duration": 1518,
        "start_time": "2021-09-16T06:06:36.597Z"
      },
      {
        "duration": 321,
        "start_time": "2021-09-16T06:06:38.118Z"
      },
      {
        "duration": 3,
        "start_time": "2021-09-16T06:06:38.441Z"
      },
      {
        "duration": 957,
        "start_time": "2021-09-16T06:06:38.446Z"
      },
      {
        "duration": 911,
        "start_time": "2021-09-16T06:06:39.406Z"
      },
      {
        "duration": 2692,
        "start_time": "2021-09-16T06:06:40.320Z"
      },
      {
        "duration": 24,
        "start_time": "2021-09-16T06:06:43.015Z"
      },
      {
        "duration": 722,
        "start_time": "2021-09-16T06:06:43.042Z"
      },
      {
        "duration": 469,
        "start_time": "2021-09-16T06:06:43.766Z"
      },
      {
        "duration": 176,
        "start_time": "2021-09-16T06:06:44.237Z"
      },
      {
        "duration": 1132,
        "start_time": "2021-09-16T06:06:44.417Z"
      },
      {
        "duration": 10,
        "start_time": "2021-09-16T06:06:45.552Z"
      },
      {
        "duration": 340,
        "start_time": "2021-09-16T06:06:45.564Z"
      },
      {
        "duration": 11,
        "start_time": "2021-09-16T06:06:45.907Z"
      },
      {
        "duration": 64,
        "start_time": "2021-09-16T06:06:45.920Z"
      },
      {
        "duration": 4,
        "start_time": "2021-09-16T06:06:45.987Z"
      },
      {
        "duration": 14,
        "start_time": "2021-09-16T06:06:45.994Z"
      },
      {
        "duration": 20,
        "start_time": "2021-09-16T06:06:46.010Z"
      },
      {
        "duration": 15,
        "start_time": "2021-09-16T06:06:46.032Z"
      },
      {
        "duration": 37,
        "start_time": "2021-09-16T06:06:46.050Z"
      },
      {
        "duration": 7,
        "start_time": "2021-09-16T06:06:46.089Z"
      },
      {
        "duration": 9,
        "start_time": "2021-09-16T06:06:46.099Z"
      },
      {
        "duration": 8,
        "start_time": "2021-09-16T06:06:46.110Z"
      },
      {
        "duration": 24,
        "start_time": "2021-09-16T06:06:46.121Z"
      },
      {
        "duration": 78,
        "start_time": "2021-09-16T06:06:46.147Z"
      },
      {
        "duration": 3,
        "start_time": "2021-09-16T06:06:46.228Z"
      },
      {
        "duration": 42,
        "start_time": "2021-09-16T06:06:46.240Z"
      },
      {
        "duration": 43,
        "start_time": "2021-09-16T06:06:46.285Z"
      },
      {
        "duration": 6,
        "start_time": "2021-09-16T06:06:46.330Z"
      },
      {
        "duration": 8,
        "start_time": "2021-09-16T06:06:46.338Z"
      },
      {
        "duration": 43,
        "start_time": "2021-09-16T06:06:46.349Z"
      },
      {
        "duration": 19,
        "start_time": "2021-09-16T06:06:46.394Z"
      },
      {
        "duration": 626,
        "start_time": "2021-09-16T06:06:46.416Z"
      },
      {
        "duration": -554,
        "start_time": "2021-09-16T06:06:47.599Z"
      },
      {
        "duration": 26,
        "start_time": "2021-09-16T07:03:53.854Z"
      },
      {
        "duration": 5,
        "start_time": "2021-09-16T07:09:14.446Z"
      },
      {
        "duration": 5,
        "start_time": "2021-09-16T07:09:25.226Z"
      },
      {
        "duration": 28,
        "start_time": "2021-09-16T07:16:25.113Z"
      },
      {
        "duration": 35,
        "start_time": "2021-09-16T07:16:43.950Z"
      },
      {
        "duration": 28,
        "start_time": "2021-09-16T07:17:41.870Z"
      },
      {
        "duration": 13,
        "start_time": "2021-09-16T07:17:58.916Z"
      },
      {
        "duration": 13,
        "start_time": "2021-09-16T07:18:08.121Z"
      },
      {
        "duration": 18,
        "start_time": "2021-09-16T07:18:11.563Z"
      },
      {
        "duration": 25,
        "start_time": "2021-09-16T07:20:14.241Z"
      },
      {
        "duration": 17,
        "start_time": "2021-09-16T07:20:19.452Z"
      },
      {
        "duration": 15,
        "start_time": "2021-09-16T07:20:37.267Z"
      },
      {
        "duration": 17,
        "start_time": "2021-09-16T07:20:40.410Z"
      },
      {
        "duration": 18,
        "start_time": "2021-09-16T07:22:21.698Z"
      },
      {
        "duration": 11,
        "start_time": "2021-09-16T08:16:06.506Z"
      },
      {
        "duration": 32,
        "start_time": "2021-09-16T09:51:47.440Z"
      },
      {
        "duration": 136,
        "start_time": "2021-09-16T09:56:32.892Z"
      },
      {
        "duration": 22,
        "start_time": "2021-09-16T09:56:39.558Z"
      },
      {
        "duration": 23,
        "start_time": "2021-09-16T09:56:58.483Z"
      },
      {
        "duration": 95,
        "start_time": "2021-09-17T05:10:41.384Z"
      },
      {
        "duration": 283,
        "start_time": "2021-09-17T05:11:21.995Z"
      },
      {
        "duration": 295,
        "start_time": "2021-09-17T05:12:36.905Z"
      },
      {
        "duration": 327,
        "start_time": "2021-09-17T05:13:37.793Z"
      },
      {
        "duration": 1432,
        "start_time": "2021-09-17T05:14:06.879Z"
      },
      {
        "duration": 18,
        "start_time": "2021-09-17T05:14:22.637Z"
      },
      {
        "duration": 327,
        "start_time": "2021-09-17T05:14:28.874Z"
      },
      {
        "duration": 11139,
        "start_time": "2021-09-17T05:15:29.761Z"
      },
      {
        "duration": 1884,
        "start_time": "2021-09-17T05:15:40.903Z"
      },
      {
        "duration": 28,
        "start_time": "2021-09-17T05:15:42.792Z"
      },
      {
        "duration": 10,
        "start_time": "2021-09-17T05:15:42.823Z"
      },
      {
        "duration": 26,
        "start_time": "2021-09-17T05:15:42.836Z"
      },
      {
        "duration": 10,
        "start_time": "2021-09-17T05:15:42.865Z"
      },
      {
        "duration": 21,
        "start_time": "2021-09-17T05:15:42.878Z"
      },
      {
        "duration": 10,
        "start_time": "2021-09-17T05:15:42.903Z"
      },
      {
        "duration": 1350,
        "start_time": "2021-09-17T05:15:42.916Z"
      },
      {
        "duration": 28,
        "start_time": "2021-09-17T05:15:44.269Z"
      },
      {
        "duration": 64,
        "start_time": "2021-09-17T05:15:44.299Z"
      },
      {
        "duration": 7,
        "start_time": "2021-09-17T05:15:44.366Z"
      },
      {
        "duration": 32,
        "start_time": "2021-09-17T05:15:44.376Z"
      },
      {
        "duration": 7,
        "start_time": "2021-09-17T05:15:44.411Z"
      },
      {
        "duration": 59,
        "start_time": "2021-09-17T05:15:44.421Z"
      },
      {
        "duration": 3,
        "start_time": "2021-09-17T05:15:44.483Z"
      },
      {
        "duration": 19,
        "start_time": "2021-09-17T05:15:44.488Z"
      },
      {
        "duration": 52,
        "start_time": "2021-09-17T05:15:44.510Z"
      },
      {
        "duration": 3,
        "start_time": "2021-09-17T05:15:44.564Z"
      },
      {
        "duration": 15,
        "start_time": "2021-09-17T05:15:44.569Z"
      },
      {
        "duration": 39,
        "start_time": "2021-09-17T05:15:44.588Z"
      },
      {
        "duration": 43,
        "start_time": "2021-09-17T05:15:44.630Z"
      },
      {
        "duration": 121,
        "start_time": "2021-09-17T05:15:44.680Z"
      },
      {
        "duration": 63,
        "start_time": "2021-09-17T05:15:44.805Z"
      },
      {
        "duration": 3,
        "start_time": "2021-09-17T05:15:44.871Z"
      },
      {
        "duration": 31,
        "start_time": "2021-09-17T05:15:44.876Z"
      },
      {
        "duration": 9,
        "start_time": "2021-09-17T05:15:44.910Z"
      },
      {
        "duration": 45,
        "start_time": "2021-09-17T05:15:44.921Z"
      },
      {
        "duration": 11,
        "start_time": "2021-09-17T05:15:44.968Z"
      },
      {
        "duration": 16,
        "start_time": "2021-09-17T05:15:44.982Z"
      },
      {
        "duration": 454,
        "start_time": "2021-09-17T05:15:45.001Z"
      },
      {
        "duration": 9,
        "start_time": "2021-09-17T05:15:45.458Z"
      },
      {
        "duration": 14,
        "start_time": "2021-09-17T05:15:45.470Z"
      },
      {
        "duration": 26,
        "start_time": "2021-09-17T05:15:45.486Z"
      },
      {
        "duration": 7,
        "start_time": "2021-09-17T05:15:45.515Z"
      },
      {
        "duration": 10,
        "start_time": "2021-09-17T05:15:45.563Z"
      },
      {
        "duration": 16,
        "start_time": "2021-09-17T05:15:45.576Z"
      },
      {
        "duration": 11,
        "start_time": "2021-09-17T05:15:45.594Z"
      },
      {
        "duration": 3,
        "start_time": "2021-09-17T05:15:45.608Z"
      },
      {
        "duration": 56,
        "start_time": "2021-09-17T05:15:45.614Z"
      },
      {
        "duration": 6,
        "start_time": "2021-09-17T05:15:45.672Z"
      },
      {
        "duration": 40,
        "start_time": "2021-09-17T05:15:45.680Z"
      },
      {
        "duration": 5,
        "start_time": "2021-09-17T05:15:45.723Z"
      },
      {
        "duration": 35,
        "start_time": "2021-09-17T05:15:45.731Z"
      },
      {
        "duration": 8,
        "start_time": "2021-09-17T05:15:45.769Z"
      },
      {
        "duration": 6,
        "start_time": "2021-09-17T05:15:45.780Z"
      },
      {
        "duration": 9,
        "start_time": "2021-09-17T05:15:45.789Z"
      },
      {
        "duration": 64,
        "start_time": "2021-09-17T05:15:45.801Z"
      },
      {
        "duration": 6,
        "start_time": "2021-09-17T05:15:45.867Z"
      },
      {
        "duration": 10,
        "start_time": "2021-09-17T05:15:45.876Z"
      },
      {
        "duration": 6,
        "start_time": "2021-09-17T05:15:45.889Z"
      },
      {
        "duration": 25,
        "start_time": "2021-09-17T05:15:45.897Z"
      },
      {
        "duration": 40,
        "start_time": "2021-09-17T05:15:45.925Z"
      },
      {
        "duration": 18,
        "start_time": "2021-09-17T05:15:45.967Z"
      },
      {
        "duration": 16,
        "start_time": "2021-09-17T05:15:45.988Z"
      },
      {
        "duration": 116,
        "start_time": "2021-09-17T05:15:46.007Z"
      },
      {
        "duration": 17,
        "start_time": "2021-09-17T05:15:46.125Z"
      },
      {
        "duration": 808,
        "start_time": "2021-09-17T05:15:46.162Z"
      },
      {
        "duration": 316,
        "start_time": "2021-09-17T05:15:46.973Z"
      },
      {
        "duration": 3,
        "start_time": "2021-09-17T05:15:47.292Z"
      },
      {
        "duration": 958,
        "start_time": "2021-09-17T05:15:47.298Z"
      },
      {
        "duration": 942,
        "start_time": "2021-09-17T05:15:48.262Z"
      },
      {
        "duration": 2656,
        "start_time": "2021-09-17T05:15:49.207Z"
      },
      {
        "duration": 24,
        "start_time": "2021-09-17T05:15:51.865Z"
      },
      {
        "duration": 19,
        "start_time": "2021-09-17T05:15:51.891Z"
      },
      {
        "duration": 169,
        "start_time": "2021-09-17T05:15:51.913Z"
      },
      {
        "duration": 9,
        "start_time": "2021-09-17T05:15:52.086Z"
      },
      {
        "duration": 842,
        "start_time": "2021-09-17T05:15:52.105Z"
      },
      {
        "duration": 18,
        "start_time": "2021-09-17T05:15:52.950Z"
      },
      {
        "duration": 347,
        "start_time": "2021-09-17T05:15:52.971Z"
      },
      {
        "duration": 9,
        "start_time": "2021-09-17T05:15:53.321Z"
      },
      {
        "duration": 54,
        "start_time": "2021-09-17T05:15:53.333Z"
      },
      {
        "duration": 4,
        "start_time": "2021-09-17T05:15:53.390Z"
      },
      {
        "duration": 14,
        "start_time": "2021-09-17T05:15:53.397Z"
      },
      {
        "duration": 48,
        "start_time": "2021-09-17T05:15:53.414Z"
      },
      {
        "duration": 13,
        "start_time": "2021-09-17T05:15:53.465Z"
      },
      {
        "duration": 8,
        "start_time": "2021-09-17T05:15:53.481Z"
      },
      {
        "duration": 14,
        "start_time": "2021-09-17T05:15:53.491Z"
      },
      {
        "duration": 16,
        "start_time": "2021-09-17T05:15:53.508Z"
      },
      {
        "duration": 35,
        "start_time": "2021-09-17T05:15:53.527Z"
      },
      {
        "duration": 20,
        "start_time": "2021-09-17T05:15:53.564Z"
      },
      {
        "duration": 48,
        "start_time": "2021-09-17T05:15:53.587Z"
      },
      {
        "duration": 25,
        "start_time": "2021-09-17T05:15:53.638Z"
      },
      {
        "duration": 16,
        "start_time": "2021-09-17T05:15:53.666Z"
      },
      {
        "duration": 40,
        "start_time": "2021-09-17T05:15:53.685Z"
      },
      {
        "duration": 36,
        "start_time": "2021-09-17T05:15:53.728Z"
      },
      {
        "duration": 32,
        "start_time": "2021-09-17T05:15:53.767Z"
      },
      {
        "duration": 28,
        "start_time": "2021-09-17T05:15:53.802Z"
      },
      {
        "duration": 26,
        "start_time": "2021-09-17T05:15:53.833Z"
      },
      {
        "duration": 415,
        "start_time": "2021-09-17T05:15:53.862Z"
      },
      {
        "duration": -362,
        "start_time": "2021-09-17T05:15:54.641Z"
      },
      {
        "duration": -376,
        "start_time": "2021-09-17T05:15:54.657Z"
      },
      {
        "duration": 24,
        "start_time": "2021-09-17T05:16:13.771Z"
      },
      {
        "duration": 29,
        "start_time": "2021-09-17T05:17:00.716Z"
      },
      {
        "duration": 18,
        "start_time": "2021-09-17T05:17:05.796Z"
      },
      {
        "duration": 96,
        "start_time": "2021-09-17T05:18:46.567Z"
      },
      {
        "duration": 3,
        "start_time": "2021-09-17T05:22:30.670Z"
      },
      {
        "duration": 4,
        "start_time": "2021-09-17T05:26:39.323Z"
      },
      {
        "duration": 17,
        "start_time": "2021-09-17T05:28:04.896Z"
      },
      {
        "duration": 4947,
        "start_time": "2021-09-17T05:28:33.546Z"
      },
      {
        "duration": 1557,
        "start_time": "2021-09-17T05:28:38.495Z"
      },
      {
        "duration": 22,
        "start_time": "2021-09-17T05:28:40.055Z"
      },
      {
        "duration": 29,
        "start_time": "2021-09-17T05:28:40.080Z"
      },
      {
        "duration": 21,
        "start_time": "2021-09-17T05:28:40.111Z"
      },
      {
        "duration": 25,
        "start_time": "2021-09-17T05:28:40.135Z"
      },
      {
        "duration": 29,
        "start_time": "2021-09-17T05:28:40.162Z"
      },
      {
        "duration": 41,
        "start_time": "2021-09-17T05:28:40.195Z"
      },
      {
        "duration": 1357,
        "start_time": "2021-09-17T05:28:40.239Z"
      },
      {
        "duration": 24,
        "start_time": "2021-09-17T05:28:41.599Z"
      },
      {
        "duration": 54,
        "start_time": "2021-09-17T05:28:41.626Z"
      },
      {
        "duration": 5,
        "start_time": "2021-09-17T05:28:41.683Z"
      },
      {
        "duration": 19,
        "start_time": "2021-09-17T05:28:41.691Z"
      },
      {
        "duration": 6,
        "start_time": "2021-09-17T05:28:41.713Z"
      },
      {
        "duration": 6,
        "start_time": "2021-09-17T05:28:41.762Z"
      },
      {
        "duration": 4,
        "start_time": "2021-09-17T05:28:41.771Z"
      },
      {
        "duration": 22,
        "start_time": "2021-09-17T05:28:41.777Z"
      },
      {
        "duration": 66,
        "start_time": "2021-09-17T05:28:41.801Z"
      },
      {
        "duration": 3,
        "start_time": "2021-09-17T05:28:41.870Z"
      },
      {
        "duration": 9,
        "start_time": "2021-09-17T05:28:41.875Z"
      },
      {
        "duration": 28,
        "start_time": "2021-09-17T05:28:41.886Z"
      },
      {
        "duration": 67,
        "start_time": "2021-09-17T05:28:41.916Z"
      },
      {
        "duration": 125,
        "start_time": "2021-09-17T05:28:41.991Z"
      },
      {
        "duration": 68,
        "start_time": "2021-09-17T05:28:42.120Z"
      },
      {
        "duration": 3,
        "start_time": "2021-09-17T05:28:42.191Z"
      },
      {
        "duration": 33,
        "start_time": "2021-09-17T05:28:42.196Z"
      },
      {
        "duration": 9,
        "start_time": "2021-09-17T05:28:42.232Z"
      },
      {
        "duration": 17,
        "start_time": "2021-09-17T05:28:42.262Z"
      },
      {
        "duration": 10,
        "start_time": "2021-09-17T05:28:42.282Z"
      },
      {
        "duration": 12,
        "start_time": "2021-09-17T05:28:42.294Z"
      },
      {
        "duration": 545,
        "start_time": "2021-09-17T05:28:42.308Z"
      },
      {
        "duration": 16,
        "start_time": "2021-09-17T05:28:42.855Z"
      },
      {
        "duration": 36,
        "start_time": "2021-09-17T05:28:42.873Z"
      },
      {
        "duration": 29,
        "start_time": "2021-09-17T05:28:42.911Z"
      },
      {
        "duration": 10,
        "start_time": "2021-09-17T05:28:42.943Z"
      },
      {
        "duration": 10,
        "start_time": "2021-09-17T05:28:42.962Z"
      },
      {
        "duration": 14,
        "start_time": "2021-09-17T05:28:42.975Z"
      },
      {
        "duration": 11,
        "start_time": "2021-09-17T05:28:42.991Z"
      },
      {
        "duration": 4,
        "start_time": "2021-09-17T05:28:43.005Z"
      },
      {
        "duration": 59,
        "start_time": "2021-09-17T05:28:43.011Z"
      },
      {
        "duration": 6,
        "start_time": "2021-09-17T05:28:43.073Z"
      },
      {
        "duration": 41,
        "start_time": "2021-09-17T05:28:43.081Z"
      },
      {
        "duration": 5,
        "start_time": "2021-09-17T05:28:43.125Z"
      },
      {
        "duration": 17,
        "start_time": "2021-09-17T05:28:43.132Z"
      },
      {
        "duration": 7,
        "start_time": "2021-09-17T05:28:43.163Z"
      },
      {
        "duration": 22,
        "start_time": "2021-09-17T05:28:43.172Z"
      },
      {
        "duration": 20,
        "start_time": "2021-09-17T05:28:43.197Z"
      },
      {
        "duration": 20,
        "start_time": "2021-09-17T05:28:43.219Z"
      },
      {
        "duration": 23,
        "start_time": "2021-09-17T05:28:43.241Z"
      },
      {
        "duration": 17,
        "start_time": "2021-09-17T05:28:43.266Z"
      },
      {
        "duration": 16,
        "start_time": "2021-09-17T05:28:43.286Z"
      },
      {
        "duration": 29,
        "start_time": "2021-09-17T05:28:43.304Z"
      },
      {
        "duration": 5,
        "start_time": "2021-09-17T05:28:43.336Z"
      },
      {
        "duration": 23,
        "start_time": "2021-09-17T05:28:43.343Z"
      },
      {
        "duration": 23,
        "start_time": "2021-09-17T05:28:43.369Z"
      },
      {
        "duration": 134,
        "start_time": "2021-09-17T05:28:43.394Z"
      },
      {
        "duration": 32,
        "start_time": "2021-09-17T05:28:43.531Z"
      },
      {
        "duration": 901,
        "start_time": "2021-09-17T05:28:43.565Z"
      },
      {
        "duration": 358,
        "start_time": "2021-09-17T05:28:44.469Z"
      },
      {
        "duration": 3,
        "start_time": "2021-09-17T05:28:44.829Z"
      },
      {
        "duration": 1061,
        "start_time": "2021-09-17T05:28:44.835Z"
      },
      {
        "duration": 926,
        "start_time": "2021-09-17T05:28:45.899Z"
      },
      {
        "duration": 2594,
        "start_time": "2021-09-17T05:28:46.828Z"
      },
      {
        "duration": 43,
        "start_time": "2021-09-17T05:28:49.426Z"
      },
      {
        "duration": 21,
        "start_time": "2021-09-17T05:28:49.472Z"
      },
      {
        "duration": 175,
        "start_time": "2021-09-17T05:28:49.497Z"
      },
      {
        "duration": 9,
        "start_time": "2021-09-17T05:28:49.675Z"
      },
      {
        "duration": 846,
        "start_time": "2021-09-17T05:28:49.694Z"
      },
      {
        "duration": 18,
        "start_time": "2021-09-17T05:28:50.544Z"
      },
      {
        "duration": 334,
        "start_time": "2021-09-17T05:28:50.565Z"
      },
      {
        "duration": 10,
        "start_time": "2021-09-17T05:28:50.902Z"
      },
      {
        "duration": 65,
        "start_time": "2021-09-17T05:28:50.916Z"
      },
      {
        "duration": 7,
        "start_time": "2021-09-17T05:28:50.983Z"
      },
      {
        "duration": 18,
        "start_time": "2021-09-17T05:28:50.993Z"
      },
      {
        "duration": 36,
        "start_time": "2021-09-17T05:28:51.013Z"
      },
      {
        "duration": 12,
        "start_time": "2021-09-17T05:28:51.051Z"
      },
      {
        "duration": 16,
        "start_time": "2021-09-17T05:28:51.065Z"
      },
      {
        "duration": 7,
        "start_time": "2021-09-17T05:28:51.084Z"
      },
      {
        "duration": 9,
        "start_time": "2021-09-17T05:28:51.093Z"
      },
      {
        "duration": 10,
        "start_time": "2021-09-17T05:28:51.104Z"
      },
      {
        "duration": 23,
        "start_time": "2021-09-17T05:28:51.117Z"
      },
      {
        "duration": 53,
        "start_time": "2021-09-17T05:28:51.161Z"
      },
      {
        "duration": 4,
        "start_time": "2021-09-17T05:28:51.216Z"
      },
      {
        "duration": 45,
        "start_time": "2021-09-17T05:28:51.222Z"
      },
      {
        "duration": 41,
        "start_time": "2021-09-17T05:28:51.269Z"
      },
      {
        "duration": 6,
        "start_time": "2021-09-17T05:28:51.312Z"
      },
      {
        "duration": 10,
        "start_time": "2021-09-17T05:28:51.320Z"
      },
      {
        "duration": 10,
        "start_time": "2021-09-17T05:28:51.362Z"
      },
      {
        "duration": 17,
        "start_time": "2021-09-17T05:28:51.374Z"
      },
      {
        "duration": 554,
        "start_time": "2021-09-17T05:28:51.394Z"
      },
      {
        "duration": -319,
        "start_time": "2021-09-17T05:28:52.269Z"
      },
      {
        "duration": -323,
        "start_time": "2021-09-17T05:28:52.275Z"
      },
      {
        "duration": 26,
        "start_time": "2021-09-17T05:30:06.899Z"
      },
      {
        "duration": 84,
        "start_time": "2021-09-17T05:30:42.354Z"
      },
      {
        "duration": 92,
        "start_time": "2021-09-17T05:30:50.874Z"
      },
      {
        "duration": 5,
        "start_time": "2021-09-17T05:34:14.368Z"
      },
      {
        "duration": 15,
        "start_time": "2021-09-17T05:34:15.712Z"
      },
      {
        "duration": 96,
        "start_time": "2021-09-17T05:34:21.828Z"
      },
      {
        "duration": 11,
        "start_time": "2021-09-17T05:36:05.455Z"
      },
      {
        "duration": 2626,
        "start_time": "2021-09-17T05:36:51.957Z"
      },
      {
        "duration": 10,
        "start_time": "2021-09-17T05:38:06.772Z"
      },
      {
        "duration": 2565,
        "start_time": "2021-09-17T05:38:11.786Z"
      },
      {
        "duration": 10,
        "start_time": "2021-09-17T05:43:31.870Z"
      },
      {
        "duration": 3225,
        "start_time": "2021-09-17T05:43:34.327Z"
      },
      {
        "duration": 352,
        "start_time": "2021-09-17T05:45:21.390Z"
      },
      {
        "duration": 9,
        "start_time": "2021-09-17T05:45:32.699Z"
      },
      {
        "duration": 2913,
        "start_time": "2021-09-17T05:45:34.962Z"
      },
      {
        "duration": 78,
        "start_time": "2021-09-17T05:51:47.391Z"
      },
      {
        "duration": 83,
        "start_time": "2021-09-17T05:51:49.879Z"
      },
      {
        "duration": 83,
        "start_time": "2021-09-17T05:51:54.648Z"
      },
      {
        "duration": 2620,
        "start_time": "2021-09-17T05:51:57.896Z"
      },
      {
        "duration": 97,
        "start_time": "2021-09-17T05:53:45.224Z"
      },
      {
        "duration": 90,
        "start_time": "2021-09-17T05:53:52.238Z"
      },
      {
        "duration": 1269,
        "start_time": "2021-09-17T05:54:03.555Z"
      },
      {
        "duration": 1226,
        "start_time": "2021-09-17T05:54:16.327Z"
      },
      {
        "duration": 2576,
        "start_time": "2021-09-17T05:54:20.629Z"
      },
      {
        "duration": 2627,
        "start_time": "2021-09-17T05:54:32.241Z"
      },
      {
        "duration": 231,
        "start_time": "2021-09-17T05:54:40.737Z"
      },
      {
        "duration": 256,
        "start_time": "2021-09-17T05:55:00.108Z"
      },
      {
        "duration": 2689,
        "start_time": "2021-09-17T05:55:07.479Z"
      },
      {
        "duration": 2756,
        "start_time": "2021-09-17T05:56:37.263Z"
      },
      {
        "duration": 2537,
        "start_time": "2021-09-17T05:56:42.202Z"
      },
      {
        "duration": 2673,
        "start_time": "2021-09-17T05:57:14.352Z"
      },
      {
        "duration": 3388,
        "start_time": "2021-09-17T05:57:18.082Z"
      },
      {
        "duration": 2559,
        "start_time": "2021-09-17T05:57:38.979Z"
      },
      {
        "duration": 89,
        "start_time": "2021-09-17T05:58:26.692Z"
      },
      {
        "duration": 2505,
        "start_time": "2021-09-17T05:58:28.870Z"
      },
      {
        "duration": 275,
        "start_time": "2021-09-17T05:58:35.299Z"
      },
      {
        "duration": 236,
        "start_time": "2021-09-17T05:58:44.883Z"
      },
      {
        "duration": 270,
        "start_time": "2021-09-17T05:58:49.556Z"
      },
      {
        "duration": 2812,
        "start_time": "2021-09-17T05:59:00.452Z"
      },
      {
        "duration": 2623,
        "start_time": "2021-09-17T05:59:06.731Z"
      },
      {
        "duration": 288,
        "start_time": "2021-09-17T05:59:19.873Z"
      },
      {
        "duration": 251,
        "start_time": "2021-09-17T05:59:27.069Z"
      },
      {
        "duration": 272,
        "start_time": "2021-09-17T05:59:32.641Z"
      },
      {
        "duration": 2622,
        "start_time": "2021-09-17T05:59:48.023Z"
      },
      {
        "duration": 231,
        "start_time": "2021-09-17T05:59:57.735Z"
      },
      {
        "duration": 2636,
        "start_time": "2021-09-17T06:00:18.661Z"
      },
      {
        "duration": 8,
        "start_time": "2021-09-17T06:01:30.195Z"
      },
      {
        "duration": 2610,
        "start_time": "2021-09-17T06:01:33.100Z"
      },
      {
        "duration": 7,
        "start_time": "2021-09-17T06:01:45.316Z"
      },
      {
        "duration": 2615,
        "start_time": "2021-09-17T06:01:46.090Z"
      },
      {
        "duration": 4,
        "start_time": "2021-09-17T06:02:09.975Z"
      },
      {
        "duration": 2561,
        "start_time": "2021-09-17T06:02:12.575Z"
      },
      {
        "duration": 4,
        "start_time": "2021-09-17T06:02:24.952Z"
      },
      {
        "duration": 8,
        "start_time": "2021-09-17T06:02:25.570Z"
      },
      {
        "duration": 2549,
        "start_time": "2021-09-17T06:02:26.800Z"
      },
      {
        "duration": 4168,
        "start_time": "2021-09-17T06:02:51.733Z"
      },
      {
        "duration": 1437,
        "start_time": "2021-09-17T06:02:55.904Z"
      },
      {
        "duration": 27,
        "start_time": "2021-09-17T06:02:57.344Z"
      },
      {
        "duration": 15,
        "start_time": "2021-09-17T06:02:57.374Z"
      },
      {
        "duration": 17,
        "start_time": "2021-09-17T06:02:57.391Z"
      },
      {
        "duration": 14,
        "start_time": "2021-09-17T06:02:57.411Z"
      },
      {
        "duration": 38,
        "start_time": "2021-09-17T06:02:57.428Z"
      },
      {
        "duration": 17,
        "start_time": "2021-09-17T06:02:57.471Z"
      },
      {
        "duration": 30,
        "start_time": "2021-09-17T06:02:57.492Z"
      },
      {
        "duration": 9,
        "start_time": "2021-09-17T06:02:57.525Z"
      },
      {
        "duration": 11,
        "start_time": "2021-09-17T06:02:57.537Z"
      },
      {
        "duration": 1059,
        "start_time": "2021-09-17T06:02:57.551Z"
      },
      {
        "duration": 25,
        "start_time": "2021-09-17T06:02:58.613Z"
      },
      {
        "duration": 49,
        "start_time": "2021-09-17T06:02:58.640Z"
      },
      {
        "duration": 6,
        "start_time": "2021-09-17T06:02:58.691Z"
      },
      {
        "duration": 17,
        "start_time": "2021-09-17T06:02:58.699Z"
      },
      {
        "duration": 7,
        "start_time": "2021-09-17T06:02:58.718Z"
      },
      {
        "duration": 7,
        "start_time": "2021-09-17T06:02:58.763Z"
      },
      {
        "duration": 5,
        "start_time": "2021-09-17T06:02:58.773Z"
      },
      {
        "duration": 30,
        "start_time": "2021-09-17T06:02:58.781Z"
      },
      {
        "duration": 60,
        "start_time": "2021-09-17T06:02:58.815Z"
      },
      {
        "duration": 4,
        "start_time": "2021-09-17T06:02:58.878Z"
      },
      {
        "duration": 11,
        "start_time": "2021-09-17T06:02:58.890Z"
      },
      {
        "duration": 25,
        "start_time": "2021-09-17T06:02:58.907Z"
      },
      {
        "duration": 63,
        "start_time": "2021-09-17T06:02:58.934Z"
      },
      {
        "duration": 126,
        "start_time": "2021-09-17T06:02:59.000Z"
      },
      {
        "duration": 72,
        "start_time": "2021-09-17T06:02:59.130Z"
      },
      {
        "duration": 4,
        "start_time": "2021-09-17T06:02:59.204Z"
      },
      {
        "duration": 51,
        "start_time": "2021-09-17T06:02:59.211Z"
      },
      {
        "duration": 11,
        "start_time": "2021-09-17T06:02:59.265Z"
      },
      {
        "duration": 18,
        "start_time": "2021-09-17T06:02:59.279Z"
      },
      {
        "duration": 10,
        "start_time": "2021-09-17T06:02:59.300Z"
      },
      {
        "duration": 54,
        "start_time": "2021-09-17T06:02:59.313Z"
      },
      {
        "duration": 474,
        "start_time": "2021-09-17T06:02:59.370Z"
      },
      {
        "duration": 17,
        "start_time": "2021-09-17T06:02:59.847Z"
      },
      {
        "duration": 19,
        "start_time": "2021-09-17T06:02:59.867Z"
      },
      {
        "duration": 23,
        "start_time": "2021-09-17T06:02:59.889Z"
      },
      {
        "duration": 9,
        "start_time": "2021-09-17T06:02:59.915Z"
      },
      {
        "duration": 37,
        "start_time": "2021-09-17T06:02:59.927Z"
      },
      {
        "duration": 18,
        "start_time": "2021-09-17T06:02:59.967Z"
      },
      {
        "duration": 11,
        "start_time": "2021-09-17T06:02:59.987Z"
      },
      {
        "duration": 26,
        "start_time": "2021-09-17T06:03:00.000Z"
      },
      {
        "duration": 36,
        "start_time": "2021-09-17T06:03:00.029Z"
      },
      {
        "duration": 6,
        "start_time": "2021-09-17T06:03:00.068Z"
      },
      {
        "duration": 64,
        "start_time": "2021-09-17T06:03:00.077Z"
      },
      {
        "duration": 21,
        "start_time": "2021-09-17T06:03:00.144Z"
      },
      {
        "duration": 18,
        "start_time": "2021-09-17T06:03:00.167Z"
      },
      {
        "duration": 9,
        "start_time": "2021-09-17T06:03:00.188Z"
      },
      {
        "duration": 8,
        "start_time": "2021-09-17T06:03:00.199Z"
      },
      {
        "duration": 14,
        "start_time": "2021-09-17T06:03:00.209Z"
      },
      {
        "duration": 43,
        "start_time": "2021-09-17T06:03:00.225Z"
      },
      {
        "duration": 8,
        "start_time": "2021-09-17T06:03:00.270Z"
      },
      {
        "duration": 24,
        "start_time": "2021-09-17T06:03:00.280Z"
      },
      {
        "duration": 21,
        "start_time": "2021-09-17T06:03:00.306Z"
      },
      {
        "duration": 47,
        "start_time": "2021-09-17T06:03:00.329Z"
      },
      {
        "duration": 6,
        "start_time": "2021-09-17T06:03:00.378Z"
      },
      {
        "duration": 23,
        "start_time": "2021-09-17T06:03:00.386Z"
      },
      {
        "duration": 22,
        "start_time": "2021-09-17T06:03:00.411Z"
      },
      {
        "duration": 106,
        "start_time": "2021-09-17T06:03:00.435Z"
      },
      {
        "duration": 31,
        "start_time": "2021-09-17T06:03:00.543Z"
      },
      {
        "duration": 843,
        "start_time": "2021-09-17T06:03:00.576Z"
      },
      {
        "duration": 316,
        "start_time": "2021-09-17T06:03:01.421Z"
      },
      {
        "duration": 3,
        "start_time": "2021-09-17T06:03:01.739Z"
      },
      {
        "duration": 979,
        "start_time": "2021-09-17T06:03:01.745Z"
      },
      {
        "duration": 959,
        "start_time": "2021-09-17T06:03:02.726Z"
      },
      {
        "duration": 2631,
        "start_time": "2021-09-17T06:03:03.688Z"
      },
      {
        "duration": 40,
        "start_time": "2021-09-17T06:03:06.322Z"
      },
      {
        "duration": 20,
        "start_time": "2021-09-17T06:03:06.370Z"
      },
      {
        "duration": 137,
        "start_time": "2021-09-17T06:03:06.393Z"
      },
      {
        "duration": 30,
        "start_time": "2021-09-17T06:03:06.533Z"
      },
      {
        "duration": 842,
        "start_time": "2021-09-17T06:03:06.566Z"
      },
      {
        "duration": 8,
        "start_time": "2021-09-17T06:03:07.411Z"
      },
      {
        "duration": 344,
        "start_time": "2021-09-17T06:03:07.422Z"
      },
      {
        "duration": 8,
        "start_time": "2021-09-17T06:03:07.768Z"
      },
      {
        "duration": 29,
        "start_time": "2021-09-17T06:03:07.778Z"
      },
      {
        "duration": 3,
        "start_time": "2021-09-17T06:03:07.810Z"
      },
      {
        "duration": 11,
        "start_time": "2021-09-17T06:03:07.815Z"
      },
      {
        "duration": 17,
        "start_time": "2021-09-17T06:03:07.861Z"
      },
      {
        "duration": 12,
        "start_time": "2021-09-17T06:03:07.881Z"
      },
      {
        "duration": 7,
        "start_time": "2021-09-17T06:03:07.896Z"
      },
      {
        "duration": 10,
        "start_time": "2021-09-17T06:03:07.905Z"
      },
      {
        "duration": 47,
        "start_time": "2021-09-17T06:03:07.918Z"
      },
      {
        "duration": 3,
        "start_time": "2021-09-17T06:03:07.967Z"
      },
      {
        "duration": 26,
        "start_time": "2021-09-17T06:03:07.973Z"
      },
      {
        "duration": 78,
        "start_time": "2021-09-17T06:03:08.001Z"
      },
      {
        "duration": 3,
        "start_time": "2021-09-17T06:03:08.082Z"
      },
      {
        "duration": 20,
        "start_time": "2021-09-17T06:03:08.088Z"
      },
      {
        "duration": 67,
        "start_time": "2021-09-17T06:03:08.111Z"
      },
      {
        "duration": 6,
        "start_time": "2021-09-17T06:03:08.181Z"
      },
      {
        "duration": 14,
        "start_time": "2021-09-17T06:03:08.189Z"
      },
      {
        "duration": 16,
        "start_time": "2021-09-17T06:03:08.205Z"
      },
      {
        "duration": 48,
        "start_time": "2021-09-17T06:03:08.224Z"
      },
      {
        "duration": 404,
        "start_time": "2021-09-17T06:03:08.275Z"
      },
      {
        "duration": -257,
        "start_time": "2021-09-17T06:03:08.939Z"
      },
      {
        "duration": -263,
        "start_time": "2021-09-17T06:03:08.946Z"
      },
      {
        "duration": 95,
        "start_time": "2021-09-17T07:40:40.405Z"
      },
      {
        "duration": 16,
        "start_time": "2021-09-17T07:42:20.759Z"
      },
      {
        "duration": 11527,
        "start_time": "2021-09-17T07:42:34.807Z"
      },
      {
        "duration": 1507,
        "start_time": "2021-09-17T07:42:46.337Z"
      },
      {
        "duration": 21,
        "start_time": "2021-09-17T07:42:47.848Z"
      },
      {
        "duration": 26,
        "start_time": "2021-09-17T07:42:47.872Z"
      },
      {
        "duration": 16,
        "start_time": "2021-09-17T07:42:47.900Z"
      },
      {
        "duration": 12,
        "start_time": "2021-09-17T07:42:47.918Z"
      },
      {
        "duration": 15,
        "start_time": "2021-09-17T07:42:47.932Z"
      },
      {
        "duration": 16,
        "start_time": "2021-09-17T07:42:47.949Z"
      },
      {
        "duration": 10,
        "start_time": "2021-09-17T07:42:47.969Z"
      },
      {
        "duration": 8,
        "start_time": "2021-09-17T07:42:47.982Z"
      },
      {
        "duration": 21,
        "start_time": "2021-09-17T07:42:47.992Z"
      },
      {
        "duration": 1297,
        "start_time": "2021-09-17T07:42:48.015Z"
      },
      {
        "duration": 25,
        "start_time": "2021-09-17T07:42:49.315Z"
      },
      {
        "duration": 45,
        "start_time": "2021-09-17T07:42:49.343Z"
      },
      {
        "duration": 7,
        "start_time": "2021-09-17T07:42:49.391Z"
      },
      {
        "duration": 17,
        "start_time": "2021-09-17T07:42:49.400Z"
      },
      {
        "duration": 42,
        "start_time": "2021-09-17T07:42:49.420Z"
      },
      {
        "duration": 5,
        "start_time": "2021-09-17T07:42:49.464Z"
      },
      {
        "duration": 6,
        "start_time": "2021-09-17T07:42:49.472Z"
      },
      {
        "duration": 19,
        "start_time": "2021-09-17T07:42:49.480Z"
      },
      {
        "duration": 67,
        "start_time": "2021-09-17T07:42:49.501Z"
      },
      {
        "duration": 4,
        "start_time": "2021-09-17T07:42:49.570Z"
      },
      {
        "duration": 11,
        "start_time": "2021-09-17T07:42:49.576Z"
      },
      {
        "duration": 47,
        "start_time": "2021-09-17T07:42:49.590Z"
      },
      {
        "duration": 44,
        "start_time": "2021-09-17T07:42:49.640Z"
      },
      {
        "duration": 117,
        "start_time": "2021-09-17T07:42:49.687Z"
      },
      {
        "duration": 69,
        "start_time": "2021-09-17T07:42:49.814Z"
      },
      {
        "duration": 4,
        "start_time": "2021-09-17T07:42:49.887Z"
      },
      {
        "duration": 32,
        "start_time": "2021-09-17T07:42:49.893Z"
      },
      {
        "duration": 11,
        "start_time": "2021-09-17T07:42:49.928Z"
      },
      {
        "duration": 21,
        "start_time": "2021-09-17T07:42:49.963Z"
      },
      {
        "duration": 12,
        "start_time": "2021-09-17T07:42:49.987Z"
      },
      {
        "duration": 16,
        "start_time": "2021-09-17T07:42:50.002Z"
      },
      {
        "duration": 577,
        "start_time": "2021-09-17T07:42:50.021Z"
      },
      {
        "duration": 13,
        "start_time": "2021-09-17T07:42:50.601Z"
      },
      {
        "duration": 15,
        "start_time": "2021-09-17T07:42:50.617Z"
      },
      {
        "duration": 48,
        "start_time": "2021-09-17T07:42:50.635Z"
      },
      {
        "duration": 8,
        "start_time": "2021-09-17T07:42:50.685Z"
      },
      {
        "duration": 16,
        "start_time": "2021-09-17T07:42:50.696Z"
      },
      {
        "duration": 49,
        "start_time": "2021-09-17T07:42:50.714Z"
      },
      {
        "duration": 12,
        "start_time": "2021-09-17T07:42:50.766Z"
      },
      {
        "duration": 6,
        "start_time": "2021-09-17T07:42:50.780Z"
      },
      {
        "duration": 23,
        "start_time": "2021-09-17T07:42:50.788Z"
      },
      {
        "duration": 8,
        "start_time": "2021-09-17T07:42:50.814Z"
      },
      {
        "duration": 71,
        "start_time": "2021-09-17T07:42:50.825Z"
      },
      {
        "duration": 5,
        "start_time": "2021-09-17T07:42:50.899Z"
      },
      {
        "duration": 12,
        "start_time": "2021-09-17T07:42:50.906Z"
      },
      {
        "duration": 8,
        "start_time": "2021-09-17T07:42:50.920Z"
      },
      {
        "duration": 6,
        "start_time": "2021-09-17T07:42:50.963Z"
      },
      {
        "duration": 16,
        "start_time": "2021-09-17T07:42:50.972Z"
      },
      {
        "duration": 16,
        "start_time": "2021-09-17T07:42:50.991Z"
      },
      {
        "duration": 10,
        "start_time": "2021-09-17T07:42:51.010Z"
      },
      {
        "duration": 41,
        "start_time": "2021-09-17T07:42:51.022Z"
      },
      {
        "duration": 5,
        "start_time": "2021-09-17T07:42:51.066Z"
      },
      {
        "duration": 40,
        "start_time": "2021-09-17T07:42:51.074Z"
      },
      {
        "duration": 5,
        "start_time": "2021-09-17T07:42:51.116Z"
      },
      {
        "duration": 18,
        "start_time": "2021-09-17T07:42:51.124Z"
      },
      {
        "duration": 36,
        "start_time": "2021-09-17T07:42:51.144Z"
      },
      {
        "duration": 129,
        "start_time": "2021-09-17T07:42:51.182Z"
      },
      {
        "duration": 20,
        "start_time": "2021-09-17T07:42:51.314Z"
      },
      {
        "duration": 1103,
        "start_time": "2021-09-17T07:42:51.337Z"
      },
      {
        "duration": 321,
        "start_time": "2021-09-17T07:42:52.443Z"
      },
      {
        "duration": 3,
        "start_time": "2021-09-17T07:42:52.766Z"
      },
      {
        "duration": 1093,
        "start_time": "2021-09-17T07:42:52.772Z"
      },
      {
        "duration": 1045,
        "start_time": "2021-09-17T07:42:53.868Z"
      },
      {
        "duration": 2859,
        "start_time": "2021-09-17T07:42:54.915Z"
      },
      {
        "duration": 29,
        "start_time": "2021-09-17T07:42:57.777Z"
      },
      {
        "duration": 52,
        "start_time": "2021-09-17T07:42:57.809Z"
      },
      {
        "duration": 148,
        "start_time": "2021-09-17T07:42:57.865Z"
      },
      {
        "duration": 8,
        "start_time": "2021-09-17T07:42:58.015Z"
      },
      {
        "duration": 866,
        "start_time": "2021-09-17T07:42:58.025Z"
      },
      {
        "duration": 8,
        "start_time": "2021-09-17T07:42:58.893Z"
      },
      {
        "duration": 338,
        "start_time": "2021-09-17T07:42:58.903Z"
      },
      {
        "duration": 8,
        "start_time": "2021-09-17T07:42:59.263Z"
      },
      {
        "duration": 35,
        "start_time": "2021-09-17T07:42:59.274Z"
      },
      {
        "duration": 4,
        "start_time": "2021-09-17T07:42:59.311Z"
      },
      {
        "duration": 33,
        "start_time": "2021-09-17T07:42:59.317Z"
      },
      {
        "duration": 54,
        "start_time": "2021-09-17T07:42:59.352Z"
      },
      {
        "duration": 18,
        "start_time": "2021-09-17T07:42:59.408Z"
      },
      {
        "duration": 21,
        "start_time": "2021-09-17T07:42:59.429Z"
      },
      {
        "duration": 28,
        "start_time": "2021-09-17T07:42:59.460Z"
      },
      {
        "duration": 11,
        "start_time": "2021-09-17T07:42:59.491Z"
      },
      {
        "duration": 24,
        "start_time": "2021-09-17T07:42:59.504Z"
      },
      {
        "duration": 40,
        "start_time": "2021-09-17T07:42:59.531Z"
      },
      {
        "duration": 65,
        "start_time": "2021-09-17T07:42:59.574Z"
      },
      {
        "duration": 4,
        "start_time": "2021-09-17T07:42:59.646Z"
      },
      {
        "duration": 40,
        "start_time": "2021-09-17T07:42:59.661Z"
      },
      {
        "duration": 60,
        "start_time": "2021-09-17T07:42:59.704Z"
      },
      {
        "duration": 7,
        "start_time": "2021-09-17T07:42:59.767Z"
      },
      {
        "duration": 23,
        "start_time": "2021-09-17T07:42:59.777Z"
      },
      {
        "duration": 21,
        "start_time": "2021-09-17T07:42:59.803Z"
      },
      {
        "duration": 17,
        "start_time": "2021-09-17T07:42:59.827Z"
      },
      {
        "duration": 426,
        "start_time": "2021-09-17T07:42:59.847Z"
      },
      {
        "duration": -279,
        "start_time": "2021-09-17T07:43:00.555Z"
      },
      {
        "duration": -282,
        "start_time": "2021-09-17T07:43:00.560Z"
      },
      {
        "duration": 17,
        "start_time": "2021-09-17T07:50:38.072Z"
      },
      {
        "duration": 11,
        "start_time": "2021-09-17T07:51:44.898Z"
      },
      {
        "duration": 10,
        "start_time": "2021-09-17T07:51:46.743Z"
      },
      {
        "duration": 14,
        "start_time": "2021-09-17T07:51:59.621Z"
      },
      {
        "duration": 399,
        "start_time": "2021-09-17T07:52:11.076Z"
      },
      {
        "duration": 22,
        "start_time": "2021-09-17T07:52:15.754Z"
      },
      {
        "duration": 16,
        "start_time": "2021-09-17T07:53:16.441Z"
      },
      {
        "duration": 15,
        "start_time": "2021-09-17T07:53:47.455Z"
      },
      {
        "duration": 17,
        "start_time": "2021-09-17T07:53:55.600Z"
      },
      {
        "duration": 25,
        "start_time": "2021-09-17T07:54:13.357Z"
      },
      {
        "duration": 29,
        "start_time": "2021-09-17T07:54:32.576Z"
      },
      {
        "duration": 21,
        "start_time": "2021-09-17T07:55:00.555Z"
      },
      {
        "duration": 27,
        "start_time": "2021-09-17T07:56:02.170Z"
      },
      {
        "duration": 81,
        "start_time": "2021-09-17T08:00:13.050Z"
      },
      {
        "duration": 27,
        "start_time": "2021-09-17T08:00:17.046Z"
      },
      {
        "duration": 38,
        "start_time": "2021-09-17T08:00:28.508Z"
      },
      {
        "duration": 33,
        "start_time": "2021-09-17T08:00:49.143Z"
      },
      {
        "duration": 36,
        "start_time": "2021-09-17T08:01:11.407Z"
      },
      {
        "duration": 351,
        "start_time": "2021-09-17T08:02:08.213Z"
      },
      {
        "duration": 543,
        "start_time": "2021-09-17T08:02:12.879Z"
      },
      {
        "duration": 36,
        "start_time": "2021-09-17T08:02:16.869Z"
      },
      {
        "duration": 3,
        "start_time": "2021-09-17T08:02:48.239Z"
      },
      {
        "duration": 36,
        "start_time": "2021-09-17T08:04:26.698Z"
      },
      {
        "duration": 33,
        "start_time": "2021-09-17T08:04:28.769Z"
      },
      {
        "duration": 24,
        "start_time": "2021-09-17T08:05:05.104Z"
      },
      {
        "duration": 294,
        "start_time": "2021-09-17T08:05:20.377Z"
      },
      {
        "duration": 25,
        "start_time": "2021-09-17T08:05:24.744Z"
      },
      {
        "duration": 39,
        "start_time": "2021-09-17T08:05:28.395Z"
      },
      {
        "duration": 34,
        "start_time": "2021-09-17T08:05:31.858Z"
      },
      {
        "duration": 32,
        "start_time": "2021-09-17T08:05:45.790Z"
      },
      {
        "duration": 375,
        "start_time": "2021-09-17T08:07:12.348Z"
      },
      {
        "duration": 904,
        "start_time": "2021-09-17T08:07:18.200Z"
      },
      {
        "duration": 260,
        "start_time": "2021-09-17T08:07:23.155Z"
      },
      {
        "duration": 321,
        "start_time": "2021-09-17T08:07:43.558Z"
      },
      {
        "duration": 33,
        "start_time": "2021-09-17T08:08:07.507Z"
      },
      {
        "duration": 3230,
        "start_time": "2021-09-17T08:08:24.202Z"
      },
      {
        "duration": 428,
        "start_time": "2021-09-17T08:08:31.309Z"
      },
      {
        "duration": 38,
        "start_time": "2021-09-17T08:08:40.880Z"
      },
      {
        "duration": 27,
        "start_time": "2021-09-17T08:10:52.443Z"
      },
      {
        "duration": 1639,
        "start_time": "2021-09-17T08:11:44.890Z"
      },
      {
        "duration": 459,
        "start_time": "2021-09-17T08:11:56.603Z"
      },
      {
        "duration": 217,
        "start_time": "2021-09-17T08:12:02.563Z"
      },
      {
        "duration": 132,
        "start_time": "2021-09-17T08:12:07.014Z"
      },
      {
        "duration": 212,
        "start_time": "2021-09-17T08:12:12.423Z"
      },
      {
        "duration": 212,
        "start_time": "2021-09-17T08:13:00.475Z"
      },
      {
        "duration": 237,
        "start_time": "2021-09-17T08:13:12.327Z"
      },
      {
        "duration": 219,
        "start_time": "2021-09-17T08:19:43.405Z"
      },
      {
        "duration": 231,
        "start_time": "2021-09-17T08:19:50.049Z"
      },
      {
        "duration": 161,
        "start_time": "2021-09-17T08:20:06.661Z"
      },
      {
        "duration": 230,
        "start_time": "2021-09-17T08:21:59.315Z"
      },
      {
        "duration": 235,
        "start_time": "2021-09-17T08:24:36.196Z"
      },
      {
        "duration": 100,
        "start_time": "2021-09-17T08:24:52.716Z"
      },
      {
        "duration": 284,
        "start_time": "2021-09-17T08:24:55.358Z"
      },
      {
        "duration": 13,
        "start_time": "2021-09-17T08:27:12.109Z"
      },
      {
        "duration": 20,
        "start_time": "2021-09-17T08:27:22.035Z"
      },
      {
        "duration": 16,
        "start_time": "2021-09-17T08:27:31.519Z"
      },
      {
        "duration": 18,
        "start_time": "2021-09-17T08:27:51.180Z"
      },
      {
        "duration": 16,
        "start_time": "2021-09-17T08:30:57.326Z"
      },
      {
        "duration": 90,
        "start_time": "2021-09-17T08:31:46.665Z"
      },
      {
        "duration": 89,
        "start_time": "2021-09-17T08:31:58.846Z"
      },
      {
        "duration": 21,
        "start_time": "2021-09-17T08:32:04.470Z"
      },
      {
        "duration": 78,
        "start_time": "2021-09-17T08:37:18.072Z"
      },
      {
        "duration": 154,
        "start_time": "2021-09-17T08:37:22.533Z"
      },
      {
        "duration": 80,
        "start_time": "2021-09-17T08:38:12.977Z"
      },
      {
        "duration": 144,
        "start_time": "2021-09-17T08:38:32.550Z"
      },
      {
        "duration": 5,
        "start_time": "2021-09-17T08:39:19.519Z"
      },
      {
        "duration": 360,
        "start_time": "2021-09-17T08:39:48.382Z"
      },
      {
        "duration": 346,
        "start_time": "2021-09-17T08:39:53.188Z"
      },
      {
        "duration": 2011,
        "start_time": "2021-09-17T08:39:59.944Z"
      },
      {
        "duration": 88,
        "start_time": "2021-09-17T08:40:12.083Z"
      },
      {
        "duration": 188,
        "start_time": "2021-09-17T08:40:24.153Z"
      },
      {
        "duration": 644,
        "start_time": "2021-09-17T08:40:45.530Z"
      },
      {
        "duration": 144,
        "start_time": "2021-09-17T08:40:47.977Z"
      },
      {
        "duration": 86,
        "start_time": "2021-09-17T08:41:10.449Z"
      },
      {
        "duration": 86,
        "start_time": "2021-09-17T08:41:12.423Z"
      },
      {
        "duration": 155,
        "start_time": "2021-09-17T08:41:26.177Z"
      },
      {
        "duration": 96,
        "start_time": "2021-09-17T08:41:37.639Z"
      },
      {
        "duration": 169,
        "start_time": "2021-09-17T08:45:06.460Z"
      },
      {
        "duration": 91,
        "start_time": "2021-09-17T08:45:57.330Z"
      },
      {
        "duration": 171,
        "start_time": "2021-09-17T08:46:00.909Z"
      },
      {
        "duration": 120,
        "start_time": "2021-09-17T08:46:20.600Z"
      },
      {
        "duration": 97,
        "start_time": "2021-09-17T08:46:27.966Z"
      },
      {
        "duration": 6,
        "start_time": "2021-09-18T04:39:31.417Z"
      },
      {
        "duration": 335,
        "start_time": "2021-09-18T04:39:40.205Z"
      },
      {
        "duration": 9822,
        "start_time": "2021-09-18T04:39:57.258Z"
      },
      {
        "duration": 1466,
        "start_time": "2021-09-18T04:40:07.083Z"
      },
      {
        "duration": 16,
        "start_time": "2021-09-18T04:40:08.552Z"
      },
      {
        "duration": 30,
        "start_time": "2021-09-18T04:40:08.571Z"
      },
      {
        "duration": 21,
        "start_time": "2021-09-18T04:40:08.604Z"
      },
      {
        "duration": 34,
        "start_time": "2021-09-18T04:40:08.627Z"
      },
      {
        "duration": 27,
        "start_time": "2021-09-18T04:40:08.663Z"
      },
      {
        "duration": 17,
        "start_time": "2021-09-18T04:40:08.692Z"
      },
      {
        "duration": 28,
        "start_time": "2021-09-18T04:40:08.713Z"
      },
      {
        "duration": 15,
        "start_time": "2021-09-18T04:40:08.744Z"
      },
      {
        "duration": 23,
        "start_time": "2021-09-18T04:40:08.761Z"
      },
      {
        "duration": 1252,
        "start_time": "2021-09-18T04:40:08.787Z"
      },
      {
        "duration": 43,
        "start_time": "2021-09-18T04:40:10.042Z"
      },
      {
        "duration": 33,
        "start_time": "2021-09-18T04:40:10.088Z"
      },
      {
        "duration": 6,
        "start_time": "2021-09-18T04:40:10.123Z"
      },
      {
        "duration": 30,
        "start_time": "2021-09-18T04:40:10.131Z"
      },
      {
        "duration": 6,
        "start_time": "2021-09-18T04:40:10.183Z"
      },
      {
        "duration": 10,
        "start_time": "2021-09-18T04:40:10.192Z"
      },
      {
        "duration": 13,
        "start_time": "2021-09-18T04:40:10.204Z"
      },
      {
        "duration": 21,
        "start_time": "2021-09-18T04:40:10.219Z"
      },
      {
        "duration": 54,
        "start_time": "2021-09-18T04:40:10.242Z"
      },
      {
        "duration": 3,
        "start_time": "2021-09-18T04:40:10.299Z"
      },
      {
        "duration": 11,
        "start_time": "2021-09-18T04:40:10.305Z"
      },
      {
        "duration": 62,
        "start_time": "2021-09-18T04:40:10.319Z"
      },
      {
        "duration": 34,
        "start_time": "2021-09-18T04:40:10.384Z"
      },
      {
        "duration": 119,
        "start_time": "2021-09-18T04:40:10.420Z"
      },
      {
        "duration": 60,
        "start_time": "2021-09-18T04:40:10.545Z"
      },
      {
        "duration": 3,
        "start_time": "2021-09-18T04:40:10.609Z"
      },
      {
        "duration": 46,
        "start_time": "2021-09-18T04:40:10.615Z"
      },
      {
        "duration": 8,
        "start_time": "2021-09-18T04:40:10.664Z"
      },
      {
        "duration": 21,
        "start_time": "2021-09-18T04:40:10.675Z"
      },
      {
        "duration": 8,
        "start_time": "2021-09-18T04:40:10.699Z"
      },
      {
        "duration": 13,
        "start_time": "2021-09-18T04:40:10.709Z"
      },
      {
        "duration": 449,
        "start_time": "2021-09-18T04:40:10.724Z"
      },
      {
        "duration": 9,
        "start_time": "2021-09-18T04:40:11.176Z"
      },
      {
        "duration": 30,
        "start_time": "2021-09-18T04:40:11.187Z"
      },
      {
        "duration": 33,
        "start_time": "2021-09-18T04:40:11.219Z"
      },
      {
        "duration": 7,
        "start_time": "2021-09-18T04:40:11.255Z"
      },
      {
        "duration": 20,
        "start_time": "2021-09-18T04:40:11.265Z"
      },
      {
        "duration": 17,
        "start_time": "2021-09-18T04:40:11.287Z"
      },
      {
        "duration": 11,
        "start_time": "2021-09-18T04:40:11.306Z"
      },
      {
        "duration": 5,
        "start_time": "2021-09-18T04:40:11.319Z"
      },
      {
        "duration": 56,
        "start_time": "2021-09-18T04:40:11.327Z"
      },
      {
        "duration": 7,
        "start_time": "2021-09-18T04:40:11.385Z"
      },
      {
        "duration": 40,
        "start_time": "2021-09-18T04:40:11.395Z"
      },
      {
        "duration": 5,
        "start_time": "2021-09-18T04:40:11.438Z"
      },
      {
        "duration": 39,
        "start_time": "2021-09-18T04:40:11.446Z"
      },
      {
        "duration": 12,
        "start_time": "2021-09-18T04:40:11.487Z"
      },
      {
        "duration": 18,
        "start_time": "2021-09-18T04:40:11.502Z"
      },
      {
        "duration": 21,
        "start_time": "2021-09-18T04:40:11.522Z"
      },
      {
        "duration": 18,
        "start_time": "2021-09-18T04:40:11.545Z"
      },
      {
        "duration": 18,
        "start_time": "2021-09-18T04:40:11.565Z"
      },
      {
        "duration": 16,
        "start_time": "2021-09-18T04:40:11.586Z"
      },
      {
        "duration": 31,
        "start_time": "2021-09-18T04:40:11.604Z"
      },
      {
        "duration": 47,
        "start_time": "2021-09-18T04:40:11.638Z"
      },
      {
        "duration": 3,
        "start_time": "2021-09-18T04:40:11.687Z"
      },
      {
        "duration": 230,
        "start_time": "2021-09-18T04:40:11.693Z"
      },
      {
        "duration": 3,
        "start_time": "2021-09-18T04:40:11.926Z"
      },
      {
        "duration": 114,
        "start_time": "2021-09-18T04:40:11.930Z"
      },
      {
        "duration": 6,
        "start_time": "2021-09-18T04:40:12.047Z"
      },
      {
        "duration": 33,
        "start_time": "2021-09-18T04:40:12.056Z"
      },
      {
        "duration": 25,
        "start_time": "2021-09-18T04:40:12.091Z"
      },
      {
        "duration": 114,
        "start_time": "2021-09-18T04:40:12.118Z"
      },
      {
        "duration": 19,
        "start_time": "2021-09-18T04:40:12.235Z"
      },
      {
        "duration": 890,
        "start_time": "2021-09-18T04:40:12.281Z"
      },
      {
        "duration": 339,
        "start_time": "2021-09-18T04:40:21.358Z"
      },
      {
        "duration": 5,
        "start_time": "2021-09-18T04:46:13.589Z"
      },
      {
        "duration": 280,
        "start_time": "2021-09-18T04:46:14.229Z"
      },
      {
        "duration": 5,
        "start_time": "2021-09-18T04:46:38.981Z"
      },
      {
        "duration": 576,
        "start_time": "2021-09-18T04:46:40.855Z"
      },
      {
        "duration": 5,
        "start_time": "2021-09-18T04:47:00.306Z"
      },
      {
        "duration": 495,
        "start_time": "2021-09-18T04:47:01.610Z"
      },
      {
        "duration": 5,
        "start_time": "2021-09-18T04:47:09.174Z"
      },
      {
        "duration": 287,
        "start_time": "2021-09-18T04:47:09.756Z"
      },
      {
        "duration": 6,
        "start_time": "2021-09-18T04:53:07.035Z"
      },
      {
        "duration": 880,
        "start_time": "2021-09-18T04:53:07.677Z"
      },
      {
        "duration": 7,
        "start_time": "2021-09-18T04:53:15.848Z"
      },
      {
        "duration": 327,
        "start_time": "2021-09-18T04:53:19.428Z"
      },
      {
        "duration": 9,
        "start_time": "2021-09-18T04:54:04.430Z"
      },
      {
        "duration": 913,
        "start_time": "2021-09-18T04:54:05.006Z"
      },
      {
        "duration": 7,
        "start_time": "2021-09-18T04:54:49.970Z"
      },
      {
        "duration": 333,
        "start_time": "2021-09-18T04:54:50.329Z"
      },
      {
        "duration": 9,
        "start_time": "2021-09-18T04:55:01.261Z"
      },
      {
        "duration": 329,
        "start_time": "2021-09-18T04:55:02.721Z"
      },
      {
        "duration": 7,
        "start_time": "2021-09-18T04:55:22.274Z"
      },
      {
        "duration": 357,
        "start_time": "2021-09-18T04:55:22.586Z"
      },
      {
        "duration": 7,
        "start_time": "2021-09-18T04:55:28.526Z"
      },
      {
        "duration": 310,
        "start_time": "2021-09-18T04:55:29.058Z"
      },
      {
        "duration": 7,
        "start_time": "2021-09-18T04:56:35.652Z"
      },
      {
        "duration": 313,
        "start_time": "2021-09-18T04:56:35.938Z"
      },
      {
        "duration": 6,
        "start_time": "2021-09-18T05:01:19.573Z"
      },
      {
        "duration": 396,
        "start_time": "2021-09-18T05:01:19.761Z"
      },
      {
        "duration": 328,
        "start_time": "2021-09-18T05:01:35.857Z"
      },
      {
        "duration": 7,
        "start_time": "2021-09-18T05:02:36.794Z"
      },
      {
        "duration": 320,
        "start_time": "2021-09-18T05:02:36.978Z"
      },
      {
        "duration": 7,
        "start_time": "2021-09-18T05:02:51.630Z"
      },
      {
        "duration": 321,
        "start_time": "2021-09-18T05:02:51.885Z"
      },
      {
        "duration": 331,
        "start_time": "2021-09-18T05:02:54.669Z"
      },
      {
        "duration": 5,
        "start_time": "2021-09-18T05:06:40.155Z"
      },
      {
        "duration": 89,
        "start_time": "2021-09-18T05:06:44.740Z"
      },
      {
        "duration": 7,
        "start_time": "2021-09-18T05:07:05.776Z"
      },
      {
        "duration": 7,
        "start_time": "2021-09-18T05:07:11.713Z"
      },
      {
        "duration": 3,
        "start_time": "2021-09-18T05:08:09.812Z"
      },
      {
        "duration": 87,
        "start_time": "2021-09-18T05:13:13.559Z"
      },
      {
        "duration": 1075,
        "start_time": "2021-09-18T05:13:22.843Z"
      },
      {
        "duration": 9,
        "start_time": "2021-09-18T05:14:57.030Z"
      },
      {
        "duration": 993,
        "start_time": "2021-09-18T05:15:21.421Z"
      },
      {
        "duration": 678,
        "start_time": "2021-09-18T05:16:36.677Z"
      },
      {
        "duration": 750,
        "start_time": "2021-09-18T05:16:37.547Z"
      },
      {
        "duration": 1292,
        "start_time": "2021-09-18T05:16:46.694Z"
      },
      {
        "duration": 670,
        "start_time": "2021-09-18T05:16:51.113Z"
      },
      {
        "duration": 680,
        "start_time": "2021-09-18T05:16:59.025Z"
      },
      {
        "duration": 9,
        "start_time": "2021-09-18T05:17:29.234Z"
      },
      {
        "duration": 764,
        "start_time": "2021-09-18T05:17:32.769Z"
      },
      {
        "duration": 755,
        "start_time": "2021-09-18T05:18:54.603Z"
      },
      {
        "duration": 10,
        "start_time": "2021-09-18T05:19:05.367Z"
      },
      {
        "duration": 754,
        "start_time": "2021-09-18T05:19:05.746Z"
      },
      {
        "duration": 10,
        "start_time": "2021-09-18T05:19:36.674Z"
      },
      {
        "duration": 878,
        "start_time": "2021-09-18T05:19:36.930Z"
      },
      {
        "duration": 9,
        "start_time": "2021-09-18T05:22:20.451Z"
      },
      {
        "duration": 2527,
        "start_time": "2021-09-18T05:22:26.780Z"
      },
      {
        "duration": 4211,
        "start_time": "2021-09-18T05:22:59.408Z"
      },
      {
        "duration": 1430,
        "start_time": "2021-09-18T05:23:03.622Z"
      },
      {
        "duration": 26,
        "start_time": "2021-09-18T05:23:05.057Z"
      },
      {
        "duration": 9,
        "start_time": "2021-09-18T05:23:05.088Z"
      },
      {
        "duration": 16,
        "start_time": "2021-09-18T05:23:05.099Z"
      },
      {
        "duration": 18,
        "start_time": "2021-09-18T05:23:05.118Z"
      },
      {
        "duration": 14,
        "start_time": "2021-09-18T05:23:05.138Z"
      },
      {
        "duration": 29,
        "start_time": "2021-09-18T05:23:05.157Z"
      },
      {
        "duration": 18,
        "start_time": "2021-09-18T05:23:05.191Z"
      },
      {
        "duration": 14,
        "start_time": "2021-09-18T05:23:05.212Z"
      },
      {
        "duration": 18,
        "start_time": "2021-09-18T05:23:05.229Z"
      },
      {
        "duration": 9,
        "start_time": "2021-09-18T05:23:05.249Z"
      },
      {
        "duration": 28,
        "start_time": "2021-09-18T05:23:05.261Z"
      },
      {
        "duration": 1121,
        "start_time": "2021-09-18T05:23:05.292Z"
      },
      {
        "duration": 25,
        "start_time": "2021-09-18T05:23:06.416Z"
      },
      {
        "duration": 58,
        "start_time": "2021-09-18T05:23:06.444Z"
      },
      {
        "duration": 7,
        "start_time": "2021-09-18T05:23:06.504Z"
      },
      {
        "duration": 18,
        "start_time": "2021-09-18T05:23:06.514Z"
      },
      {
        "duration": 7,
        "start_time": "2021-09-18T05:23:06.534Z"
      },
      {
        "duration": 114,
        "start_time": "2021-09-18T05:23:06.543Z"
      },
      {
        "duration": 7,
        "start_time": "2021-09-18T05:23:06.660Z"
      },
      {
        "duration": 26,
        "start_time": "2021-09-18T05:23:06.669Z"
      },
      {
        "duration": 31,
        "start_time": "2021-09-18T05:23:06.702Z"
      },
      {
        "duration": 4,
        "start_time": "2021-09-18T05:23:06.737Z"
      },
      {
        "duration": 9,
        "start_time": "2021-09-18T05:23:06.743Z"
      },
      {
        "duration": 54,
        "start_time": "2021-09-18T05:23:06.754Z"
      },
      {
        "duration": 71,
        "start_time": "2021-09-18T05:23:06.811Z"
      },
      {
        "duration": 168,
        "start_time": "2021-09-18T05:23:06.885Z"
      },
      {
        "duration": 62,
        "start_time": "2021-09-18T05:23:07.056Z"
      },
      {
        "duration": 3,
        "start_time": "2021-09-18T05:23:07.121Z"
      },
      {
        "duration": 31,
        "start_time": "2021-09-18T05:23:07.126Z"
      },
      {
        "duration": 25,
        "start_time": "2021-09-18T05:23:07.160Z"
      },
      {
        "duration": 21,
        "start_time": "2021-09-18T05:23:07.187Z"
      },
      {
        "duration": 9,
        "start_time": "2021-09-18T05:23:07.210Z"
      },
      {
        "duration": 12,
        "start_time": "2021-09-18T05:23:07.221Z"
      },
      {
        "duration": 466,
        "start_time": "2021-09-18T05:23:07.235Z"
      },
      {
        "duration": 10,
        "start_time": "2021-09-18T05:23:07.704Z"
      },
      {
        "duration": 45,
        "start_time": "2021-09-18T05:23:07.716Z"
      },
      {
        "duration": 25,
        "start_time": "2021-09-18T05:23:07.763Z"
      },
      {
        "duration": 9,
        "start_time": "2021-09-18T05:23:07.791Z"
      },
      {
        "duration": 10,
        "start_time": "2021-09-18T05:23:07.802Z"
      },
      {
        "duration": 17,
        "start_time": "2021-09-18T05:23:07.815Z"
      },
      {
        "duration": 11,
        "start_time": "2021-09-18T05:23:07.834Z"
      },
      {
        "duration": 5,
        "start_time": "2021-09-18T05:23:07.883Z"
      },
      {
        "duration": 20,
        "start_time": "2021-09-18T05:23:07.890Z"
      },
      {
        "duration": 6,
        "start_time": "2021-09-18T05:23:07.913Z"
      },
      {
        "duration": 67,
        "start_time": "2021-09-18T05:23:07.921Z"
      },
      {
        "duration": 6,
        "start_time": "2021-09-18T05:23:07.990Z"
      },
      {
        "duration": 11,
        "start_time": "2021-09-18T05:23:07.998Z"
      },
      {
        "duration": 9,
        "start_time": "2021-09-18T05:23:08.011Z"
      },
      {
        "duration": 8,
        "start_time": "2021-09-18T05:23:08.022Z"
      },
      {
        "duration": 7,
        "start_time": "2021-09-18T05:23:08.032Z"
      },
      {
        "duration": 52,
        "start_time": "2021-09-18T05:23:08.041Z"
      },
      {
        "duration": 7,
        "start_time": "2021-09-18T05:23:08.095Z"
      },
      {
        "duration": 7,
        "start_time": "2021-09-18T05:23:08.104Z"
      },
      {
        "duration": 10,
        "start_time": "2021-09-18T05:23:08.113Z"
      },
      {
        "duration": 65,
        "start_time": "2021-09-18T05:23:08.126Z"
      },
      {
        "duration": 3,
        "start_time": "2021-09-18T05:23:08.193Z"
      },
      {
        "duration": 241,
        "start_time": "2021-09-18T05:23:08.199Z"
      },
      {
        "duration": 2,
        "start_time": "2021-09-18T05:23:08.443Z"
      },
      {
        "duration": 109,
        "start_time": "2021-09-18T05:23:08.448Z"
      },
      {
        "duration": 5,
        "start_time": "2021-09-18T05:23:08.560Z"
      },
      {
        "duration": 24,
        "start_time": "2021-09-18T05:23:08.567Z"
      },
      {
        "duration": 18,
        "start_time": "2021-09-18T05:23:08.593Z"
      },
      {
        "duration": 125,
        "start_time": "2021-09-18T05:23:08.614Z"
      },
      {
        "duration": 19,
        "start_time": "2021-09-18T05:23:08.741Z"
      },
      {
        "duration": 340,
        "start_time": "2021-09-18T05:23:08.762Z"
      },
      {
        "duration": 329,
        "start_time": "2021-09-18T05:23:09.111Z"
      },
      {
        "duration": 3,
        "start_time": "2021-09-18T05:23:09.444Z"
      },
      {
        "duration": 1015,
        "start_time": "2021-09-18T05:23:09.449Z"
      },
      {
        "duration": 916,
        "start_time": "2021-09-18T05:23:10.466Z"
      },
      {
        "duration": 2604,
        "start_time": "2021-09-18T05:23:11.385Z"
      },
      {
        "duration": 24,
        "start_time": "2021-09-18T05:23:13.992Z"
      },
      {
        "duration": 19,
        "start_time": "2021-09-18T05:23:14.019Z"
      },
      {
        "duration": 159,
        "start_time": "2021-09-18T05:23:14.040Z"
      },
      {
        "duration": 7,
        "start_time": "2021-09-18T05:23:14.202Z"
      },
      {
        "duration": 841,
        "start_time": "2021-09-18T05:23:14.211Z"
      },
      {
        "duration": 8,
        "start_time": "2021-09-18T05:23:15.055Z"
      },
      {
        "duration": 337,
        "start_time": "2021-09-18T05:23:15.066Z"
      },
      {
        "duration": 8,
        "start_time": "2021-09-18T05:23:15.405Z"
      },
      {
        "duration": 31,
        "start_time": "2021-09-18T05:23:15.416Z"
      },
      {
        "duration": 3,
        "start_time": "2021-09-18T05:23:15.449Z"
      },
      {
        "duration": 31,
        "start_time": "2021-09-18T05:23:15.454Z"
      },
      {
        "duration": 20,
        "start_time": "2021-09-18T05:23:15.488Z"
      },
      {
        "duration": 23,
        "start_time": "2021-09-18T05:23:15.510Z"
      },
      {
        "duration": 8,
        "start_time": "2021-09-18T05:23:15.536Z"
      },
      {
        "duration": 6,
        "start_time": "2021-09-18T05:23:15.547Z"
      },
      {
        "duration": 29,
        "start_time": "2021-09-18T05:23:15.555Z"
      },
      {
        "duration": 4,
        "start_time": "2021-09-18T05:23:15.587Z"
      },
      {
        "duration": 25,
        "start_time": "2021-09-18T05:23:15.594Z"
      },
      {
        "duration": 75,
        "start_time": "2021-09-18T05:23:15.621Z"
      },
      {
        "duration": 3,
        "start_time": "2021-09-18T05:23:15.698Z"
      },
      {
        "duration": 21,
        "start_time": "2021-09-18T05:23:15.703Z"
      },
      {
        "duration": 58,
        "start_time": "2021-09-18T05:23:15.727Z"
      },
      {
        "duration": 5,
        "start_time": "2021-09-18T05:23:15.788Z"
      },
      {
        "duration": 14,
        "start_time": "2021-09-18T05:23:15.796Z"
      },
      {
        "duration": 23,
        "start_time": "2021-09-18T05:23:15.812Z"
      },
      {
        "duration": 30,
        "start_time": "2021-09-18T05:23:15.837Z"
      },
      {
        "duration": 465,
        "start_time": "2021-09-18T05:23:15.869Z"
      },
      {
        "duration": -98,
        "start_time": "2021-09-18T05:23:16.434Z"
      },
      {
        "duration": -105,
        "start_time": "2021-09-18T05:23:16.443Z"
      },
      {
        "duration": 112,
        "start_time": "2021-09-18T06:04:21.561Z"
      },
      {
        "duration": 291,
        "start_time": "2021-09-18T06:08:28.151Z"
      },
      {
        "duration": 15,
        "start_time": "2021-09-18T06:08:35.171Z"
      },
      {
        "duration": 755,
        "start_time": "2021-09-18T06:08:59.756Z"
      },
      {
        "duration": 25,
        "start_time": "2021-09-18T06:09:17.112Z"
      },
      {
        "duration": 4021,
        "start_time": "2021-09-18T06:09:38.113Z"
      },
      {
        "duration": 3718,
        "start_time": "2021-09-18T06:09:42.856Z"
      },
      {
        "duration": 292,
        "start_time": "2021-09-18T06:09:48.160Z"
      },
      {
        "duration": 28,
        "start_time": "2021-09-18T06:09:55.964Z"
      },
      {
        "duration": 38,
        "start_time": "2021-09-18T06:10:31.602Z"
      },
      {
        "duration": 14,
        "start_time": "2021-09-18T06:11:01.761Z"
      },
      {
        "duration": 14,
        "start_time": "2021-09-18T06:11:09.019Z"
      },
      {
        "duration": 15,
        "start_time": "2021-09-18T06:11:12.236Z"
      },
      {
        "duration": 3,
        "start_time": "2021-09-18T06:12:01.941Z"
      },
      {
        "duration": 365,
        "start_time": "2021-09-18T15:16:13.447Z"
      },
      {
        "duration": 10661,
        "start_time": "2021-09-18T15:17:10.237Z"
      },
      {
        "duration": 1454,
        "start_time": "2021-09-18T15:17:20.901Z"
      },
      {
        "duration": 17,
        "start_time": "2021-09-18T15:17:22.358Z"
      },
      {
        "duration": 18,
        "start_time": "2021-09-18T15:17:22.382Z"
      },
      {
        "duration": 24,
        "start_time": "2021-09-18T15:17:22.402Z"
      },
      {
        "duration": 18,
        "start_time": "2021-09-18T15:17:22.428Z"
      },
      {
        "duration": 14,
        "start_time": "2021-09-18T15:17:22.449Z"
      },
      {
        "duration": 14,
        "start_time": "2021-09-18T15:17:22.467Z"
      },
      {
        "duration": 23,
        "start_time": "2021-09-18T15:17:22.485Z"
      },
      {
        "duration": 17,
        "start_time": "2021-09-18T15:17:22.510Z"
      },
      {
        "duration": 17,
        "start_time": "2021-09-18T15:17:22.530Z"
      },
      {
        "duration": 16,
        "start_time": "2021-09-18T15:17:22.550Z"
      },
      {
        "duration": 12,
        "start_time": "2021-09-18T15:17:22.568Z"
      },
      {
        "duration": 1280,
        "start_time": "2021-09-18T15:17:22.582Z"
      },
      {
        "duration": 30,
        "start_time": "2021-09-18T15:17:23.865Z"
      },
      {
        "duration": 35,
        "start_time": "2021-09-18T15:17:23.897Z"
      },
      {
        "duration": 7,
        "start_time": "2021-09-18T15:17:23.934Z"
      },
      {
        "duration": 51,
        "start_time": "2021-09-18T15:17:23.943Z"
      },
      {
        "duration": 7,
        "start_time": "2021-09-18T15:17:23.997Z"
      },
      {
        "duration": 12,
        "start_time": "2021-09-18T15:17:24.007Z"
      },
      {
        "duration": 5,
        "start_time": "2021-09-18T15:17:24.021Z"
      },
      {
        "duration": 34,
        "start_time": "2021-09-18T15:17:24.028Z"
      },
      {
        "duration": 31,
        "start_time": "2021-09-18T15:17:24.087Z"
      },
      {
        "duration": 3,
        "start_time": "2021-09-18T15:17:24.122Z"
      },
      {
        "duration": 7,
        "start_time": "2021-09-18T15:17:24.128Z"
      },
      {
        "duration": 54,
        "start_time": "2021-09-18T15:17:24.138Z"
      },
      {
        "duration": 35,
        "start_time": "2021-09-18T15:17:24.195Z"
      },
      {
        "duration": 126,
        "start_time": "2021-09-18T15:17:24.233Z"
      },
      {
        "duration": 58,
        "start_time": "2021-09-18T15:17:24.362Z"
      },
      {
        "duration": 3,
        "start_time": "2021-09-18T15:17:24.422Z"
      },
      {
        "duration": 28,
        "start_time": "2021-09-18T15:17:24.427Z"
      },
      {
        "duration": 32,
        "start_time": "2021-09-18T15:17:24.458Z"
      },
      {
        "duration": 21,
        "start_time": "2021-09-18T15:17:24.492Z"
      },
      {
        "duration": 10,
        "start_time": "2021-09-18T15:17:24.516Z"
      },
      {
        "duration": 16,
        "start_time": "2021-09-18T15:17:24.529Z"
      },
      {
        "duration": 464,
        "start_time": "2021-09-18T15:17:24.548Z"
      },
      {
        "duration": 9,
        "start_time": "2021-09-18T15:17:25.014Z"
      },
      {
        "duration": 18,
        "start_time": "2021-09-18T15:17:25.025Z"
      },
      {
        "duration": 45,
        "start_time": "2021-09-18T15:17:25.045Z"
      },
      {
        "duration": 10,
        "start_time": "2021-09-18T15:17:25.093Z"
      },
      {
        "duration": 14,
        "start_time": "2021-09-18T15:17:25.105Z"
      },
      {
        "duration": 14,
        "start_time": "2021-09-18T15:17:25.121Z"
      },
      {
        "duration": 46,
        "start_time": "2021-09-18T15:17:25.138Z"
      },
      {
        "duration": 4,
        "start_time": "2021-09-18T15:17:25.186Z"
      },
      {
        "duration": 24,
        "start_time": "2021-09-18T15:17:25.193Z"
      },
      {
        "duration": 6,
        "start_time": "2021-09-18T15:17:25.219Z"
      },
      {
        "duration": 64,
        "start_time": "2021-09-18T15:17:25.227Z"
      },
      {
        "duration": 5,
        "start_time": "2021-09-18T15:17:25.293Z"
      },
      {
        "duration": 16,
        "start_time": "2021-09-18T15:17:25.300Z"
      },
      {
        "duration": 15,
        "start_time": "2021-09-18T15:17:25.318Z"
      },
      {
        "duration": 12,
        "start_time": "2021-09-18T15:17:25.335Z"
      },
      {
        "duration": 9,
        "start_time": "2021-09-18T15:17:25.349Z"
      },
      {
        "duration": 16,
        "start_time": "2021-09-18T15:17:25.383Z"
      },
      {
        "duration": 10,
        "start_time": "2021-09-18T15:17:25.401Z"
      },
      {
        "duration": 8,
        "start_time": "2021-09-18T15:17:25.414Z"
      },
      {
        "duration": 8,
        "start_time": "2021-09-18T15:17:25.425Z"
      },
      {
        "duration": 71,
        "start_time": "2021-09-18T15:17:25.436Z"
      },
      {
        "duration": 3,
        "start_time": "2021-09-18T15:17:25.511Z"
      },
      {
        "duration": 269,
        "start_time": "2021-09-18T15:17:25.518Z"
      },
      {
        "duration": 4,
        "start_time": "2021-09-18T15:17:25.790Z"
      },
      {
        "duration": 124,
        "start_time": "2021-09-18T15:17:25.798Z"
      },
      {
        "duration": 7,
        "start_time": "2021-09-18T15:17:25.925Z"
      },
      {
        "duration": 15,
        "start_time": "2021-09-18T15:17:25.935Z"
      },
      {
        "duration": 46,
        "start_time": "2021-09-18T15:17:25.953Z"
      },
      {
        "duration": 113,
        "start_time": "2021-09-18T15:17:26.002Z"
      },
      {
        "duration": 22,
        "start_time": "2021-09-18T15:17:26.118Z"
      },
      {
        "duration": 373,
        "start_time": "2021-09-18T15:17:26.143Z"
      },
      {
        "duration": 350,
        "start_time": "2021-09-18T15:17:26.529Z"
      },
      {
        "duration": 4,
        "start_time": "2021-09-18T15:17:26.884Z"
      },
      {
        "duration": 1041,
        "start_time": "2021-09-18T15:17:26.890Z"
      },
      {
        "duration": 951,
        "start_time": "2021-09-18T15:17:27.934Z"
      },
      {
        "duration": 2674,
        "start_time": "2021-09-18T15:17:28.887Z"
      },
      {
        "duration": 45,
        "start_time": "2021-09-18T15:17:31.564Z"
      },
      {
        "duration": 6,
        "start_time": "2021-09-18T15:17:31.612Z"
      },
      {
        "duration": 25,
        "start_time": "2021-09-18T15:17:31.622Z"
      },
      {
        "duration": 40,
        "start_time": "2021-09-18T15:17:31.650Z"
      },
      {
        "duration": 137,
        "start_time": "2021-09-18T15:17:31.693Z"
      },
      {
        "duration": 6,
        "start_time": "2021-09-18T15:17:31.832Z"
      },
      {
        "duration": 858,
        "start_time": "2021-09-18T15:17:31.840Z"
      },
      {
        "duration": 8,
        "start_time": "2021-09-18T15:17:32.700Z"
      },
      {
        "duration": 331,
        "start_time": "2021-09-18T15:17:32.710Z"
      },
      {
        "duration": 9,
        "start_time": "2021-09-18T15:17:33.044Z"
      },
      {
        "duration": 54,
        "start_time": "2021-09-18T15:17:33.055Z"
      },
      {
        "duration": 9,
        "start_time": "2021-09-18T15:17:33.112Z"
      },
      {
        "duration": 10,
        "start_time": "2021-09-18T15:17:33.123Z"
      },
      {
        "duration": 17,
        "start_time": "2021-09-18T15:17:33.135Z"
      },
      {
        "duration": 11,
        "start_time": "2021-09-18T15:17:33.183Z"
      },
      {
        "duration": 10,
        "start_time": "2021-09-18T15:17:33.197Z"
      },
      {
        "duration": 7,
        "start_time": "2021-09-18T15:17:33.215Z"
      },
      {
        "duration": 9,
        "start_time": "2021-09-18T15:17:33.224Z"
      },
      {
        "duration": 4,
        "start_time": "2021-09-18T15:17:33.235Z"
      },
      {
        "duration": 54,
        "start_time": "2021-09-18T15:17:33.242Z"
      },
      {
        "duration": 48,
        "start_time": "2021-09-18T15:17:33.299Z"
      },
      {
        "duration": 3,
        "start_time": "2021-09-18T15:17:33.350Z"
      },
      {
        "duration": 34,
        "start_time": "2021-09-18T15:17:33.355Z"
      },
      {
        "duration": 43,
        "start_time": "2021-09-18T15:17:33.391Z"
      },
      {
        "duration": 6,
        "start_time": "2021-09-18T15:17:33.437Z"
      },
      {
        "duration": 7,
        "start_time": "2021-09-18T15:17:33.482Z"
      },
      {
        "duration": 17,
        "start_time": "2021-09-18T15:17:33.492Z"
      },
      {
        "duration": 18,
        "start_time": "2021-09-18T15:17:33.512Z"
      },
      {
        "duration": 382,
        "start_time": "2021-09-18T15:17:33.533Z"
      },
      {
        "duration": 1053,
        "start_time": "2021-09-18T15:17:32.866Z"
      },
      {
        "duration": 1047,
        "start_time": "2021-09-18T15:17:32.874Z"
      },
      {
        "duration": 57,
        "start_time": "2021-09-18T15:21:33.479Z"
      },
      {
        "duration": 102,
        "start_time": "2021-09-18T15:21:52.463Z"
      },
      {
        "duration": 65,
        "start_time": "2021-09-18T15:21:57.368Z"
      },
      {
        "duration": 61,
        "start_time": "2021-09-18T15:22:15.172Z"
      },
      {
        "duration": 136,
        "start_time": "2021-09-18T15:22:52.245Z"
      },
      {
        "duration": 23,
        "start_time": "2021-09-18T15:24:12.284Z"
      },
      {
        "duration": 24,
        "start_time": "2021-09-18T15:30:53.664Z"
      },
      {
        "duration": 224,
        "start_time": "2021-09-19T04:35:51.556Z"
      },
      {
        "duration": 6479,
        "start_time": "2021-09-19T04:36:01.260Z"
      },
      {
        "duration": 1042,
        "start_time": "2021-09-19T04:36:07.741Z"
      },
      {
        "duration": 15,
        "start_time": "2021-09-19T04:36:08.785Z"
      },
      {
        "duration": 14,
        "start_time": "2021-09-19T04:36:08.802Z"
      },
      {
        "duration": 17,
        "start_time": "2021-09-19T04:36:08.818Z"
      },
      {
        "duration": 15,
        "start_time": "2021-09-19T04:36:08.836Z"
      },
      {
        "duration": 8,
        "start_time": "2021-09-19T04:36:08.853Z"
      },
      {
        "duration": 6,
        "start_time": "2021-09-19T04:36:08.863Z"
      },
      {
        "duration": 7,
        "start_time": "2021-09-19T04:36:08.871Z"
      },
      {
        "duration": 10,
        "start_time": "2021-09-19T04:36:08.880Z"
      },
      {
        "duration": 13,
        "start_time": "2021-09-19T04:36:08.892Z"
      },
      {
        "duration": 6,
        "start_time": "2021-09-19T04:36:08.906Z"
      },
      {
        "duration": 11,
        "start_time": "2021-09-19T04:36:08.914Z"
      },
      {
        "duration": 1171,
        "start_time": "2021-09-19T04:36:08.926Z"
      },
      {
        "duration": 17,
        "start_time": "2021-09-19T04:36:10.099Z"
      },
      {
        "duration": 23,
        "start_time": "2021-09-19T04:36:10.117Z"
      },
      {
        "duration": 4,
        "start_time": "2021-09-19T04:36:10.141Z"
      },
      {
        "duration": 14,
        "start_time": "2021-09-19T04:36:10.146Z"
      },
      {
        "duration": 4,
        "start_time": "2021-09-19T04:36:10.162Z"
      },
      {
        "duration": 33,
        "start_time": "2021-09-19T04:36:10.168Z"
      },
      {
        "duration": 5,
        "start_time": "2021-09-19T04:36:10.202Z"
      },
      {
        "duration": 17,
        "start_time": "2021-09-19T04:36:10.209Z"
      },
      {
        "duration": 26,
        "start_time": "2021-09-19T04:36:10.230Z"
      },
      {
        "duration": 3,
        "start_time": "2021-09-19T04:36:10.258Z"
      },
      {
        "duration": 9,
        "start_time": "2021-09-19T04:36:10.262Z"
      },
      {
        "duration": 36,
        "start_time": "2021-09-19T04:36:10.273Z"
      },
      {
        "duration": 21,
        "start_time": "2021-09-19T04:36:10.311Z"
      },
      {
        "duration": 86,
        "start_time": "2021-09-19T04:36:10.334Z"
      },
      {
        "duration": 32,
        "start_time": "2021-09-19T04:36:10.422Z"
      },
      {
        "duration": 2,
        "start_time": "2021-09-19T04:36:10.456Z"
      },
      {
        "duration": 19,
        "start_time": "2021-09-19T04:36:10.460Z"
      },
      {
        "duration": 23,
        "start_time": "2021-09-19T04:36:10.481Z"
      },
      {
        "duration": 11,
        "start_time": "2021-09-19T04:36:10.506Z"
      },
      {
        "duration": 7,
        "start_time": "2021-09-19T04:36:10.518Z"
      },
      {
        "duration": 7,
        "start_time": "2021-09-19T04:36:10.527Z"
      },
      {
        "duration": 290,
        "start_time": "2021-09-19T04:36:10.536Z"
      },
      {
        "duration": 7,
        "start_time": "2021-09-19T04:36:10.827Z"
      },
      {
        "duration": 11,
        "start_time": "2021-09-19T04:36:10.835Z"
      },
      {
        "duration": 15,
        "start_time": "2021-09-19T04:36:10.847Z"
      },
      {
        "duration": 5,
        "start_time": "2021-09-19T04:36:10.864Z"
      },
      {
        "duration": 30,
        "start_time": "2021-09-19T04:36:10.870Z"
      },
      {
        "duration": 9,
        "start_time": "2021-09-19T04:36:10.902Z"
      },
      {
        "duration": 7,
        "start_time": "2021-09-19T04:36:10.912Z"
      },
      {
        "duration": 3,
        "start_time": "2021-09-19T04:36:10.920Z"
      },
      {
        "duration": 15,
        "start_time": "2021-09-19T04:36:10.925Z"
      },
      {
        "duration": 4,
        "start_time": "2021-09-19T04:36:10.942Z"
      },
      {
        "duration": 53,
        "start_time": "2021-09-19T04:36:10.948Z"
      },
      {
        "duration": 4,
        "start_time": "2021-09-19T04:36:11.003Z"
      },
      {
        "duration": 13,
        "start_time": "2021-09-19T04:36:11.008Z"
      },
      {
        "duration": 10,
        "start_time": "2021-09-19T04:36:11.023Z"
      },
      {
        "duration": 9,
        "start_time": "2021-09-19T04:36:11.034Z"
      },
      {
        "duration": 13,
        "start_time": "2021-09-19T04:36:11.044Z"
      },
      {
        "duration": 12,
        "start_time": "2021-09-19T04:36:11.058Z"
      },
      {
        "duration": 5,
        "start_time": "2021-09-19T04:36:11.071Z"
      },
      {
        "duration": 5,
        "start_time": "2021-09-19T04:36:11.077Z"
      },
      {
        "duration": 4,
        "start_time": "2021-09-19T04:36:11.100Z"
      },
      {
        "duration": 16,
        "start_time": "2021-09-19T04:36:11.106Z"
      },
      {
        "duration": 2,
        "start_time": "2021-09-19T04:36:11.123Z"
      },
      {
        "duration": 179,
        "start_time": "2021-09-19T04:36:11.127Z"
      },
      {
        "duration": 2,
        "start_time": "2021-09-19T04:36:11.307Z"
      },
      {
        "duration": 62,
        "start_time": "2021-09-19T04:36:11.311Z"
      },
      {
        "duration": 3,
        "start_time": "2021-09-19T04:36:11.375Z"
      },
      {
        "duration": 26,
        "start_time": "2021-09-19T04:36:11.380Z"
      },
      {
        "duration": 14,
        "start_time": "2021-09-19T04:36:11.407Z"
      },
      {
        "duration": 77,
        "start_time": "2021-09-19T04:36:11.423Z"
      },
      {
        "duration": 13,
        "start_time": "2021-09-19T04:36:11.502Z"
      },
      {
        "duration": 217,
        "start_time": "2021-09-19T04:36:11.516Z"
      },
      {
        "duration": 203,
        "start_time": "2021-09-19T04:36:11.738Z"
      },
      {
        "duration": 2,
        "start_time": "2021-09-19T04:36:11.944Z"
      },
      {
        "duration": 621,
        "start_time": "2021-09-19T04:36:11.948Z"
      },
      {
        "duration": 531,
        "start_time": "2021-09-19T04:36:12.570Z"
      },
      {
        "duration": 1545,
        "start_time": "2021-09-19T04:36:13.103Z"
      },
      {
        "duration": 21,
        "start_time": "2021-09-19T04:36:14.649Z"
      },
      {
        "duration": 3,
        "start_time": "2021-09-19T04:36:14.671Z"
      },
      {
        "duration": 30,
        "start_time": "2021-09-19T04:36:14.675Z"
      },
      {
        "duration": 12,
        "start_time": "2021-09-19T04:36:14.707Z"
      },
      {
        "duration": 90,
        "start_time": "2021-09-19T04:36:14.721Z"
      },
      {
        "duration": 5,
        "start_time": "2021-09-19T04:36:14.813Z"
      },
      {
        "duration": 493,
        "start_time": "2021-09-19T04:36:14.819Z"
      },
      {
        "duration": 5,
        "start_time": "2021-09-19T04:36:15.314Z"
      },
      {
        "duration": 197,
        "start_time": "2021-09-19T04:36:15.320Z"
      },
      {
        "duration": 6,
        "start_time": "2021-09-19T04:36:15.519Z"
      },
      {
        "duration": 20,
        "start_time": "2021-09-19T04:36:15.527Z"
      },
      {
        "duration": 4,
        "start_time": "2021-09-19T04:36:15.549Z"
      },
      {
        "duration": 10,
        "start_time": "2021-09-19T04:36:15.554Z"
      },
      {
        "duration": 36,
        "start_time": "2021-09-19T04:36:15.566Z"
      },
      {
        "duration": 8,
        "start_time": "2021-09-19T04:36:15.604Z"
      },
      {
        "duration": 4,
        "start_time": "2021-09-19T04:36:15.613Z"
      },
      {
        "duration": 5,
        "start_time": "2021-09-19T04:36:15.618Z"
      },
      {
        "duration": 6,
        "start_time": "2021-09-19T04:36:15.624Z"
      },
      {
        "duration": 8,
        "start_time": "2021-09-19T04:36:15.631Z"
      },
      {
        "duration": 20,
        "start_time": "2021-09-19T04:36:15.640Z"
      },
      {
        "duration": 68,
        "start_time": "2021-09-19T04:36:15.661Z"
      },
      {
        "duration": 2,
        "start_time": "2021-09-19T04:36:15.730Z"
      },
      {
        "duration": 12,
        "start_time": "2021-09-19T04:36:15.734Z"
      },
      {
        "duration": 28,
        "start_time": "2021-09-19T04:36:15.748Z"
      },
      {
        "duration": 4,
        "start_time": "2021-09-19T04:36:15.800Z"
      },
      {
        "duration": 6,
        "start_time": "2021-09-19T04:36:15.806Z"
      },
      {
        "duration": 10,
        "start_time": "2021-09-19T04:36:15.813Z"
      },
      {
        "duration": 17,
        "start_time": "2021-09-19T04:36:15.825Z"
      },
      {
        "duration": 307,
        "start_time": "2021-09-19T04:36:15.844Z"
      },
      {
        "duration": 699,
        "start_time": "2021-09-19T04:36:15.455Z"
      },
      {
        "duration": 692,
        "start_time": "2021-09-19T04:36:15.463Z"
      },
      {
        "duration": 685,
        "start_time": "2021-09-19T04:36:15.471Z"
      },
      {
        "duration": 680,
        "start_time": "2021-09-19T04:36:15.478Z"
      },
      {
        "duration": 7,
        "start_time": "2021-09-19T04:37:03.032Z"
      },
      {
        "duration": 176,
        "start_time": "2021-09-19T04:37:39.793Z"
      },
      {
        "duration": 159,
        "start_time": "2021-09-19T04:37:48.896Z"
      },
      {
        "duration": 19,
        "start_time": "2021-09-19T04:38:18.173Z"
      },
      {
        "duration": 11,
        "start_time": "2021-09-19T04:39:01.077Z"
      },
      {
        "duration": 2096,
        "start_time": "2021-09-19T04:41:00.302Z"
      },
      {
        "duration": 2342,
        "start_time": "2021-09-19T04:43:05.081Z"
      },
      {
        "duration": 1047,
        "start_time": "2021-09-19T04:43:07.426Z"
      },
      {
        "duration": 11,
        "start_time": "2021-09-19T04:43:08.475Z"
      },
      {
        "duration": 12,
        "start_time": "2021-09-19T04:43:08.487Z"
      },
      {
        "duration": 9,
        "start_time": "2021-09-19T04:43:08.501Z"
      },
      {
        "duration": 7,
        "start_time": "2021-09-19T04:43:08.512Z"
      },
      {
        "duration": 6,
        "start_time": "2021-09-19T04:43:08.520Z"
      },
      {
        "duration": 5,
        "start_time": "2021-09-19T04:43:08.528Z"
      },
      {
        "duration": 7,
        "start_time": "2021-09-19T04:43:08.534Z"
      },
      {
        "duration": 8,
        "start_time": "2021-09-19T04:43:08.542Z"
      },
      {
        "duration": 14,
        "start_time": "2021-09-19T04:43:08.552Z"
      },
      {
        "duration": 6,
        "start_time": "2021-09-19T04:43:08.567Z"
      },
      {
        "duration": 25,
        "start_time": "2021-09-19T04:43:08.575Z"
      },
      {
        "duration": 1109,
        "start_time": "2021-09-19T04:43:08.602Z"
      },
      {
        "duration": 17,
        "start_time": "2021-09-19T04:43:09.713Z"
      },
      {
        "duration": 20,
        "start_time": "2021-09-19T04:43:09.731Z"
      },
      {
        "duration": 3,
        "start_time": "2021-09-19T04:43:09.753Z"
      },
      {
        "duration": 12,
        "start_time": "2021-09-19T04:43:09.758Z"
      },
      {
        "duration": 5,
        "start_time": "2021-09-19T04:43:09.800Z"
      },
      {
        "duration": 5,
        "start_time": "2021-09-19T04:43:09.807Z"
      },
      {
        "duration": 4,
        "start_time": "2021-09-19T04:43:09.814Z"
      },
      {
        "duration": 15,
        "start_time": "2021-09-19T04:43:09.819Z"
      },
      {
        "duration": 23,
        "start_time": "2021-09-19T04:43:09.838Z"
      },
      {
        "duration": 2,
        "start_time": "2021-09-19T04:43:09.864Z"
      },
      {
        "duration": 33,
        "start_time": "2021-09-19T04:43:09.868Z"
      },
      {
        "duration": 20,
        "start_time": "2021-09-19T04:43:09.902Z"
      },
      {
        "duration": 22,
        "start_time": "2021-09-19T04:43:09.924Z"
      },
      {
        "duration": 83,
        "start_time": "2021-09-19T04:43:09.947Z"
      },
      {
        "duration": 33,
        "start_time": "2021-09-19T04:43:10.032Z"
      },
      {
        "duration": 2,
        "start_time": "2021-09-19T04:43:10.067Z"
      },
      {
        "duration": 40,
        "start_time": "2021-09-19T04:43:10.071Z"
      },
      {
        "duration": 7,
        "start_time": "2021-09-19T04:43:10.113Z"
      },
      {
        "duration": 10,
        "start_time": "2021-09-19T04:43:10.122Z"
      },
      {
        "duration": 6,
        "start_time": "2021-09-19T04:43:10.134Z"
      },
      {
        "duration": 7,
        "start_time": "2021-09-19T04:43:10.142Z"
      },
      {
        "duration": 288,
        "start_time": "2021-09-19T04:43:10.150Z"
      },
      {
        "duration": 6,
        "start_time": "2021-09-19T04:43:10.441Z"
      },
      {
        "duration": 27,
        "start_time": "2021-09-19T04:43:10.448Z"
      },
      {
        "duration": 27,
        "start_time": "2021-09-19T04:43:10.476Z"
      },
      {
        "duration": 5,
        "start_time": "2021-09-19T04:43:10.505Z"
      },
      {
        "duration": 10,
        "start_time": "2021-09-19T04:43:10.511Z"
      },
      {
        "duration": 16,
        "start_time": "2021-09-19T04:43:10.523Z"
      },
      {
        "duration": 18,
        "start_time": "2021-09-19T04:43:10.541Z"
      },
      {
        "duration": 5,
        "start_time": "2021-09-19T04:43:10.561Z"
      },
      {
        "duration": 29,
        "start_time": "2021-09-19T04:43:10.567Z"
      },
      {
        "duration": 4,
        "start_time": "2021-09-19T04:43:10.598Z"
      },
      {
        "duration": 24,
        "start_time": "2021-09-19T04:43:10.604Z"
      },
      {
        "duration": 4,
        "start_time": "2021-09-19T04:43:10.629Z"
      },
      {
        "duration": 14,
        "start_time": "2021-09-19T04:43:10.635Z"
      },
      {
        "duration": 18,
        "start_time": "2021-09-19T04:43:10.650Z"
      },
      {
        "duration": 6,
        "start_time": "2021-09-19T04:43:10.670Z"
      },
      {
        "duration": 5,
        "start_time": "2021-09-19T04:43:10.678Z"
      },
      {
        "duration": 21,
        "start_time": "2021-09-19T04:43:10.685Z"
      },
      {
        "duration": 5,
        "start_time": "2021-09-19T04:43:10.707Z"
      },
      {
        "duration": 5,
        "start_time": "2021-09-19T04:43:10.713Z"
      },
      {
        "duration": 4,
        "start_time": "2021-09-19T04:43:10.719Z"
      },
      {
        "duration": 17,
        "start_time": "2021-09-19T04:43:10.725Z"
      },
      {
        "duration": 3,
        "start_time": "2021-09-19T04:43:10.743Z"
      },
      {
        "duration": 197,
        "start_time": "2021-09-19T04:43:10.747Z"
      },
      {
        "duration": 2,
        "start_time": "2021-09-19T04:43:10.945Z"
      },
      {
        "duration": 71,
        "start_time": "2021-09-19T04:43:10.949Z"
      },
      {
        "duration": 4,
        "start_time": "2021-09-19T04:43:11.021Z"
      },
      {
        "duration": 10,
        "start_time": "2021-09-19T04:43:11.026Z"
      },
      {
        "duration": 13,
        "start_time": "2021-09-19T04:43:11.037Z"
      },
      {
        "duration": 86,
        "start_time": "2021-09-19T04:43:11.051Z"
      },
      {
        "duration": 12,
        "start_time": "2021-09-19T04:43:11.139Z"
      },
      {
        "duration": 229,
        "start_time": "2021-09-19T04:43:11.152Z"
      },
      {
        "duration": 225,
        "start_time": "2021-09-19T04:43:11.386Z"
      },
      {
        "duration": 2,
        "start_time": "2021-09-19T04:43:11.614Z"
      },
      {
        "duration": 641,
        "start_time": "2021-09-19T04:43:11.618Z"
      },
      {
        "duration": 540,
        "start_time": "2021-09-19T04:43:12.261Z"
      },
      {
        "duration": 1548,
        "start_time": "2021-09-19T04:43:12.803Z"
      },
      {
        "duration": 20,
        "start_time": "2021-09-19T04:43:14.353Z"
      },
      {
        "duration": 16,
        "start_time": "2021-09-19T04:43:14.375Z"
      },
      {
        "duration": 33,
        "start_time": "2021-09-19T04:43:14.393Z"
      },
      {
        "duration": 20,
        "start_time": "2021-09-19T04:43:14.427Z"
      },
      {
        "duration": 71,
        "start_time": "2021-09-19T04:43:14.449Z"
      },
      {
        "duration": 4,
        "start_time": "2021-09-19T04:43:14.522Z"
      },
      {
        "duration": 486,
        "start_time": "2021-09-19T04:43:14.528Z"
      },
      {
        "duration": 5,
        "start_time": "2021-09-19T04:43:15.016Z"
      },
      {
        "duration": 198,
        "start_time": "2021-09-19T04:43:15.022Z"
      },
      {
        "duration": 5,
        "start_time": "2021-09-19T04:43:15.221Z"
      },
      {
        "duration": 19,
        "start_time": "2021-09-19T04:43:15.228Z"
      },
      {
        "duration": 3,
        "start_time": "2021-09-19T04:43:15.249Z"
      },
      {
        "duration": 17,
        "start_time": "2021-09-19T04:43:15.254Z"
      },
      {
        "duration": 33,
        "start_time": "2021-09-19T04:43:15.272Z"
      },
      {
        "duration": 10,
        "start_time": "2021-09-19T04:43:15.307Z"
      },
      {
        "duration": 3,
        "start_time": "2021-09-19T04:43:15.319Z"
      },
      {
        "duration": 7,
        "start_time": "2021-09-19T04:43:15.324Z"
      },
      {
        "duration": 16,
        "start_time": "2021-09-19T04:43:15.332Z"
      },
      {
        "duration": 8,
        "start_time": "2021-09-19T04:43:15.349Z"
      },
      {
        "duration": 31,
        "start_time": "2021-09-19T04:43:15.358Z"
      },
      {
        "duration": 56,
        "start_time": "2021-09-19T04:43:15.391Z"
      },
      {
        "duration": 2,
        "start_time": "2021-09-19T04:43:15.449Z"
      },
      {
        "duration": 19,
        "start_time": "2021-09-19T04:43:15.452Z"
      },
      {
        "duration": 41,
        "start_time": "2021-09-19T04:43:15.472Z"
      },
      {
        "duration": 5,
        "start_time": "2021-09-19T04:43:15.514Z"
      },
      {
        "duration": 7,
        "start_time": "2021-09-19T04:43:15.521Z"
      },
      {
        "duration": 13,
        "start_time": "2021-09-19T04:43:15.530Z"
      },
      {
        "duration": 11,
        "start_time": "2021-09-19T04:43:15.544Z"
      },
      {
        "duration": 268,
        "start_time": "2021-09-19T04:43:15.557Z"
      },
      {
        "duration": 728,
        "start_time": "2021-09-19T04:43:15.100Z"
      },
      {
        "duration": 721,
        "start_time": "2021-09-19T04:43:15.109Z"
      },
      {
        "duration": 715,
        "start_time": "2021-09-19T04:43:15.116Z"
      },
      {
        "duration": 708,
        "start_time": "2021-09-19T04:43:15.125Z"
      },
      {
        "duration": 9,
        "start_time": "2021-09-19T04:43:42.389Z"
      },
      {
        "duration": 345,
        "start_time": "2021-09-19T04:49:50.388Z"
      },
      {
        "duration": 808,
        "start_time": "2021-09-19T04:50:09.412Z"
      },
      {
        "duration": 1522,
        "start_time": "2021-09-19T04:50:16.768Z"
      },
      {
        "duration": 6,
        "start_time": "2021-09-19T04:50:38.684Z"
      },
      {
        "duration": 2602,
        "start_time": "2021-09-19T04:51:47.521Z"
      },
      {
        "duration": 69,
        "start_time": "2021-09-19T04:52:19.234Z"
      },
      {
        "duration": 1569,
        "start_time": "2021-09-19T04:52:22.779Z"
      },
      {
        "duration": 182,
        "start_time": "2021-09-19T04:52:58.873Z"
      },
      {
        "duration": 187,
        "start_time": "2021-09-19T04:53:04.529Z"
      },
      {
        "duration": 180,
        "start_time": "2021-09-19T04:54:25.180Z"
      },
      {
        "duration": 198,
        "start_time": "2021-09-19T04:55:01.476Z"
      },
      {
        "duration": 196,
        "start_time": "2021-09-19T04:55:19.491Z"
      },
      {
        "duration": 172,
        "start_time": "2021-09-19T04:55:27.187Z"
      },
      {
        "duration": 176,
        "start_time": "2021-09-19T04:56:02.699Z"
      },
      {
        "duration": 293,
        "start_time": "2021-09-19T04:56:19.455Z"
      },
      {
        "duration": 163,
        "start_time": "2021-09-19T04:56:32.430Z"
      },
      {
        "duration": 171,
        "start_time": "2021-09-19T04:56:43.460Z"
      },
      {
        "duration": 177,
        "start_time": "2021-09-19T04:56:56.119Z"
      },
      {
        "duration": 30,
        "start_time": "2021-09-19T05:05:27.372Z"
      },
      {
        "duration": 20,
        "start_time": "2021-09-19T05:05:48.188Z"
      },
      {
        "duration": 3209,
        "start_time": "2021-09-19T05:11:41.047Z"
      },
      {
        "duration": 2216,
        "start_time": "2021-09-19T05:12:47.179Z"
      },
      {
        "duration": 3545,
        "start_time": "2021-09-19T05:13:08.698Z"
      },
      {
        "duration": 197,
        "start_time": "2021-09-19T05:13:46.495Z"
      },
      {
        "duration": 193,
        "start_time": "2021-09-19T05:16:47.521Z"
      },
      {
        "duration": 190,
        "start_time": "2021-09-19T05:17:09.590Z"
      },
      {
        "duration": 211,
        "start_time": "2021-09-19T05:17:26.523Z"
      },
      {
        "duration": 211,
        "start_time": "2021-09-19T05:18:09.695Z"
      },
      {
        "duration": 7,
        "start_time": "2021-09-19T05:24:59.926Z"
      },
      {
        "duration": 18,
        "start_time": "2021-09-19T05:27:10.067Z"
      },
      {
        "duration": 2385,
        "start_time": "2021-09-19T05:48:06.608Z"
      },
      {
        "duration": 1088,
        "start_time": "2021-09-19T05:48:08.995Z"
      },
      {
        "duration": 15,
        "start_time": "2021-09-19T05:48:10.085Z"
      },
      {
        "duration": 14,
        "start_time": "2021-09-19T05:48:10.102Z"
      },
      {
        "duration": 12,
        "start_time": "2021-09-19T05:48:10.118Z"
      },
      {
        "duration": 9,
        "start_time": "2021-09-19T05:48:10.131Z"
      },
      {
        "duration": 26,
        "start_time": "2021-09-19T05:48:10.142Z"
      },
      {
        "duration": 10,
        "start_time": "2021-09-19T05:48:10.170Z"
      },
      {
        "duration": 24,
        "start_time": "2021-09-19T05:48:10.181Z"
      },
      {
        "duration": 7,
        "start_time": "2021-09-19T05:48:10.207Z"
      },
      {
        "duration": 9,
        "start_time": "2021-09-19T05:48:10.215Z"
      },
      {
        "duration": 6,
        "start_time": "2021-09-19T05:48:10.226Z"
      },
      {
        "duration": 8,
        "start_time": "2021-09-19T05:48:10.233Z"
      },
      {
        "duration": 1190,
        "start_time": "2021-09-19T05:48:10.242Z"
      },
      {
        "duration": 16,
        "start_time": "2021-09-19T05:48:11.434Z"
      },
      {
        "duration": 21,
        "start_time": "2021-09-19T05:48:11.452Z"
      },
      {
        "duration": 4,
        "start_time": "2021-09-19T05:48:11.474Z"
      },
      {
        "duration": 11,
        "start_time": "2021-09-19T05:48:11.499Z"
      },
      {
        "duration": 4,
        "start_time": "2021-09-19T05:48:11.512Z"
      },
      {
        "duration": 5,
        "start_time": "2021-09-19T05:48:11.517Z"
      },
      {
        "duration": 3,
        "start_time": "2021-09-19T05:48:11.524Z"
      },
      {
        "duration": 12,
        "start_time": "2021-09-19T05:48:11.528Z"
      },
      {
        "duration": 21,
        "start_time": "2021-09-19T05:48:11.544Z"
      },
      {
        "duration": 2,
        "start_time": "2021-09-19T05:48:11.600Z"
      },
      {
        "duration": 6,
        "start_time": "2021-09-19T05:48:11.604Z"
      },
      {
        "duration": 21,
        "start_time": "2021-09-19T05:48:11.611Z"
      },
      {
        "duration": 22,
        "start_time": "2021-09-19T05:48:11.634Z"
      },
      {
        "duration": 88,
        "start_time": "2021-09-19T05:48:11.657Z"
      },
      {
        "duration": 30,
        "start_time": "2021-09-19T05:48:11.746Z"
      },
      {
        "duration": 2,
        "start_time": "2021-09-19T05:48:11.778Z"
      },
      {
        "duration": 34,
        "start_time": "2021-09-19T05:48:11.781Z"
      },
      {
        "duration": 6,
        "start_time": "2021-09-19T05:48:11.817Z"
      },
      {
        "duration": 13,
        "start_time": "2021-09-19T05:48:11.824Z"
      },
      {
        "duration": 6,
        "start_time": "2021-09-19T05:48:11.838Z"
      },
      {
        "duration": 8,
        "start_time": "2021-09-19T05:48:11.846Z"
      },
      {
        "duration": 278,
        "start_time": "2021-09-19T05:48:11.855Z"
      },
      {
        "duration": 6,
        "start_time": "2021-09-19T05:48:12.134Z"
      },
      {
        "duration": 11,
        "start_time": "2021-09-19T05:48:12.142Z"
      },
      {
        "duration": 15,
        "start_time": "2021-09-19T05:48:12.155Z"
      },
      {
        "duration": 4,
        "start_time": "2021-09-19T05:48:12.172Z"
      },
      {
        "duration": 25,
        "start_time": "2021-09-19T05:48:12.178Z"
      },
      {
        "duration": 9,
        "start_time": "2021-09-19T05:48:12.204Z"
      },
      {
        "duration": 7,
        "start_time": "2021-09-19T05:48:12.215Z"
      },
      {
        "duration": 2,
        "start_time": "2021-09-19T05:48:12.224Z"
      },
      {
        "duration": 12,
        "start_time": "2021-09-19T05:48:12.228Z"
      },
      {
        "duration": 4,
        "start_time": "2021-09-19T05:48:12.241Z"
      },
      {
        "duration": 52,
        "start_time": "2021-09-19T05:48:12.247Z"
      },
      {
        "duration": 4,
        "start_time": "2021-09-19T05:48:12.301Z"
      },
      {
        "duration": 6,
        "start_time": "2021-09-19T05:48:12.306Z"
      },
      {
        "duration": 5,
        "start_time": "2021-09-19T05:48:12.313Z"
      },
      {
        "duration": 5,
        "start_time": "2021-09-19T05:48:12.319Z"
      },
      {
        "duration": 5,
        "start_time": "2021-09-19T05:48:12.326Z"
      },
      {
        "duration": 9,
        "start_time": "2021-09-19T05:48:12.332Z"
      },
      {
        "duration": 4,
        "start_time": "2021-09-19T05:48:12.342Z"
      },
      {
        "duration": 5,
        "start_time": "2021-09-19T05:48:12.348Z"
      },
      {
        "duration": 46,
        "start_time": "2021-09-19T05:48:12.355Z"
      },
      {
        "duration": 20,
        "start_time": "2021-09-19T05:48:12.402Z"
      },
      {
        "duration": 1,
        "start_time": "2021-09-19T05:48:12.424Z"
      },
      {
        "duration": 174,
        "start_time": "2021-09-19T05:48:12.427Z"
      },
      {
        "duration": 2,
        "start_time": "2021-09-19T05:48:12.603Z"
      },
      {
        "duration": 107,
        "start_time": "2021-09-19T05:48:12.606Z"
      },
      {
        "duration": 3,
        "start_time": "2021-09-19T05:48:12.715Z"
      },
      {
        "duration": 10,
        "start_time": "2021-09-19T05:48:12.720Z"
      },
      {
        "duration": 13,
        "start_time": "2021-09-19T05:48:12.731Z"
      },
      {
        "duration": 88,
        "start_time": "2021-09-19T05:48:12.745Z"
      },
      {
        "duration": 12,
        "start_time": "2021-09-19T05:48:12.835Z"
      },
      {
        "duration": 211,
        "start_time": "2021-09-19T05:48:12.849Z"
      },
      {
        "duration": 212,
        "start_time": "2021-09-19T05:48:13.065Z"
      },
      {
        "duration": 2,
        "start_time": "2021-09-19T05:48:13.280Z"
      },
      {
        "duration": 634,
        "start_time": "2021-09-19T05:48:13.284Z"
      },
      {
        "duration": 530,
        "start_time": "2021-09-19T05:48:13.920Z"
      },
      {
        "duration": 1552,
        "start_time": "2021-09-19T05:48:14.452Z"
      },
      {
        "duration": 20,
        "start_time": "2021-09-19T05:48:16.005Z"
      },
      {
        "duration": 2,
        "start_time": "2021-09-19T05:48:16.027Z"
      },
      {
        "duration": 13,
        "start_time": "2021-09-19T05:48:16.030Z"
      },
      {
        "duration": 13,
        "start_time": "2021-09-19T05:48:16.044Z"
      },
      {
        "duration": 96,
        "start_time": "2021-09-19T05:48:16.058Z"
      },
      {
        "duration": 5,
        "start_time": "2021-09-19T05:48:16.155Z"
      },
      {
        "duration": 498,
        "start_time": "2021-09-19T05:48:16.161Z"
      },
      {
        "duration": 5,
        "start_time": "2021-09-19T05:48:16.661Z"
      },
      {
        "duration": 199,
        "start_time": "2021-09-19T05:48:16.668Z"
      },
      {
        "duration": 5,
        "start_time": "2021-09-19T05:48:16.868Z"
      },
      {
        "duration": 37,
        "start_time": "2021-09-19T05:48:16.875Z"
      },
      {
        "duration": 2,
        "start_time": "2021-09-19T05:48:16.913Z"
      },
      {
        "duration": 12,
        "start_time": "2021-09-19T05:48:16.917Z"
      },
      {
        "duration": 12,
        "start_time": "2021-09-19T05:48:16.931Z"
      },
      {
        "duration": 10,
        "start_time": "2021-09-19T05:48:16.944Z"
      },
      {
        "duration": 4,
        "start_time": "2021-09-19T05:48:16.955Z"
      },
      {
        "duration": 7,
        "start_time": "2021-09-19T05:48:16.960Z"
      },
      {
        "duration": 6,
        "start_time": "2021-09-19T05:48:16.968Z"
      },
      {
        "duration": 2,
        "start_time": "2021-09-19T05:48:17.000Z"
      },
      {
        "duration": 17,
        "start_time": "2021-09-19T05:48:17.004Z"
      },
      {
        "duration": 80,
        "start_time": "2021-09-19T05:48:17.022Z"
      },
      {
        "duration": 3,
        "start_time": "2021-09-19T05:48:17.104Z"
      },
      {
        "duration": 12,
        "start_time": "2021-09-19T05:48:17.108Z"
      },
      {
        "duration": 30,
        "start_time": "2021-09-19T05:48:17.121Z"
      },
      {
        "duration": 5,
        "start_time": "2021-09-19T05:48:17.152Z"
      },
      {
        "duration": 5,
        "start_time": "2021-09-19T05:48:17.159Z"
      },
      {
        "duration": 8,
        "start_time": "2021-09-19T05:48:17.200Z"
      },
      {
        "duration": 11,
        "start_time": "2021-09-19T05:48:17.210Z"
      },
      {
        "duration": 259,
        "start_time": "2021-09-19T05:48:17.223Z"
      },
      {
        "duration": 703,
        "start_time": "2021-09-19T05:48:16.782Z"
      },
      {
        "duration": 695,
        "start_time": "2021-09-19T05:48:16.791Z"
      },
      {
        "duration": 690,
        "start_time": "2021-09-19T05:48:16.798Z"
      },
      {
        "duration": 683,
        "start_time": "2021-09-19T05:48:16.806Z"
      },
      {
        "duration": 678,
        "start_time": "2021-09-19T05:48:16.813Z"
      },
      {
        "duration": 670,
        "start_time": "2021-09-19T05:48:16.822Z"
      },
      {
        "duration": 665,
        "start_time": "2021-09-19T05:48:16.829Z"
      },
      {
        "duration": 657,
        "start_time": "2021-09-19T05:48:16.838Z"
      },
      {
        "duration": 651,
        "start_time": "2021-09-19T05:48:16.845Z"
      },
      {
        "duration": 61,
        "start_time": "2021-09-19T05:48:59.251Z"
      },
      {
        "duration": 4,
        "start_time": "2021-09-19T05:49:11.509Z"
      },
      {
        "duration": 2,
        "start_time": "2021-09-19T05:49:14.937Z"
      },
      {
        "duration": 17,
        "start_time": "2021-09-19T05:49:16.961Z"
      },
      {
        "duration": 17,
        "start_time": "2021-09-19T05:49:17.573Z"
      },
      {
        "duration": 7,
        "start_time": "2021-09-19T05:49:19.265Z"
      },
      {
        "duration": 9,
        "start_time": "2021-09-19T05:49:19.525Z"
      },
      {
        "duration": 267,
        "start_time": "2021-09-19T05:49:19.922Z"
      },
      {
        "duration": 199,
        "start_time": "2021-09-19T05:49:20.825Z"
      },
      {
        "duration": 21,
        "start_time": "2021-09-19T05:49:21.721Z"
      },
      {
        "duration": 8,
        "start_time": "2021-09-19T05:49:22.067Z"
      },
      {
        "duration": 8318,
        "start_time": "2021-09-19T14:32:43.097Z"
      },
      {
        "duration": 1198,
        "start_time": "2021-09-19T14:32:51.417Z"
      },
      {
        "duration": 10,
        "start_time": "2021-09-19T14:32:52.618Z"
      },
      {
        "duration": 11,
        "start_time": "2021-09-19T14:32:52.631Z"
      },
      {
        "duration": 18,
        "start_time": "2021-09-19T14:32:52.644Z"
      },
      {
        "duration": 13,
        "start_time": "2021-09-19T14:32:52.664Z"
      },
      {
        "duration": 10,
        "start_time": "2021-09-19T14:32:52.679Z"
      },
      {
        "duration": 13,
        "start_time": "2021-09-19T14:32:52.690Z"
      },
      {
        "duration": 11,
        "start_time": "2021-09-19T14:32:52.706Z"
      },
      {
        "duration": 12,
        "start_time": "2021-09-19T14:32:52.719Z"
      },
      {
        "duration": 11,
        "start_time": "2021-09-19T14:32:52.733Z"
      },
      {
        "duration": 10,
        "start_time": "2021-09-19T14:32:52.746Z"
      },
      {
        "duration": 12,
        "start_time": "2021-09-19T14:32:52.758Z"
      },
      {
        "duration": 1226,
        "start_time": "2021-09-19T14:32:52.771Z"
      },
      {
        "duration": 18,
        "start_time": "2021-09-19T14:32:54.001Z"
      },
      {
        "duration": 56,
        "start_time": "2021-09-19T14:32:54.021Z"
      },
      {
        "duration": 5,
        "start_time": "2021-09-19T14:32:54.080Z"
      },
      {
        "duration": 13,
        "start_time": "2021-09-19T14:32:54.087Z"
      },
      {
        "duration": 4,
        "start_time": "2021-09-19T14:32:54.103Z"
      },
      {
        "duration": 6,
        "start_time": "2021-09-19T14:32:54.109Z"
      },
      {
        "duration": 38,
        "start_time": "2021-09-19T14:32:54.117Z"
      },
      {
        "duration": 16,
        "start_time": "2021-09-19T14:32:54.157Z"
      },
      {
        "duration": 33,
        "start_time": "2021-09-19T14:32:54.175Z"
      },
      {
        "duration": 2,
        "start_time": "2021-09-19T14:32:54.210Z"
      },
      {
        "duration": 7,
        "start_time": "2021-09-19T14:32:54.214Z"
      },
      {
        "duration": 52,
        "start_time": "2021-09-19T14:32:54.223Z"
      },
      {
        "duration": 28,
        "start_time": "2021-09-19T14:32:54.281Z"
      },
      {
        "duration": 109,
        "start_time": "2021-09-19T14:32:54.311Z"
      },
      {
        "duration": 57,
        "start_time": "2021-09-19T14:32:54.422Z"
      },
      {
        "duration": 2,
        "start_time": "2021-09-19T14:32:54.481Z"
      },
      {
        "duration": 20,
        "start_time": "2021-09-19T14:32:54.486Z"
      },
      {
        "duration": 7,
        "start_time": "2021-09-19T14:32:54.508Z"
      },
      {
        "duration": 50,
        "start_time": "2021-09-19T14:32:54.517Z"
      },
      {
        "duration": 10,
        "start_time": "2021-09-19T14:32:54.569Z"
      },
      {
        "duration": 7,
        "start_time": "2021-09-19T14:32:54.581Z"
      },
      {
        "duration": 341,
        "start_time": "2021-09-19T14:32:54.590Z"
      },
      {
        "duration": 10,
        "start_time": "2021-09-19T14:32:54.933Z"
      },
      {
        "duration": 19,
        "start_time": "2021-09-19T14:32:54.951Z"
      },
      {
        "duration": 18,
        "start_time": "2021-09-19T14:32:54.973Z"
      },
      {
        "duration": 7,
        "start_time": "2021-09-19T14:32:54.993Z"
      },
      {
        "duration": 8,
        "start_time": "2021-09-19T14:32:55.002Z"
      },
      {
        "duration": 49,
        "start_time": "2021-09-19T14:32:55.012Z"
      },
      {
        "duration": 10,
        "start_time": "2021-09-19T14:32:55.063Z"
      },
      {
        "duration": 3,
        "start_time": "2021-09-19T14:32:55.075Z"
      },
      {
        "duration": 13,
        "start_time": "2021-09-19T14:32:55.080Z"
      },
      {
        "duration": 5,
        "start_time": "2021-09-19T14:32:55.095Z"
      },
      {
        "duration": 58,
        "start_time": "2021-09-19T14:32:55.102Z"
      },
      {
        "duration": 4,
        "start_time": "2021-09-19T14:32:55.162Z"
      },
      {
        "duration": 6,
        "start_time": "2021-09-19T14:32:55.168Z"
      },
      {
        "duration": 5,
        "start_time": "2021-09-19T14:32:55.176Z"
      },
      {
        "duration": 9,
        "start_time": "2021-09-19T14:32:55.182Z"
      },
      {
        "duration": 8,
        "start_time": "2021-09-19T14:32:55.193Z"
      },
      {
        "duration": 15,
        "start_time": "2021-09-19T14:32:55.203Z"
      },
      {
        "duration": 11,
        "start_time": "2021-09-19T14:32:55.249Z"
      },
      {
        "duration": 13,
        "start_time": "2021-09-19T14:32:55.262Z"
      },
      {
        "duration": 9,
        "start_time": "2021-09-19T14:32:55.277Z"
      },
      {
        "duration": 22,
        "start_time": "2021-09-19T14:32:55.287Z"
      },
      {
        "duration": 2,
        "start_time": "2021-09-19T14:32:55.311Z"
      },
      {
        "duration": 200,
        "start_time": "2021-09-19T14:32:55.314Z"
      },
      {
        "duration": 2,
        "start_time": "2021-09-19T14:32:55.516Z"
      },
      {
        "duration": 102,
        "start_time": "2021-09-19T14:32:55.520Z"
      },
      {
        "duration": 4,
        "start_time": "2021-09-19T14:32:55.625Z"
      },
      {
        "duration": 31,
        "start_time": "2021-09-19T14:32:55.631Z"
      },
      {
        "duration": 15,
        "start_time": "2021-09-19T14:32:55.672Z"
      },
      {
        "duration": 75,
        "start_time": "2021-09-19T14:32:55.689Z"
      },
      {
        "duration": 15,
        "start_time": "2021-09-19T14:32:55.766Z"
      },
      {
        "duration": 296,
        "start_time": "2021-09-19T14:32:55.783Z"
      },
      {
        "duration": 402,
        "start_time": "2021-09-19T14:32:56.081Z"
      },
      {
        "duration": 2,
        "start_time": "2021-09-19T14:32:56.485Z"
      },
      {
        "duration": 893,
        "start_time": "2021-09-19T14:32:56.489Z"
      },
      {
        "duration": 802,
        "start_time": "2021-09-19T14:32:57.384Z"
      },
      {
        "duration": 2268,
        "start_time": "2021-09-19T14:32:58.188Z"
      },
      {
        "duration": 28,
        "start_time": "2021-09-19T14:33:00.458Z"
      },
      {
        "duration": 2,
        "start_time": "2021-09-19T14:33:00.489Z"
      },
      {
        "duration": 18,
        "start_time": "2021-09-19T14:33:00.493Z"
      },
      {
        "duration": 51,
        "start_time": "2021-09-19T14:33:00.513Z"
      },
      {
        "duration": 126,
        "start_time": "2021-09-19T14:33:00.566Z"
      },
      {
        "duration": 5,
        "start_time": "2021-09-19T14:33:00.694Z"
      },
      {
        "duration": 536,
        "start_time": "2021-09-19T14:33:00.701Z"
      },
      {
        "duration": 10,
        "start_time": "2021-09-19T14:33:01.240Z"
      },
      {
        "duration": 231,
        "start_time": "2021-09-19T14:33:01.258Z"
      },
      {
        "duration": 7,
        "start_time": "2021-09-19T14:33:01.491Z"
      },
      {
        "duration": 23,
        "start_time": "2021-09-19T14:33:01.500Z"
      },
      {
        "duration": 3,
        "start_time": "2021-09-19T14:33:01.525Z"
      },
      {
        "duration": 6,
        "start_time": "2021-09-19T14:33:01.552Z"
      },
      {
        "duration": 13,
        "start_time": "2021-09-19T14:33:01.561Z"
      },
      {
        "duration": 10,
        "start_time": "2021-09-19T14:33:01.576Z"
      },
      {
        "duration": 10,
        "start_time": "2021-09-19T14:33:01.589Z"
      },
      {
        "duration": 4,
        "start_time": "2021-09-19T14:33:01.601Z"
      },
      {
        "duration": 12,
        "start_time": "2021-09-19T14:33:01.607Z"
      },
      {
        "duration": 38,
        "start_time": "2021-09-19T14:33:01.621Z"
      },
      {
        "duration": 29,
        "start_time": "2021-09-19T14:33:01.661Z"
      },
      {
        "duration": 94,
        "start_time": "2021-09-19T14:33:01.692Z"
      },
      {
        "duration": 10,
        "start_time": "2021-09-19T14:33:01.789Z"
      },
      {
        "duration": 25,
        "start_time": "2021-09-19T14:33:01.801Z"
      },
      {
        "duration": 44,
        "start_time": "2021-09-19T14:33:01.828Z"
      },
      {
        "duration": 5,
        "start_time": "2021-09-19T14:33:01.874Z"
      },
      {
        "duration": 7,
        "start_time": "2021-09-19T14:33:01.881Z"
      },
      {
        "duration": 10,
        "start_time": "2021-09-19T14:33:01.890Z"
      },
      {
        "duration": 14,
        "start_time": "2021-09-19T14:33:01.902Z"
      },
      {
        "duration": 34,
        "start_time": "2021-09-19T14:33:01.917Z"
      },
      {
        "duration": 4,
        "start_time": "2021-09-19T14:33:01.956Z"
      },
      {
        "duration": 19,
        "start_time": "2021-09-19T14:33:01.962Z"
      },
      {
        "duration": 16,
        "start_time": "2021-09-19T14:33:01.983Z"
      },
      {
        "duration": 6,
        "start_time": "2021-09-19T14:33:02.001Z"
      },
      {
        "duration": 16,
        "start_time": "2021-09-19T14:33:02.009Z"
      },
      {
        "duration": 191,
        "start_time": "2021-09-19T14:33:02.050Z"
      },
      {
        "duration": 221,
        "start_time": "2021-09-19T14:33:02.243Z"
      },
      {
        "duration": 30,
        "start_time": "2021-09-19T14:33:02.467Z"
      },
      {
        "duration": 9,
        "start_time": "2021-09-19T14:33:02.500Z"
      },
      {
        "duration": 27,
        "start_time": "2021-09-19T14:50:10.896Z"
      },
      {
        "duration": 98,
        "start_time": "2021-09-19T14:53:25.952Z"
      },
      {
        "duration": 93,
        "start_time": "2021-09-19T14:53:32.168Z"
      },
      {
        "duration": 1477,
        "start_time": "2021-09-19T14:53:33.632Z"
      },
      {
        "duration": 17,
        "start_time": "2021-09-19T14:54:05.199Z"
      },
      {
        "duration": 506,
        "start_time": "2021-09-19T14:54:14.216Z"
      },
      {
        "duration": 345,
        "start_time": "2021-09-19T14:55:07.021Z"
      },
      {
        "duration": 1997,
        "start_time": "2021-09-19T14:56:37.185Z"
      },
      {
        "duration": 980,
        "start_time": "2021-09-19T14:56:54.864Z"
      },
      {
        "duration": 370,
        "start_time": "2021-09-19T14:57:11.870Z"
      },
      {
        "duration": 3602,
        "start_time": "2021-09-19T15:20:55.795Z"
      },
      {
        "duration": 1108,
        "start_time": "2021-09-19T15:20:59.400Z"
      },
      {
        "duration": 12,
        "start_time": "2021-09-19T15:21:00.511Z"
      },
      {
        "duration": 17,
        "start_time": "2021-09-19T15:21:00.525Z"
      },
      {
        "duration": 17,
        "start_time": "2021-09-19T15:21:00.544Z"
      },
      {
        "duration": 8,
        "start_time": "2021-09-19T15:21:00.565Z"
      },
      {
        "duration": 19,
        "start_time": "2021-09-19T15:21:00.574Z"
      },
      {
        "duration": 9,
        "start_time": "2021-09-19T15:21:00.596Z"
      },
      {
        "duration": 10,
        "start_time": "2021-09-19T15:21:00.607Z"
      },
      {
        "duration": 20,
        "start_time": "2021-09-19T15:21:00.619Z"
      },
      {
        "duration": 26,
        "start_time": "2021-09-19T15:21:00.641Z"
      },
      {
        "duration": 19,
        "start_time": "2021-09-19T15:21:00.669Z"
      },
      {
        "duration": 28,
        "start_time": "2021-09-19T15:21:00.689Z"
      },
      {
        "duration": 1101,
        "start_time": "2021-09-19T15:21:00.719Z"
      },
      {
        "duration": 20,
        "start_time": "2021-09-19T15:21:01.823Z"
      },
      {
        "duration": 33,
        "start_time": "2021-09-19T15:21:01.849Z"
      },
      {
        "duration": 4,
        "start_time": "2021-09-19T15:21:01.884Z"
      },
      {
        "duration": 25,
        "start_time": "2021-09-19T15:21:01.890Z"
      },
      {
        "duration": 24,
        "start_time": "2021-09-19T15:21:01.917Z"
      },
      {
        "duration": 13,
        "start_time": "2021-09-19T15:21:01.943Z"
      },
      {
        "duration": 9,
        "start_time": "2021-09-19T15:21:01.958Z"
      },
      {
        "duration": 26,
        "start_time": "2021-09-19T15:21:01.969Z"
      },
      {
        "duration": 25,
        "start_time": "2021-09-19T15:21:02.001Z"
      },
      {
        "duration": 2,
        "start_time": "2021-09-19T15:21:02.030Z"
      },
      {
        "duration": 10,
        "start_time": "2021-09-19T15:21:02.034Z"
      },
      {
        "duration": 23,
        "start_time": "2021-09-19T15:21:02.049Z"
      },
      {
        "duration": 23,
        "start_time": "2021-09-19T15:21:02.073Z"
      },
      {
        "duration": 102,
        "start_time": "2021-09-19T15:21:02.097Z"
      },
      {
        "duration": 56,
        "start_time": "2021-09-19T15:21:02.200Z"
      },
      {
        "duration": 2,
        "start_time": "2021-09-19T15:21:02.258Z"
      },
      {
        "duration": 35,
        "start_time": "2021-09-19T15:21:02.262Z"
      },
      {
        "duration": 7,
        "start_time": "2021-09-19T15:21:02.298Z"
      },
      {
        "duration": 17,
        "start_time": "2021-09-19T15:21:02.307Z"
      },
      {
        "duration": 40,
        "start_time": "2021-09-19T15:21:02.326Z"
      },
      {
        "duration": 8,
        "start_time": "2021-09-19T15:21:02.368Z"
      },
      {
        "duration": 261,
        "start_time": "2021-09-19T15:21:02.377Z"
      },
      {
        "duration": 11,
        "start_time": "2021-09-19T15:21:02.640Z"
      },
      {
        "duration": 12,
        "start_time": "2021-09-19T15:21:02.655Z"
      },
      {
        "duration": 19,
        "start_time": "2021-09-19T15:21:02.669Z"
      },
      {
        "duration": 6,
        "start_time": "2021-09-19T15:21:02.689Z"
      },
      {
        "duration": 9,
        "start_time": "2021-09-19T15:21:02.697Z"
      },
      {
        "duration": 44,
        "start_time": "2021-09-19T15:21:02.707Z"
      },
      {
        "duration": 14,
        "start_time": "2021-09-19T15:21:02.757Z"
      },
      {
        "duration": 3,
        "start_time": "2021-09-19T15:21:02.772Z"
      },
      {
        "duration": 15,
        "start_time": "2021-09-19T15:21:02.777Z"
      },
      {
        "duration": 5,
        "start_time": "2021-09-19T15:21:02.794Z"
      },
      {
        "duration": 20,
        "start_time": "2021-09-19T15:21:02.800Z"
      },
      {
        "duration": 35,
        "start_time": "2021-09-19T15:21:02.822Z"
      },
      {
        "duration": 6,
        "start_time": "2021-09-19T15:21:02.858Z"
      },
      {
        "duration": 4,
        "start_time": "2021-09-19T15:21:02.866Z"
      },
      {
        "duration": 10,
        "start_time": "2021-09-19T15:21:02.872Z"
      },
      {
        "duration": 8,
        "start_time": "2021-09-19T15:21:02.884Z"
      },
      {
        "duration": 12,
        "start_time": "2021-09-19T15:21:02.894Z"
      },
      {
        "duration": 10,
        "start_time": "2021-09-19T15:21:02.908Z"
      },
      {
        "duration": 39,
        "start_time": "2021-09-19T15:21:02.920Z"
      },
      {
        "duration": 7,
        "start_time": "2021-09-19T15:21:02.963Z"
      },
      {
        "duration": 19,
        "start_time": "2021-09-19T15:21:02.973Z"
      },
      {
        "duration": 3,
        "start_time": "2021-09-19T15:21:02.994Z"
      },
      {
        "duration": 197,
        "start_time": "2021-09-19T15:21:02.999Z"
      },
      {
        "duration": 3,
        "start_time": "2021-09-19T15:21:03.198Z"
      },
      {
        "duration": 80,
        "start_time": "2021-09-19T15:21:03.203Z"
      },
      {
        "duration": 5,
        "start_time": "2021-09-19T15:21:03.284Z"
      },
      {
        "duration": 11,
        "start_time": "2021-09-19T15:21:03.291Z"
      },
      {
        "duration": 13,
        "start_time": "2021-09-19T15:21:03.304Z"
      },
      {
        "duration": 98,
        "start_time": "2021-09-19T15:21:03.319Z"
      },
      {
        "duration": 13,
        "start_time": "2021-09-19T15:21:03.418Z"
      },
      {
        "duration": 206,
        "start_time": "2021-09-19T15:21:03.432Z"
      },
      {
        "duration": 292,
        "start_time": "2021-09-19T15:21:03.650Z"
      },
      {
        "duration": 2,
        "start_time": "2021-09-19T15:21:03.950Z"
      },
      {
        "duration": 904,
        "start_time": "2021-09-19T15:21:03.954Z"
      },
      {
        "duration": 551,
        "start_time": "2021-09-19T15:21:04.861Z"
      },
      {
        "duration": 1638,
        "start_time": "2021-09-19T15:21:05.413Z"
      },
      {
        "duration": 29,
        "start_time": "2021-09-19T15:21:07.053Z"
      },
      {
        "duration": 2,
        "start_time": "2021-09-19T15:21:07.084Z"
      },
      {
        "duration": 12,
        "start_time": "2021-09-19T15:21:07.088Z"
      },
      {
        "duration": 22,
        "start_time": "2021-09-19T15:21:07.102Z"
      },
      {
        "duration": 145,
        "start_time": "2021-09-19T15:21:07.125Z"
      },
      {
        "duration": 6,
        "start_time": "2021-09-19T15:21:07.272Z"
      },
      {
        "duration": 499,
        "start_time": "2021-09-19T15:21:07.279Z"
      },
      {
        "duration": 6,
        "start_time": "2021-09-19T15:21:07.780Z"
      },
      {
        "duration": 217,
        "start_time": "2021-09-19T15:21:07.788Z"
      },
      {
        "duration": 6,
        "start_time": "2021-09-19T15:21:08.006Z"
      },
      {
        "duration": 41,
        "start_time": "2021-09-19T15:21:08.014Z"
      },
      {
        "duration": 4,
        "start_time": "2021-09-19T15:21:08.058Z"
      },
      {
        "duration": 15,
        "start_time": "2021-09-19T15:21:08.064Z"
      },
      {
        "duration": 11,
        "start_time": "2021-09-19T15:21:08.081Z"
      },
      {
        "duration": 10,
        "start_time": "2021-09-19T15:21:08.094Z"
      },
      {
        "duration": 5,
        "start_time": "2021-09-19T15:21:08.106Z"
      },
      {
        "duration": 5,
        "start_time": "2021-09-19T15:21:08.113Z"
      },
      {
        "duration": 35,
        "start_time": "2021-09-19T15:21:08.119Z"
      },
      {
        "duration": 4,
        "start_time": "2021-09-19T15:21:08.159Z"
      },
      {
        "duration": 14,
        "start_time": "2021-09-19T15:21:08.169Z"
      },
      {
        "duration": 74,
        "start_time": "2021-09-19T15:21:08.185Z"
      },
      {
        "duration": 2,
        "start_time": "2021-09-19T15:21:08.261Z"
      },
      {
        "duration": 11,
        "start_time": "2021-09-19T15:21:08.267Z"
      },
      {
        "duration": 29,
        "start_time": "2021-09-19T15:21:08.280Z"
      },
      {
        "duration": 4,
        "start_time": "2021-09-19T15:21:08.311Z"
      },
      {
        "duration": 36,
        "start_time": "2021-09-19T15:21:08.317Z"
      },
      {
        "duration": 13,
        "start_time": "2021-09-19T15:21:08.356Z"
      },
      {
        "duration": 11,
        "start_time": "2021-09-19T15:21:08.371Z"
      },
      {
        "duration": 10,
        "start_time": "2021-09-19T15:21:08.384Z"
      },
      {
        "duration": 11,
        "start_time": "2021-09-19T15:21:08.396Z"
      },
      {
        "duration": 23,
        "start_time": "2021-09-19T15:21:08.408Z"
      },
      {
        "duration": 25,
        "start_time": "2021-09-19T15:21:08.433Z"
      },
      {
        "duration": 6,
        "start_time": "2021-09-19T15:21:08.462Z"
      },
      {
        "duration": 9,
        "start_time": "2021-09-19T15:21:08.472Z"
      },
      {
        "duration": 263,
        "start_time": "2021-09-19T15:21:08.483Z"
      },
      {
        "duration": 212,
        "start_time": "2021-09-19T15:21:08.749Z"
      },
      {
        "duration": 21,
        "start_time": "2021-09-19T15:21:08.963Z"
      },
      {
        "duration": 7,
        "start_time": "2021-09-19T15:21:08.985Z"
      }
    ],
    "colab": {
      "name": "Копия блокнота \"1. da_23_telecom_final\"",
      "provenance": [],
      "collapsed_sections": [],
      "toc_visible": true
    },
    "kernelspec": {
      "display_name": "Python 3",
      "language": "python",
      "name": "python3"
    },
    "language_info": {
      "codemirror_mode": {
        "name": "ipython",
        "version": 3
      },
      "file_extension": ".py",
      "mimetype": "text/x-python",
      "name": "python",
      "nbconvert_exporter": "python",
      "pygments_lexer": "ipython3",
      "version": "3.7.8"
    },
    "toc": {
      "base_numbering": 1,
      "nav_menu": {},
      "number_sections": true,
      "sideBar": true,
      "skip_h1_title": true,
      "title_cell": "Table of Contents",
      "title_sidebar": "Contents",
      "toc_cell": false,
      "toc_position": {
        "height": "calc(100% - 180px)",
        "left": "10px",
        "top": "150px",
        "width": "285.85px"
      },
      "toc_section_display": true,
      "toc_window_display": false
    }
  },
  "cells": [
    {
      "cell_type": "markdown",
      "metadata": {
        "id": "6hFZiMzPx2fK"
      },
      "source": [
        "##материалы <a name=\"after_link\"></a>\n",
        "\n",
        "* [Презентация](https://disk.yandex.ru/i/LjiQtk5ouv1g1g)\n",
        "\n",
        "* [Дашборд](https://public.tableau.com/app/profile/.10443611/viz/da_23_telecom_tableau/Dashboard1?publish=yes)"
      ]
    },
    {
      "cell_type": "markdown",
      "metadata": {
        "id": "cgmYzfJ5O8aD"
      },
      "source": [
        "                                              06.09.2021 г. Ковешников Дмитрий\n",
        "                                              тел.: ...\n",
        "                                              e-mail: ...\n",
        "                                              ..."
      ]
    },
    {
      "cell_type": "markdown",
      "metadata": {
        "id": "shUVVvf-PI6i"
      },
      "source": [
        ">> **Телеком \"Нупозвони\"**\n",
        "\n",
        "---\n",
        "\n",
        "**поиск клиента с неоптимальными тарифами**"
      ]
    },
    {
      "cell_type": "markdown",
      "metadata": {
        "id": "iy1Eu6x7PvqO"
      },
      "source": [
        "![picture](https://cdni.rt.com/inotv/s/content/e/3/k/496289_1_2017-05-05_115126_big.jpg)"
      ]
    },
    {
      "cell_type": "markdown",
      "metadata": {
        "id": "K85hhJRuPwGC"
      },
      "source": [
        "#<u>Содержание:<u>\n",
        "\n",
        "[материалы](#after_link)\n",
        "\n",
        "[ТЗ](#TZ)\n",
        "\n",
        "[вспомогательные технические ф-ции](#support_func)\n",
        "\n",
        "[1) загрузка данных](#data_load)\n",
        "\n",
        "[2) предобработка данных](#data_preprocessing)\n",
        "\n",
        ">[2.1) приведение типов данных](#data_type)\n",
        "\n",
        ">[2.2) работа с дубликатами](#data_duble)\n",
        "\n",
        ">[2.3) работа с пропусками и удаление остаточных дубликатов](#data_pass)\n",
        "\n",
        ">[2.4) работа с выбросами  и аномальным поведением](#data_anomal)\n",
        "\n",
        ">[2.5) расчёт стоимости каждого месяца для клиентов](#client_revenue)\n",
        "\n",
        "[3) исследовательский анализ данных](#data_reserch)\n",
        "\n",
        ">[3.1) отделение неактивных клиентов](#client_passive)\n",
        "\n",
        ">[3.2) распределение и средний доход по группам, динамика изменения дохода](#group_revenue)\n",
        "\n",
        ">[3.3) соотношение численностей групп](#group_count)\n",
        "\n",
        ">[3.4) соотношения видов звонков по группам (входящий, исходящий, внутренний, внешний)](#group_revenue)\n",
        "\n",
        ">[3.5) распределение среднего времени ожидания по группам](#group_time_duration)\n",
        "\n",
        "[4) поиск клиентов с неоптимальными тарифами](#client_style)\n",
        "\n",
        ">[4.1) поиск клиентов с неоптимальными тарифами и расчёт возможных улучшений](#client_search)\n",
        "\n",
        ">[4.2) предложения по минимизации падения выручки](#revenue_safe)\n",
        "\n",
        "[5) проверка гипотез](#gipotes_start)\n",
        "\n",
        ">[5.1) при оптимизации тарифов в пользу клиентов выручка уменьшится](#gipotes_revenue_minimaze)\n",
        "\n",
        ">[5.2) распределения направлений звонков между группами отличаются](#gipotes_cals_back)\n",
        "\n",
        ">[5.3) сравнение доминирующих операторов по группам](#gipotes_operator)\n",
        "\n",
        "[выводы](#concusions)\n",
        "\n",
        "[алгоритм для авто расчёта](#auto_algo)\n",
        "\n",
        "\n"
      ]
    },
    {
      "cell_type": "markdown",
      "metadata": {
        "id": "dcwgGqVoV7KC"
      },
      "source": [
        "#ТЗ <a name=\"TZ\"></a>"
      ]
    },
    {
      "cell_type": "markdown",
      "metadata": {
        "id": "LWyYb9dup-x-"
      },
      "source": [
        "Найти клиентов, которые: \n",
        "\n",
        "а) переплачивают на текущих тарифах; \n",
        "\n",
        "б) сэкономят, если перейдут на более дорогой тариф.\n",
        "\n",
        "предложить решение: способ уменьшения риска падения выручки, если все клиенты перейдут на более выгодные тарифы\n"
      ]
    },
    {
      "cell_type": "markdown",
      "metadata": {
        "id": "7hzIDyHQvzbd"
      },
      "source": [
        "правила формирования тарифов:\n",
        "\n",
        "Ежемесячная плата за тариф:\n",
        "\n",
        "- Тариф А — 5000 ₽,\n",
        "- Тариф B — 2000 ₽,\n",
        "- Тариф С — 1000 ₽.\n",
        "\n",
        "**Входящие звонки** — бесплатны на всех тарифах,\n",
        "\n",
        "**Исходящие звонки внутри сети** — бесплатны до 2000 минут в месяц на всех тарифах. Цена сверх лимита:\n",
        "\n",
        "- A — 0.1 ₽/мин.,\n",
        "- B — 0.15 ₽/мин.,\n",
        "- C — 0.3 ₽/мин.\n",
        "\n",
        "**Исходящие звонки, кроме внутренних:**\n",
        "\n",
        "- A — 0.4 ₽/мин.,\n",
        "- B — 0.5 ₽/мин.,\n",
        "- C — 0.7₽/мин.\n",
        "\n",
        "За каждого оператора клиент платит 100 ₽ в месяц на любом тарифе — дополнительно к стоимости тарифа и цене звонков."
      ]
    },
    {
      "cell_type": "markdown",
      "metadata": {
        "id": "x59tu_bCV7Mj"
      },
      "source": [
        "Колонки в *telecom_dataset.csv.zip*:\n",
        "\n",
        "- `user_id` — идентификатор клиента,\n",
        "- `date` — дата статистики;\n",
        "- `direction` — направление вызовов: `out` — исходящий вызов, `in` — входящий;\n",
        "- `internal` — маркер внутренних и внешних вызовов;\n",
        "- `operator_id` — идентификатор оператора;\n",
        "- `is_missed_call` — маркер пропущенных вызовов;\n",
        "- `calls_count` — количество звонков;\n",
        "- `call_duration` — длительность звонка без учёта времени ожидания;\n",
        "- `total_call_duration` — длительность звонка с учётом времени ожидания.\n",
        "\n",
        "Колонки в *telecom_clients.csv:*\n",
        "\n",
        "- `user_id` — идентификатор клиента,\n",
        "- `tariff_plan` — тарифный план клиента,\n",
        "- `date_start` — дата регистрации клиента в сервисе."
      ]
    },
    {
      "cell_type": "markdown",
      "metadata": {
        "id": "uhapjV6OvMN5"
      },
      "source": [
        "Данный проект предназначен для сотрудников и руководства блока экономического развития (планирования). Глобальная цель- удержание (программа максимум- увеличение) кол-ва клиентов с минимальным падением выручки через создание благоприятной среды для клиентов (подбор более выгодного тарифа для клиентов- тем самым увеличение индекса лояльности клиентов и , пограмма максимум- увеличение числа клиентов (привлечение и ПЕРЕМАНИВАНИЕ новых клиентов). Расширение спектра услуг для дейтсвующих клиентов."
      ]
    },
    {
      "cell_type": "markdown",
      "metadata": {
        "id": "4h5ij0eXV7QR"
      },
      "source": [
        "#вспомогательные технические ф-ции <a name=\"support_func\"></a>"
      ]
    },
    {
      "cell_type": "code",
      "metadata": {
        "id": "HvP4kVb3GJxJ"
      },
      "source": [
        "# пустить при необходимости\n",
        "#!pip install pandas -U"
      ],
      "execution_count": 1,
      "outputs": []
    },
    {
      "cell_type": "code",
      "metadata": {
        "colab": {
          "base_uri": "https://localhost:8080/"
        },
        "id": "Quy1FWt2V7SU",
        "outputId": "8e006c2d-9c90-40b9-cf4f-d668634e281b"
      },
      "source": [
        "import pandas as pd\n",
        "import numpy as np\n",
        "\n",
        "from tqdm import tqdm\n",
        "\n",
        "import matplotlib.pyplot as plt\n",
        "\n",
        "import numpy as np\n",
        "import math\n",
        "\n",
        "from IPython.display import clear_output\n",
        "\n",
        "from scipy import stats as st\n",
        "from statsmodels.stats.weightstats import ztest\n",
        "from scipy.stats import mannwhitneyu"
      ],
      "execution_count": 2,
      "outputs": [
        {
          "output_type": "stream",
          "name": "stderr",
          "text": [
            "/usr/local/lib/python3.7/dist-packages/statsmodels/tools/_testing.py:19: FutureWarning: pandas.util.testing is deprecated. Use the functions in the public API at pandas.testing instead.\n",
            "  import pandas.util.testing as tm\n"
          ]
        }
      ]
    },
    {
      "cell_type": "code",
      "metadata": {
        "id": "B-RVQjR4GJxN"
      },
      "source": [
        "tarif_cost = {\n",
        "    'A': 5000 \n",
        "    , 'B' :2000\n",
        "    , 'C':1000\n",
        "            }\n",
        "\n",
        "min_over_lim_cost = {\n",
        "    'A': 0.1 \n",
        "    , 'B' :0.15\n",
        "    , 'C':0.3\n",
        "            }\n",
        "\n",
        "out_call_cost = {\n",
        "    'A': 0.4 \n",
        "    , 'B' :0.5\n",
        "    , 'C':0.7\n",
        "            }\n"
      ],
      "execution_count": 3,
      "outputs": []
    },
    {
      "cell_type": "code",
      "metadata": {
        "id": "j02YAaBIGJxN"
      },
      "source": [
        "def client_sum_calculator(df , tarif_column):\n",
        "  '''\n",
        "подсчитывает сумму для каждого клиента в каждый месяц согласно логики подсчёта суммы в ТЗ.\n",
        "подставляем сырой датафрейм и колонку с месяцем\n",
        "  '''\n",
        "# убираем операторов с номером 0\n",
        "  df = df[ df['operator_id'] != 0 ]\n",
        "\n",
        "  df_result= df.groupby(['user_id', 'month_count', tarif_column])['operator_id'].nunique().reset_index().rename(columns = {'operator_id' : 'operator_id_uniq_sum'})\n",
        "   \n",
        "  for i in tarif_cost.keys():\n",
        "        df_result.loc[ df_result[tarif_column] == i , 'tarif_sum'] = tarif_cost[i]\n",
        "  #df_result.loc[ df_result[tarif_column] == 'A' , 'tarif_sum'] = 5000\n",
        "  #df_result.loc[ df_result[tarif_column] == 'B' , 'tarif_sum'] = 2000\n",
        "  #df_result.loc[ df_result[tarif_column] == 'C' , 'tarif_sum'] = 1000\n",
        "\n",
        "  df_result['operator_sum'] = df_result['operator_id_uniq_sum'] * 100\n",
        "\n",
        "\n",
        "  df_rab = df[ df['direction']== 'out'].groupby(['user_id' , 'month_count' , 'internal', tarif_column ])['call_duration'].sum().reset_index().rename(columns= {'call_duration' : 'call_duration_sum'})  # считаем только исходящие звонки\n",
        "  df_rab.loc[ df_rab['internal'] == True , 'call_duration_sum'] -= 2000*60 \n",
        "  df_rab.loc[ df_rab['call_duration_sum'] < 0 , 'call_duration_sum'] = 0 # для исходящих внутрисетевыъ звонков оставилитолько кол-во платных минут\n",
        "  #далее считаем сумму в усл. ед.(руб)\n",
        "  \n",
        "  for i in min_over_lim_cost.keys():\n",
        "        df_rab.loc[ (df_rab['internal'] == True)& (df_rab[tarif_column] == i) , 'cal_internal_sum'] = df_rab['call_duration_sum'].apply(lambda x: math.ceil(x/60)* min_over_lim_cost[i] )\n",
        "  #df_rab.loc[ (df_rab['internal'] == True)& (df_rab[tarif_column] == 'A') , 'cal_internal_sum'] = df_rab['call_duration_sum'].apply(lambda x: math.ceil(x/60)* 0.1 ) \n",
        "  #df_rab.loc[ (df_rab['internal'] == True)& (df_rab[tarif_column] == 'B') , 'cal_internal_sum'] = df_rab['call_duration_sum'].apply(lambda x: math.ceil(x/60)* 0.15)\n",
        "  #df_rab.loc[ (df_rab['internal'] == True)& (df_rab[tarif_column] == 'C') , 'cal_internal_sum'] = df_rab['call_duration_sum'].apply(lambda x: math.ceil(x/60)* 0.3)\n",
        "\n",
        "  for i in out_call_cost.keys():\n",
        "        df_rab.loc[ (df_rab['internal'] == False)& (df_rab[tarif_column] == i) , 'cal_external_sum'] = df_rab['call_duration_sum'].apply(lambda x: math.ceil(x/60)*out_call_cost[i])\n",
        "  #df_rab.loc[ (df_rab['internal'] == False)& (df_rab[tarif_column] == 'A') , 'cal_external_sum'] = df_rab['call_duration_sum'].apply(lambda x: math.ceil(x/60)*0.4)\n",
        "  #df_rab.loc[ (df_rab['internal'] == False)& (df_rab[tarif_column] == 'B') , 'cal_external_sum'] = df_rab['call_duration_sum'].apply(lambda x: math.ceil(x/60)* 0.5)\n",
        "  #df_rab.loc[ (df_rab['internal'] == False)& (df_rab[tarif_column] == 'C') , 'cal_external_sum'] = df_rab['call_duration_sum'].apply(lambda x: math.ceil(x/60)* 0.7)\n",
        "\n",
        "  df_rab.fillna(0, inplace =True)\n",
        "  df_rab['call_sum'] = df_rab['cal_internal_sum'] + df_rab['cal_external_sum']\n",
        "  df_rab = df_rab.groupby(['user_id' , 'month_count'])['call_sum'].sum().reset_index()\n",
        "\n",
        "\n",
        "\n",
        "  df_result = df_result.merge(df_rab, left_on=['user_id', 'month_count'], right_on=['user_id' , 'month_count'] , how='left' )\n",
        "  df_result.fillna(0, inplace = True)\n",
        "  df_result['total_sum'] = df_result['tarif_sum'] + df_result['operator_sum'] + df_result['call_sum']\n",
        "  df_result = df_result[['user_id', tarif_column ,'month_count','tarif_sum','operator_sum','call_sum', 'total_sum']]\n",
        "\n",
        "  #display(df_rab)\n",
        "  # встроим проверку по кол-ву строк (кол-во строк (уникальных значений по client_id month  должны совпадать))\n",
        "  if len(df.groupby(['user_id' , 'month_count'])['operator_id'].count().reset_index()) == len(df_result):\n",
        "    print('кол-во строк исходного датасета совпадает с итоговым')\n",
        "    return df_result\n",
        "  else:\n",
        "    print('есть проблема в калькуляторе')\n",
        "    return 'error contain'"
      ],
      "execution_count": 4,
      "outputs": []
    },
    {
      "cell_type": "code",
      "metadata": {
        "id": "UzTNpVhcGJxS"
      },
      "source": [
        "def active_client_detector(df):\n",
        "  '''\n",
        "  выделяет клиентов на последний месяц их датасета и выводит распределение по месяцам\n",
        "  '''\n",
        "  list_active_client= list(df[ df['month_count'] == df['month_count'].max()]['user_id'])\n",
        "  df_result= df[ df['user_id'].isin(list_active_client)]\n",
        "  display(df_result['month_count'].value_counts().to_frame())\n",
        "  \n",
        "  #df_result['month_count'].hist()\n",
        "\n",
        "  fig, ax = plt.subplots(nrows = 1, ncols = 1, figsize=(5,5))\n",
        "  ax.set_title('распределение для month_count' )\n",
        "  ax.hist(df_result['month_count'])\n",
        "  ax.set_xlabel('номер месяца')\n",
        "  ax.set_ylabel('кол-во записей отнносящихся к актив клиентам в группе, шт.')\n",
        "  ax.grid()\n",
        "  #ax.legend()\n",
        "  plt.xticks(rotation=-0, ha='left')\n",
        "  plt.show()\n",
        "\n",
        "\n",
        "  return df_result"
      ],
      "execution_count": 5,
      "outputs": []
    },
    {
      "cell_type": "code",
      "metadata": {
        "id": "1_zMxB-zGJxU"
      },
      "source": [
        "def boxplot_sum_stroy(df, column_tariff,  column_month, current_month,  column_sum, title_str, log_scale = False):\n",
        "  '''\n",
        "  строит боксплот в разрезе тарифов на указанный месяц с лог шкалой или десятиричной шкалой\n",
        "  '''  \n",
        "  fig, ax = plt.subplots(figsize=(22,8))\n",
        "  ax.set_title(title_str)\n",
        "  ax.boxplot(\n",
        "      (df[ (df[column_tariff] == 'A') & (df[column_month] == current_month)  ][column_sum]\n",
        "      ,df[ (df[column_tariff] == 'B') & (df[column_month] == current_month) ][column_sum] \n",
        "      ,df[ (df[column_tariff] == 'C') & (df[column_month] == current_month)  ][column_sum]  ) \n",
        "      , vert=False\n",
        "      #, labels\n",
        "      ,labels  = ('A, median='+ str(round(df[ (df[column_tariff] == 'A') & (df[column_month] == current_month) ][column_sum].median() ) )\n",
        "                            ,'B, median=' + str(round(df[ (df[column_tariff] == 'B') & (df[column_month] == current_month) ][column_sum].median() ) )\n",
        "                            ,'C, median='  + str(round(df[ (df[column_tariff] == 'C') & (df[column_month] == current_month) ][column_sum].median() ) )\n",
        "                            )\n",
        "      , \n",
        "      )\n",
        "  ax.set_xlabel('расходы клиентов, руб')\n",
        "  ax.set_ylabel('клиент')\n",
        "  ax.grid()\n",
        "\n",
        "  if log_scale == True:\n",
        "    ax.set_xscale('log') \n",
        "\n",
        "  plt.show()"
      ],
      "execution_count": 6,
      "outputs": []
    },
    {
      "cell_type": "code",
      "metadata": {
        "id": "paBBM81OGJxV"
      },
      "source": [
        "np.warnings.filterwarnings('ignore', category=np.VisibleDeprecationWarning)"
      ],
      "execution_count": 7,
      "outputs": []
    },
    {
      "cell_type": "code",
      "metadata": {
        "id": "PW4FcJbDGJxV"
      },
      "source": [
        "def boxplot_sum_story_stroy(df, column_tariff,  column_month, tariff,  column_sum, title_str, log_scale = False):\n",
        "  '''\n",
        "  строит боксплот в разрезе месяцов отбора  для указанного тарифа с лог шкалой или десятиричной шкалой\n",
        "  '''  \n",
        "  fig, ax = plt.subplots(figsize=(22,9))\n",
        "  ax.set_title(title_str)\n",
        "  ax.boxplot(\n",
        "      tuple(\n",
        "          \n",
        "        df[ (df[column_tariff] == tariff) & (df[column_month] == i)  ][column_sum] for i in df[column_month].unique()\n",
        "   \n",
        "      ) \n",
        "      , vert=False\n",
        "      #, labels\n",
        "      ,labels  = tuple(\n",
        "          \n",
        "          str(i) + ', median='+ str(round(df[ (df[column_tariff] == tariff) & (df[column_month] == i) ][column_sum].median() ) ) for i in df[column_month].unique() \n",
        "          \n",
        "                         )\n",
        "      ,\n",
        "      )\n",
        "  ax.set_xlabel('расходы клиентов, руб')\n",
        "  ax.set_ylabel('месяц')\n",
        "  ax.grid()\n",
        "\n",
        "  if log_scale == True:\n",
        "    ax.set_xscale('log') \n",
        "\n",
        "  plt.show()"
      ],
      "execution_count": 8,
      "outputs": []
    },
    {
      "cell_type": "code",
      "metadata": {
        "id": "QERd1xmZAvPW"
      },
      "source": [
        "def searc_optimum_tarif(df, first_tarif):\n",
        "  '''\n",
        "  вывод сумм для всех тарифов для каждого клиента\n",
        "  на входе- оптимизированный датасет\n",
        "  '''\n",
        "  df_result = client_sum_calculator(df, first_tarif)\n",
        "  for i in ('A','B','C'):\n",
        "    df['dop_tariff'] = i\n",
        "    df_result_1 = client_sum_calculator(df, 'dop_tariff').rename(columns =\n",
        "        {'tarif_sum':'tarif_sum_'+i , 'operator_sum':'operator_sum_'+i \n",
        "        , 'call_sum':'call_sum_'+i , 'total_sum':'total_sum_'+i }\n",
        "    )\n",
        "    df_result_1.drop(columns = ['dop_tariff','month_count'], inplace=True)\n",
        "    #display(df_result_1)\n",
        "    #break\n",
        "    df_result = df_result.merge(df_result_1, left_on='user_id', right_on='user_id' )\n",
        "\n",
        "  df.drop(columns = ['dop_tariff'], inplace=True)\n",
        "\n",
        "  df_result['total_sum_optimum'] = df_result[['total_sum_A','total_sum_B','total_sum_C']].min(axis = 1)\n",
        "  df_result['have_optimum_tarif'] = df_result['total_sum_optimum'] - df_result['total_sum']\n",
        "  df_result.loc[ df_result['have_optimum_tarif'] == 0 ,'have_optimum_tarif'] = False\n",
        "  df_result.loc[ df_result['have_optimum_tarif'] < 0 , 'have_optimum_tarif'] = True\n",
        "\n",
        "  #приведём оптимальный тариф\n",
        "  df_result.loc[ (df_result['total_sum_optimum'] - df_result['total_sum_A']) == 0 , 'optimum_tarif'] ='A'\n",
        "  df_result.loc[ (df_result['total_sum_optimum'] - df_result['total_sum_B']) == 0 , 'optimum_tarif'] ='B'\n",
        "  df_result.loc[ (df_result['total_sum_optimum'] - df_result['total_sum_C']) == 0 , 'optimum_tarif'] ='C'\n",
        "\n",
        "  clear_output(wait=True)\n",
        "\n",
        "  return(df_result)"
      ],
      "execution_count": 9,
      "outputs": []
    },
    {
      "cell_type": "markdown",
      "metadata": {
        "id": "aIFVNVHWoD49"
      },
      "source": [
        "#1) загрузка данных <a name=\"data_load\"></a>"
      ]
    },
    {
      "cell_type": "code",
      "metadata": {
        "id": "WT37PZmwzT-D",
        "colab": {
          "base_uri": "https://localhost:8080/"
        },
        "outputId": "5eff176a-0233-48d2-a472-e3ce7ce06192"
      },
      "source": [
        "from google.colab import drive\n",
        "drive.mount('/content/drive')"
      ],
      "execution_count": 10,
      "outputs": [
        {
          "output_type": "stream",
          "name": "stdout",
          "text": [
            "Mounted at /content/drive\n"
          ]
        }
      ]
    },
    {
      "cell_type": "code",
      "metadata": {
        "id": "_Iny_mTKZDrT"
      },
      "source": [
        "try:\n",
        "  df_client = pd.read_csv('/content/drive/MyDrive/1_telecom_clients.csv')\n",
        "  df_data = pd.read_csv('/content/drive/MyDrive/1_telecom_dataset.csv')\n",
        "except:\n",
        "  df_client = pd.read_csv('https://.../telecom_clients.csv')\n",
        "  df_data = pd.read_csv('https://.../telecom_dataset.csv')\n"
      ],
      "execution_count": 11,
      "outputs": []
    },
    {
      "cell_type": "markdown",
      "metadata": {
        "id": "2bQrScUZxjgJ"
      },
      "source": [
        "данные загружены, можем начинать работать"
      ]
    },
    {
      "cell_type": "markdown",
      "metadata": {
        "id": "W-nD8NOWxjjG"
      },
      "source": [
        "#2) предобработка данных <a name=\"data_preprocessing\"></a>"
      ]
    },
    {
      "cell_type": "markdown",
      "metadata": {
        "id": "gAy3-0bb6uC0"
      },
      "source": [
        "посмотрим на загруженные таблицы:"
      ]
    },
    {
      "cell_type": "code",
      "metadata": {
        "colab": {
          "base_uri": "https://localhost:8080/",
          "height": 380
        },
        "id": "rAU51bKGxjli",
        "outputId": "b06998be-20ec-4416-b15a-b0d22746bf73"
      },
      "source": [
        "display(df_client.head())\n",
        "df_client.info()"
      ],
      "execution_count": 12,
      "outputs": [
        {
          "output_type": "display_data",
          "data": {
            "text/html": [
              "<div>\n",
              "<style scoped>\n",
              "    .dataframe tbody tr th:only-of-type {\n",
              "        vertical-align: middle;\n",
              "    }\n",
              "\n",
              "    .dataframe tbody tr th {\n",
              "        vertical-align: top;\n",
              "    }\n",
              "\n",
              "    .dataframe thead th {\n",
              "        text-align: right;\n",
              "    }\n",
              "</style>\n",
              "<table border=\"1\" class=\"dataframe\">\n",
              "  <thead>\n",
              "    <tr style=\"text-align: right;\">\n",
              "      <th></th>\n",
              "      <th>user_id</th>\n",
              "      <th>tariff_plan</th>\n",
              "      <th>date_start</th>\n",
              "    </tr>\n",
              "  </thead>\n",
              "  <tbody>\n",
              "    <tr>\n",
              "      <th>0</th>\n",
              "      <td>166713</td>\n",
              "      <td>A</td>\n",
              "      <td>2019-08-15</td>\n",
              "    </tr>\n",
              "    <tr>\n",
              "      <th>1</th>\n",
              "      <td>166901</td>\n",
              "      <td>A</td>\n",
              "      <td>2019-08-23</td>\n",
              "    </tr>\n",
              "    <tr>\n",
              "      <th>2</th>\n",
              "      <td>168527</td>\n",
              "      <td>A</td>\n",
              "      <td>2019-10-29</td>\n",
              "    </tr>\n",
              "    <tr>\n",
              "      <th>3</th>\n",
              "      <td>167097</td>\n",
              "      <td>A</td>\n",
              "      <td>2019-09-01</td>\n",
              "    </tr>\n",
              "    <tr>\n",
              "      <th>4</th>\n",
              "      <td>168193</td>\n",
              "      <td>A</td>\n",
              "      <td>2019-10-16</td>\n",
              "    </tr>\n",
              "  </tbody>\n",
              "</table>\n",
              "</div>"
            ],
            "text/plain": [
              "   user_id tariff_plan  date_start\n",
              "0   166713           A  2019-08-15\n",
              "1   166901           A  2019-08-23\n",
              "2   168527           A  2019-10-29\n",
              "3   167097           A  2019-09-01\n",
              "4   168193           A  2019-10-16"
            ]
          },
          "metadata": {}
        },
        {
          "output_type": "stream",
          "name": "stdout",
          "text": [
            "<class 'pandas.core.frame.DataFrame'>\n",
            "RangeIndex: 732 entries, 0 to 731\n",
            "Data columns (total 3 columns):\n",
            " #   Column       Non-Null Count  Dtype \n",
            "---  ------       --------------  ----- \n",
            " 0   user_id      732 non-null    int64 \n",
            " 1   tariff_plan  732 non-null    object\n",
            " 2   date_start   732 non-null    object\n",
            "dtypes: int64(1), object(2)\n",
            "memory usage: 17.3+ KB\n"
          ]
        }
      ]
    },
    {
      "cell_type": "markdown",
      "metadata": {
        "id": "DuZVwxQ37YR3"
      },
      "source": [
        "на первый взгляд- пропусков нет, тип датового столбца необходимо привести к типу даты"
      ]
    },
    {
      "cell_type": "code",
      "metadata": {
        "colab": {
          "base_uri": "https://localhost:8080/",
          "height": 484
        },
        "id": "hc85EBoR7Yjk",
        "outputId": "3a1e3fe8-66a5-4065-e420-e19187b30ea4"
      },
      "source": [
        "display(df_data.head())\n",
        "df_data.info()"
      ],
      "execution_count": 13,
      "outputs": [
        {
          "output_type": "display_data",
          "data": {
            "text/html": [
              "<div>\n",
              "<style scoped>\n",
              "    .dataframe tbody tr th:only-of-type {\n",
              "        vertical-align: middle;\n",
              "    }\n",
              "\n",
              "    .dataframe tbody tr th {\n",
              "        vertical-align: top;\n",
              "    }\n",
              "\n",
              "    .dataframe thead th {\n",
              "        text-align: right;\n",
              "    }\n",
              "</style>\n",
              "<table border=\"1\" class=\"dataframe\">\n",
              "  <thead>\n",
              "    <tr style=\"text-align: right;\">\n",
              "      <th></th>\n",
              "      <th>user_id</th>\n",
              "      <th>date</th>\n",
              "      <th>direction</th>\n",
              "      <th>internal</th>\n",
              "      <th>operator_id</th>\n",
              "      <th>is_missed_call</th>\n",
              "      <th>calls_count</th>\n",
              "      <th>call_duration</th>\n",
              "      <th>total_call_duration</th>\n",
              "    </tr>\n",
              "  </thead>\n",
              "  <tbody>\n",
              "    <tr>\n",
              "      <th>0</th>\n",
              "      <td>166377</td>\n",
              "      <td>2019-08-04 00:00:00+03:00</td>\n",
              "      <td>in</td>\n",
              "      <td>False</td>\n",
              "      <td>NaN</td>\n",
              "      <td>True</td>\n",
              "      <td>2</td>\n",
              "      <td>0</td>\n",
              "      <td>4</td>\n",
              "    </tr>\n",
              "    <tr>\n",
              "      <th>1</th>\n",
              "      <td>166377</td>\n",
              "      <td>2019-08-05 00:00:00+03:00</td>\n",
              "      <td>out</td>\n",
              "      <td>True</td>\n",
              "      <td>880022.0</td>\n",
              "      <td>True</td>\n",
              "      <td>3</td>\n",
              "      <td>0</td>\n",
              "      <td>5</td>\n",
              "    </tr>\n",
              "    <tr>\n",
              "      <th>2</th>\n",
              "      <td>166377</td>\n",
              "      <td>2019-08-05 00:00:00+03:00</td>\n",
              "      <td>out</td>\n",
              "      <td>True</td>\n",
              "      <td>880020.0</td>\n",
              "      <td>True</td>\n",
              "      <td>1</td>\n",
              "      <td>0</td>\n",
              "      <td>1</td>\n",
              "    </tr>\n",
              "    <tr>\n",
              "      <th>3</th>\n",
              "      <td>166377</td>\n",
              "      <td>2019-08-05 00:00:00+03:00</td>\n",
              "      <td>out</td>\n",
              "      <td>True</td>\n",
              "      <td>880020.0</td>\n",
              "      <td>False</td>\n",
              "      <td>1</td>\n",
              "      <td>10</td>\n",
              "      <td>18</td>\n",
              "    </tr>\n",
              "    <tr>\n",
              "      <th>4</th>\n",
              "      <td>166377</td>\n",
              "      <td>2019-08-05 00:00:00+03:00</td>\n",
              "      <td>out</td>\n",
              "      <td>False</td>\n",
              "      <td>880022.0</td>\n",
              "      <td>True</td>\n",
              "      <td>3</td>\n",
              "      <td>0</td>\n",
              "      <td>25</td>\n",
              "    </tr>\n",
              "  </tbody>\n",
              "</table>\n",
              "</div>"
            ],
            "text/plain": [
              "   user_id                       date  ... call_duration total_call_duration\n",
              "0   166377  2019-08-04 00:00:00+03:00  ...             0                   4\n",
              "1   166377  2019-08-05 00:00:00+03:00  ...             0                   5\n",
              "2   166377  2019-08-05 00:00:00+03:00  ...             0                   1\n",
              "3   166377  2019-08-05 00:00:00+03:00  ...            10                  18\n",
              "4   166377  2019-08-05 00:00:00+03:00  ...             0                  25\n",
              "\n",
              "[5 rows x 9 columns]"
            ]
          },
          "metadata": {}
        },
        {
          "output_type": "stream",
          "name": "stdout",
          "text": [
            "<class 'pandas.core.frame.DataFrame'>\n",
            "RangeIndex: 53902 entries, 0 to 53901\n",
            "Data columns (total 9 columns):\n",
            " #   Column               Non-Null Count  Dtype  \n",
            "---  ------               --------------  -----  \n",
            " 0   user_id              53902 non-null  int64  \n",
            " 1   date                 53902 non-null  object \n",
            " 2   direction            53902 non-null  object \n",
            " 3   internal             53785 non-null  object \n",
            " 4   operator_id          45730 non-null  float64\n",
            " 5   is_missed_call       53902 non-null  bool   \n",
            " 6   calls_count          53902 non-null  int64  \n",
            " 7   call_duration        53902 non-null  int64  \n",
            " 8   total_call_duration  53902 non-null  int64  \n",
            "dtypes: bool(1), float64(1), int64(4), object(3)\n",
            "memory usage: 3.3+ MB\n"
          ]
        }
      ]
    },
    {
      "cell_type": "code",
      "metadata": {
        "colab": {
          "base_uri": "https://localhost:8080/"
        },
        "id": "0jUOBogs8hG9",
        "outputId": "d0e7ce8a-049a-40f0-fdbb-a18cb351cb85"
      },
      "source": [
        "len(df_data['operator_id'].unique())"
      ],
      "execution_count": 14,
      "outputs": [
        {
          "output_type": "execute_result",
          "data": {
            "text/plain": [
              "1093"
            ]
          },
          "metadata": {},
          "execution_count": 14
        }
      ]
    },
    {
      "cell_type": "markdown",
      "metadata": {
        "id": "Lg8Kbpqk8DR5"
      },
      "source": [
        "на первый взгляд в столбцах operator_id , internal есть пропуски. Так же необходимо привести типы столбцов к типу Data. Так же для уменьшения размера таблицы, можно привести столбцы direction и internal к типу bool, но т.к. таблица не сильно большая, то это не приведёт к значительному увеличению времени вычисления, а такая выгрузка может быть особенностью системы (либо надо узнать где ошибка в выгрузках (данных в базе)). На результаты это не повлияет, поэтому оставим как есть. Ту же логику применим к столбцу operator_id: на первый взгляд его надо привести к типу integer, но это для нас не принципиально и, может быть, где-то в базе есть оператор с номером 156,6, что для работы с случайной выгрузкой может нам сильно помешать при автоматическом обсчёте (имеется в виду приведение к int)"
      ]
    },
    {
      "cell_type": "code",
      "metadata": {
        "colab": {
          "base_uri": "https://localhost:8080/",
          "height": 206
        },
        "id": "AjXpkwLsKgK8",
        "outputId": "13a99d37-c431-4031-f26b-bfd12304a5bd"
      },
      "source": [
        "df_data[ (df_data['is_missed_call'] == False) & (df_data['call_duration'] == 0)].head()"
      ],
      "execution_count": 15,
      "outputs": [
        {
          "output_type": "execute_result",
          "data": {
            "text/html": [
              "<div>\n",
              "<style scoped>\n",
              "    .dataframe tbody tr th:only-of-type {\n",
              "        vertical-align: middle;\n",
              "    }\n",
              "\n",
              "    .dataframe tbody tr th {\n",
              "        vertical-align: top;\n",
              "    }\n",
              "\n",
              "    .dataframe thead th {\n",
              "        text-align: right;\n",
              "    }\n",
              "</style>\n",
              "<table border=\"1\" class=\"dataframe\">\n",
              "  <thead>\n",
              "    <tr style=\"text-align: right;\">\n",
              "      <th></th>\n",
              "      <th>user_id</th>\n",
              "      <th>date</th>\n",
              "      <th>direction</th>\n",
              "      <th>internal</th>\n",
              "      <th>operator_id</th>\n",
              "      <th>is_missed_call</th>\n",
              "      <th>calls_count</th>\n",
              "      <th>call_duration</th>\n",
              "      <th>total_call_duration</th>\n",
              "    </tr>\n",
              "  </thead>\n",
              "  <tbody>\n",
              "    <tr>\n",
              "      <th>1552</th>\n",
              "      <td>166405</td>\n",
              "      <td>2019-11-16 00:00:00+03:00</td>\n",
              "      <td>out</td>\n",
              "      <td>False</td>\n",
              "      <td>902532.0</td>\n",
              "      <td>False</td>\n",
              "      <td>1</td>\n",
              "      <td>0</td>\n",
              "      <td>27</td>\n",
              "    </tr>\n",
              "    <tr>\n",
              "      <th>1560</th>\n",
              "      <td>166405</td>\n",
              "      <td>2019-11-16 00:00:00+03:00</td>\n",
              "      <td>out</td>\n",
              "      <td>False</td>\n",
              "      <td>902532.0</td>\n",
              "      <td>False</td>\n",
              "      <td>1</td>\n",
              "      <td>0</td>\n",
              "      <td>27</td>\n",
              "    </tr>\n",
              "    <tr>\n",
              "      <th>2931</th>\n",
              "      <td>166485</td>\n",
              "      <td>2019-09-03 00:00:00+03:00</td>\n",
              "      <td>out</td>\n",
              "      <td>True</td>\n",
              "      <td>887276.0</td>\n",
              "      <td>False</td>\n",
              "      <td>1</td>\n",
              "      <td>0</td>\n",
              "      <td>4</td>\n",
              "    </tr>\n",
              "    <tr>\n",
              "      <th>9520</th>\n",
              "      <td>166658</td>\n",
              "      <td>2019-11-06 00:00:00+03:00</td>\n",
              "      <td>out</td>\n",
              "      <td>True</td>\n",
              "      <td>890410.0</td>\n",
              "      <td>False</td>\n",
              "      <td>1</td>\n",
              "      <td>0</td>\n",
              "      <td>0</td>\n",
              "    </tr>\n",
              "    <tr>\n",
              "      <th>10254</th>\n",
              "      <td>166678</td>\n",
              "      <td>2019-09-04 00:00:00+03:00</td>\n",
              "      <td>out</td>\n",
              "      <td>True</td>\n",
              "      <td>888868.0</td>\n",
              "      <td>False</td>\n",
              "      <td>1</td>\n",
              "      <td>0</td>\n",
              "      <td>5</td>\n",
              "    </tr>\n",
              "  </tbody>\n",
              "</table>\n",
              "</div>"
            ],
            "text/plain": [
              "       user_id                       date  ... call_duration total_call_duration\n",
              "1552    166405  2019-11-16 00:00:00+03:00  ...             0                  27\n",
              "1560    166405  2019-11-16 00:00:00+03:00  ...             0                  27\n",
              "2931    166485  2019-09-03 00:00:00+03:00  ...             0                   4\n",
              "9520    166658  2019-11-06 00:00:00+03:00  ...             0                   0\n",
              "10254   166678  2019-09-04 00:00:00+03:00  ...             0                   5\n",
              "\n",
              "[5 rows x 9 columns]"
            ]
          },
          "metadata": {},
          "execution_count": 15
        }
      ]
    },
    {
      "cell_type": "markdown",
      "metadata": {
        "id": "vplPedPlIjij"
      },
      "source": [
        "можем обратить внимание на такой интересный момент- есть некоторое кол-во записей, у которых признак \"пропущенный вызов\" показывает, что звонок состаялся, но при этом \"живое\" время разговора составило 0 секунд. Данноя особенность могла получитсся вследствии сбоя при формировании нашего датасета либо из-за особенностей работы системы учёта времени разговоров.\n",
        "В первом случай (сбой) мы должны **сообщить поставщику данных об данной проблеме** и изменить соови данные (поменять признак is_missed_call на True) или разобраться в особенностях системы учёта времени звонков и действовать по сложившейся ситуации.\n",
        "\n",
        "Для продолжения работы мы изберём первый вариант, как наиболее реализуемый в нашей текущей ситуации: "
      ]
    },
    {
      "cell_type": "code",
      "metadata": {
        "colab": {
          "base_uri": "https://localhost:8080/"
        },
        "id": "UxyPmSH_J9FL",
        "outputId": "fabbbbf3-8657-4e34-8805-cce02ec3b03a"
      },
      "source": [
        "print('кол-во \"ложных\" признаков в is_missed_call:', len(df_data[ (df_data['is_missed_call'] == False) & (df_data['call_duration'] == 0)]))"
      ],
      "execution_count": 16,
      "outputs": [
        {
          "output_type": "stream",
          "name": "stdout",
          "text": [
            "кол-во \"ложных\" признаков в is_missed_call: 20\n"
          ]
        }
      ]
    },
    {
      "cell_type": "code",
      "metadata": {
        "id": "1B1IZKbeKJdW"
      },
      "source": [
        "#заменяем \"ложные\" признаки\n",
        "df_data.loc[ df_data['call_duration'] == 0 , 'is_missed_call'] = True"
      ],
      "execution_count": 17,
      "outputs": []
    },
    {
      "cell_type": "code",
      "metadata": {
        "id": "YlWSCYcMJ4n2"
      },
      "source": [
        "#print('кол-во \"ложных\" признаков в is_missed_call:', len(df_data[ (df_data['is_missed_call'] == False) & (df_data['call_duration'] == 0)]))"
      ],
      "execution_count": 18,
      "outputs": []
    },
    {
      "cell_type": "markdown",
      "metadata": {
        "id": "J52srUNi-gc7"
      },
      "source": [
        "Далее начнём \"причёсывать\" данные"
      ]
    },
    {
      "cell_type": "markdown",
      "metadata": {
        "id": "pg1bjotY7Yl7"
      },
      "source": [
        "##2.1) приведение типов данных  <a name=\"data_type\"></a>  "
      ]
    },
    {
      "cell_type": "markdown",
      "metadata": {
        "id": "BCQGMgYBxjoE"
      },
      "source": [
        "приведём тип данных в солбце date_start к типу DATA в таблице df_client"
      ]
    },
    {
      "cell_type": "code",
      "metadata": {
        "colab": {
          "base_uri": "https://localhost:8080/"
        },
        "id": "xiqCALB65P8U",
        "outputId": "2110073b-7afa-43e0-9959-5de069159175"
      },
      "source": [
        "df_client['date_start'] = df_client['date_start'].astype('datetime64')\n",
        "\n",
        "df_client.info()\n"
      ],
      "execution_count": 19,
      "outputs": [
        {
          "output_type": "stream",
          "name": "stdout",
          "text": [
            "<class 'pandas.core.frame.DataFrame'>\n",
            "RangeIndex: 732 entries, 0 to 731\n",
            "Data columns (total 3 columns):\n",
            " #   Column       Non-Null Count  Dtype         \n",
            "---  ------       --------------  -----         \n",
            " 0   user_id      732 non-null    int64         \n",
            " 1   tariff_plan  732 non-null    object        \n",
            " 2   date_start   732 non-null    datetime64[ns]\n",
            "dtypes: datetime64[ns](1), int64(1), object(1)\n",
            "memory usage: 17.3+ KB\n"
          ]
        }
      ]
    },
    {
      "cell_type": "markdown",
      "metadata": {
        "id": "iZwydtAX-5gf"
      },
      "source": [
        "приведём тип данных в солбце date к типу DATA в таблице df_data"
      ]
    },
    {
      "cell_type": "code",
      "metadata": {
        "colab": {
          "base_uri": "https://localhost:8080/"
        },
        "id": "h5WU8V5T-5gf",
        "outputId": "6ad9328b-3143-4f71-cb7b-9fa3f408cb04"
      },
      "source": [
        "df_data['date'] = pd.to_datetime(df_data['date'], utc=False)\n",
        "\n",
        "df_data.info()\n"
      ],
      "execution_count": 20,
      "outputs": [
        {
          "output_type": "stream",
          "name": "stdout",
          "text": [
            "<class 'pandas.core.frame.DataFrame'>\n",
            "RangeIndex: 53902 entries, 0 to 53901\n",
            "Data columns (total 9 columns):\n",
            " #   Column               Non-Null Count  Dtype                                \n",
            "---  ------               --------------  -----                                \n",
            " 0   user_id              53902 non-null  int64                                \n",
            " 1   date                 53902 non-null  datetime64[ns, pytz.FixedOffset(180)]\n",
            " 2   direction            53902 non-null  object                               \n",
            " 3   internal             53785 non-null  object                               \n",
            " 4   operator_id          45730 non-null  float64                              \n",
            " 5   is_missed_call       53902 non-null  bool                                 \n",
            " 6   calls_count          53902 non-null  int64                                \n",
            " 7   call_duration        53902 non-null  int64                                \n",
            " 8   total_call_duration  53902 non-null  int64                                \n",
            "dtypes: bool(1), datetime64[ns, pytz.FixedOffset(180)](1), float64(1), int64(4), object(2)\n",
            "memory usage: 3.3+ MB\n"
          ]
        }
      ]
    },
    {
      "cell_type": "code",
      "metadata": {
        "id": "CVlEOL15_Gpc"
      },
      "source": [
        "#df_data.head()"
      ],
      "execution_count": 21,
      "outputs": []
    },
    {
      "cell_type": "markdown",
      "metadata": {
        "id": "Ju0gi3pR_bfK"
      },
      "source": [
        "типы приведены, идём дальше"
      ]
    },
    {
      "cell_type": "markdown",
      "metadata": {
        "id": "8H1wdhdvxjqx"
      },
      "source": [
        "##2.2) работа с дубликатами   <a name=\"data_duble\"></a>    "
      ]
    },
    {
      "cell_type": "markdown",
      "metadata": {
        "id": "ITq8UtsRj2t_"
      },
      "source": [
        "проверим таблицу df_client на дубликаты:"
      ]
    },
    {
      "cell_type": "code",
      "metadata": {
        "colab": {
          "base_uri": "https://localhost:8080/"
        },
        "id": "gNqzSJDpxioy",
        "outputId": "ea97006f-0293-4c4d-b9d1-88a3b470e42c"
      },
      "source": [
        "if ( df_client['user_id'].duplicated().mean() == 0 ):\n",
        "  print('дубликатов не обнаружено')\n",
        "else:\n",
        "  print('ИМЕЮТСЯ дубликаты')"
      ],
      "execution_count": 22,
      "outputs": [
        {
          "output_type": "stream",
          "name": "stdout",
          "text": [
            "дубликатов не обнаружено\n"
          ]
        }
      ]
    },
    {
      "cell_type": "markdown",
      "metadata": {
        "id": "2Q3DkOkPBByw"
      },
      "source": [
        "проверим таблицу df_data на дубликаты:"
      ]
    },
    {
      "cell_type": "code",
      "metadata": {
        "colab": {
          "base_uri": "https://localhost:8080/"
        },
        "id": "kSt-yddsBB10",
        "outputId": "0f0389c3-27a1-4499-e8e7-78cd9abd24e7"
      },
      "source": [
        "if ( df_data.duplicated().mean() == 0 ):\n",
        "  print('дубликатов не обнаружено')\n",
        "else:\n",
        "  print('ИМЕЮТСЯ дубликаты!')\n",
        "\n"
      ],
      "execution_count": 23,
      "outputs": [
        {
          "output_type": "stream",
          "name": "stdout",
          "text": [
            "ИМЕЮТСЯ дубликаты!\n"
          ]
        }
      ]
    },
    {
      "cell_type": "markdown",
      "metadata": {
        "id": "HaFHIu70BB4e"
      },
      "source": [
        "выведем дубликаты:"
      ]
    },
    {
      "cell_type": "code",
      "metadata": {
        "colab": {
          "base_uri": "https://localhost:8080/",
          "height": 206
        },
        "id": "YSzjJsyBkgds",
        "outputId": "7a274c6d-4306-481e-f324-483b337a2f79"
      },
      "source": [
        "df_data[df_data.duplicated() ].head()"
      ],
      "execution_count": 24,
      "outputs": [
        {
          "output_type": "execute_result",
          "data": {
            "text/html": [
              "<div>\n",
              "<style scoped>\n",
              "    .dataframe tbody tr th:only-of-type {\n",
              "        vertical-align: middle;\n",
              "    }\n",
              "\n",
              "    .dataframe tbody tr th {\n",
              "        vertical-align: top;\n",
              "    }\n",
              "\n",
              "    .dataframe thead th {\n",
              "        text-align: right;\n",
              "    }\n",
              "</style>\n",
              "<table border=\"1\" class=\"dataframe\">\n",
              "  <thead>\n",
              "    <tr style=\"text-align: right;\">\n",
              "      <th></th>\n",
              "      <th>user_id</th>\n",
              "      <th>date</th>\n",
              "      <th>direction</th>\n",
              "      <th>internal</th>\n",
              "      <th>operator_id</th>\n",
              "      <th>is_missed_call</th>\n",
              "      <th>calls_count</th>\n",
              "      <th>call_duration</th>\n",
              "      <th>total_call_duration</th>\n",
              "    </tr>\n",
              "  </thead>\n",
              "  <tbody>\n",
              "    <tr>\n",
              "      <th>8</th>\n",
              "      <td>166377</td>\n",
              "      <td>2019-08-05 00:00:00+03:00</td>\n",
              "      <td>out</td>\n",
              "      <td>False</td>\n",
              "      <td>880020.0</td>\n",
              "      <td>True</td>\n",
              "      <td>8</td>\n",
              "      <td>0</td>\n",
              "      <td>50</td>\n",
              "    </tr>\n",
              "    <tr>\n",
              "      <th>28</th>\n",
              "      <td>166377</td>\n",
              "      <td>2019-08-12 00:00:00+03:00</td>\n",
              "      <td>in</td>\n",
              "      <td>False</td>\n",
              "      <td>NaN</td>\n",
              "      <td>True</td>\n",
              "      <td>2</td>\n",
              "      <td>0</td>\n",
              "      <td>34</td>\n",
              "    </tr>\n",
              "    <tr>\n",
              "      <th>44</th>\n",
              "      <td>166377</td>\n",
              "      <td>2019-08-14 00:00:00+03:00</td>\n",
              "      <td>out</td>\n",
              "      <td>False</td>\n",
              "      <td>880026.0</td>\n",
              "      <td>False</td>\n",
              "      <td>10</td>\n",
              "      <td>1567</td>\n",
              "      <td>1654</td>\n",
              "    </tr>\n",
              "    <tr>\n",
              "      <th>45</th>\n",
              "      <td>166377</td>\n",
              "      <td>2019-08-14 00:00:00+03:00</td>\n",
              "      <td>in</td>\n",
              "      <td>False</td>\n",
              "      <td>NaN</td>\n",
              "      <td>True</td>\n",
              "      <td>1</td>\n",
              "      <td>0</td>\n",
              "      <td>3</td>\n",
              "    </tr>\n",
              "    <tr>\n",
              "      <th>51</th>\n",
              "      <td>166377</td>\n",
              "      <td>2019-08-15 00:00:00+03:00</td>\n",
              "      <td>out</td>\n",
              "      <td>False</td>\n",
              "      <td>880026.0</td>\n",
              "      <td>False</td>\n",
              "      <td>11</td>\n",
              "      <td>1413</td>\n",
              "      <td>1473</td>\n",
              "    </tr>\n",
              "  </tbody>\n",
              "</table>\n",
              "</div>"
            ],
            "text/plain": [
              "    user_id                      date  ... call_duration total_call_duration\n",
              "8    166377 2019-08-05 00:00:00+03:00  ...             0                  50\n",
              "28   166377 2019-08-12 00:00:00+03:00  ...             0                  34\n",
              "44   166377 2019-08-14 00:00:00+03:00  ...          1567                1654\n",
              "45   166377 2019-08-14 00:00:00+03:00  ...             0                   3\n",
              "51   166377 2019-08-15 00:00:00+03:00  ...          1413                1473\n",
              "\n",
              "[5 rows x 9 columns]"
            ]
          },
          "metadata": {},
          "execution_count": 24
        }
      ]
    },
    {
      "cell_type": "markdown",
      "metadata": {
        "id": "ewntFZ1XyuC9"
      },
      "source": [
        "Учитывая тот факт, что данные нам приходят в приведённом виде (проссумированные по дню для каждого набора параметров), то, теоритически, дубликатов быть не должно. Появлению дубликатов моут способствовать следующие причины:\n",
        "\n",
        "* технический сбой при поставке данных либо сбой в системе хранения \"сырых\" данных (например данные поставляются из нескольких баз: соответсвенно проверку на совпадения они не проходят и записываются поставщиком данных для нас как две строки). В данном случае мы находимся на распутье и надо узнавать информацию у поставщика данных. В первом случае (технический сбой припоставке данных) мы должны **сообщить поставщику о сбое в поставке данных для проведения ремонта системы** и удалить дубликаты (исключая дубликаты из следующего абзаца). Если же данные \"тянутся\" из разных баз и не проводится проверка на совпадение, то мы должны проссумировать данные и сообщить поставщику данных об этом недочёте. \n",
        "\n",
        "Для продолжения работы мы выберем первый вариант решения проблемы\n",
        "\n",
        "* в связи с неполной заполненностью столбцов  internal и operator_id дубликаты могут появляться из-за неопределённости параметров. С данными дубликатами мы будем бороться путём заполнения отсутствующих значений (там где это возможно). В случаях, если это не поможет, то мы примем решение из предыдущего абзаца. Действия, описанные в данном абзаце выполнем в п.2.2\n"
      ]
    },
    {
      "cell_type": "code",
      "metadata": {
        "colab": {
          "base_uri": "https://localhost:8080/"
        },
        "id": "UZHHV_u8x-6t",
        "outputId": "c934077d-9121-4ceb-e76c-db41225410cc"
      },
      "source": [
        "print('число дубликатов:', len(df_data[df_data.duplicated() ]), \n",
        "      ', что составляет', round(100*len(df_data[df_data.duplicated() ])/len(df_data), 1), '% от всех данных'   )\n",
        "print('среди них:')\n",
        "print('кол-во строк с отсутствием значений в столбце internal:', len(df_data[df_data.duplicated() &  df_data['internal'].isna() ]))\n",
        "print('кол-во строк с отсутствием значений в столбце operator_id:', len( df_data[df_data.duplicated() &  df_data['operator_id'].isna() ] ) )\n",
        "\n",
        "print('доля клиентов, данные которых имеют дубликаты:',\n",
        "      round( 100*df_data[df_data.duplicated() ].user_id.nunique() / len(df_client) ,1) , ' %')"
      ],
      "execution_count": 25,
      "outputs": [
        {
          "output_type": "stream",
          "name": "stdout",
          "text": [
            "число дубликатов: 4900 , что составляет 9.1 % от всех данных\n",
            "среди них:\n",
            "кол-во строк с отсутствием значений в столбце internal: 7\n",
            "кол-во строк с отсутствием значений в столбце operator_id: 716\n",
            "доля клиентов, данные которых имеют дубликаты: 36.7  %\n"
          ]
        }
      ]
    },
    {
      "cell_type": "markdown",
      "metadata": {
        "id": "YrVHeAiB2SbB"
      },
      "source": [
        "как можем увидеть что доля дубликатов имеет значительное кол-во. Треть клиентов \"подверглись\" дублированию. Но, согласно принятому выше решению будем избавляться от \"истинных\" дубликатов"
      ]
    },
    {
      "cell_type": "code",
      "metadata": {
        "id": "xHL8r1hY40ar"
      },
      "source": [
        "\n",
        "df_data = df_data[ ~df_data.isin( \n",
        "    df_data[df_data.duplicated() & ~df_data['internal'].isna() &  ~df_data['operator_id'].isna()] )['user_id'] ]\n",
        "\n",
        "#len(df_data)"
      ],
      "execution_count": 26,
      "outputs": []
    },
    {
      "cell_type": "code",
      "metadata": {
        "id": "cVLtwkKk40ox"
      },
      "source": [
        "#len(df_data)"
      ],
      "execution_count": 27,
      "outputs": []
    },
    {
      "cell_type": "code",
      "metadata": {
        "colab": {
          "base_uri": "https://localhost:8080/"
        },
        "id": "3iBOzw1E8Rqb",
        "outputId": "132b85ce-e00e-4dc5-c295-a5a6c50cde1e"
      },
      "source": [
        "print('ИТОГО, осталось дубликатов:', df_data[df_data.duplicated() ]['user_id'].count() ,' шт.\\nс ними будем бороться в следующем пункте (продолжение следует...)' )"
      ],
      "execution_count": 28,
      "outputs": [
        {
          "output_type": "stream",
          "name": "stdout",
          "text": [
            "ИТОГО, осталось дубликатов: 721  шт.\n",
            "с ними будем бороться в следующем пункте (продолжение следует...)\n"
          ]
        }
      ]
    },
    {
      "cell_type": "markdown",
      "metadata": {
        "id": "OL1aBJIz47Uf"
      },
      "source": [
        "##2.3) работа с пропусками и удаление остаточных дубликатов   <a name=\"data_pass\"></a>    \n",
        "\n"
      ]
    },
    {
      "cell_type": "code",
      "metadata": {
        "colab": {
          "base_uri": "https://localhost:8080/"
        },
        "id": "RRrLbmLZ2Sfj",
        "outputId": "f4cf4013-753c-413e-d412-b318835a6d35"
      },
      "source": [
        "print('доля пропусков в датасете df_client:')\n",
        "df_client.isna().mean()"
      ],
      "execution_count": 29,
      "outputs": [
        {
          "output_type": "stream",
          "name": "stdout",
          "text": [
            "доля пропусков в датасете df_client:\n"
          ]
        },
        {
          "output_type": "execute_result",
          "data": {
            "text/plain": [
              "user_id        0.0\n",
              "tariff_plan    0.0\n",
              "date_start     0.0\n",
              "dtype: float64"
            ]
          },
          "metadata": {},
          "execution_count": 29
        }
      ]
    },
    {
      "cell_type": "code",
      "metadata": {
        "colab": {
          "base_uri": "https://localhost:8080/"
        },
        "id": "VJz_MOaE-tHn",
        "outputId": "f5bd531d-e1bd-45f3-b2d5-75f13a16e40b"
      },
      "source": [
        "print('доля пропусков в датасете df_data:')\n",
        "df_data.isna().mean()"
      ],
      "execution_count": 30,
      "outputs": [
        {
          "output_type": "stream",
          "name": "stdout",
          "text": [
            "доля пропусков в датасете df_data:\n"
          ]
        },
        {
          "output_type": "execute_result",
          "data": {
            "text/plain": [
              "user_id                0.000000\n",
              "date                   0.000000\n",
              "direction              0.000000\n",
              "internal               0.002353\n",
              "operator_id            0.164351\n",
              "is_missed_call         0.000000\n",
              "calls_count            0.000000\n",
              "call_duration          0.000000\n",
              "total_call_duration    0.000000\n",
              "dtype: float64"
            ]
          },
          "metadata": {},
          "execution_count": 30
        }
      ]
    },
    {
      "cell_type": "markdown",
      "metadata": {
        "id": "TjmDp4oX-x8x"
      },
      "source": [
        "имеем пропуски в internal и в operator_id. Выведем их. Начнём с internal:"
      ]
    },
    {
      "cell_type": "code",
      "metadata": {
        "colab": {
          "base_uri": "https://localhost:8080/"
        },
        "id": "wDc2kHthGLrj",
        "outputId": "9090ed03-5c86-441f-e7e7-36e35b5ebc69"
      },
      "source": [
        "print('кол-во пропусков в столбце internal:' , df_data[df_data['internal'].isna()].user_id.count() )"
      ],
      "execution_count": 31,
      "outputs": [
        {
          "output_type": "stream",
          "name": "stdout",
          "text": [
            "кол-во пропусков в столбце internal: 117\n"
          ]
        }
      ]
    },
    {
      "cell_type": "markdown",
      "metadata": {
        "id": "jXAFWgtrGLuH"
      },
      "source": [
        "востанавливать пропущенные значения будем руководствуясь следующей логикой: каждая строка должна иметь уникальный набор состоящий из следующих параметров user_id` `date` `direction` `internal` `operator_id` `is_missed_call. Соответсвенно, если мы будем сравнивать параметры строки с пропуском и других строк с похожими идетнификаторами, то мы сожем установить верное значение пропуска\n",
        "\n",
        "Важно: если будет пропуск более чем в одном столбце, то мы не сможем востановить данные руководствуясь данной логикой"
      ]
    },
    {
      "cell_type": "markdown",
      "metadata": {
        "id": "ycsWIlUTnQTG"
      },
      "source": [
        "логика отбора: находим все строки с одинаковыми наборами параметров user_id , date и operator_id. Кол-во строк не может привышать произведения вариативности параметров в direction , internal , is_missed_call - что составляет 2 * 2 * 2 = 8 шт. Соответсвенно, внутри подгруппы однотипных internal не может быть больше 4 значений (8шт / 2). Следовательно если мы видим 4 шт internal с одним параметром, то наша строка с отсутствующим параметрам равна другому параметру"
      ]
    },
    {
      "cell_type": "code",
      "metadata": {
        "colab": {
          "base_uri": "https://localhost:8080/"
        },
        "id": "w1FnBHrenAlO",
        "outputId": "41d78aa4-b3da-4980-ef8a-82822c62cea1"
      },
      "source": [
        "print('кол-во строк, удовлетворяющих условия (только один пропуск в строке):' , len(df_data[(df_data['internal'].isna()) & (~df_data['operator_id'].isna()) ]))"
      ],
      "execution_count": 32,
      "outputs": [
        {
          "output_type": "stream",
          "name": "stdout",
          "text": [
            "кол-во строк, удовлетворяющих условия (только один пропуск в строке): 60\n"
          ]
        }
      ]
    },
    {
      "cell_type": "code",
      "metadata": {
        "id": "Ip51soCqfIeA"
      },
      "source": [
        "for index, row in df_data[(df_data['internal'].isna()) & (~df_data['operator_id'].isna()) ].iterrows(): # получаем строки с потенциалом к востановлению\n",
        "    \n",
        "    df_rab = df_data[ (df_data['user_id'] == row['user_id']) & (df_data['date'] == row['date']) & (df_data['operator_id'] == row['operator_id']) ] # находим подвыборку\n",
        "    # далее ищем было ли 4 строки с одинаковым internal и присваваем нашему пустому значению противоположное значение\n",
        "    #print(df_rab['internal'].value_counts().to_frame().reset_index())\n",
        "    \n",
        "    #далее идёт конструкция с учёто граничных значений (наличие 0 строки и 1 строки в df_rab['internal'].value_counts().to_frame())\n",
        "    if len(df_rab['internal'].value_counts().to_frame().reset_index()) > 0:\n",
        "      if (df_rab['internal'].value_counts().to_frame().reset_index().iloc[0, 1] > 3):\n",
        "        #print('asd',df_data.iloc[index, :])\n",
        "        a = not df_rab['internal'].value_counts().to_frame().reset_index().iloc[0, 0]\n",
        "        df_data.loc[df_data.index==index, 'internal'] = a\n",
        "        #print(a)\n",
        "        \n",
        "      elif len(df_rab['internal'].value_counts().to_frame().reset_index()) > 1:\n",
        "        if (df_rab['internal'].value_counts().to_frame().reset_index().iloc[1, 1] > 3):\n",
        "          a = not df_rab['internal'].value_counts().to_frame().reset_index().iloc[1, 0]\n",
        "          df_data.loc[df_data.index==index, 'internal'] = a\n",
        "          #print(a)\n",
        "       \n",
        "    #print(df_rab['internal'].value_counts().to_frame().reset_index())\n",
        "    #print(df_rab['internal'].value_counts().to_frame().reset_index().iloc[0, 1])\n",
        "    #print(not df_rab['internal'].value_counts().to_frame().reset_index().iloc[0, 0])\n",
        "    \n",
        "    #break"
      ],
      "execution_count": 33,
      "outputs": []
    },
    {
      "cell_type": "code",
      "metadata": {
        "colab": {
          "base_uri": "https://localhost:8080/"
        },
        "id": "auJVu0KIuXt6",
        "outputId": "c5f8d2a6-9d7a-47d9-9f10-7a6afa549ecb"
      },
      "source": [
        "print('кол-во строк, удовлетворяющих условия (только один пропуск в строке) после автоматической обработки:' , len(df_data[(df_data['internal'].isna()) & (~df_data['operator_id'].isna()) ]))"
      ],
      "execution_count": 34,
      "outputs": [
        {
          "output_type": "stream",
          "name": "stdout",
          "text": [
            "кол-во строк, удовлетворяющих условия (только один пропуск в строке) после автоматической обработки: 54\n"
          ]
        }
      ]
    },
    {
      "cell_type": "markdown",
      "metadata": {
        "id": "ybt3ssks3r4G"
      },
      "source": [
        "с точки зрения подсчёта деежных сумм- нас интересуют только строки с исходящими звонками (direction = out). Посмотрим на распределение пропусков по этому признаку:"
      ]
    },
    {
      "cell_type": "code",
      "metadata": {
        "colab": {
          "base_uri": "https://localhost:8080/"
        },
        "id": "0E8V5FAV4J96",
        "outputId": "f66a8652-49ed-437c-ca8a-5d9a5a0059d6"
      },
      "source": [
        "df_data[df_data['internal'].isna()]['direction'].value_counts()"
      ],
      "execution_count": 35,
      "outputs": [
        {
          "output_type": "execute_result",
          "data": {
            "text/plain": [
              "in     109\n",
              "out      2\n",
              "Name: direction, dtype: int64"
            ]
          },
          "metadata": {},
          "execution_count": 35
        }
      ]
    },
    {
      "cell_type": "markdown",
      "metadata": {
        "id": "YkPWwDXYSuiL"
      },
      "source": [
        "как можем увидеть- только 2 значения пропуска в internal по пали в исходящие звонки- посмотрим на них:"
      ]
    },
    {
      "cell_type": "code",
      "metadata": {
        "colab": {
          "base_uri": "https://localhost:8080/",
          "height": 112
        },
        "id": "RqGkjD2t4U2X",
        "outputId": "09f26277-f84d-426c-cba4-3f0d57773a46"
      },
      "source": [
        "df_data[(df_data['internal'].isna()) & (df_data['direction'] == 'out')]"
      ],
      "execution_count": 36,
      "outputs": [
        {
          "output_type": "execute_result",
          "data": {
            "text/html": [
              "<div>\n",
              "<style scoped>\n",
              "    .dataframe tbody tr th:only-of-type {\n",
              "        vertical-align: middle;\n",
              "    }\n",
              "\n",
              "    .dataframe tbody tr th {\n",
              "        vertical-align: top;\n",
              "    }\n",
              "\n",
              "    .dataframe thead th {\n",
              "        text-align: right;\n",
              "    }\n",
              "</style>\n",
              "<table border=\"1\" class=\"dataframe\">\n",
              "  <thead>\n",
              "    <tr style=\"text-align: right;\">\n",
              "      <th></th>\n",
              "      <th>user_id</th>\n",
              "      <th>date</th>\n",
              "      <th>direction</th>\n",
              "      <th>internal</th>\n",
              "      <th>operator_id</th>\n",
              "      <th>is_missed_call</th>\n",
              "      <th>calls_count</th>\n",
              "      <th>call_duration</th>\n",
              "      <th>total_call_duration</th>\n",
              "    </tr>\n",
              "  </thead>\n",
              "  <tbody>\n",
              "    <tr>\n",
              "      <th>21004</th>\n",
              "      <td>167016</td>\n",
              "      <td>2019-10-23 00:00:00+03:00</td>\n",
              "      <td>out</td>\n",
              "      <td>NaN</td>\n",
              "      <td>NaN</td>\n",
              "      <td>True</td>\n",
              "      <td>3</td>\n",
              "      <td>0</td>\n",
              "      <td>196</td>\n",
              "    </tr>\n",
              "    <tr>\n",
              "      <th>51367</th>\n",
              "      <td>168291</td>\n",
              "      <td>2019-11-28 00:00:00+03:00</td>\n",
              "      <td>out</td>\n",
              "      <td>NaN</td>\n",
              "      <td>NaN</td>\n",
              "      <td>True</td>\n",
              "      <td>3</td>\n",
              "      <td>0</td>\n",
              "      <td>93</td>\n",
              "    </tr>\n",
              "  </tbody>\n",
              "</table>\n",
              "</div>"
            ],
            "text/plain": [
              "       user_id                      date  ... call_duration total_call_duration\n",
              "21004   167016 2019-10-23 00:00:00+03:00  ...             0                 196\n",
              "51367   168291 2019-11-28 00:00:00+03:00  ...             0                  93\n",
              "\n",
              "[2 rows x 9 columns]"
            ]
          },
          "metadata": {},
          "execution_count": 36
        }
      ]
    },
    {
      "cell_type": "markdown",
      "metadata": {
        "id": "HnlVNbnY4U9I"
      },
      "source": [
        "как можно увидеть- общего у этих строк не много (кроме как пропуски в 2-ух столбцах). Но они оба пропущены, а ,поскольку, пропущенные вызовы не оплачиваются- то в экономические выкладки они не попадут. Оставляем \"как есть\""
      ]
    },
    {
      "cell_type": "markdown",
      "metadata": {
        "id": "BS63hijn4U_s"
      },
      "source": [
        "---\n",
        "поработаем с operator_id:"
      ]
    },
    {
      "cell_type": "code",
      "metadata": {
        "colab": {
          "base_uri": "https://localhost:8080/"
        },
        "id": "68c6lAYu6GE5",
        "outputId": "f18ca702-0f5a-494e-9760-e5a200f827bb"
      },
      "source": [
        "print('кол-во пропущенных значений:' , df_data[df_data['operator_id'].isna()]['user_id'].count())"
      ],
      "execution_count": 37,
      "outputs": [
        {
          "output_type": "stream",
          "name": "stdout",
          "text": [
            "кол-во пропущенных значений: 8172\n"
          ]
        }
      ]
    },
    {
      "cell_type": "code",
      "metadata": {
        "colab": {
          "base_uri": "https://localhost:8080/"
        },
        "id": "34Py1vAo4VE2",
        "outputId": "4873a22f-0a85-4a13-c7bb-4d274ed5dc79"
      },
      "source": [
        "df_data[df_data['operator_id'].isna()]['direction'].value_counts()"
      ],
      "execution_count": 38,
      "outputs": [
        {
          "output_type": "execute_result",
          "data": {
            "text/plain": [
              "in     7972\n",
              "out     200\n",
              "Name: direction, dtype: int64"
            ]
          },
          "metadata": {},
          "execution_count": 38
        }
      ]
    },
    {
      "cell_type": "markdown",
      "metadata": {
        "id": "HsNkPuVH4VG3"
      },
      "source": [
        "как можем увидеть- большинство строк с пропущеными значениями в operator_id - входящие, соответсвенно они мало влияют на итоговый расчёт сумм для клиента (все входящия бесплатны)"
      ]
    },
    {
      "cell_type": "code",
      "metadata": {
        "colab": {
          "base_uri": "https://localhost:8080/"
        },
        "id": "toQlATZo9Kjz",
        "outputId": "12fab1e7-b072-4522-d437-93c865b24c2a"
      },
      "source": [
        "df_data[df_data['operator_id'].isna()][['direction','internal']].value_counts()"
      ],
      "execution_count": 39,
      "outputs": [
        {
          "output_type": "execute_result",
          "data": {
            "text/plain": [
              "direction  internal\n",
              "in         False       7603\n",
              "           True         314\n",
              "out        False        157\n",
              "           True          41\n",
              "dtype: int64"
            ]
          },
          "metadata": {},
          "execution_count": 39
        }
      ]
    },
    {
      "cell_type": "code",
      "metadata": {
        "colab": {
          "base_uri": "https://localhost:8080/"
        },
        "id": "FoB1dRloSuke",
        "outputId": "6bef7999-c1e1-4b45-a177-e71befeb675b"
      },
      "source": [
        "(df_data[df_data['operator_id'].isna()]['date'].min() , df_data[df_data['operator_id'].isna()]['date'].max())"
      ],
      "execution_count": 40,
      "outputs": [
        {
          "output_type": "execute_result",
          "data": {
            "text/plain": [
              "(Timestamp('2019-08-02 00:00:00+0300', tz='pytz.FixedOffset(180)'),\n",
              " Timestamp('2019-11-28 00:00:00+0300', tz='pytz.FixedOffset(180)'))"
            ]
          },
          "metadata": {},
          "execution_count": 40
        }
      ]
    },
    {
      "cell_type": "markdown",
      "metadata": {
        "id": "kFGoVy1H-Pfi"
      },
      "source": [
        "как можем увидеть, у пропущенных операторов привалируют входящие пропущенные звонки. Строки с такими операторами появляются во всех временах нашей выборки. Можем предположить, что оператор № NaN это оператор, имя которого состоит не только из чисел, что в свою очередь при сборе данных не смогло уложиться в тип чисел с плавающей точкой. Поэтому можем принять его за отдельного оператора и присвоим ему номер 0. С другой стороны у нас около 1000 операторов, а данный \"0\" оператор \"отжирает\" 16% всех строк - а это очень много. Поэтому, руководствуясь консервативным подходом, оставим данное значение (0) в качестве рабочей записи как \"неидентефицированный оператор\" и будем надеяться, что нам починят сборщик данных."
      ]
    },
    {
      "cell_type": "code",
      "metadata": {
        "id": "0HG7PYkH-PjI"
      },
      "source": [
        "df_data['operator_id'].fillna(0, inplace = True)"
      ],
      "execution_count": 41,
      "outputs": []
    },
    {
      "cell_type": "markdown",
      "metadata": {
        "id": "p5Sqh8rcGDUG"
      },
      "source": [
        "---\n",
        "С точки зрения неискажения данных- оставим остаточные дубликаты (см п 2.2) , образованные вследствии применения методов востановления данных из этого пункта, поскольку данные востановлены только в \"техническом\" смысле и мы не уверены в истинности дубликатов."
      ]
    },
    {
      "cell_type": "markdown",
      "metadata": {
        "id": "859cA1x3KPol"
      },
      "source": [
        "---\n",
        "итоговое кол-во необработанных пропусков:"
      ]
    },
    {
      "cell_type": "code",
      "metadata": {
        "colab": {
          "base_uri": "https://localhost:8080/"
        },
        "id": "27QQccOMKiwo",
        "outputId": "27295431-2d5f-4910-aedd-13b1feea7e75"
      },
      "source": [
        "print('доля пропусков в датасете df_data:')\n",
        "df_data.isna().mean()"
      ],
      "execution_count": 42,
      "outputs": [
        {
          "output_type": "stream",
          "name": "stdout",
          "text": [
            "доля пропусков в датасете df_data:\n"
          ]
        },
        {
          "output_type": "execute_result",
          "data": {
            "text/plain": [
              "user_id                0.000000\n",
              "date                   0.000000\n",
              "direction              0.000000\n",
              "internal               0.002232\n",
              "operator_id            0.000000\n",
              "is_missed_call         0.000000\n",
              "calls_count            0.000000\n",
              "call_duration          0.000000\n",
              "total_call_duration    0.000000\n",
              "dtype: float64"
            ]
          },
          "metadata": {},
          "execution_count": 42
        }
      ]
    },
    {
      "cell_type": "markdown",
      "metadata": {
        "id": "9ouXQbA_QoAV"
      },
      "source": [
        "поработали с пропусками- идём дальше"
      ]
    },
    {
      "cell_type": "markdown",
      "metadata": {
        "id": "E9bIU371QoC4"
      },
      "source": [
        "##2.4) работа с выбросами  и аномальным поведением   <a name=\"data_anomal\"></a>    \n",
        "\n",
        "\n"
      ]
    },
    {
      "cell_type": "code",
      "metadata": {
        "colab": {
          "base_uri": "https://localhost:8080/"
        },
        "id": "EKPt3IQuQoFP",
        "outputId": "9e30a9a6-fe1d-4bbb-b8d0-71e00858262e"
      },
      "source": [
        "print('кол-во уникальных user_id в таблице client:' , df_client['user_id'].nunique())\n",
        "print('кол-во уникальных user_id в таблице data:' , df_data['user_id'].nunique())"
      ],
      "execution_count": 43,
      "outputs": [
        {
          "output_type": "stream",
          "name": "stdout",
          "text": [
            "кол-во уникальных user_id в таблице client: 732\n",
            "кол-во уникальных user_id в таблице data: 307\n"
          ]
        }
      ]
    },
    {
      "cell_type": "markdown",
      "metadata": {
        "id": "kfLbSjBdQoHP"
      },
      "source": [
        "видим, что уникальных клиентов в таблице \"клиенты\" больше- вероятно нам скинули всю базу клиентов, но не все клиенты учавствовали в звонках (покупках) в отчётный период- проверим это:"
      ]
    },
    {
      "cell_type": "code",
      "metadata": {
        "colab": {
          "base_uri": "https://localhost:8080/"
        },
        "id": "Db1xqzB9435M",
        "outputId": "46360cc7-19dc-4b9c-8976-df66176812fc"
      },
      "source": [
        "count_ancoincidences = 0\n",
        "for i in df_data['user_id'].unique():\n",
        "  if i not in df_client['user_id'].unique():\n",
        "   count_ancoincidences +=1\n",
        "\n",
        "if count_ancoincidences > 0:\n",
        "  print('в таблице data имеются клиенты, без обозначения в таблице client')\n",
        "else:\n",
        "  print('все клиенты в data описаны в client')"
      ],
      "execution_count": 44,
      "outputs": [
        {
          "output_type": "stream",
          "name": "stdout",
          "text": [
            "все клиенты в data описаны в client\n"
          ]
        }
      ]
    },
    {
      "cell_type": "markdown",
      "metadata": {
        "id": "V2Nvdvo0437e"
      },
      "source": [
        "поработаем с таблицей df_client:"
      ]
    },
    {
      "cell_type": "markdown",
      "metadata": {
        "id": "3sQj8taU6UbY"
      },
      "source": [
        "проверим на уникальность столбцы tariff_plan и крайние даты столбца date_start"
      ]
    },
    {
      "cell_type": "code",
      "metadata": {
        "colab": {
          "base_uri": "https://localhost:8080/"
        },
        "id": "nZDvUI8KGL0E",
        "outputId": "666723dd-9da2-49c9-bdc6-374c893f1c5e"
      },
      "source": [
        "df_client['tariff_plan'].unique()"
      ],
      "execution_count": 45,
      "outputs": [
        {
          "output_type": "execute_result",
          "data": {
            "text/plain": [
              "array(['A', 'C', 'B'], dtype=object)"
            ]
          },
          "metadata": {},
          "execution_count": 45
        }
      ]
    },
    {
      "cell_type": "code",
      "metadata": {
        "colab": {
          "base_uri": "https://localhost:8080/"
        },
        "id": "kGnH-0X97KPn",
        "outputId": "5a67f274-0fd1-41d8-ef7a-99c459054f98"
      },
      "source": [
        "(df_client['date_start'].min()  , df_client['date_start'].max()  )"
      ],
      "execution_count": 46,
      "outputs": [
        {
          "output_type": "execute_result",
          "data": {
            "text/plain": [
              "(Timestamp('2019-08-01 00:00:00'), Timestamp('2019-10-31 00:00:00'))"
            ]
          },
          "metadata": {},
          "execution_count": 46
        }
      ]
    },
    {
      "cell_type": "markdown",
      "metadata": {
        "id": "6hTeUcjd7YKA"
      },
      "source": [
        "поработаем с user_id:"
      ]
    },
    {
      "cell_type": "code",
      "metadata": {
        "colab": {
          "base_uri": "https://localhost:8080/"
        },
        "id": "LIwxnSEt7YMV",
        "outputId": "bcccf679-d564-42e7-cb6f-bd8225bcaa90"
      },
      "source": [
        "print('кол-во клиентов' , df_client['user_id'].nunique(), 'неожиданных значений нет')"
      ],
      "execution_count": 47,
      "outputs": [
        {
          "output_type": "stream",
          "name": "stdout",
          "text": [
            "кол-во клиентов 732 неожиданных значений нет\n"
          ]
        }
      ]
    },
    {
      "cell_type": "code",
      "metadata": {
        "colab": {
          "base_uri": "https://localhost:8080/"
        },
        "id": "jeRx32Ch7x5v",
        "outputId": "24be364f-af5c-44bd-fd96-e7162ad0b876"
      },
      "source": [
        "print('кол-во уникальных групп для каждого клиента:' ,df_client.groupby('user_id')['tariff_plan'].count().max() )"
      ],
      "execution_count": 48,
      "outputs": [
        {
          "output_type": "stream",
          "name": "stdout",
          "text": [
            "кол-во уникальных групп для каждого клиента: 1\n"
          ]
        }
      ]
    },
    {
      "cell_type": "markdown",
      "metadata": {
        "id": "ufas2fH08Guv"
      },
      "source": [
        "для таблицы Client всё хорошо. поработаем с таблицей data"
      ]
    },
    {
      "cell_type": "code",
      "metadata": {
        "colab": {
          "base_uri": "https://localhost:8080/"
        },
        "id": "IGFzLONz8L6m",
        "outputId": "d5bbfafc-ee1e-43e2-d1ae-20864235bceb"
      },
      "source": [
        "(df_data['date'].min()  , df_data['date'].max()  )"
      ],
      "execution_count": 49,
      "outputs": [
        {
          "output_type": "execute_result",
          "data": {
            "text/plain": [
              "(Timestamp('2019-08-02 00:00:00+0300', tz='pytz.FixedOffset(180)'),\n",
              " Timestamp('2019-11-28 00:00:00+0300', tz='pytz.FixedOffset(180)'))"
            ]
          },
          "metadata": {},
          "execution_count": 49
        }
      ]
    },
    {
      "cell_type": "code",
      "metadata": {
        "colab": {
          "base_uri": "https://localhost:8080/"
        },
        "id": "xuuLqedl7x8D",
        "outputId": "eedce0c5-664b-487b-ccb1-004de11d7d91"
      },
      "source": [
        "print('уникальные значения:')\n",
        "print('direction:' , df_data['direction'].unique())\n",
        "print('internal:' , df_data['internal'].unique())\n",
        "print('is_missed_call:' , df_data['is_missed_call'].unique())"
      ],
      "execution_count": 50,
      "outputs": [
        {
          "output_type": "stream",
          "name": "stdout",
          "text": [
            "уникальные значения:\n",
            "direction: ['in' 'out']\n",
            "internal: [False True nan]\n",
            "is_missed_call: [ True False]\n"
          ]
        }
      ]
    },
    {
      "cell_type": "markdown",
      "metadata": {
        "id": "sUb7fper8d2C"
      },
      "source": [
        "неожиданных отклонений не наблюдается"
      ]
    },
    {
      "cell_type": "code",
      "metadata": {
        "colab": {
          "base_uri": "https://localhost:8080/"
        },
        "id": "9eVG0RM09AFp",
        "outputId": "df293e44-ec1c-49bc-eed9-75386ed1977c"
      },
      "source": [
        "(df_data['calls_count'].min()  , df_data['calls_count'].max()  )"
      ],
      "execution_count": 51,
      "outputs": [
        {
          "output_type": "execute_result",
          "data": {
            "text/plain": [
              "(1, 4817)"
            ]
          },
          "metadata": {},
          "execution_count": 51
        }
      ]
    },
    {
      "cell_type": "code",
      "metadata": {
        "colab": {
          "base_uri": "https://localhost:8080/"
        },
        "id": "sugh-_s_9D_F",
        "outputId": "0afb094f-f957-4dac-cb61-ec7149660039"
      },
      "source": [
        "(df_data['call_duration'].min()  , df_data['call_duration'].max()  )"
      ],
      "execution_count": 52,
      "outputs": [
        {
          "output_type": "execute_result",
          "data": {
            "text/plain": [
              "(0, 144395)"
            ]
          },
          "metadata": {},
          "execution_count": 52
        }
      ]
    },
    {
      "cell_type": "code",
      "metadata": {
        "colab": {
          "base_uri": "https://localhost:8080/"
        },
        "id": "qJ6RaZi09ElK",
        "outputId": "cbf117eb-7eaa-4dde-a3c0-319c14de43dc"
      },
      "source": [
        "(df_data['total_call_duration'].min()  , df_data['total_call_duration'].max()  )"
      ],
      "execution_count": 53,
      "outputs": [
        {
          "output_type": "execute_result",
          "data": {
            "text/plain": [
              "(0, 166155)"
            ]
          },
          "metadata": {},
          "execution_count": 53
        }
      ]
    },
    {
      "cell_type": "markdown",
      "metadata": {
        "id": "ix6rDuDs9E5Z"
      },
      "source": [
        "аномальных значений не увидели"
      ]
    },
    {
      "cell_type": "code",
      "metadata": {
        "id": "mhKFE9GWGJxs"
      },
      "source": [
        "#df_data.head()"
      ],
      "execution_count": 54,
      "outputs": []
    },
    {
      "cell_type": "markdown",
      "metadata": {
        "id": "R8ty_O9HGJxs"
      },
      "source": [
        "посмотрим на максимальное время разговора операторов "
      ]
    },
    {
      "cell_type": "code",
      "metadata": {
        "colab": {
          "base_uri": "https://localhost:8080/",
          "height": 805
        },
        "id": "qGhPeeRcGJxs",
        "outputId": "6852303f-0548-480a-9f44-2399e71b7369"
      },
      "source": [
        "aa = (\n",
        "    df_data[ df_data['operator_id'] != 0 ].groupby(['operator_id' , 'date']).agg({'call_duration': 'sum', 'total_call_duration' : 'sum'}).reset_index()\n",
        "    #.call_duration.max() \n",
        ")\n",
        "\n",
        "aa['call_duration'] = aa['call_duration'].agg(lambda x: x/(60*60))\n",
        "aa['total_call_duration'] = aa['total_call_duration'].agg(lambda x: x/(60*60))\n",
        "\n",
        "aa = aa[ aa['call_duration'] > 24 ]\n",
        "\n",
        "print('кол-во операторов с временем разговора более 24 ч:', len(aa) , '\\nкол-во операторов: ', aa['operator_id'].nunique())\n",
        "aa\n",
        "#aa[ aa['call_duration'] == aa['call_duration'].max() ]"
      ],
      "execution_count": 55,
      "outputs": [
        {
          "output_type": "stream",
          "name": "stdout",
          "text": [
            "кол-во операторов с временем разговора более 24 ч: 23 \n",
            "кол-во операторов:  1\n"
          ]
        },
        {
          "output_type": "execute_result",
          "data": {
            "text/html": [
              "<div>\n",
              "<style scoped>\n",
              "    .dataframe tbody tr th:only-of-type {\n",
              "        vertical-align: middle;\n",
              "    }\n",
              "\n",
              "    .dataframe tbody tr th {\n",
              "        vertical-align: top;\n",
              "    }\n",
              "\n",
              "    .dataframe thead th {\n",
              "        text-align: right;\n",
              "    }\n",
              "</style>\n",
              "<table border=\"1\" class=\"dataframe\">\n",
              "  <thead>\n",
              "    <tr style=\"text-align: right;\">\n",
              "      <th></th>\n",
              "      <th>operator_id</th>\n",
              "      <th>date</th>\n",
              "      <th>call_duration</th>\n",
              "      <th>total_call_duration</th>\n",
              "    </tr>\n",
              "  </thead>\n",
              "  <tbody>\n",
              "    <tr>\n",
              "      <th>824</th>\n",
              "      <td>885876.0</td>\n",
              "      <td>2019-09-02 00:00:00+03:00</td>\n",
              "      <td>25.401944</td>\n",
              "      <td>35.115556</td>\n",
              "    </tr>\n",
              "    <tr>\n",
              "      <th>825</th>\n",
              "      <td>885876.0</td>\n",
              "      <td>2019-09-03 00:00:00+03:00</td>\n",
              "      <td>24.641667</td>\n",
              "      <td>36.876944</td>\n",
              "    </tr>\n",
              "    <tr>\n",
              "      <th>826</th>\n",
              "      <td>885876.0</td>\n",
              "      <td>2019-09-04 00:00:00+03:00</td>\n",
              "      <td>26.126389</td>\n",
              "      <td>35.200833</td>\n",
              "    </tr>\n",
              "    <tr>\n",
              "      <th>827</th>\n",
              "      <td>885876.0</td>\n",
              "      <td>2019-09-05 00:00:00+03:00</td>\n",
              "      <td>30.918611</td>\n",
              "      <td>37.676389</td>\n",
              "    </tr>\n",
              "    <tr>\n",
              "      <th>828</th>\n",
              "      <td>885876.0</td>\n",
              "      <td>2019-09-06 00:00:00+03:00</td>\n",
              "      <td>24.871944</td>\n",
              "      <td>31.911389</td>\n",
              "    </tr>\n",
              "    <tr>\n",
              "      <th>831</th>\n",
              "      <td>885876.0</td>\n",
              "      <td>2019-09-09 00:00:00+03:00</td>\n",
              "      <td>34.033611</td>\n",
              "      <td>44.673889</td>\n",
              "    </tr>\n",
              "    <tr>\n",
              "      <th>833</th>\n",
              "      <td>885876.0</td>\n",
              "      <td>2019-09-11 00:00:00+03:00</td>\n",
              "      <td>32.139444</td>\n",
              "      <td>41.503889</td>\n",
              "    </tr>\n",
              "    <tr>\n",
              "      <th>834</th>\n",
              "      <td>885876.0</td>\n",
              "      <td>2019-09-12 00:00:00+03:00</td>\n",
              "      <td>35.198889</td>\n",
              "      <td>42.720278</td>\n",
              "    </tr>\n",
              "    <tr>\n",
              "      <th>835</th>\n",
              "      <td>885876.0</td>\n",
              "      <td>2019-09-13 00:00:00+03:00</td>\n",
              "      <td>27.748056</td>\n",
              "      <td>35.411667</td>\n",
              "    </tr>\n",
              "    <tr>\n",
              "      <th>839</th>\n",
              "      <td>885876.0</td>\n",
              "      <td>2019-09-17 00:00:00+03:00</td>\n",
              "      <td>28.100833</td>\n",
              "      <td>41.801667</td>\n",
              "    </tr>\n",
              "    <tr>\n",
              "      <th>840</th>\n",
              "      <td>885876.0</td>\n",
              "      <td>2019-09-18 00:00:00+03:00</td>\n",
              "      <td>33.843333</td>\n",
              "      <td>44.216111</td>\n",
              "    </tr>\n",
              "    <tr>\n",
              "      <th>841</th>\n",
              "      <td>885876.0</td>\n",
              "      <td>2019-09-19 00:00:00+03:00</td>\n",
              "      <td>30.514444</td>\n",
              "      <td>38.225833</td>\n",
              "    </tr>\n",
              "    <tr>\n",
              "      <th>842</th>\n",
              "      <td>885876.0</td>\n",
              "      <td>2019-09-20 00:00:00+03:00</td>\n",
              "      <td>32.454444</td>\n",
              "      <td>41.018889</td>\n",
              "    </tr>\n",
              "    <tr>\n",
              "      <th>845</th>\n",
              "      <td>885876.0</td>\n",
              "      <td>2019-09-23 00:00:00+03:00</td>\n",
              "      <td>28.945000</td>\n",
              "      <td>42.586944</td>\n",
              "    </tr>\n",
              "    <tr>\n",
              "      <th>847</th>\n",
              "      <td>885876.0</td>\n",
              "      <td>2019-09-25 00:00:00+03:00</td>\n",
              "      <td>40.279444</td>\n",
              "      <td>52.774722</td>\n",
              "    </tr>\n",
              "    <tr>\n",
              "      <th>848</th>\n",
              "      <td>885876.0</td>\n",
              "      <td>2019-09-26 00:00:00+03:00</td>\n",
              "      <td>38.093889</td>\n",
              "      <td>47.823611</td>\n",
              "    </tr>\n",
              "    <tr>\n",
              "      <th>849</th>\n",
              "      <td>885876.0</td>\n",
              "      <td>2019-09-27 00:00:00+03:00</td>\n",
              "      <td>32.368611</td>\n",
              "      <td>41.577778</td>\n",
              "    </tr>\n",
              "    <tr>\n",
              "      <th>852</th>\n",
              "      <td>885876.0</td>\n",
              "      <td>2019-09-30 00:00:00+03:00</td>\n",
              "      <td>26.374167</td>\n",
              "      <td>36.820000</td>\n",
              "    </tr>\n",
              "    <tr>\n",
              "      <th>853</th>\n",
              "      <td>885876.0</td>\n",
              "      <td>2019-10-01 00:00:00+03:00</td>\n",
              "      <td>24.808889</td>\n",
              "      <td>41.723056</td>\n",
              "    </tr>\n",
              "    <tr>\n",
              "      <th>854</th>\n",
              "      <td>885876.0</td>\n",
              "      <td>2019-10-02 00:00:00+03:00</td>\n",
              "      <td>33.918889</td>\n",
              "      <td>43.167222</td>\n",
              "    </tr>\n",
              "    <tr>\n",
              "      <th>855</th>\n",
              "      <td>885876.0</td>\n",
              "      <td>2019-10-03 00:00:00+03:00</td>\n",
              "      <td>26.417778</td>\n",
              "      <td>29.385000</td>\n",
              "    </tr>\n",
              "    <tr>\n",
              "      <th>861</th>\n",
              "      <td>885876.0</td>\n",
              "      <td>2019-10-09 00:00:00+03:00</td>\n",
              "      <td>33.465556</td>\n",
              "      <td>39.325833</td>\n",
              "    </tr>\n",
              "    <tr>\n",
              "      <th>862</th>\n",
              "      <td>885876.0</td>\n",
              "      <td>2019-10-10 00:00:00+03:00</td>\n",
              "      <td>25.216389</td>\n",
              "      <td>28.193889</td>\n",
              "    </tr>\n",
              "  </tbody>\n",
              "</table>\n",
              "</div>"
            ],
            "text/plain": [
              "     operator_id                      date  call_duration  total_call_duration\n",
              "824     885876.0 2019-09-02 00:00:00+03:00      25.401944            35.115556\n",
              "825     885876.0 2019-09-03 00:00:00+03:00      24.641667            36.876944\n",
              "826     885876.0 2019-09-04 00:00:00+03:00      26.126389            35.200833\n",
              "827     885876.0 2019-09-05 00:00:00+03:00      30.918611            37.676389\n",
              "828     885876.0 2019-09-06 00:00:00+03:00      24.871944            31.911389\n",
              "831     885876.0 2019-09-09 00:00:00+03:00      34.033611            44.673889\n",
              "833     885876.0 2019-09-11 00:00:00+03:00      32.139444            41.503889\n",
              "834     885876.0 2019-09-12 00:00:00+03:00      35.198889            42.720278\n",
              "835     885876.0 2019-09-13 00:00:00+03:00      27.748056            35.411667\n",
              "839     885876.0 2019-09-17 00:00:00+03:00      28.100833            41.801667\n",
              "840     885876.0 2019-09-18 00:00:00+03:00      33.843333            44.216111\n",
              "841     885876.0 2019-09-19 00:00:00+03:00      30.514444            38.225833\n",
              "842     885876.0 2019-09-20 00:00:00+03:00      32.454444            41.018889\n",
              "845     885876.0 2019-09-23 00:00:00+03:00      28.945000            42.586944\n",
              "847     885876.0 2019-09-25 00:00:00+03:00      40.279444            52.774722\n",
              "848     885876.0 2019-09-26 00:00:00+03:00      38.093889            47.823611\n",
              "849     885876.0 2019-09-27 00:00:00+03:00      32.368611            41.577778\n",
              "852     885876.0 2019-09-30 00:00:00+03:00      26.374167            36.820000\n",
              "853     885876.0 2019-10-01 00:00:00+03:00      24.808889            41.723056\n",
              "854     885876.0 2019-10-02 00:00:00+03:00      33.918889            43.167222\n",
              "855     885876.0 2019-10-03 00:00:00+03:00      26.417778            29.385000\n",
              "861     885876.0 2019-10-09 00:00:00+03:00      33.465556            39.325833\n",
              "862     885876.0 2019-10-10 00:00:00+03:00      25.216389            28.193889"
            ]
          },
          "metadata": {},
          "execution_count": 55
        }
      ]
    },
    {
      "cell_type": "markdown",
      "metadata": {
        "id": "L5TEtj04GJxs"
      },
      "source": [
        "как можем увидеть- все превышения происходят у одного оператора и приблизительно в 1 месяц. Возможно в этот период у данного оператора была тех проблема (но это маловероятно). Очень правдоподобно выглядит такая версия: данный оператор ушёл в отпуск и АТС настроили на переадресацию вызовов. Настройка предполагала, что звонок идёт одновременно у 2-ух операторов, поэтому было задвоение времени.\n",
        "\n",
        "либо был тех сбой. Для продолжения работ выберем первый вариант"
      ]
    },
    {
      "cell_type": "code",
      "metadata": {
        "id": "N32DVwjPGJxt"
      },
      "source": [
        "#df_data.head(2)"
      ],
      "execution_count": 56,
      "outputs": []
    },
    {
      "cell_type": "markdown",
      "metadata": {
        "id": "QcMLc5QjGJxt"
      },
      "source": [
        "посмотрим на кол-во звонков в день:"
      ]
    },
    {
      "cell_type": "code",
      "metadata": {
        "colab": {
          "base_uri": "https://localhost:8080/",
          "height": 423
        },
        "id": "TdTp2PkeGJxt",
        "outputId": "6e506145-8da1-4d7e-be4e-fd49f4ba2960"
      },
      "source": [
        "bb = (\n",
        "    df_data[ df_data['operator_id'] != 0 ].groupby(['operator_id' , 'date']).agg({'calls_count': 'sum'}).reset_index()\n",
        "    #.call_duration.max() \n",
        "    .sort_values('calls_count', ascending = False)\n",
        ")\n",
        "\n",
        "#bb = bb[ aa['call_duration'] > 24 ]\n",
        "bb['sec_per_call'] = 24*60*60/bb['calls_count']\n",
        "bb.sort_values('sec_per_call', ascending = True)"
      ],
      "execution_count": 57,
      "outputs": [
        {
          "output_type": "execute_result",
          "data": {
            "text/html": [
              "<div>\n",
              "<style scoped>\n",
              "    .dataframe tbody tr th:only-of-type {\n",
              "        vertical-align: middle;\n",
              "    }\n",
              "\n",
              "    .dataframe tbody tr th {\n",
              "        vertical-align: top;\n",
              "    }\n",
              "\n",
              "    .dataframe thead th {\n",
              "        text-align: right;\n",
              "    }\n",
              "</style>\n",
              "<table border=\"1\" class=\"dataframe\">\n",
              "  <thead>\n",
              "    <tr style=\"text-align: right;\">\n",
              "      <th></th>\n",
              "      <th>operator_id</th>\n",
              "      <th>date</th>\n",
              "      <th>calls_count</th>\n",
              "      <th>sec_per_call</th>\n",
              "    </tr>\n",
              "  </thead>\n",
              "  <tbody>\n",
              "    <tr>\n",
              "      <th>13774</th>\n",
              "      <td>929428.0</td>\n",
              "      <td>2019-11-11 00:00:00+03:00</td>\n",
              "      <td>5022</td>\n",
              "      <td>17.204301</td>\n",
              "    </tr>\n",
              "    <tr>\n",
              "      <th>853</th>\n",
              "      <td>885876.0</td>\n",
              "      <td>2019-10-01 00:00:00+03:00</td>\n",
              "      <td>2767</td>\n",
              "      <td>31.225154</td>\n",
              "    </tr>\n",
              "    <tr>\n",
              "      <th>13767</th>\n",
              "      <td>929428.0</td>\n",
              "      <td>2019-10-31 00:00:00+03:00</td>\n",
              "      <td>2730</td>\n",
              "      <td>31.648352</td>\n",
              "    </tr>\n",
              "    <tr>\n",
              "      <th>846</th>\n",
              "      <td>885876.0</td>\n",
              "      <td>2019-09-24 00:00:00+03:00</td>\n",
              "      <td>2325</td>\n",
              "      <td>37.161290</td>\n",
              "    </tr>\n",
              "    <tr>\n",
              "      <th>839</th>\n",
              "      <td>885876.0</td>\n",
              "      <td>2019-09-17 00:00:00+03:00</td>\n",
              "      <td>2206</td>\n",
              "      <td>39.165911</td>\n",
              "    </tr>\n",
              "    <tr>\n",
              "      <th>...</th>\n",
              "      <td>...</td>\n",
              "      <td>...</td>\n",
              "      <td>...</td>\n",
              "      <td>...</td>\n",
              "    </tr>\n",
              "    <tr>\n",
              "      <th>8646</th>\n",
              "      <td>908180.0</td>\n",
              "      <td>2019-09-10 00:00:00+03:00</td>\n",
              "      <td>1</td>\n",
              "      <td>86400.000000</td>\n",
              "    </tr>\n",
              "    <tr>\n",
              "      <th>8644</th>\n",
              "      <td>908162.0</td>\n",
              "      <td>2019-09-29 00:00:00+03:00</td>\n",
              "      <td>1</td>\n",
              "      <td>86400.000000</td>\n",
              "    </tr>\n",
              "    <tr>\n",
              "      <th>8641</th>\n",
              "      <td>908152.0</td>\n",
              "      <td>2019-10-07 00:00:00+03:00</td>\n",
              "      <td>1</td>\n",
              "      <td>86400.000000</td>\n",
              "    </tr>\n",
              "    <tr>\n",
              "      <th>8640</th>\n",
              "      <td>908152.0</td>\n",
              "      <td>2019-09-25 00:00:00+03:00</td>\n",
              "      <td>1</td>\n",
              "      <td>86400.000000</td>\n",
              "    </tr>\n",
              "    <tr>\n",
              "      <th>6083</th>\n",
              "      <td>902906.0</td>\n",
              "      <td>2019-10-14 00:00:00+03:00</td>\n",
              "      <td>1</td>\n",
              "      <td>86400.000000</td>\n",
              "    </tr>\n",
              "  </tbody>\n",
              "</table>\n",
              "<p>19647 rows × 4 columns</p>\n",
              "</div>"
            ],
            "text/plain": [
              "       operator_id                      date  calls_count  sec_per_call\n",
              "13774     929428.0 2019-11-11 00:00:00+03:00         5022     17.204301\n",
              "853       885876.0 2019-10-01 00:00:00+03:00         2767     31.225154\n",
              "13767     929428.0 2019-10-31 00:00:00+03:00         2730     31.648352\n",
              "846       885876.0 2019-09-24 00:00:00+03:00         2325     37.161290\n",
              "839       885876.0 2019-09-17 00:00:00+03:00         2206     39.165911\n",
              "...            ...                       ...          ...           ...\n",
              "8646      908180.0 2019-09-10 00:00:00+03:00            1  86400.000000\n",
              "8644      908162.0 2019-09-29 00:00:00+03:00            1  86400.000000\n",
              "8641      908152.0 2019-10-07 00:00:00+03:00            1  86400.000000\n",
              "8640      908152.0 2019-09-25 00:00:00+03:00            1  86400.000000\n",
              "6083      902906.0 2019-10-14 00:00:00+03:00            1  86400.000000\n",
              "\n",
              "[19647 rows x 4 columns]"
            ]
          },
          "metadata": {},
          "execution_count": 57
        }
      ]
    },
    {
      "cell_type": "markdown",
      "metadata": {
        "id": "M8cicVtzGJxu"
      },
      "source": [
        "как можем увидеть, есть дни и операторы,  у которых при равномерной работе в сутки время разоговор порядка нескольких десятков секунд. Данный факт может объясняться либо установкой на номер этого оператора автоответчика либо тестирование через него робота. Впринципе нам это не мешает, но может противоречить условиям договора между провайдером и клиентом. Так же на данных номерах может стоять кака-нибудь служебная система передачи данных"
      ]
    },
    {
      "cell_type": "code",
      "metadata": {
        "colab": {
          "base_uri": "https://localhost:8080/"
        },
        "id": "sAf9Hs2E-txW",
        "outputId": "b0a2971e-5885-4189-86b5-8dc61017b092"
      },
      "source": [
        "if (df_data['total_call_duration'] - df_data['call_duration']).min() < 0:\n",
        "  print('встречаются строки, где суммарное время меньше \"живого\" времени')\n",
        "else:\n",
        "  print('\"живое\" время всегда меньше или равно общему времени (живое время + время ожидания)')"
      ],
      "execution_count": 58,
      "outputs": [
        {
          "output_type": "stream",
          "name": "stdout",
          "text": [
            "\"живое\" время всегда меньше или равно общему времени (живое время + время ожидания)\n"
          ]
        }
      ]
    },
    {
      "cell_type": "markdown",
      "metadata": {
        "id": "8jokH_mK-xJ3"
      },
      "source": [
        "посмотрели на крайние значения в таблицах выбросов или неожиданных значений не обнаружили. можем продолжать работать"
      ]
    },
    {
      "cell_type": "markdown",
      "metadata": {
        "id": "IDii73MFHZ8w"
      },
      "source": [
        "##2.5) расчёт стоимости каждого месяца для клиентов   <a name=\"client_revenue\"></a>    \n"
      ]
    },
    {
      "cell_type": "markdown",
      "metadata": {
        "id": "baBc5MX2NM-N"
      },
      "source": [
        "т.к. абонентская плата снимается 1 раз в месяц- то отчётный период будем брать в 1 месяц. А т.к. по условиям задачи- начало отчётного периода- 1 число каждого месяца. Выделим номер месяца и год для каждой строчки данных"
      ]
    },
    {
      "cell_type": "code",
      "metadata": {
        "id": "Hht6LL6YvGnH"
      },
      "source": [
        "df_data['month_count'] = df_data['date'].dt.month"
      ],
      "execution_count": 59,
      "outputs": []
    },
    {
      "cell_type": "markdown",
      "metadata": {
        "id": "XvdjjJZzbywf"
      },
      "source": [
        "соединим дветаблицы для более удобной работы"
      ]
    },
    {
      "cell_type": "code",
      "metadata": {
        "id": "-F7jKWHvb4XO"
      },
      "source": [
        "df_full_data = df_data.merge(df_client, left_on='user_id', right_on='user_id' )\n",
        "#df_full_data.sample(3)"
      ],
      "execution_count": 60,
      "outputs": []
    },
    {
      "cell_type": "markdown",
      "metadata": {
        "id": "XJ42gZtkby0D"
      },
      "source": [
        "найдём сумму покаждому клиенту"
      ]
    },
    {
      "cell_type": "code",
      "metadata": {
        "colab": {
          "base_uri": "https://localhost:8080/",
          "height": 223
        },
        "id": "vOF3bciKj9hW",
        "outputId": "618d66ea-b2c8-46af-8954-b5b648e217ab"
      },
      "source": [
        "df_client_sum = client_sum_calculator(df_full_data , 'tariff_plan')\n",
        "df_client_sum.head()\n",
        "#df_full_data"
      ],
      "execution_count": 61,
      "outputs": [
        {
          "output_type": "stream",
          "name": "stdout",
          "text": [
            "кол-во строк исходного датасета совпадает с итоговым\n"
          ]
        },
        {
          "output_type": "execute_result",
          "data": {
            "text/html": [
              "<div>\n",
              "<style scoped>\n",
              "    .dataframe tbody tr th:only-of-type {\n",
              "        vertical-align: middle;\n",
              "    }\n",
              "\n",
              "    .dataframe tbody tr th {\n",
              "        vertical-align: top;\n",
              "    }\n",
              "\n",
              "    .dataframe thead th {\n",
              "        text-align: right;\n",
              "    }\n",
              "</style>\n",
              "<table border=\"1\" class=\"dataframe\">\n",
              "  <thead>\n",
              "    <tr style=\"text-align: right;\">\n",
              "      <th></th>\n",
              "      <th>user_id</th>\n",
              "      <th>tariff_plan</th>\n",
              "      <th>month_count</th>\n",
              "      <th>tarif_sum</th>\n",
              "      <th>operator_sum</th>\n",
              "      <th>call_sum</th>\n",
              "      <th>total_sum</th>\n",
              "    </tr>\n",
              "  </thead>\n",
              "  <tbody>\n",
              "    <tr>\n",
              "      <th>0</th>\n",
              "      <td>166377</td>\n",
              "      <td>B</td>\n",
              "      <td>8</td>\n",
              "      <td>2000.0</td>\n",
              "      <td>500</td>\n",
              "      <td>541.5</td>\n",
              "      <td>3041.5</td>\n",
              "    </tr>\n",
              "    <tr>\n",
              "      <th>1</th>\n",
              "      <td>166377</td>\n",
              "      <td>B</td>\n",
              "      <td>9</td>\n",
              "      <td>2000.0</td>\n",
              "      <td>400</td>\n",
              "      <td>713.5</td>\n",
              "      <td>3113.5</td>\n",
              "    </tr>\n",
              "    <tr>\n",
              "      <th>2</th>\n",
              "      <td>166377</td>\n",
              "      <td>B</td>\n",
              "      <td>10</td>\n",
              "      <td>2000.0</td>\n",
              "      <td>500</td>\n",
              "      <td>680.0</td>\n",
              "      <td>3180.0</td>\n",
              "    </tr>\n",
              "    <tr>\n",
              "      <th>3</th>\n",
              "      <td>166377</td>\n",
              "      <td>B</td>\n",
              "      <td>11</td>\n",
              "      <td>2000.0</td>\n",
              "      <td>400</td>\n",
              "      <td>652.5</td>\n",
              "      <td>3052.5</td>\n",
              "    </tr>\n",
              "    <tr>\n",
              "      <th>4</th>\n",
              "      <td>166391</td>\n",
              "      <td>C</td>\n",
              "      <td>8</td>\n",
              "      <td>1000.0</td>\n",
              "      <td>200</td>\n",
              "      <td>0.0</td>\n",
              "      <td>1200.0</td>\n",
              "    </tr>\n",
              "  </tbody>\n",
              "</table>\n",
              "</div>"
            ],
            "text/plain": [
              "   user_id tariff_plan  month_count  ...  operator_sum  call_sum  total_sum\n",
              "0   166377           B            8  ...           500     541.5     3041.5\n",
              "1   166377           B            9  ...           400     713.5     3113.5\n",
              "2   166377           B           10  ...           500     680.0     3180.0\n",
              "3   166377           B           11  ...           400     652.5     3052.5\n",
              "4   166391           C            8  ...           200       0.0     1200.0\n",
              "\n",
              "[5 rows x 7 columns]"
            ]
          },
          "metadata": {},
          "execution_count": 61
        }
      ]
    },
    {
      "cell_type": "markdown",
      "metadata": {
        "id": "S5u9LOwfj9lY"
      },
      "source": [
        "получили сумму для каждого клиента в каждоммесяце. Можем продолжить работать"
      ]
    },
    {
      "cell_type": "markdown",
      "metadata": {
        "id": "skdU4ksAHaB8"
      },
      "source": [
        "\n",
        "#3) исследовательский анализ данных   <a name=\"data_reserch\"></a>    \n",
        "\n",
        "\n"
      ]
    },
    {
      "cell_type": "markdown",
      "metadata": {
        "id": "y9p-UETABvmc"
      },
      "source": [
        "отталкиваться будем от таблицы df_client_sum  и функции client_sum_calculator"
      ]
    },
    {
      "cell_type": "markdown",
      "metadata": {
        "id": "dgZAMslgBvo7"
      },
      "source": [
        "##3.1) отделение неактивных клиентов   <a name=\"client_passive\"></a>"
      ]
    },
    {
      "cell_type": "markdown",
      "metadata": {
        "id": "dX80Jw-vBvrW"
      },
      "source": [
        "отделять клиентов будем по последнему месяцу (если есть покупки (звонки) в последнем месяце (11), то оставляем этих клиентов. Это те клиенты, которым мы делаем сервис для удержания и рекламы для новых.\n"
      ]
    },
    {
      "cell_type": "code",
      "metadata": {
        "colab": {
          "base_uri": "https://localhost:8080/",
          "height": 520
        },
        "id": "4249-yjxZ5v7",
        "outputId": "61c0b5c1-fe0b-426c-eccb-f81b8d25992d"
      },
      "source": [
        "df_active_client_sum = active_client_detector(df_client_sum)"
      ],
      "execution_count": 62,
      "outputs": [
        {
          "output_type": "display_data",
          "data": {
            "text/html": [
              "<div>\n",
              "<style scoped>\n",
              "    .dataframe tbody tr th:only-of-type {\n",
              "        vertical-align: middle;\n",
              "    }\n",
              "\n",
              "    .dataframe tbody tr th {\n",
              "        vertical-align: top;\n",
              "    }\n",
              "\n",
              "    .dataframe thead th {\n",
              "        text-align: right;\n",
              "    }\n",
              "</style>\n",
              "<table border=\"1\" class=\"dataframe\">\n",
              "  <thead>\n",
              "    <tr style=\"text-align: right;\">\n",
              "      <th></th>\n",
              "      <th>month_count</th>\n",
              "    </tr>\n",
              "  </thead>\n",
              "  <tbody>\n",
              "    <tr>\n",
              "      <th>11</th>\n",
              "      <td>245</td>\n",
              "    </tr>\n",
              "    <tr>\n",
              "      <th>10</th>\n",
              "      <td>204</td>\n",
              "    </tr>\n",
              "    <tr>\n",
              "      <th>9</th>\n",
              "      <td>118</td>\n",
              "    </tr>\n",
              "    <tr>\n",
              "      <th>8</th>\n",
              "      <td>48</td>\n",
              "    </tr>\n",
              "  </tbody>\n",
              "</table>\n",
              "</div>"
            ],
            "text/plain": [
              "    month_count\n",
              "11          245\n",
              "10          204\n",
              "9           118\n",
              "8            48"
            ]
          },
          "metadata": {}
        },
        {
          "output_type": "display_data",
          "data": {
            "image/png": "[encoded data removed]",
            "text/plain": [
              "<Figure size 360x360 with 1 Axes>"
            ]
          },
          "metadata": {
            "needs_background": "light"
          }
        }
      ]
    },
    {
      "cell_type": "markdown",
      "metadata": {
        "id": "WJjy17HFBvxS"
      },
      "source": [
        "получили таблицу с ценами для активных на 11 месяц клиентов. Как можно увидеть не все активные на сегодняшний день клиенты были с нами с начала отчётного периода"
      ]
    },
    {
      "cell_type": "markdown",
      "metadata": {
        "id": "u1UdCiHlO0BS"
      },
      "source": [
        "так же создадим полную таблицу только по активным клиентам"
      ]
    },
    {
      "cell_type": "code",
      "metadata": {
        "colab": {
          "base_uri": "https://localhost:8080/",
          "height": 520
        },
        "id": "cj2l5F0AO54G",
        "outputId": "cfc835be-a97b-4c4e-8164-ceeb372f131f"
      },
      "source": [
        "df_full_data_active_client = active_client_detector(df_full_data)"
      ],
      "execution_count": 63,
      "outputs": [
        {
          "output_type": "display_data",
          "data": {
            "text/html": [
              "<div>\n",
              "<style scoped>\n",
              "    .dataframe tbody tr th:only-of-type {\n",
              "        vertical-align: middle;\n",
              "    }\n",
              "\n",
              "    .dataframe tbody tr th {\n",
              "        vertical-align: top;\n",
              "    }\n",
              "\n",
              "    .dataframe thead th {\n",
              "        text-align: right;\n",
              "    }\n",
              "</style>\n",
              "<table border=\"1\" class=\"dataframe\">\n",
              "  <thead>\n",
              "    <tr style=\"text-align: right;\">\n",
              "      <th></th>\n",
              "      <th>month_count</th>\n",
              "    </tr>\n",
              "  </thead>\n",
              "  <tbody>\n",
              "    <tr>\n",
              "      <th>11</th>\n",
              "      <td>21823</td>\n",
              "    </tr>\n",
              "    <tr>\n",
              "      <th>10</th>\n",
              "      <td>15808</td>\n",
              "    </tr>\n",
              "    <tr>\n",
              "      <th>9</th>\n",
              "      <td>7052</td>\n",
              "    </tr>\n",
              "    <tr>\n",
              "      <th>8</th>\n",
              "      <td>1723</td>\n",
              "    </tr>\n",
              "  </tbody>\n",
              "</table>\n",
              "</div>"
            ],
            "text/plain": [
              "    month_count\n",
              "11        21823\n",
              "10        15808\n",
              "9          7052\n",
              "8          1723"
            ]
          },
          "metadata": {}
        },
        {
          "output_type": "display_data",
          "data": {
            "image/png": "[encoded data removed]",
            "text/plain": [
              "<Figure size 360x360 with 1 Axes>"
            ]
          },
          "metadata": {
            "needs_background": "light"
          }
        }
      ]
    },
    {
      "cell_type": "markdown",
      "metadata": {
        "id": "__0d0pS8PWuE"
      },
      "source": [
        "видем рост кол-ва операций активными (на последний месяц) клиентами (вероятней всего это связано с увеличением числа клиентов)"
      ]
    },
    {
      "cell_type": "markdown",
      "metadata": {
        "id": "b9iGZGGMlBmY"
      },
      "source": [
        "##3.2) распределение и средний доход по группам, динамика изменения дохода   <a name=\"group_revenue\"></a>"
      ]
    },
    {
      "cell_type": "code",
      "metadata": {
        "id": "SMIaGS2dHaEQ"
      },
      "source": [
        "#df_active_client_sum"
      ],
      "execution_count": 64,
      "outputs": []
    },
    {
      "cell_type": "code",
      "metadata": {
        "colab": {
          "base_uri": "https://localhost:8080/",
          "height": 1000
        },
        "id": "6IgQq58Hky9q",
        "outputId": "8d5392be-07c1-4264-cb66-65881f6c4f8f"
      },
      "source": [
        "for i in ('A', 'B', 'C'):\n",
        "  #print('форма распределения для итоговой сумммы для тарифа \"{}\":'.format(i))\n",
        "\n",
        "  fig, ax = plt.subplots(nrows = 1, ncols = 1, figsize=(5,5))\n",
        "  ax.set_title('форма распределения для итоговой сумммы для тарифа \"{}\":'.format(i) )\n",
        "  ax.hist(df_active_client_sum[ (df_active_client_sum['tariff_plan'] == i) & (df_active_client_sum['month_count'] == 11) ]['total_sum'])\n",
        "  ax.set_xlabel('полная сумма (total_sum), руб')\n",
        "  ax.set_ylabel('кол-во записей, шт.')\n",
        "  ax.grid()\n",
        "\n",
        "  #df_active_client_sum[ (df_active_client_sum['tariff_plan'] == i) & (df_active_client_sum['month_count'] == 11) ]['total_sum'].hist()\n",
        "  plt.show()"
      ],
      "execution_count": 65,
      "outputs": [
        {
          "output_type": "display_data",
          "data": {
            "image/png": "[encoded data removed]",
            "text/plain": [
              "<Figure size 360x360 with 1 Axes>"
            ]
          },
          "metadata": {
            "needs_background": "light"
          }
        },
        {
          "output_type": "display_data",
          "data": {
            "image/png": "[encoded data removed]",
            "text/plain": [
              "<Figure size 360x360 with 1 Axes>"
            ]
          },
          "metadata": {
            "needs_background": "light"
          }
        },
        {
          "output_type": "display_data",
          "data": {
            "image/png": "[encoded data removed]",
            "text/plain": [
              "<Figure size 360x360 with 1 Axes>"
            ]
          },
          "metadata": {
            "needs_background": "light"
          }
        }
      ]
    },
    {
      "cell_type": "markdown",
      "metadata": {
        "id": "huTUYPfUkzAr"
      },
      "source": [
        "т.к. форма распределения далека от нормальной, то мерой среднего значения будем считать медианное значение\n",
        "\n",
        "Построим распределения доходов:"
      ]
    },
    {
      "cell_type": "markdown",
      "metadata": {
        "id": "fEoz4QBluVwY"
      },
      "source": [
        "в связи с тем, что есть большие выбросы- вывод сделаем в логарифмической шкале "
      ]
    },
    {
      "cell_type": "code",
      "metadata": {
        "colab": {
          "base_uri": "https://localhost:8080/",
          "height": 430
        },
        "id": "t0_QcHVlkzDk",
        "outputId": "fe82d793-c2d5-4589-f32e-48472a9b5442"
      },
      "source": [
        "boxplot_sum_stroy(df_active_client_sum , 'tariff_plan' , 'month_count'\n",
        "                  , df_active_client_sum['month_count'].max() , 'total_sum' \n",
        "                  ,  'распределение расходов клиентов в последний месяц в разрезе тарифов', log_scale =True)"
      ],
      "execution_count": 66,
      "outputs": [
        {
          "output_type": "display_data",
          "data": {
            "image/png": "[encoded data removed]",
            "text/plain": [
              "<Figure size 1584x576 with 1 Axes>"
            ]
          },
          "metadata": {
            "needs_background": "light"
          }
        }
      ]
    },
    {
      "cell_type": "markdown",
      "metadata": {
        "id": "aoyZHnNgkzHR"
      },
      "source": [
        "посмортим динамику изменения суммарного дохода по месяцам в разрезе групп:"
      ]
    },
    {
      "cell_type": "code",
      "metadata": {
        "colab": {
          "base_uri": "https://localhost:8080/",
          "height": 1000
        },
        "id": "N8lPBFe6Aa_o",
        "outputId": "ee5abe8c-3a9f-4591-d2ab-52e2413cdb59"
      },
      "source": [
        "for i in ('A', 'B','C'):\n",
        "  boxplot_sum_story_stroy(df_active_client_sum , 'tariff_plan' , 'month_count'\n",
        "                  , i, 'total_sum' \n",
        "                  ,  'распределение расходов клиентов в группе \"' + str(i) +'\" в разрезе месяцев отбора', log_scale =True)"
      ],
      "execution_count": 67,
      "outputs": [
        {
          "output_type": "display_data",
          "data": {
            "image/png": "[encoded data removed]",
            "text/plain": [
              "<Figure size 1584x648 with 1 Axes>"
            ]
          },
          "metadata": {
            "needs_background": "light"
          }
        },
        {
          "output_type": "display_data",
          "data": {
            "image/png": "[encoded data removed]",
            "text/plain": [
              "<Figure size 1584x648 with 1 Axes>"
            ]
          },
          "metadata": {
            "needs_background": "light"
          }
        },
        {
          "output_type": "display_data",
          "data": {
            "image/png": "[encoded data removed]",
            "text/plain": [
              "<Figure size 1584x648 with 1 Axes>"
            ]
          },
          "metadata": {
            "needs_background": "light"
          }
        }
      ]
    },
    {
      "cell_type": "markdown",
      "metadata": {
        "id": "e8H2ED86BCVZ"
      },
      "source": [
        "На графике можем наблюдать, что для самой высокооплачиваемой группы \"С\" средний доход по месяцам стабилен (что может говорить о правильном подборе и грамотном распределении расходов у клиентов данной группы). В менее тарифо-нагруженном тарифе \"В\" картина похожа . В группе \"А\"  средний доход сильно отличается от месяца к месяцу, что может говорить или о низкой культуре отбора трат у клиентов либо об их росте и бурном развитии (что, потенциально даёт на желание удержать данных клиентов для будущих больших зароботков в случае их экспанентциального роста)\n",
        "\n"
      ]
    },
    {
      "cell_type": "code",
      "metadata": {
        "colab": {
          "base_uri": "https://localhost:8080/",
          "height": 174
        },
        "id": "ogd3idqD8Xsz",
        "outputId": "cd0fb821-3ee5-4cc0-80d8-056cd4a740ee"
      },
      "source": [
        "a=df_active_client_sum[ df_active_client_sum['month_count'] == 11 ].groupby('tariff_plan')[['total_sum' , 'tarif_sum', 'operator_sum', 'call_sum']].median()\n",
        "b=df_full_data_active_client[ df_full_data_active_client['month_count'] == 11 ].groupby('tariff_plan')['call_duration'].median().to_frame()\n",
        "\n",
        "\n",
        "df_rab_rab = a.join(b)\n",
        "df_rab_rab['rub/min'] = df_rab_rab['total_sum'] / df_rab_rab['call_duration']\n",
        "df_rab_rab[['rub/min' , 'tarif_sum', 'operator_sum', 'call_sum']]"
      ],
      "execution_count": 68,
      "outputs": [
        {
          "output_type": "execute_result",
          "data": {
            "text/html": [
              "<div>\n",
              "<style scoped>\n",
              "    .dataframe tbody tr th:only-of-type {\n",
              "        vertical-align: middle;\n",
              "    }\n",
              "\n",
              "    .dataframe tbody tr th {\n",
              "        vertical-align: top;\n",
              "    }\n",
              "\n",
              "    .dataframe thead th {\n",
              "        text-align: right;\n",
              "    }\n",
              "</style>\n",
              "<table border=\"1\" class=\"dataframe\">\n",
              "  <thead>\n",
              "    <tr style=\"text-align: right;\">\n",
              "      <th></th>\n",
              "      <th>rub/min</th>\n",
              "      <th>tarif_sum</th>\n",
              "      <th>operator_sum</th>\n",
              "      <th>call_sum</th>\n",
              "    </tr>\n",
              "    <tr>\n",
              "      <th>tariff_plan</th>\n",
              "      <th></th>\n",
              "      <th></th>\n",
              "      <th></th>\n",
              "      <th></th>\n",
              "    </tr>\n",
              "  </thead>\n",
              "  <tbody>\n",
              "    <tr>\n",
              "      <th>A</th>\n",
              "      <td>66.709756</td>\n",
              "      <td>5000.0</td>\n",
              "      <td>250</td>\n",
              "      <td>120.20</td>\n",
              "    </tr>\n",
              "    <tr>\n",
              "      <th>B</th>\n",
              "      <td>49.661290</td>\n",
              "      <td>2000.0</td>\n",
              "      <td>200</td>\n",
              "      <td>17.75</td>\n",
              "    </tr>\n",
              "    <tr>\n",
              "      <th>C</th>\n",
              "      <td>40.000000</td>\n",
              "      <td>1000.0</td>\n",
              "      <td>100</td>\n",
              "      <td>1.40</td>\n",
              "    </tr>\n",
              "  </tbody>\n",
              "</table>\n",
              "</div>"
            ],
            "text/plain": [
              "               rub/min  tarif_sum  operator_sum  call_sum\n",
              "tariff_plan                                              \n",
              "A            66.709756     5000.0           250    120.20\n",
              "B            49.661290     2000.0           200     17.75\n",
              "C            40.000000     1000.0           100      1.40"
            ]
          },
          "metadata": {},
          "execution_count": 68
        }
      ]
    },
    {
      "cell_type": "markdown",
      "metadata": {
        "id": "glvpj3NM8_XZ"
      },
      "source": [
        "На таблице представлена средняя (медианна) полная стоимость минуты в 11 месяце в разрезе тарифов- больше всех платят клиенты группы \"А\""
      ]
    },
    {
      "cell_type": "markdown",
      "metadata": {
        "id": "VIsSnZCRBCYT"
      },
      "source": [
        "Таким образом можно сделать предположение, что клиенты с тарифом \"С\" - устаявшиеся крупные игроки рынка, а клиенты с тарифом \"А\" - новички рынка, с возможным потенциалом роста.\n",
        "\n",
        "Так же, можем сказать, что клиенты из группы \"А\", в среднем\" тратят больше всех, что даёт поле деятельности по работе с данными клиентами"
      ]
    },
    {
      "cell_type": "code",
      "metadata": {
        "id": "7Ewh06Z9GJx5"
      },
      "source": [
        "#df_active_client_sum.sample(5)"
      ],
      "execution_count": 69,
      "outputs": []
    },
    {
      "cell_type": "markdown",
      "metadata": {
        "id": "9BPPeK3oGJx5"
      },
      "source": [
        "Добаваил в таблицу медианные суммы за тариф, операторов и сверхлимитные звонки"
      ]
    },
    {
      "cell_type": "code",
      "metadata": {
        "colab": {
          "base_uri": "https://localhost:8080/",
          "height": 174
        },
        "id": "Kj2TMaXlGJx6",
        "outputId": "1b63399b-c4dd-4a58-ac83-1ace7fafd42c"
      },
      "source": [
        "df_rab_rab[['rub/min' , 'tarif_sum', 'operator_sum', 'call_sum']]"
      ],
      "execution_count": 70,
      "outputs": [
        {
          "output_type": "execute_result",
          "data": {
            "text/html": [
              "<div>\n",
              "<style scoped>\n",
              "    .dataframe tbody tr th:only-of-type {\n",
              "        vertical-align: middle;\n",
              "    }\n",
              "\n",
              "    .dataframe tbody tr th {\n",
              "        vertical-align: top;\n",
              "    }\n",
              "\n",
              "    .dataframe thead th {\n",
              "        text-align: right;\n",
              "    }\n",
              "</style>\n",
              "<table border=\"1\" class=\"dataframe\">\n",
              "  <thead>\n",
              "    <tr style=\"text-align: right;\">\n",
              "      <th></th>\n",
              "      <th>rub/min</th>\n",
              "      <th>tarif_sum</th>\n",
              "      <th>operator_sum</th>\n",
              "      <th>call_sum</th>\n",
              "    </tr>\n",
              "    <tr>\n",
              "      <th>tariff_plan</th>\n",
              "      <th></th>\n",
              "      <th></th>\n",
              "      <th></th>\n",
              "      <th></th>\n",
              "    </tr>\n",
              "  </thead>\n",
              "  <tbody>\n",
              "    <tr>\n",
              "      <th>A</th>\n",
              "      <td>66.709756</td>\n",
              "      <td>5000.0</td>\n",
              "      <td>250</td>\n",
              "      <td>120.20</td>\n",
              "    </tr>\n",
              "    <tr>\n",
              "      <th>B</th>\n",
              "      <td>49.661290</td>\n",
              "      <td>2000.0</td>\n",
              "      <td>200</td>\n",
              "      <td>17.75</td>\n",
              "    </tr>\n",
              "    <tr>\n",
              "      <th>C</th>\n",
              "      <td>40.000000</td>\n",
              "      <td>1000.0</td>\n",
              "      <td>100</td>\n",
              "      <td>1.40</td>\n",
              "    </tr>\n",
              "  </tbody>\n",
              "</table>\n",
              "</div>"
            ],
            "text/plain": [
              "               rub/min  tarif_sum  operator_sum  call_sum\n",
              "tariff_plan                                              \n",
              "A            66.709756     5000.0           250    120.20\n",
              "B            49.661290     2000.0           200     17.75\n",
              "C            40.000000     1000.0           100      1.40"
            ]
          },
          "metadata": {},
          "execution_count": 70
        }
      ]
    },
    {
      "cell_type": "markdown",
      "metadata": {
        "id": "TfmPRbERGJx6"
      },
      "source": [
        "Клиенты с тарифом \"А\" платят больше в основном из-за большой суммы тарифа, при этом они больше доплачивают за сверх звонки и используют в своём штате больше операторов"
      ]
    },
    {
      "cell_type": "markdown",
      "metadata": {
        "id": "Mb7aJFKnDO8w"
      },
      "source": [
        "##3.3) соотношение численностей групп   <a name=\"group_count\"></a>\n"
      ]
    },
    {
      "cell_type": "markdown",
      "metadata": {
        "id": "jIsS7S6zwjCb"
      },
      "source": [
        "посмотрим на распределение всех клиентов по месяцам:"
      ]
    },
    {
      "cell_type": "code",
      "metadata": {
        "colab": {
          "base_uri": "https://localhost:8080/",
          "height": 457
        },
        "id": "A-wEOWQzBlbb",
        "outputId": "5dcf84af-97da-476d-a2e0-97b7b6522dbe"
      },
      "source": [
        "df_full_data.groupby(['month_count','tariff_plan'])['user_id'].nunique().to_frame()"
      ],
      "execution_count": 71,
      "outputs": [
        {
          "output_type": "execute_result",
          "data": {
            "text/html": [
              "<div>\n",
              "<style scoped>\n",
              "    .dataframe tbody tr th:only-of-type {\n",
              "        vertical-align: middle;\n",
              "    }\n",
              "\n",
              "    .dataframe tbody tr th {\n",
              "        vertical-align: top;\n",
              "    }\n",
              "\n",
              "    .dataframe thead th {\n",
              "        text-align: right;\n",
              "    }\n",
              "</style>\n",
              "<table border=\"1\" class=\"dataframe\">\n",
              "  <thead>\n",
              "    <tr style=\"text-align: right;\">\n",
              "      <th></th>\n",
              "      <th></th>\n",
              "      <th>user_id</th>\n",
              "    </tr>\n",
              "    <tr>\n",
              "      <th>month_count</th>\n",
              "      <th>tariff_plan</th>\n",
              "      <th></th>\n",
              "    </tr>\n",
              "  </thead>\n",
              "  <tbody>\n",
              "    <tr>\n",
              "      <th rowspan=\"3\" valign=\"top\">8</th>\n",
              "      <th>A</th>\n",
              "      <td>11</td>\n",
              "    </tr>\n",
              "    <tr>\n",
              "      <th>B</th>\n",
              "      <td>35</td>\n",
              "    </tr>\n",
              "    <tr>\n",
              "      <th>C</th>\n",
              "      <td>39</td>\n",
              "    </tr>\n",
              "    <tr>\n",
              "      <th rowspan=\"3\" valign=\"top\">9</th>\n",
              "      <th>A</th>\n",
              "      <td>19</td>\n",
              "    </tr>\n",
              "    <tr>\n",
              "      <th>B</th>\n",
              "      <td>66</td>\n",
              "    </tr>\n",
              "    <tr>\n",
              "      <th>C</th>\n",
              "      <td>88</td>\n",
              "    </tr>\n",
              "    <tr>\n",
              "      <th rowspan=\"3\" valign=\"top\">10</th>\n",
              "      <th>A</th>\n",
              "      <td>33</td>\n",
              "    </tr>\n",
              "    <tr>\n",
              "      <th>B</th>\n",
              "      <td>92</td>\n",
              "    </tr>\n",
              "    <tr>\n",
              "      <th>C</th>\n",
              "      <td>148</td>\n",
              "    </tr>\n",
              "    <tr>\n",
              "      <th rowspan=\"3\" valign=\"top\">11</th>\n",
              "      <th>A</th>\n",
              "      <td>30</td>\n",
              "    </tr>\n",
              "    <tr>\n",
              "      <th>B</th>\n",
              "      <td>96</td>\n",
              "    </tr>\n",
              "    <tr>\n",
              "      <th>C</th>\n",
              "      <td>135</td>\n",
              "    </tr>\n",
              "  </tbody>\n",
              "</table>\n",
              "</div>"
            ],
            "text/plain": [
              "                         user_id\n",
              "month_count tariff_plan         \n",
              "8           A                 11\n",
              "            B                 35\n",
              "            C                 39\n",
              "9           A                 19\n",
              "            B                 66\n",
              "            C                 88\n",
              "10          A                 33\n",
              "            B                 92\n",
              "            C                148\n",
              "11          A                 30\n",
              "            B                 96\n",
              "            C                135"
            ]
          },
          "metadata": {},
          "execution_count": 71
        }
      ]
    },
    {
      "cell_type": "markdown",
      "metadata": {
        "id": "YtOlLdgkwzxT"
      },
      "source": [
        "можем увидеть как из месяца в месяц растёт число активных клиентов и устанавливается к октябрю. Среди клиентов привалирует тариф \"С\", и соотношение между тарифами так же остаётся постоянным, что может свидетельствовать либо об постоянном притоке и оттоке клиентов (равномерном), либо о неразвитии клиентов (при увеличении уровня клиентов- повышается его потребность в услугах- переходит на более выгодный для него тариф)"
      ]
    },
    {
      "cell_type": "markdown",
      "metadata": {
        "id": "DolvX2dRDJPk"
      },
      "source": [
        "##3.4) соотношения видов звонков по группам (входящий, исходящий, внутренний, внешний)   <a name=\"group_revenue\"></a>\n",
        "\n"
      ]
    },
    {
      "cell_type": "markdown",
      "metadata": {
        "id": "uYBKvNXgU7Rj"
      },
      "source": [
        "смотреть динамику не будем, т.к. нас интересует только последний месяц и меры по удержанию клиентов и выручки. Так же в этом месяце больше всего клиентов. Динамику изменения, при необходимости, можно посмотреть в отдельном исследовании"
      ]
    },
    {
      "cell_type": "code",
      "metadata": {
        "colab": {
          "base_uri": "https://localhost:8080/",
          "height": 856
        },
        "id": "f_HvpP1fMj1x",
        "outputId": "2e24655a-b317-424f-8ee7-3cc9ca097f2b"
      },
      "source": [
        "for i in ('in', 'out'):\n",
        "  for k in (True, False):\n",
        "    print('\\n\\nтаблица динамики для direction = {} и internal = {}'.format(i,k))\n",
        "    df_rab_11 = df_full_data_active_client[ (df_full_data_active_client['direction'] == i) & (df_full_data_active_client['internal'] == k) & (df_full_data_active_client['month_count'] == df_full_data_active_client['month_count'].max()) ].groupby(['month_count','tariff_plan', 'user_id']).agg({'call_duration':'sum' }).reset_index()\n",
        "    display(\n",
        "        df_rab_11.groupby(['month_count','tariff_plan']).agg({'call_duration':'median' })\n",
        "    )\n",
        "\n",
        "    "
      ],
      "execution_count": 72,
      "outputs": [
        {
          "output_type": "stream",
          "name": "stdout",
          "text": [
            "\n",
            "\n",
            "таблица динамики для direction = in и internal = True\n"
          ]
        },
        {
          "output_type": "display_data",
          "data": {
            "text/html": [
              "<div>\n",
              "<style scoped>\n",
              "    .dataframe tbody tr th:only-of-type {\n",
              "        vertical-align: middle;\n",
              "    }\n",
              "\n",
              "    .dataframe tbody tr th {\n",
              "        vertical-align: top;\n",
              "    }\n",
              "\n",
              "    .dataframe thead th {\n",
              "        text-align: right;\n",
              "    }\n",
              "</style>\n",
              "<table border=\"1\" class=\"dataframe\">\n",
              "  <thead>\n",
              "    <tr style=\"text-align: right;\">\n",
              "      <th></th>\n",
              "      <th></th>\n",
              "      <th>call_duration</th>\n",
              "    </tr>\n",
              "    <tr>\n",
              "      <th>month_count</th>\n",
              "      <th>tariff_plan</th>\n",
              "      <th></th>\n",
              "    </tr>\n",
              "  </thead>\n",
              "  <tbody>\n",
              "    <tr>\n",
              "      <th rowspan=\"3\" valign=\"top\">11</th>\n",
              "      <th>A</th>\n",
              "      <td>2230.0</td>\n",
              "    </tr>\n",
              "    <tr>\n",
              "      <th>B</th>\n",
              "      <td>3.5</td>\n",
              "    </tr>\n",
              "    <tr>\n",
              "      <th>C</th>\n",
              "      <td>10.0</td>\n",
              "    </tr>\n",
              "  </tbody>\n",
              "</table>\n",
              "</div>"
            ],
            "text/plain": [
              "                         call_duration\n",
              "month_count tariff_plan               \n",
              "11          A                   2230.0\n",
              "            B                      3.5\n",
              "            C                     10.0"
            ]
          },
          "metadata": {}
        },
        {
          "output_type": "stream",
          "name": "stdout",
          "text": [
            "\n",
            "\n",
            "таблица динамики для direction = in и internal = False\n"
          ]
        },
        {
          "output_type": "display_data",
          "data": {
            "text/html": [
              "<div>\n",
              "<style scoped>\n",
              "    .dataframe tbody tr th:only-of-type {\n",
              "        vertical-align: middle;\n",
              "    }\n",
              "\n",
              "    .dataframe tbody tr th {\n",
              "        vertical-align: top;\n",
              "    }\n",
              "\n",
              "    .dataframe thead th {\n",
              "        text-align: right;\n",
              "    }\n",
              "</style>\n",
              "<table border=\"1\" class=\"dataframe\">\n",
              "  <thead>\n",
              "    <tr style=\"text-align: right;\">\n",
              "      <th></th>\n",
              "      <th></th>\n",
              "      <th>call_duration</th>\n",
              "    </tr>\n",
              "    <tr>\n",
              "      <th>month_count</th>\n",
              "      <th>tariff_plan</th>\n",
              "      <th></th>\n",
              "    </tr>\n",
              "  </thead>\n",
              "  <tbody>\n",
              "    <tr>\n",
              "      <th rowspan=\"3\" valign=\"top\">11</th>\n",
              "      <th>A</th>\n",
              "      <td>7980.5</td>\n",
              "    </tr>\n",
              "    <tr>\n",
              "      <th>B</th>\n",
              "      <td>894.0</td>\n",
              "    </tr>\n",
              "    <tr>\n",
              "      <th>C</th>\n",
              "      <td>1501.5</td>\n",
              "    </tr>\n",
              "  </tbody>\n",
              "</table>\n",
              "</div>"
            ],
            "text/plain": [
              "                         call_duration\n",
              "month_count tariff_plan               \n",
              "11          A                   7980.5\n",
              "            B                    894.0\n",
              "            C                   1501.5"
            ]
          },
          "metadata": {}
        },
        {
          "output_type": "stream",
          "name": "stdout",
          "text": [
            "\n",
            "\n",
            "таблица динамики для direction = out и internal = True\n"
          ]
        },
        {
          "output_type": "display_data",
          "data": {
            "text/html": [
              "<div>\n",
              "<style scoped>\n",
              "    .dataframe tbody tr th:only-of-type {\n",
              "        vertical-align: middle;\n",
              "    }\n",
              "\n",
              "    .dataframe tbody tr th {\n",
              "        vertical-align: top;\n",
              "    }\n",
              "\n",
              "    .dataframe thead th {\n",
              "        text-align: right;\n",
              "    }\n",
              "</style>\n",
              "<table border=\"1\" class=\"dataframe\">\n",
              "  <thead>\n",
              "    <tr style=\"text-align: right;\">\n",
              "      <th></th>\n",
              "      <th></th>\n",
              "      <th>call_duration</th>\n",
              "    </tr>\n",
              "    <tr>\n",
              "      <th>month_count</th>\n",
              "      <th>tariff_plan</th>\n",
              "      <th></th>\n",
              "    </tr>\n",
              "  </thead>\n",
              "  <tbody>\n",
              "    <tr>\n",
              "      <th rowspan=\"3\" valign=\"top\">11</th>\n",
              "      <th>A</th>\n",
              "      <td>578.0</td>\n",
              "    </tr>\n",
              "    <tr>\n",
              "      <th>B</th>\n",
              "      <td>3.5</td>\n",
              "    </tr>\n",
              "    <tr>\n",
              "      <th>C</th>\n",
              "      <td>0.0</td>\n",
              "    </tr>\n",
              "  </tbody>\n",
              "</table>\n",
              "</div>"
            ],
            "text/plain": [
              "                         call_duration\n",
              "month_count tariff_plan               \n",
              "11          A                    578.0\n",
              "            B                      3.5\n",
              "            C                      0.0"
            ]
          },
          "metadata": {}
        },
        {
          "output_type": "stream",
          "name": "stdout",
          "text": [
            "\n",
            "\n",
            "таблица динамики для direction = out и internal = False\n"
          ]
        },
        {
          "output_type": "display_data",
          "data": {
            "text/html": [
              "<div>\n",
              "<style scoped>\n",
              "    .dataframe tbody tr th:only-of-type {\n",
              "        vertical-align: middle;\n",
              "    }\n",
              "\n",
              "    .dataframe tbody tr th {\n",
              "        vertical-align: top;\n",
              "    }\n",
              "\n",
              "    .dataframe thead th {\n",
              "        text-align: right;\n",
              "    }\n",
              "</style>\n",
              "<table border=\"1\" class=\"dataframe\">\n",
              "  <thead>\n",
              "    <tr style=\"text-align: right;\">\n",
              "      <th></th>\n",
              "      <th></th>\n",
              "      <th>call_duration</th>\n",
              "    </tr>\n",
              "    <tr>\n",
              "      <th>month_count</th>\n",
              "      <th>tariff_plan</th>\n",
              "      <th></th>\n",
              "    </tr>\n",
              "  </thead>\n",
              "  <tbody>\n",
              "    <tr>\n",
              "      <th rowspan=\"3\" valign=\"top\">11</th>\n",
              "      <th>A</th>\n",
              "      <td>22185.5</td>\n",
              "    </tr>\n",
              "    <tr>\n",
              "      <th>B</th>\n",
              "      <td>8054.5</td>\n",
              "    </tr>\n",
              "    <tr>\n",
              "      <th>C</th>\n",
              "      <td>6972.5</td>\n",
              "    </tr>\n",
              "  </tbody>\n",
              "</table>\n",
              "</div>"
            ],
            "text/plain": [
              "                         call_duration\n",
              "month_count tariff_plan               \n",
              "11          A                  22185.5\n",
              "            B                   8054.5\n",
              "            C                   6972.5"
            ]
          },
          "metadata": {}
        }
      ]
    },
    {
      "cell_type": "markdown",
      "metadata": {
        "id": "oI_L09wCN7TZ"
      },
      "source": [
        "Как мы можем увидеть- с точки зрения среднего значения (мера- медиана) клиенты с тарифом \"В\" и \"С\" мало отличаются друг от друга. Клиенты с тарифом \"А\" ползуются звонками сильно больше своих \"коллег\". А учитывая тот факт, что клиентов с тарифом \"А\" сильо меньше остальных (см. п.3.3) и тратят в абсолютных занчениях они больше остальных (см п 3.2), то можем предположить- это новички своего рынка, пытающиеся через агрессивные тактики захватить свою долю рынка. В дальнейшем они либо \"провалят эту гонку\" либо перейдут в категорию клиентов, которые уже могут себе позволить оптимизировать траты и перейдут на более выгодные для них тарифы\n",
        "\n",
        "С точки зрения общего анализа все группы более нацелены на работу с внешними звонками, но основные звонки делают на исходящем фронте. Это может подтолкнуть к размышлениям о моделе  бизнеса наших клиентов- либо они нацелены на \"холодные\" обзвоны своих клиентов (не из нашего списка), либо это как-то связано с автодозвонами (что менее вероятно, судя по входящим звонкам - хотя это не панацея). "
      ]
    },
    {
      "cell_type": "markdown",
      "metadata": {
        "id": "xMj01HOvDXJZ"
      },
      "source": [
        "##3.5) распределение среднего времени ожидания по группам   <a name=\"group_time_duration\"></a>\n"
      ]
    },
    {
      "cell_type": "markdown",
      "metadata": {
        "id": "2t6MKMbpPJDo"
      },
      "source": [
        "Аналогично предыдущему пункту- работать будем только с полседним месяцем"
      ]
    },
    {
      "cell_type": "code",
      "metadata": {
        "colab": {
          "base_uri": "https://localhost:8080/"
        },
        "id": "Gif7qjMnPJGM",
        "outputId": "7dc23733-000e-429a-f74a-ddc425199ae6"
      },
      "source": [
        "df_full_data_active_client['waiting_time'] = ((df_full_data_active_client['total_call_duration'] - df_full_data_active_client['call_duration']) / df_full_data_active_client['calls_count'])"
      ],
      "execution_count": 73,
      "outputs": [
        {
          "output_type": "stream",
          "name": "stderr",
          "text": [
            "/usr/local/lib/python3.7/dist-packages/ipykernel_launcher.py:1: SettingWithCopyWarning: \n",
            "A value is trying to be set on a copy of a slice from a DataFrame.\n",
            "Try using .loc[row_indexer,col_indexer] = value instead\n",
            "\n",
            "See the caveats in the documentation: https://pandas.pydata.org/pandas-docs/stable/user_guide/indexing.html#returning-a-view-versus-a-copy\n",
            "  \"\"\"Entry point for launching an IPython kernel.\n"
          ]
        }
      ]
    },
    {
      "cell_type": "code",
      "metadata": {
        "colab": {
          "base_uri": "https://localhost:8080/",
          "height": 434
        },
        "id": "PEvU4wnPPJIX",
        "outputId": "6c13064b-95aa-42ba-b176-3325cef4f114"
      },
      "source": [
        "boxplot_sum_stroy(\n",
        "    df_full_data_active_client, 'tariff_plan' , 'month_count', df_full_data_active_client['month_count'].max()\n",
        "    , 'waiting_time' \n",
        "    , 'распределение времени ожидания в разрезе тарифов для ' + str(df_full_data_active_client['month_count'].max()) + ' месяца'\n",
        "    , log_scale=True\n",
        "    )"
      ],
      "execution_count": 74,
      "outputs": [
        {
          "output_type": "display_data",
          "data": {
            "image/png": "[encoded data removed]",
            "text/plain": [
              "<Figure size 1584x576 with 1 Axes>"
            ]
          },
          "metadata": {
            "needs_background": "light"
          }
        }
      ]
    },
    {
      "cell_type": "markdown",
      "metadata": {
        "id": "Zd4buIDsYZ3e"
      },
      "source": [
        "Даное распределение дано по всем направлениям звонков (в конечном случае- всегда работаешь с людьми) и для всех операторов. Данное упрощение приняли в следствии экономии времени и, на первый взгляд, сомнительности  кардинального отличия результатов в разрезе динамики, и направления вызовов.\n",
        "\n",
        "Как можем увидеть из графика имеются большое кол-во выбросов (возможно для работы с живыми людьми (не всегда есть возможность взять трубку) и не очень хорошо настроенным телефонным автоматом (при длительном времени ожидании идёт сброс звонка) - нормально иметь большие выбросы). В общем, форма распределения (при отбрасывании выбросов) похожа на нормальную (медианное значение близко к среднему - хорошо для определение меры) и медианное время ожидания близко у разных клиентов (с разными тарифными планами) - можем объяснить это тем- что все работают с живыми людьми и автоматической передачи данных по линиям голосовй связи (см какой-нибудь голосовой модем) в работе клиентов не привалирует. Ожидание в 15 секунд- нормальное ожидание для звонков\n",
        "\n",
        "По данному признаку- все едины"
      ]
    },
    {
      "cell_type": "markdown",
      "metadata": {
        "id": "afrDaLJWg96Q"
      },
      "source": [
        "#4) поиск клиентов с неоптимальными тарифами   <a name=\"client_style\"></a>\n"
      ]
    },
    {
      "cell_type": "markdown",
      "metadata": {
        "id": "y238HYW-YZ5h"
      },
      "source": [
        "создадим рабочую таблицу с отфильтрованными данными: работать будем только по посленему месяцу (11). Так же сделаем просчёт сумм для всех клиентов с разными тарифами сравним с текущими тарифами"
      ]
    },
    {
      "cell_type": "code",
      "metadata": {
        "id": "yB3liZaKnAc3"
      },
      "source": [
        "df_optimum_client = df_full_data[ df_full_data['month_count'] == df_full_data['month_count'].max()]"
      ],
      "execution_count": 75,
      "outputs": []
    },
    {
      "cell_type": "markdown",
      "metadata": {
        "id": "11J2_P33yMrF"
      },
      "source": [
        "подготовили рабочее поле- можем начать работать"
      ]
    },
    {
      "cell_type": "markdown",
      "metadata": {
        "id": "6SSHU0lTYZ-u"
      },
      "source": [
        "##4.1) поиск клиентов с неоптимальными тарифами и расчёт возможных улучшений   <a name=\"client_search\"></a>\n"
      ]
    },
    {
      "cell_type": "code",
      "metadata": {
        "colab": {
          "base_uri": "https://localhost:8080/",
          "height": 247
        },
        "id": "JLpCmBnrhJCg",
        "outputId": "53e6edd3-7c7d-4424-e525-4c39e788413f"
      },
      "source": [
        "\n",
        "df_client_optimal =searc_optimum_tarif(df_optimum_client , 'tariff_plan')\n",
        "print('сумма выручки на текущем тарифе: {} руб/мес \\nсумма выручки при оптимальных тарифах: {} руб/мес \\nпадение: {} %'.format( \n",
        "    df_client_optimal['total_sum'].sum() \n",
        "    ,df_client_optimal['total_sum_optimum'].sum()  \n",
        "    ,round(100*(df_client_optimal['total_sum'].sum() / df_client_optimal['total_sum_optimum'].sum() -1 ) , 1)\n",
        "     ))\n",
        "df_client_optimal.sample(4)\n"
      ],
      "execution_count": 76,
      "outputs": [
        {
          "output_type": "stream",
          "name": "stdout",
          "text": [
            "сумма выручки на текущем тарифе: 605041.9 руб/мес \n",
            "сумма выручки при оптимальных тарифах: 427050.6 руб/мес \n",
            "падение: 41.7 %\n"
          ]
        },
        {
          "output_type": "execute_result",
          "data": {
            "text/html": [
              "<div>\n",
              "<style scoped>\n",
              "    .dataframe tbody tr th:only-of-type {\n",
              "        vertical-align: middle;\n",
              "    }\n",
              "\n",
              "    .dataframe tbody tr th {\n",
              "        vertical-align: top;\n",
              "    }\n",
              "\n",
              "    .dataframe thead th {\n",
              "        text-align: right;\n",
              "    }\n",
              "</style>\n",
              "<table border=\"1\" class=\"dataframe\">\n",
              "  <thead>\n",
              "    <tr style=\"text-align: right;\">\n",
              "      <th></th>\n",
              "      <th>user_id</th>\n",
              "      <th>tariff_plan</th>\n",
              "      <th>month_count</th>\n",
              "      <th>tarif_sum</th>\n",
              "      <th>operator_sum</th>\n",
              "      <th>call_sum</th>\n",
              "      <th>total_sum</th>\n",
              "      <th>tarif_sum_A</th>\n",
              "      <th>operator_sum_A</th>\n",
              "      <th>call_sum_A</th>\n",
              "      <th>total_sum_A</th>\n",
              "      <th>tarif_sum_B</th>\n",
              "      <th>operator_sum_B</th>\n",
              "      <th>call_sum_B</th>\n",
              "      <th>total_sum_B</th>\n",
              "      <th>tarif_sum_C</th>\n",
              "      <th>operator_sum_C</th>\n",
              "      <th>call_sum_C</th>\n",
              "      <th>total_sum_C</th>\n",
              "      <th>total_sum_optimum</th>\n",
              "      <th>have_optimum_tarif</th>\n",
              "      <th>optimum_tarif</th>\n",
              "    </tr>\n",
              "  </thead>\n",
              "  <tbody>\n",
              "    <tr>\n",
              "      <th>70</th>\n",
              "      <td>167059</td>\n",
              "      <td>C</td>\n",
              "      <td>11</td>\n",
              "      <td>1000.0</td>\n",
              "      <td>500</td>\n",
              "      <td>0.0</td>\n",
              "      <td>1500.0</td>\n",
              "      <td>5000.0</td>\n",
              "      <td>500</td>\n",
              "      <td>0.0</td>\n",
              "      <td>5500.0</td>\n",
              "      <td>2000.0</td>\n",
              "      <td>500</td>\n",
              "      <td>0.0</td>\n",
              "      <td>2500.0</td>\n",
              "      <td>1000.0</td>\n",
              "      <td>500</td>\n",
              "      <td>0.0</td>\n",
              "      <td>1500.0</td>\n",
              "      <td>1500.0</td>\n",
              "      <td>False</td>\n",
              "      <td>C</td>\n",
              "    </tr>\n",
              "    <tr>\n",
              "      <th>132</th>\n",
              "      <td>167630</td>\n",
              "      <td>C</td>\n",
              "      <td>11</td>\n",
              "      <td>1000.0</td>\n",
              "      <td>100</td>\n",
              "      <td>94.5</td>\n",
              "      <td>1194.5</td>\n",
              "      <td>5000.0</td>\n",
              "      <td>100</td>\n",
              "      <td>54.0</td>\n",
              "      <td>5154.0</td>\n",
              "      <td>2000.0</td>\n",
              "      <td>100</td>\n",
              "      <td>67.5</td>\n",
              "      <td>2167.5</td>\n",
              "      <td>1000.0</td>\n",
              "      <td>100</td>\n",
              "      <td>94.5</td>\n",
              "      <td>1194.5</td>\n",
              "      <td>1194.5</td>\n",
              "      <td>False</td>\n",
              "      <td>C</td>\n",
              "    </tr>\n",
              "    <tr>\n",
              "      <th>29</th>\n",
              "      <td>166691</td>\n",
              "      <td>C</td>\n",
              "      <td>11</td>\n",
              "      <td>1000.0</td>\n",
              "      <td>200</td>\n",
              "      <td>160.3</td>\n",
              "      <td>1360.3</td>\n",
              "      <td>5000.0</td>\n",
              "      <td>200</td>\n",
              "      <td>91.6</td>\n",
              "      <td>5291.6</td>\n",
              "      <td>2000.0</td>\n",
              "      <td>200</td>\n",
              "      <td>114.5</td>\n",
              "      <td>2314.5</td>\n",
              "      <td>1000.0</td>\n",
              "      <td>200</td>\n",
              "      <td>160.3</td>\n",
              "      <td>1360.3</td>\n",
              "      <td>1360.3</td>\n",
              "      <td>False</td>\n",
              "      <td>C</td>\n",
              "    </tr>\n",
              "    <tr>\n",
              "      <th>191</th>\n",
              "      <td>168054</td>\n",
              "      <td>C</td>\n",
              "      <td>11</td>\n",
              "      <td>1000.0</td>\n",
              "      <td>200</td>\n",
              "      <td>0.0</td>\n",
              "      <td>1200.0</td>\n",
              "      <td>5000.0</td>\n",
              "      <td>200</td>\n",
              "      <td>0.0</td>\n",
              "      <td>5200.0</td>\n",
              "      <td>2000.0</td>\n",
              "      <td>200</td>\n",
              "      <td>0.0</td>\n",
              "      <td>2200.0</td>\n",
              "      <td>1000.0</td>\n",
              "      <td>200</td>\n",
              "      <td>0.0</td>\n",
              "      <td>1200.0</td>\n",
              "      <td>1200.0</td>\n",
              "      <td>False</td>\n",
              "      <td>C</td>\n",
              "    </tr>\n",
              "  </tbody>\n",
              "</table>\n",
              "</div>"
            ],
            "text/plain": [
              "     user_id tariff_plan  ...  have_optimum_tarif  optimum_tarif\n",
              "70    167059           C  ...               False              C\n",
              "132   167630           C  ...               False              C\n",
              "29    166691           C  ...               False              C\n",
              "191   168054           C  ...               False              C\n",
              "\n",
              "[4 rows x 22 columns]"
            ]
          },
          "metadata": {},
          "execution_count": 76
        }
      ]
    },
    {
      "cell_type": "code",
      "metadata": {
        "colab": {
          "base_uri": "https://localhost:8080/"
        },
        "id": "Z4-9hfpsqmHc",
        "outputId": "2efa26ac-613d-4381-a2a9-753b5280eda1"
      },
      "source": [
        "print('соотношение \"родных\" тарифов, шт.:')\n",
        "print(df_client_optimal['tariff_plan'].value_counts())\n",
        "print('соотношение оптимальных тарифов, шт.:')\n",
        "print(df_client_optimal['optimum_tarif'].value_counts())"
      ],
      "execution_count": 77,
      "outputs": [
        {
          "output_type": "stream",
          "name": "stdout",
          "text": [
            "соотношение \"родных\" тарифов, шт.:\n",
            "C    131\n",
            "B     86\n",
            "A     28\n",
            "Name: tariff_plan, dtype: int64\n",
            "соотношение оптимальных тарифов, шт.:\n",
            "C    239\n",
            "B      5\n",
            "A      1\n",
            "Name: optimum_tarif, dtype: int64\n"
          ]
        }
      ]
    },
    {
      "cell_type": "markdown",
      "metadata": {
        "id": "_3SRjpyhys7d"
      },
      "source": [
        "приведём таблицу для улучшения клиентов:"
      ]
    },
    {
      "cell_type": "code",
      "metadata": {
        "colab": {
          "base_uri": "https://localhost:8080/",
          "height": 423
        },
        "id": "rxY_5Ew7rx_I",
        "outputId": "49ff6ee7-5f78-4fb2-e23d-3567c6a0ea8d"
      },
      "source": [
        "df_client_optimal_rab = df_client_optimal[ df_client_optimal['have_optimum_tarif'] ==True ][['user_id','tariff_plan','optimum_tarif','total_sum','total_sum_optimum']]\n",
        "df_client_optimal_rab['delta_total_sum_rub'] = df_client_optimal_rab['total_sum'] - df_client_optimal_rab['total_sum_optimum']\n",
        "df_client_optimal_rab['delta_total_sum_%'] =  round(100* ( 1- df_client_optimal_rab['total_sum_optimum'] / df_client_optimal_rab['total_sum'] ) , 1)\n",
        "df_client_optimal_rab"
      ],
      "execution_count": 78,
      "outputs": [
        {
          "output_type": "execute_result",
          "data": {
            "text/html": [
              "<div>\n",
              "<style scoped>\n",
              "    .dataframe tbody tr th:only-of-type {\n",
              "        vertical-align: middle;\n",
              "    }\n",
              "\n",
              "    .dataframe tbody tr th {\n",
              "        vertical-align: top;\n",
              "    }\n",
              "\n",
              "    .dataframe thead th {\n",
              "        text-align: right;\n",
              "    }\n",
              "</style>\n",
              "<table border=\"1\" class=\"dataframe\">\n",
              "  <thead>\n",
              "    <tr style=\"text-align: right;\">\n",
              "      <th></th>\n",
              "      <th>user_id</th>\n",
              "      <th>tariff_plan</th>\n",
              "      <th>optimum_tarif</th>\n",
              "      <th>total_sum</th>\n",
              "      <th>total_sum_optimum</th>\n",
              "      <th>delta_total_sum_rub</th>\n",
              "      <th>delta_total_sum_%</th>\n",
              "    </tr>\n",
              "  </thead>\n",
              "  <tbody>\n",
              "    <tr>\n",
              "      <th>0</th>\n",
              "      <td>166377</td>\n",
              "      <td>B</td>\n",
              "      <td>C</td>\n",
              "      <td>3052.5</td>\n",
              "      <td>2313.5</td>\n",
              "      <td>739.0</td>\n",
              "      <td>24.2</td>\n",
              "    </tr>\n",
              "    <tr>\n",
              "      <th>4</th>\n",
              "      <td>166406</td>\n",
              "      <td>B</td>\n",
              "      <td>C</td>\n",
              "      <td>2463.0</td>\n",
              "      <td>1568.2</td>\n",
              "      <td>894.8</td>\n",
              "      <td>36.3</td>\n",
              "    </tr>\n",
              "    <tr>\n",
              "      <th>5</th>\n",
              "      <td>166407</td>\n",
              "      <td>A</td>\n",
              "      <td>C</td>\n",
              "      <td>5843.6</td>\n",
              "      <td>1876.3</td>\n",
              "      <td>3967.3</td>\n",
              "      <td>67.9</td>\n",
              "    </tr>\n",
              "    <tr>\n",
              "      <th>6</th>\n",
              "      <td>166428</td>\n",
              "      <td>B</td>\n",
              "      <td>C</td>\n",
              "      <td>2100.0</td>\n",
              "      <td>1100.0</td>\n",
              "      <td>1000.0</td>\n",
              "      <td>47.6</td>\n",
              "    </tr>\n",
              "    <tr>\n",
              "      <th>8</th>\n",
              "      <td>166485</td>\n",
              "      <td>B</td>\n",
              "      <td>C</td>\n",
              "      <td>3782.5</td>\n",
              "      <td>3295.5</td>\n",
              "      <td>487.0</td>\n",
              "      <td>12.9</td>\n",
              "    </tr>\n",
              "    <tr>\n",
              "      <th>...</th>\n",
              "      <td>...</td>\n",
              "      <td>...</td>\n",
              "      <td>...</td>\n",
              "      <td>...</td>\n",
              "      <td>...</td>\n",
              "      <td>...</td>\n",
              "      <td>...</td>\n",
              "    </tr>\n",
              "    <tr>\n",
              "      <th>235</th>\n",
              "      <td>168500</td>\n",
              "      <td>B</td>\n",
              "      <td>C</td>\n",
              "      <td>2100.0</td>\n",
              "      <td>1100.0</td>\n",
              "      <td>1000.0</td>\n",
              "      <td>47.6</td>\n",
              "    </tr>\n",
              "    <tr>\n",
              "      <th>237</th>\n",
              "      <td>168562</td>\n",
              "      <td>B</td>\n",
              "      <td>C</td>\n",
              "      <td>2100.0</td>\n",
              "      <td>1100.0</td>\n",
              "      <td>1000.0</td>\n",
              "      <td>47.6</td>\n",
              "    </tr>\n",
              "    <tr>\n",
              "      <th>239</th>\n",
              "      <td>168579</td>\n",
              "      <td>B</td>\n",
              "      <td>C</td>\n",
              "      <td>2200.0</td>\n",
              "      <td>1200.0</td>\n",
              "      <td>1000.0</td>\n",
              "      <td>45.5</td>\n",
              "    </tr>\n",
              "    <tr>\n",
              "      <th>240</th>\n",
              "      <td>168583</td>\n",
              "      <td>B</td>\n",
              "      <td>C</td>\n",
              "      <td>2200.0</td>\n",
              "      <td>1200.0</td>\n",
              "      <td>1000.0</td>\n",
              "      <td>45.5</td>\n",
              "    </tr>\n",
              "    <tr>\n",
              "      <th>243</th>\n",
              "      <td>168603</td>\n",
              "      <td>B</td>\n",
              "      <td>C</td>\n",
              "      <td>2108.0</td>\n",
              "      <td>1111.2</td>\n",
              "      <td>996.8</td>\n",
              "      <td>47.3</td>\n",
              "    </tr>\n",
              "  </tbody>\n",
              "</table>\n",
              "<p>111 rows × 7 columns</p>\n",
              "</div>"
            ],
            "text/plain": [
              "     user_id tariff_plan  ... delta_total_sum_rub  delta_total_sum_%\n",
              "0     166377           B  ...               739.0               24.2\n",
              "4     166406           B  ...               894.8               36.3\n",
              "5     166407           A  ...              3967.3               67.9\n",
              "6     166428           B  ...              1000.0               47.6\n",
              "8     166485           B  ...               487.0               12.9\n",
              "..       ...         ...  ...                 ...                ...\n",
              "235   168500           B  ...              1000.0               47.6\n",
              "237   168562           B  ...              1000.0               47.6\n",
              "239   168579           B  ...              1000.0               45.5\n",
              "240   168583           B  ...              1000.0               45.5\n",
              "243   168603           B  ...               996.8               47.3\n",
              "\n",
              "[111 rows x 7 columns]"
            ]
          },
          "metadata": {},
          "execution_count": 78
        }
      ]
    },
    {
      "cell_type": "markdown",
      "metadata": {
        "id": "4PUg65h3hJFN"
      },
      "source": [
        "получили рабочую таблицу по направлениям улучшения условий клиентов. В следующем пункте рассмотрим её более подробно"
      ]
    },
    {
      "cell_type": "markdown",
      "metadata": {
        "id": "cS5iuYrAhJHz"
      },
      "source": [
        "##4.2) предложения по минимизации падения выручки   <a name=\"revenue_safe\"></a>\n"
      ]
    },
    {
      "cell_type": "code",
      "metadata": {
        "id": "dqhMTUNdhJMG"
      },
      "source": [
        "#df_client_optimal.sample(4)"
      ],
      "execution_count": 79,
      "outputs": []
    },
    {
      "cell_type": "code",
      "metadata": {
        "colab": {
          "base_uri": "https://localhost:8080/"
        },
        "id": "IKwOljhaOpwS",
        "outputId": "7e566392-25cb-4e19-aaaf-778829d014dc"
      },
      "source": [
        "print('сумма выручки на текущем тарифе: {} руб/мес \\nсумма выручки при оптимальных тарифах: {} руб/мес \\nпадение: {} %'.format( \n",
        "    df_client_optimal['total_sum'].sum() \n",
        "    ,df_client_optimal['total_sum_optimum'].sum()  \n",
        "    ,round(100*(df_client_optimal['total_sum'].sum() / df_client_optimal['total_sum_optimum'].sum() -1 ) , 1)\n",
        "     ))\n",
        "\n",
        "graf_for_present = df_client_optimal[['total_sum', 'total_sum_optimum']]"
      ],
      "execution_count": 80,
      "outputs": [
        {
          "output_type": "stream",
          "name": "stdout",
          "text": [
            "сумма выручки на текущем тарифе: 605041.9 руб/мес \n",
            "сумма выручки при оптимальных тарифах: 427050.6 руб/мес \n",
            "падение: 41.7 %\n"
          ]
        }
      ]
    },
    {
      "cell_type": "markdown",
      "metadata": {
        "id": "sp9b75lMOkHf"
      },
      "source": [
        "В связи с тем, что мы работаем с юр лицами, то предлагать для конкретного лица полу- оптимальный тариф нет смысла и даже вредно (если клиенту сообщить, что он работает по неоптимальному варианту- то он сам сможет посчитать свои расхолды и выявить более оптимальный вариант, а т.к. мы сказали полу-правду - наша репутация будет \"подмочена\")\n",
        "\n",
        "* Для уменьшения суммы падения выручки мы можем предложить клиентам за некое вознаграждение предоставлять отчёт об их тратах и возможностях по оптимизации, что в конечном случае даст нам репутационные доходы и сможет привлеч дополнительных клиентов (т.е. дополнительные доходы)"
      ]
    },
    {
      "cell_type": "code",
      "metadata": {
        "colab": {
          "base_uri": "https://localhost:8080/",
          "height": 174
        },
        "id": "_UXFzl-tOkJ2",
        "outputId": "5a9fd2b5-f6ae-4a67-eeaf-3cb83e86a92e"
      },
      "source": [
        "df_client_optimal['have_optimum_tarif'] = df_client_optimal['have_optimum_tarif'].astype('bool')\n",
        "#df_client_optimal.info()\n",
        "df_client_optimal.groupby('tariff_plan').agg({'user_id' : 'count' , 'have_optimum_tarif' : 'mean'}).rename(columns = {'user_id' : 'count_user_tarif' , 'have_optimum_tarif' : 'part_client_to_optimaze'})"
      ],
      "execution_count": 81,
      "outputs": [
        {
          "output_type": "execute_result",
          "data": {
            "text/html": [
              "<div>\n",
              "<style scoped>\n",
              "    .dataframe tbody tr th:only-of-type {\n",
              "        vertical-align: middle;\n",
              "    }\n",
              "\n",
              "    .dataframe tbody tr th {\n",
              "        vertical-align: top;\n",
              "    }\n",
              "\n",
              "    .dataframe thead th {\n",
              "        text-align: right;\n",
              "    }\n",
              "</style>\n",
              "<table border=\"1\" class=\"dataframe\">\n",
              "  <thead>\n",
              "    <tr style=\"text-align: right;\">\n",
              "      <th></th>\n",
              "      <th>count_user_tarif</th>\n",
              "      <th>part_client_to_optimaze</th>\n",
              "    </tr>\n",
              "    <tr>\n",
              "      <th>tariff_plan</th>\n",
              "      <th></th>\n",
              "      <th></th>\n",
              "    </tr>\n",
              "  </thead>\n",
              "  <tbody>\n",
              "    <tr>\n",
              "      <th>A</th>\n",
              "      <td>28</td>\n",
              "      <td>0.964286</td>\n",
              "    </tr>\n",
              "    <tr>\n",
              "      <th>B</th>\n",
              "      <td>86</td>\n",
              "      <td>0.976744</td>\n",
              "    </tr>\n",
              "    <tr>\n",
              "      <th>C</th>\n",
              "      <td>131</td>\n",
              "      <td>0.000000</td>\n",
              "    </tr>\n",
              "  </tbody>\n",
              "</table>\n",
              "</div>"
            ],
            "text/plain": [
              "             count_user_tarif  part_client_to_optimaze\n",
              "tariff_plan                                           \n",
              "A                          28                 0.964286\n",
              "B                          86                 0.976744\n",
              "C                         131                 0.000000"
            ]
          },
          "metadata": {},
          "execution_count": 81
        }
      ]
    },
    {
      "cell_type": "markdown",
      "metadata": {
        "id": "e2e2pYfLOkOD"
      },
      "source": [
        "как можем увидеть из таблицы выше группу клиентов с тарифом \"С\" (135 шт) опимизировать не надо, в то время, как группу \"А\" (30 шт) и \"В\"(96 шт) можно прооптимизировать почти в полном составе. Но учитывая, что нам жедательно как-то уменьшить свои потери (хотя-бы в будущем) то целесообразно предлагать оптиизацию не всем клиентам. \n",
        "\n",
        "* Как говорилось ранее: группа \"А\" вероятно - начинающие организации, которые хотят иметь бурный рост. Соответсвенно в дальнейшем они либо развалятся (что полностью нивелирует уменьшить наши потери от них (нет звонков-нет доходов (так же ка кнет и недополученных доходов), либо они смогут завоевать определённую долю рынка, и соответсвенно будут уже более стабильной и долгоиграющей компанией. В этом случае нам очень важна лояльность таких клиентов (превращение в долгосрочного партнёра), что на длинной дистанции сможет нам покрыть упущенную выгоду понесённую в данный момент. Для расчёта дистанции- необхдимо провести исследование по динамике появления и оттока клиентов в разрезе их развития.\n",
        "\n",
        "ниже покажем упущенную вгоду, если оптимизировать только группу \"А\""
      ]
    },
    {
      "cell_type": "code",
      "metadata": {
        "colab": {
          "base_uri": "https://localhost:8080/"
        },
        "id": "Uf9HunyDTnjb",
        "outputId": "0a7be220-6dfd-42f6-b7f2-fc8edc9692e0"
      },
      "source": [
        "df_client_optimal['search_sum'] = df_client_optimal['total_sum']\n",
        "df_client_optimal.loc[ (df_client_optimal['tariff_plan'] == 'A') & (df_client_optimal['have_optimum_tarif'] == True) , 'search_sum'] = df_client_optimal['total_sum_optimum']\n",
        "\n",
        "print('сумма выручки на текущем тарифе: {} руб/мес \\nсумма выручки при оптимизированных(для группы А) тарифах: {} руб/мес \\nпадение: {} %'.format( \n",
        "    df_client_optimal['total_sum'].sum() \n",
        "    ,df_client_optimal['search_sum'].sum()  \n",
        "    ,round(100*(df_client_optimal['total_sum'].sum() / df_client_optimal['search_sum'].sum() -1 ) , 1)\n",
        "     ))\n",
        "\n",
        "graf_for_present['search_sum'] = df_client_optimal['search_sum']"
      ],
      "execution_count": 82,
      "outputs": [
        {
          "output_type": "stream",
          "name": "stdout",
          "text": [
            "сумма выручки на текущем тарифе: 605041.9 руб/мес \n",
            "сумма выручки при оптимизированных(для группы А) тарифах: 505236.0 руб/мес \n",
            "падение: 19.8 %\n"
          ]
        },
        {
          "output_type": "stream",
          "name": "stderr",
          "text": [
            "/usr/local/lib/python3.7/dist-packages/ipykernel_launcher.py:10: SettingWithCopyWarning: \n",
            "A value is trying to be set on a copy of a slice from a DataFrame.\n",
            "Try using .loc[row_indexer,col_indexer] = value instead\n",
            "\n",
            "See the caveats in the documentation: https://pandas.pydata.org/pandas-docs/stable/user_guide/indexing.html#returning-a-view-versus-a-copy\n",
            "  # Remove the CWD from sys.path while we load stuff.\n"
          ]
        }
      ]
    },
    {
      "cell_type": "markdown",
      "metadata": {
        "id": "phuyChdBYaEH"
      },
      "source": [
        "В случае оптимизации только по группе \"А\" мы потеряем только 19% мгновеенной выручки, в то время как при полной оптимизации- мы теряем 42% выручки"
      ]
    },
    {
      "cell_type": "markdown",
      "metadata": {
        "id": "j-QrCKMLYaHJ"
      },
      "source": [
        "#5) проверка гипотез   <a name=\"gipotes_start\"></a>\n",
        "\n",
        "\n"
      ]
    },
    {
      "cell_type": "code",
      "metadata": {
        "id": "itP4MOwVVui2"
      },
      "source": [
        "#df_client_optimal.sample(3)"
      ],
      "execution_count": 83,
      "outputs": []
    },
    {
      "cell_type": "markdown",
      "metadata": {
        "id": "yKwHiHA9Vula"
      },
      "source": [
        "При проверке гипотез будем считать, что клиенты независимы друг от друга и не пользуются услугами друг друга по отношению к предаставляемыми нами услугами. Уровень доверия (альфа) примем общепризнаным (95%), т.к. нас в конечном счёте интересуют достаточно-точные предсказания (отброси уровень доверия 68%), но стремится к уровю доверия, используемому при принятии решений в задачах с высокой ответственностью (например, медицина) не будем (отбросим уровень доверия 99%)"
      ]
    },
    {
      "cell_type": "code",
      "metadata": {
        "id": "8JK5J3KsaM-a"
      },
      "source": [
        "alpha = 0.05"
      ],
      "execution_count": 84,
      "outputs": []
    },
    {
      "cell_type": "markdown",
      "metadata": {
        "id": "7zaMEtG8Vupy"
      },
      "source": [
        "##5.1) при оптимизации тарифов в пользу клиентов выручка уменьшится   <a name=\"gipotes_revenue_minimaze\"></a>\n",
        "\n"
      ]
    },
    {
      "cell_type": "markdown",
      "metadata": {
        "id": "regVD4zcW1lK"
      },
      "source": [
        "Для сравнения будем испольщовать ttest для зависимых выборок (т.к. мы применяем изменения к самой выборке)\n",
        "* Нулевая гипотеза (H0)- средние значения выручки по тарифам до оптимизации тарифов и после оптимизации равны\n",
        "* Альтернативная гипотеза (Н1)- средние значения выручки различаются после проведения оптимизации"
      ]
    },
    {
      "cell_type": "code",
      "metadata": {
        "colab": {
          "base_uri": "https://localhost:8080/"
        },
        "id": "eDAfZSiGW1ta",
        "outputId": "a680978b-aa8f-45ef-eee9-c223233bb27b"
      },
      "source": [
        "result_1 = st.ttest_rel(\n",
        "    df_client_optimal['total_sum']\n",
        "    , df_client_optimal['total_sum_optimum']\n",
        ")\n",
        "\n",
        "print('p-значение: ', result_1.pvalue )\n",
        "\n",
        "if result_1.pvalue < alpha:\n",
        "  print('у выборок есть стат различие. Принимаем гипотезу Н1')\n",
        "else:\n",
        "  print('у выборок нет статистички значимого различия при уровне доверия Р=95%')"
      ],
      "execution_count": 85,
      "outputs": [
        {
          "output_type": "stream",
          "name": "stdout",
          "text": [
            "p-значение:  1.137469339861597e-19\n",
            "у выборок есть стат различие. Принимаем гипотезу Н1\n"
          ]
        }
      ]
    },
    {
      "cell_type": "markdown",
      "metadata": {
        "id": "U-SwEwFNW116"
      },
      "source": [
        "Как показал ттест - есть различия в доходе. Как показали исследования выше- при оптимизации тарифов- итоговая Наша выручка падает. Впринципе, ожидаемый результат"
      ]
    },
    {
      "cell_type": "markdown",
      "metadata": {
        "id": "JyTZHTaeW16l"
      },
      "source": [
        "##5.2) распределения направлений звонков между группами отличаются   <a name=\"gipotes_cals_back\"></a>\n",
        "\n"
      ]
    },
    {
      "cell_type": "code",
      "metadata": {
        "id": "6EUL1XDmW6gm"
      },
      "source": [
        "#df_full_data_active_client.sample(3)"
      ],
      "execution_count": 86,
      "outputs": []
    },
    {
      "cell_type": "markdown",
      "metadata": {
        "id": "yySJmdBofi8d"
      },
      "source": [
        "Для сравнения будем испольщовать ztest  (т.к. мы работаем с бимодальным распределением)\n",
        "* Нулевая гипотеза (H0)- направления звонков похожи у разных групп у нашй выборки клиентов в 11 месяце\n",
        "* Альтернативная гипотеза (Н1)- направления звонков различаются у разных групп у нашй выборки клиентов в 11 месяце"
      ]
    },
    {
      "cell_type": "code",
      "metadata": {
        "id": "CO3r0eTQW6oz"
      },
      "source": [
        "#подготовим рабочую таблицу\n",
        "df_full_data_active_client_rab = df_full_data_active_client.copy()\n",
        "df_full_data_active_client_rab = df_full_data_active_client_rab[ df_full_data_active_client_rab['month_count'] == 11 ]\n",
        "df_full_data_active_client_rab.loc[ df_full_data_active_client_rab['direction'] == 'in' , 'direction' ] = 1\n",
        "df_full_data_active_client_rab.loc[ df_full_data_active_client_rab['direction'] == 'out' , 'direction' ] = 0\n",
        "\n",
        "#df_full_data_active_client_rab.sample(5)"
      ],
      "execution_count": 87,
      "outputs": []
    },
    {
      "cell_type": "code",
      "metadata": {
        "colab": {
          "base_uri": "https://localhost:8080/"
        },
        "id": "_9vGqt5GW6ri",
        "outputId": "25e8c471-143a-4580-fd32-0a294dc3e51c"
      },
      "source": [
        "print('\\nсравниваем клиентов с тарифами \"А\" и \"В\":')\n",
        "result_2_A_B = ztest(\n",
        "    df_full_data_active_client_rab[ df_full_data_active_client_rab['tariff_plan'] == 'A' ]['direction']\n",
        "    , df_full_data_active_client_rab[ df_full_data_active_client_rab['tariff_plan'] == 'B' ]['direction']\n",
        "    ,\n",
        ")\n",
        "\n",
        "print('p-значение: ', result_2_A_B[1] )\n",
        "\n",
        "if result_2_A_B[1] < alpha:\n",
        "  print('у выборок есть стат различие. Принимаем гипотезу Н1')\n",
        "else:\n",
        "  print('у выборок нет статистички значимого различия при уровне доверия Р=95%')\n",
        "\n",
        "print('доля входящих для А:', round(df_full_data_active_client_rab[ df_full_data_active_client_rab['tariff_plan'] == 'A' ]['direction'].mean(), 2))\n",
        "print('доля входящих для B:', round(df_full_data_active_client_rab[ df_full_data_active_client_rab['tariff_plan'] == 'B' ]['direction'].mean(), 2))\n",
        "\n",
        "print('\\nсравниваем клиентов с тарифами \"А\" и \"С\":')\n",
        "result_2_A_C = ztest(\n",
        "    df_full_data_active_client_rab[ df_full_data_active_client_rab['tariff_plan'] == 'A' ]['direction']\n",
        "    , df_full_data_active_client_rab[ df_full_data_active_client_rab['tariff_plan'] == 'C' ]['direction']\n",
        "    ,\n",
        ")\n",
        "print('p-значение: ', result_2_A_C[1] )\n",
        "\n",
        "if result_2_A_C[1] < alpha:\n",
        "  print('у выборок есть стат различие. Принимаем гипотезу Н1')\n",
        "else:\n",
        "  print('у выборок нет статистички значимого различия при уровне доверия Р=95%')\n",
        "\n",
        "print('доля входящих для А:', round(df_full_data_active_client_rab[ df_full_data_active_client_rab['tariff_plan'] == 'A' ]['direction'].mean(), 2))\n",
        "print('доля входящих для C:', round(df_full_data_active_client_rab[ df_full_data_active_client_rab['tariff_plan'] == 'C' ]['direction'].mean(), 2))\n",
        "\n",
        "\n",
        "\n",
        "print('\\nсравниваем клиентов с тарифами \"C\" и \"В\":')\n",
        "result_2_C_B = ztest(\n",
        "    df_full_data_active_client_rab[ df_full_data_active_client_rab['tariff_plan'] == 'C' ]['direction']\n",
        "    , df_full_data_active_client_rab[ df_full_data_active_client_rab['tariff_plan'] == 'B' ]['direction']\n",
        "    ,\n",
        ")\n",
        "\n",
        "print('p-значение: ', result_2_C_B[1] )\n",
        "\n",
        "if result_2_C_B[1] < alpha:\n",
        "  print('у выборок есть стат различие. Принимаем гипотезу Н1')\n",
        "else:\n",
        "  print('у выборок нет статистички значимого различия при уровне доверия Р=95%')\n",
        "\n",
        "print('доля входящих для C:', round(df_full_data_active_client_rab[ df_full_data_active_client_rab['tariff_plan'] == 'C' ]['direction'].mean(), 2))\n",
        "print('доля входящих для B:', round(df_full_data_active_client_rab[ df_full_data_active_client_rab['tariff_plan'] == 'B' ]['direction'].mean(), 2))\n"
      ],
      "execution_count": 88,
      "outputs": [
        {
          "output_type": "stream",
          "name": "stdout",
          "text": [
            "\n",
            "сравниваем клиентов с тарифами \"А\" и \"В\":\n",
            "p-значение:  2.0749268655153674e-32\n",
            "у выборок есть стат различие. Принимаем гипотезу Н1\n",
            "доля входящих для А: 0.33\n",
            "доля входящих для B: 0.42\n",
            "\n",
            "сравниваем клиентов с тарифами \"А\" и \"С\":\n",
            "p-значение:  8.748051648867755e-84\n",
            "у выборок есть стат различие. Принимаем гипотезу Н1\n",
            "доля входящих для А: 0.33\n",
            "доля входящих для C: 0.48\n",
            "\n",
            "сравниваем клиентов с тарифами \"C\" и \"В\":\n",
            "p-значение:  2.380544348925146e-13\n",
            "у выборок есть стат различие. Принимаем гипотезу Н1\n",
            "доля входящих для C: 0.48\n",
            "доля входящих для B: 0.42\n"
          ]
        }
      ]
    },
    {
      "cell_type": "markdown",
      "metadata": {
        "id": "QkNKOXIUsvfw"
      },
      "source": [
        "можем сказать что направление звонков у клиентов с разными тарифами отличается. Данный факт можно учесть при расчёте рентабильности тарифа и при постраении новых тарифов"
      ]
    },
    {
      "cell_type": "markdown",
      "metadata": {
        "id": "GHwFO2wHW6v7"
      },
      "source": [
        "##5.3) сравнение доминирующих операторов по группам   <a name=\"gipotes_operator\"></a>\n",
        "\n"
      ]
    },
    {
      "cell_type": "code",
      "metadata": {
        "id": "WR99UYS8W_y7"
      },
      "source": [
        "#df_full_data_active_client.sample(3)"
      ],
      "execution_count": 89,
      "outputs": []
    },
    {
      "cell_type": "markdown",
      "metadata": {
        "id": "-aD9nJhRW_1V"
      },
      "source": [
        "для сравнения частот выпадания операторов- воспользуемся непараметрическим тестом. В качестве алгоритма возьмём тест Манна-Уитни. \n",
        "\n",
        "подготовим данные для сравнения (сравнение делаем тлько по 11 месяцу):"
      ]
    },
    {
      "cell_type": "markdown",
      "metadata": {
        "id": "Vg35ONKj3-U6"
      },
      "source": [
        "Для сравнения будем испольщовать  mannwhitneyu test  (т.к. мы работаем с частотным выпадением значений)\n",
        "* Нулевая гипотеза (H0)- распределение по используемым операторам похожи у разных групп у нашей выборки клиентов в 11 месяце\n",
        "* Альтернативная гипотеза (Н1)- распределение по используемым операторам различаются у разных групп у нашй выборки клиентов в 11 месяце"
      ]
    },
    {
      "cell_type": "code",
      "metadata": {
        "id": "EFdUSloO3-U7"
      },
      "source": [
        "#подготовим рабочую таблицу\n",
        "df_full_data_active_client_rab_2 = df_full_data_active_client.copy()\n",
        "df_full_data_active_client_rab_2 = df_full_data_active_client_rab_2[ df_full_data_active_client_rab_2['month_count'] == 11 ]\n",
        "\n",
        "#поменяем тип у столбца с номером оператора (чтобы алгоритм не взял их за числовые значения и отработал по частотной хар-ке)\n",
        "df_full_data_active_client_rab_2['operator_id'] = df_full_data_active_client_rab_2['operator_id'].astype('object')\n",
        "\n",
        "#df_full_data_active_client_rab_2.info()"
      ],
      "execution_count": 90,
      "outputs": []
    },
    {
      "cell_type": "code",
      "metadata": {
        "colab": {
          "base_uri": "https://localhost:8080/"
        },
        "id": "mn2MGnJ1W_5z",
        "outputId": "79244928-4632-491d-e199-d3292c79886a"
      },
      "source": [
        "print('\\nсравниваем клиентов с тарифами \"А\" и \"В\":')\n",
        "reult_3_A_B = mannwhitneyu(\n",
        "    df_full_data_active_client_rab[ df_full_data_active_client_rab['tariff_plan'] == 'A' ]['operator_id']\n",
        "    , df_full_data_active_client_rab[ df_full_data_active_client_rab['tariff_plan'] == 'B' ]['operator_id']\n",
        "    , alternative =  'two-sided'\n",
        ")\n",
        "\n",
        "print('p-значение: ', reult_3_A_B.pvalue )\n",
        "\n",
        "if reult_3_A_B.pvalue < alpha:\n",
        "  print('у выборок есть стат различие. Принимаем гипотезу Н1')\n",
        "else:\n",
        "  print('у выборок нет статистички значимого различия при уровне доверия Р=95%')\n",
        "\n",
        "print('\\nсравниваем клиентов с тарифами \"А\" и \"C\":')\n",
        "reult_3_A_C = mannwhitneyu(\n",
        "    df_full_data_active_client_rab[ df_full_data_active_client_rab['tariff_plan'] == 'A' ]['operator_id']\n",
        "    , df_full_data_active_client_rab[ df_full_data_active_client_rab['tariff_plan'] == 'C' ]['operator_id']\n",
        "    , alternative =  'two-sided'\n",
        ")\n",
        "\n",
        "print('p-значение: ', reult_3_A_C.pvalue )\n",
        "\n",
        "if reult_3_A_C.pvalue < alpha:\n",
        "  print('у выборок есть стат различие. Принимаем гипотезу Н1')\n",
        "else:\n",
        "  print('у выборок нет статистички значимого различия при уровне доверия Р=95%')\n",
        "\n",
        "print('\\nсравниваем клиентов с тарифами \"C\" и \"В\":')\n",
        "reult_3_C_B = mannwhitneyu(\n",
        "    df_full_data_active_client_rab[ df_full_data_active_client_rab['tariff_plan'] == 'C' ]['operator_id']\n",
        "    , df_full_data_active_client_rab[ df_full_data_active_client_rab['tariff_plan'] == 'B' ]['operator_id']\n",
        "    , alternative =  'two-sided'\n",
        ")\n",
        "\n",
        "print('p-значение: ', reult_3_C_B.pvalue )\n",
        "\n",
        "if reult_3_C_B.pvalue < alpha:\n",
        "  print('у выборок есть стат различие. Принимаем гипотезу Н1')\n",
        "else:\n",
        "  print('у выборок нет статистички значимого различия при уровне доверия Р=95%')"
      ],
      "execution_count": 91,
      "outputs": [
        {
          "output_type": "stream",
          "name": "stdout",
          "text": [
            "\n",
            "сравниваем клиентов с тарифами \"А\" и \"В\":\n",
            "p-значение:  1.4828483166946804e-229\n",
            "у выборок есть стат различие. Принимаем гипотезу Н1\n",
            "\n",
            "сравниваем клиентов с тарифами \"А\" и \"C\":\n",
            "p-значение:  3.09260242853878e-287\n",
            "у выборок есть стат различие. Принимаем гипотезу Н1\n",
            "\n",
            "сравниваем клиентов с тарифами \"C\" и \"В\":\n",
            "p-значение:  0.0006967176810883302\n",
            "у выборок есть стат различие. Принимаем гипотезу Н1\n"
          ]
        }
      ]
    },
    {
      "cell_type": "markdown",
      "metadata": {
        "id": "ol8n08bKW19G"
      },
      "source": [
        "как можем увидеть- распределения по исользуемым операторам у разных групп отличаются. При необходимости оптимизации работ с операторами, можно провести дополнительное исследование и несколько оптимизировать расходы на сотрудничество с операторами"
      ]
    },
    {
      "cell_type": "markdown",
      "metadata": {
        "id": "nkLwbbKmVurt"
      },
      "source": [
        "#выводы  <a name=\"concusions\"></a>\n",
        "\n"
      ]
    },
    {
      "cell_type": "code",
      "metadata": {
        "colab": {
          "base_uri": "https://localhost:8080/"
        },
        "id": "PUd03KzM8Rxm",
        "outputId": "6de5b6a2-676e-4777-abbc-d5058bae1ffa"
      },
      "source": [
        "print('сумма выручки на текущем тарифе: {} руб/мес \\nсумма выручки при оптимальных тарифах: {} руб/мес \\nпадение: {} %'.format( \n",
        "    df_client_optimal['total_sum'].sum() \n",
        "    ,df_client_optimal['total_sum_optimum'].sum()  \n",
        "    ,round(100*(df_client_optimal['total_sum'].sum() / df_client_optimal['total_sum_optimum'].sum() -1 ) , 1)\n",
        "     ))\n"
      ],
      "execution_count": 92,
      "outputs": [
        {
          "output_type": "stream",
          "name": "stdout",
          "text": [
            "сумма выручки на текущем тарифе: 605041.9 руб/мес \n",
            "сумма выручки при оптимальных тарифах: 427050.6 руб/мес \n",
            "падение: 41.7 %\n"
          ]
        }
      ]
    },
    {
      "cell_type": "code",
      "metadata": {
        "colab": {
          "base_uri": "https://localhost:8080/"
        },
        "id": "x5f7uimbHMk2",
        "outputId": "237d0634-9fd6-4c13-9860-66a58627eae0"
      },
      "source": [
        "print('сумма выручки на текущем тарифе: {} руб/мес \\nсумма выручки при оптимизированных(для группы А) тарифах: {} руб/мес \\nпадение: {} %'.format( \n",
        "    df_client_optimal['total_sum'].sum() \n",
        "    ,df_client_optimal['search_sum'].sum()  \n",
        "    ,round(100*(df_client_optimal['total_sum'].sum() / df_client_optimal['search_sum'].sum() -1 ) , 1)\n",
        "     ))"
      ],
      "execution_count": 93,
      "outputs": [
        {
          "output_type": "stream",
          "name": "stdout",
          "text": [
            "сумма выручки на текущем тарифе: 605041.9 руб/мес \n",
            "сумма выручки при оптимизированных(для группы А) тарифах: 505236.0 руб/мес \n",
            "падение: 19.8 %\n"
          ]
        }
      ]
    },
    {
      "cell_type": "code",
      "metadata": {
        "colab": {
          "base_uri": "https://localhost:8080/",
          "height": 192
        },
        "id": "nqTByJPvFmJ9",
        "outputId": "92d99dda-b393-4746-d678-2bda0386108d"
      },
      "source": [
        "print('медианная абсолютная стоимость минуты разговора для клиентов в разрезе тарифов:')\n",
        "df_rab_rab['rub/min'].to_frame()"
      ],
      "execution_count": 94,
      "outputs": [
        {
          "output_type": "stream",
          "name": "stdout",
          "text": [
            "медианная абсолютная стоимость минуты разговора для клиентов в разрезе тарифов:\n"
          ]
        },
        {
          "output_type": "execute_result",
          "data": {
            "text/html": [
              "<div>\n",
              "<style scoped>\n",
              "    .dataframe tbody tr th:only-of-type {\n",
              "        vertical-align: middle;\n",
              "    }\n",
              "\n",
              "    .dataframe tbody tr th {\n",
              "        vertical-align: top;\n",
              "    }\n",
              "\n",
              "    .dataframe thead th {\n",
              "        text-align: right;\n",
              "    }\n",
              "</style>\n",
              "<table border=\"1\" class=\"dataframe\">\n",
              "  <thead>\n",
              "    <tr style=\"text-align: right;\">\n",
              "      <th></th>\n",
              "      <th>rub/min</th>\n",
              "    </tr>\n",
              "    <tr>\n",
              "      <th>tariff_plan</th>\n",
              "      <th></th>\n",
              "    </tr>\n",
              "  </thead>\n",
              "  <tbody>\n",
              "    <tr>\n",
              "      <th>A</th>\n",
              "      <td>66.709756</td>\n",
              "    </tr>\n",
              "    <tr>\n",
              "      <th>B</th>\n",
              "      <td>49.661290</td>\n",
              "    </tr>\n",
              "    <tr>\n",
              "      <th>C</th>\n",
              "      <td>40.000000</td>\n",
              "    </tr>\n",
              "  </tbody>\n",
              "</table>\n",
              "</div>"
            ],
            "text/plain": [
              "               rub/min\n",
              "tariff_plan           \n",
              "A            66.709756\n",
              "B            49.661290\n",
              "C            40.000000"
            ]
          },
          "metadata": {},
          "execution_count": 94
        }
      ]
    },
    {
      "cell_type": "markdown",
      "metadata": {
        "id": "2dT3wYl-8R0e"
      },
      "source": [
        "\n",
        "В связи с тем, что мы работаем с юр лицами, то предлагать для конкретного лица полу- оптимальный тариф нет смысла и даже вредно (если клиенту сообщить, что он работает по неоптимальному варианту- то он сам сможет посчитать свои расхолды и выявить более оптимальный вариант, а т.к. мы сказали полу-правду - наша репутация будет \"подмочена\")\n",
        "* Для уменьшения суммы падения выручки мы можем предложить клиентам за некое вознаграждение предоставлять отчёт об их тратах и возможностях по оптимизации, что в конечном случае даст нам репутационные доходы и сможет привлеч дополнительных клиентов (т.е. дополнительные доходы)\n",
        "\n",
        "* группа \"А\" вероятно - начинающие организации, которые хотят иметь бурный рост. Соответсвенно в дальнейшем они либо развалятся (что полностью нивелирует уменьшить наши потери от них (нет звонков-нет доходов (так же ка кнет и недополученных доходов), либо они смогут завоевать определённую долю рынка, и соответсвенно будут уже более стабильной и долгоиграющей компанией. В этом случае нам очень важна лояльность таких клиентов (превращение в долгосрочного партнёра), что на длинной дистанции сможет нам покрыть упущенную выгоду понесённую в данный момент.\n",
        "\n"
      ]
    },
    {
      "cell_type": "markdown",
      "metadata": {
        "id": "vo7Ww3lj8R2w"
      },
      "source": [
        "так же получили список всех клиентов (по 11 месяцу) которым можно предложить оптимизацию\n"
      ]
    },
    {
      "cell_type": "code",
      "metadata": {
        "colab": {
          "base_uri": "https://localhost:8080/",
          "height": 206
        },
        "id": "UL36XxkuJJ3f",
        "outputId": "4255ed0e-126a-4242-cfb6-b78ca2d20fbd"
      },
      "source": [
        "df_client_optimal_rab.head()"
      ],
      "execution_count": 95,
      "outputs": [
        {
          "output_type": "execute_result",
          "data": {
            "text/html": [
              "<div>\n",
              "<style scoped>\n",
              "    .dataframe tbody tr th:only-of-type {\n",
              "        vertical-align: middle;\n",
              "    }\n",
              "\n",
              "    .dataframe tbody tr th {\n",
              "        vertical-align: top;\n",
              "    }\n",
              "\n",
              "    .dataframe thead th {\n",
              "        text-align: right;\n",
              "    }\n",
              "</style>\n",
              "<table border=\"1\" class=\"dataframe\">\n",
              "  <thead>\n",
              "    <tr style=\"text-align: right;\">\n",
              "      <th></th>\n",
              "      <th>user_id</th>\n",
              "      <th>tariff_plan</th>\n",
              "      <th>optimum_tarif</th>\n",
              "      <th>total_sum</th>\n",
              "      <th>total_sum_optimum</th>\n",
              "      <th>delta_total_sum_rub</th>\n",
              "      <th>delta_total_sum_%</th>\n",
              "    </tr>\n",
              "  </thead>\n",
              "  <tbody>\n",
              "    <tr>\n",
              "      <th>0</th>\n",
              "      <td>166377</td>\n",
              "      <td>B</td>\n",
              "      <td>C</td>\n",
              "      <td>3052.5</td>\n",
              "      <td>2313.5</td>\n",
              "      <td>739.0</td>\n",
              "      <td>24.2</td>\n",
              "    </tr>\n",
              "    <tr>\n",
              "      <th>4</th>\n",
              "      <td>166406</td>\n",
              "      <td>B</td>\n",
              "      <td>C</td>\n",
              "      <td>2463.0</td>\n",
              "      <td>1568.2</td>\n",
              "      <td>894.8</td>\n",
              "      <td>36.3</td>\n",
              "    </tr>\n",
              "    <tr>\n",
              "      <th>5</th>\n",
              "      <td>166407</td>\n",
              "      <td>A</td>\n",
              "      <td>C</td>\n",
              "      <td>5843.6</td>\n",
              "      <td>1876.3</td>\n",
              "      <td>3967.3</td>\n",
              "      <td>67.9</td>\n",
              "    </tr>\n",
              "    <tr>\n",
              "      <th>6</th>\n",
              "      <td>166428</td>\n",
              "      <td>B</td>\n",
              "      <td>C</td>\n",
              "      <td>2100.0</td>\n",
              "      <td>1100.0</td>\n",
              "      <td>1000.0</td>\n",
              "      <td>47.6</td>\n",
              "    </tr>\n",
              "    <tr>\n",
              "      <th>8</th>\n",
              "      <td>166485</td>\n",
              "      <td>B</td>\n",
              "      <td>C</td>\n",
              "      <td>3782.5</td>\n",
              "      <td>3295.5</td>\n",
              "      <td>487.0</td>\n",
              "      <td>12.9</td>\n",
              "    </tr>\n",
              "  </tbody>\n",
              "</table>\n",
              "</div>"
            ],
            "text/plain": [
              "   user_id tariff_plan  ... delta_total_sum_rub  delta_total_sum_%\n",
              "0   166377           B  ...               739.0               24.2\n",
              "4   166406           B  ...               894.8               36.3\n",
              "5   166407           A  ...              3967.3               67.9\n",
              "6   166428           B  ...              1000.0               47.6\n",
              "8   166485           B  ...               487.0               12.9\n",
              "\n",
              "[5 rows x 7 columns]"
            ]
          },
          "metadata": {},
          "execution_count": 95
        }
      ]
    },
    {
      "cell_type": "markdown",
      "metadata": {
        "id": "zmoRopnp8R40"
      },
      "source": [
        "Можем предположить, что самый перспективный для развития отношений клиент с тарифом \"А\" - начинающее малое предприятие с потенциалом к росту\n",
        "\n",
        "В среднем клиент \"А\" приносит больше денег чем остальные клиенты, при этом это самая малочисленная группа. Большинство клиентов работают с людьми (судя по времени ожидания звонков), а не в автоматизированных системах"
      ]
    },
    {
      "cell_type": "markdown",
      "metadata": {
        "id": "dI2uNhCM8R7_"
      },
      "source": [
        "#алгоритм для авто расчёта  <a name=\"auto_algo\"></a>\n",
        "\n",
        "\n"
      ]
    },
    {
      "cell_type": "markdown",
      "metadata": {
        "id": "xhrALaoW8R9_"
      },
      "source": [
        "на вход применяются только очищенные и поготовленные данные"
      ]
    },
    {
      "cell_type": "markdown",
      "metadata": {
        "id": "F4ch1GKHLyGO"
      },
      "source": [
        "* отделение активных клиентов производится ф-цией active_client_detector\n",
        "* построение графика выручки в разрезе тарифов строим ф-цией boxplot_sum_stroy, а динамику изменения суммарного дохода по месяцам в разрезе групп: boxplot_sum_story_stroy \n",
        "* распределение времени ожидания в разрезе тарифов строится ф-ций boxplot_sum_stroy\n",
        "* поиск отимума для клиентов ищем ф-цией searc_optimum_tarif\n",
        "\n"
      ]
    },
    {
      "cell_type": "markdown",
      "metadata": {
        "id": "mR9v10Pb4Lwp"
      },
      "source": [
        "выгрузим подготовленные данные для размещения их в Tableau Public:\n"
      ]
    },
    {
      "cell_type": "code",
      "metadata": {
        "colab": {
          "base_uri": "https://localhost:8080/",
          "height": 17
        },
        "id": "kH8u_Z_F4UlP",
        "outputId": "c5f0ac7b-ad38-42ca-bd41-8a5c992c8eb6"
      },
      "source": [
        "try:\n",
        "    from google.colab import files\n",
        "    df_full_data_active_client.to_csv('da_23_telecom_data_for_tableau.csv')\n",
        "    files.download('da_23_telecom_data_for_tableau.csv')\n",
        "except:\n",
        "    print('не та среда...')"
      ],
      "execution_count": 96,
      "outputs": [
        {
          "output_type": "display_data",
          "data": {
            "application/javascript": [
              "\n",
              "    async function download(id, filename, size) {\n",
              "      if (!google.colab.kernel.accessAllowed) {\n",
              "        return;\n",
              "      }\n",
              "      const div = document.createElement('div');\n",
              "      const label = document.createElement('label');\n",
              "      label.textContent = `Downloading \"${filename}\": `;\n",
              "      div.appendChild(label);\n",
              "      const progress = document.createElement('progress');\n",
              "      progress.max = size;\n",
              "      div.appendChild(progress);\n",
              "      document.body.appendChild(div);\n",
              "\n",
              "      const buffers = [];\n",
              "      let downloaded = 0;\n",
              "\n",
              "      const channel = await google.colab.kernel.comms.open(id);\n",
              "      // Send a message to notify the kernel that we're ready.\n",
              "      channel.send({})\n",
              "\n",
              "      for await (const message of channel.messages) {\n",
              "        // Send a message to notify the kernel that we're ready.\n",
              "        channel.send({})\n",
              "        if (message.buffers) {\n",
              "          for (const buffer of message.buffers) {\n",
              "            buffers.push(buffer);\n",
              "            downloaded += buffer.byteLength;\n",
              "            progress.value = downloaded;\n",
              "          }\n",
              "        }\n",
              "      }\n",
              "      const blob = new Blob(buffers, {type: 'application/binary'});\n",
              "      const a = document.createElement('a');\n",
              "      a.href = window.URL.createObjectURL(blob);\n",
              "      a.download = filename;\n",
              "      div.appendChild(a);\n",
              "      a.click();\n",
              "      div.remove();\n",
              "    }\n",
              "  "
            ],
            "text/plain": [
              "<IPython.core.display.Javascript object>"
            ]
          },
          "metadata": {}
        },
        {
          "output_type": "display_data",
          "data": {
            "application/javascript": [
              "download(\"download_2bfe6831-83b5-4a1b-b90e-5cd983631a31\", \"da_23_telecom_data_for_tableau.csv\", 4468322)"
            ],
            "text/plain": [
              "<IPython.core.display.Javascript object>"
            ]
          },
          "metadata": {}
        }
      ]
    },
    {
      "cell_type": "code",
      "metadata": {
        "id": "4gvRLzCF60GX"
      },
      "source": [
        "#df_full_data_active_client.sample(3)"
      ],
      "execution_count": 97,
      "outputs": []
    },
    {
      "cell_type": "code",
      "metadata": {
        "colab": {
          "base_uri": "https://localhost:8080/",
          "height": 112
        },
        "id": "8JZjqAj3GJyS",
        "outputId": "fcede97f-e9c7-4030-cef1-693e5aff867b"
      },
      "source": [
        "(df_full_data_active_client.groupby('direction').agg(\n",
        "    как_на_дашборде = ('calls_count','count'), а_на_самом_деле = ('calls_count','sum')).reset_index())"
      ],
      "execution_count": 98,
      "outputs": [
        {
          "output_type": "execute_result",
          "data": {
            "text/html": [
              "<div>\n",
              "<style scoped>\n",
              "    .dataframe tbody tr th:only-of-type {\n",
              "        vertical-align: middle;\n",
              "    }\n",
              "\n",
              "    .dataframe tbody tr th {\n",
              "        vertical-align: top;\n",
              "    }\n",
              "\n",
              "    .dataframe thead th {\n",
              "        text-align: right;\n",
              "    }\n",
              "</style>\n",
              "<table border=\"1\" class=\"dataframe\">\n",
              "  <thead>\n",
              "    <tr style=\"text-align: right;\">\n",
              "      <th></th>\n",
              "      <th>direction</th>\n",
              "      <th>как_на_дашборде</th>\n",
              "      <th>а_на_самом_деле</th>\n",
              "    </tr>\n",
              "  </thead>\n",
              "  <tbody>\n",
              "    <tr>\n",
              "      <th>0</th>\n",
              "      <td>in</td>\n",
              "      <td>19753</td>\n",
              "      <td>169684</td>\n",
              "    </tr>\n",
              "    <tr>\n",
              "      <th>1</th>\n",
              "      <td>out</td>\n",
              "      <td>26653</td>\n",
              "      <td>501498</td>\n",
              "    </tr>\n",
              "  </tbody>\n",
              "</table>\n",
              "</div>"
            ],
            "text/plain": [
              "  direction  как_на_дашборде  а_на_самом_деле\n",
              "0        in            19753           169684\n",
              "1       out            26653           501498"
            ]
          },
          "metadata": {},
          "execution_count": 98
        }
      ]
    },
    {
      "cell_type": "markdown",
      "metadata": {
        "id": "DugNtGsrGJyS"
      },
      "source": [
        "графики для презентации"
      ]
    },
    {
      "cell_type": "code",
      "metadata": {
        "colab": {
          "base_uri": "https://localhost:8080/"
        },
        "id": "VBkKjaRLGJyS",
        "outputId": "7899c3f6-d31a-4637-ec1a-fa0d6176e0d8"
      },
      "source": [
        "graf_for_present.sum()"
      ],
      "execution_count": 99,
      "outputs": [
        {
          "output_type": "execute_result",
          "data": {
            "text/plain": [
              "total_sum            605041.9\n",
              "total_sum_optimum    427050.6\n",
              "search_sum           505236.0\n",
              "dtype: float64"
            ]
          },
          "metadata": {},
          "execution_count": 99
        }
      ]
    },
    {
      "cell_type": "code",
      "metadata": {
        "colab": {
          "base_uri": "https://localhost:8080/",
          "height": 81
        },
        "id": "ft10FHxkGJyS",
        "outputId": "b2d8419a-b591-4093-dbd5-0300d12923ba"
      },
      "source": [
        "graf_for_present.sample()"
      ],
      "execution_count": 100,
      "outputs": [
        {
          "output_type": "execute_result",
          "data": {
            "text/html": [
              "<div>\n",
              "<style scoped>\n",
              "    .dataframe tbody tr th:only-of-type {\n",
              "        vertical-align: middle;\n",
              "    }\n",
              "\n",
              "    .dataframe tbody tr th {\n",
              "        vertical-align: top;\n",
              "    }\n",
              "\n",
              "    .dataframe thead th {\n",
              "        text-align: right;\n",
              "    }\n",
              "</style>\n",
              "<table border=\"1\" class=\"dataframe\">\n",
              "  <thead>\n",
              "    <tr style=\"text-align: right;\">\n",
              "      <th></th>\n",
              "      <th>total_sum</th>\n",
              "      <th>total_sum_optimum</th>\n",
              "      <th>search_sum</th>\n",
              "    </tr>\n",
              "  </thead>\n",
              "  <tbody>\n",
              "    <tr>\n",
              "      <th>30</th>\n",
              "      <td>1100.0</td>\n",
              "      <td>1100.0</td>\n",
              "      <td>1100.0</td>\n",
              "    </tr>\n",
              "  </tbody>\n",
              "</table>\n",
              "</div>"
            ],
            "text/plain": [
              "    total_sum  total_sum_optimum  search_sum\n",
              "30     1100.0             1100.0      1100.0"
            ]
          },
          "metadata": {},
          "execution_count": 100
        }
      ]
    },
    {
      "cell_type": "code",
      "metadata": {
        "colab": {
          "base_uri": "https://localhost:8080/",
          "height": 549
        },
        "id": "iF6aTNhiGJyS",
        "outputId": "1497439e-c507-4cc7-aa50-c1684a893f11"
      },
      "source": [
        "fig, ax = plt.subplots(nrows = 1, ncols = 1, figsize=(5,7))\n",
        "\n",
        "ax.set_title('выручка по клиентам в последнем месяце' )\n",
        "ax.bar(x= 'без оптимизации' , height= round(graf_for_present['total_sum'].sum()), width =0.2, label='оставшиеся клиенты', align='center', )\n",
        "ax.bar(x= 'полная опимизация' , height= round(graf_for_present['total_sum_optimum'].sum()), width =0.2, label='оставшиеся клиенты', align='center', )\n",
        "ax.bar(x= 'оптимизация тарифа \"А\"' , height= round(graf_for_present['search_sum'].sum()), width =0.2, label='оставшиеся клиенты', align='center', )\n",
        "#ax.bar(x= df_rab_2.index.astype('str') , height= df_rab_2['1'], width =0.2, label='ушедшие клиенты', align='edge',)\n",
        "\n",
        "ax.set_xlabel('подходы к оптимизации тарифов для клиентов')\n",
        "ax.set_ylabel('выручка, руб.')\n",
        "\n",
        "#ax.grid()\n",
        "\n",
        "#ax.legend(loc = locus)\n",
        "\n",
        "plt.xticks(rotation=-45, ha='left')\n",
        "\n",
        "for bar in ax.patches:\n",
        "  ax.annotate(bar.get_height(), \n",
        "                (bar.get_x() + bar.get_width() / 2, \n",
        "                  bar.get_height()), ha='center', va='center',\n",
        "                size=10, xytext=(0, 8),\n",
        "                textcoords='offset points')\n",
        "\n",
        "plt.show()"
      ],
      "execution_count": 101,
      "outputs": [
        {
          "output_type": "display_data",
          "data": {
            "image/png": "[encoded data removed]",
            "text/plain": [
              "<Figure size 360x504 with 1 Axes>"
            ]
          },
          "metadata": {
            "needs_background": "light"
          }
        }
      ]
    },
    {
      "cell_type": "code",
      "metadata": {
        "colab": {
          "base_uri": "https://localhost:8080/",
          "height": 570
        },
        "id": "IACU4OEMGJyT",
        "outputId": "3b433ad3-5a3b-4b83-f297-aeeffecc9e72"
      },
      "source": [
        "df_client_optimal['search_sum'] = df_client_optimal['total_sum']\n",
        "df_client_optimal.loc[ (df_client_optimal['tariff_plan'] == 'A') & (df_client_optimal['have_optimum_tarif'] == True) , 'search_sum'] = df_client_optimal['total_sum_optimum']\n",
        "\n",
        "df_client_optimal['search_sum_B'] = df_client_optimal['total_sum']\n",
        "df_client_optimal.loc[ (df_client_optimal['tariff_plan'] == 'B') & (df_client_optimal['have_optimum_tarif'] == True) , 'search_sum_B'] = df_client_optimal['total_sum_optimum']\n",
        "df_client_optimal.loc[ (df_client_optimal['tariff_plan'] == 'A') & (df_client_optimal['have_optimum_tarif'] == True) , 'search_sum_B']= df_client_optimal['total_sum_optimum']\n",
        "\n",
        "df_client_optimal['search_sum_C'] = df_client_optimal['total_sum']\n",
        "df_client_optimal.loc[ (df_client_optimal['tariff_plan'] == 'C') & (df_client_optimal['have_optimum_tarif'] == True) , 'search_sum_C'] = df_client_optimal['total_sum_optimum']\n",
        "df_client_optimal.loc[ (df_client_optimal['tariff_plan'] == 'B') & (df_client_optimal['have_optimum_tarif'] == True) , 'search_sum_C'] = df_client_optimal['total_sum_optimum']\n",
        "df_client_optimal.loc[ (df_client_optimal['tariff_plan'] == 'A') & (df_client_optimal['have_optimum_tarif'] == True) , 'search_sum_C']= df_client_optimal['total_sum_optimum']\n",
        "\n",
        "\n",
        "\n",
        "fig, ax = plt.subplots(nrows = 1, ncols = 1, figsize=(5,7))\n",
        "\n",
        "ax.set_title('выручка по клиентам в последнем месяце' )\n",
        "ax.bar(x= 'без оптимизации' , height= round(df_client_optimal['total_sum'].sum()), width =0.2, label='оставшиеся клиенты', align='center', )\n",
        "ax.bar(x= 'оптимизация тарифа \"А\"' , height= round(graf_for_present['search_sum'].sum()), width =0.2, label='оставшиеся клиенты', align='center', )\n",
        "ax.bar(x= 'оптимизация тарифа \"A+B\"' , height= round(df_client_optimal['search_sum_B'].sum()), width =0.2, label='оставшиеся клиенты', align='center', )\n",
        "ax.bar(x= 'оптимизация тарифа \"A+B+C\"' , height= round(df_client_optimal['search_sum_C'].sum()), width =0.2, label='оставшиеся клиенты', align='center', )\n",
        "\n",
        "#ax.bar(x= df_rab_2.index.astype('str') , height= df_rab_2['1'], width =0.2, label='ушедшие клиенты', align='edge',)\n",
        "\n",
        "ax.set_xlabel('подходы к оптимизации тарифов для клиентов')\n",
        "ax.set_ylabel('выручка, руб.')\n",
        "\n",
        "#ax.grid()\n",
        "\n",
        "#ax.legend(loc = locus)\n",
        "\n",
        "plt.xticks(rotation=-45, ha='left')\n",
        "\n",
        "for bar in ax.patches:\n",
        "  ax.annotate(bar.get_height(), \n",
        "                (bar.get_x() + bar.get_width() / 2, \n",
        "                  bar.get_height()), ha='center', va='center',\n",
        "                size=10, xytext=(0, 8),\n",
        "                textcoords='offset points')\n",
        "\n",
        "plt.show()"
      ],
      "execution_count": 102,
      "outputs": [
        {
          "output_type": "display_data",
          "data": {
            "image/png": "[encoded data removed]",
            "text/plain": [
              "<Figure size 360x504 with 1 Axes>"
            ]
          },
          "metadata": {
            "needs_background": "light"
          }
        }
      ]
    },
    {
      "cell_type": "code",
      "metadata": {
        "colab": {
          "base_uri": "https://localhost:8080/",
          "height": 101
        },
        "id": "zK8KBaW9GJyT",
        "outputId": "c93225bd-4155-4ffb-e36b-5f1aa6ee084f"
      },
      "source": [
        "df_client_optimal.sample()"
      ],
      "execution_count": 103,
      "outputs": [
        {
          "output_type": "execute_result",
          "data": {
            "text/html": [
              "<div>\n",
              "<style scoped>\n",
              "    .dataframe tbody tr th:only-of-type {\n",
              "        vertical-align: middle;\n",
              "    }\n",
              "\n",
              "    .dataframe tbody tr th {\n",
              "        vertical-align: top;\n",
              "    }\n",
              "\n",
              "    .dataframe thead th {\n",
              "        text-align: right;\n",
              "    }\n",
              "</style>\n",
              "<table border=\"1\" class=\"dataframe\">\n",
              "  <thead>\n",
              "    <tr style=\"text-align: right;\">\n",
              "      <th></th>\n",
              "      <th>user_id</th>\n",
              "      <th>tariff_plan</th>\n",
              "      <th>month_count</th>\n",
              "      <th>tarif_sum</th>\n",
              "      <th>operator_sum</th>\n",
              "      <th>call_sum</th>\n",
              "      <th>total_sum</th>\n",
              "      <th>tarif_sum_A</th>\n",
              "      <th>operator_sum_A</th>\n",
              "      <th>call_sum_A</th>\n",
              "      <th>total_sum_A</th>\n",
              "      <th>tarif_sum_B</th>\n",
              "      <th>operator_sum_B</th>\n",
              "      <th>call_sum_B</th>\n",
              "      <th>total_sum_B</th>\n",
              "      <th>tarif_sum_C</th>\n",
              "      <th>operator_sum_C</th>\n",
              "      <th>call_sum_C</th>\n",
              "      <th>total_sum_C</th>\n",
              "      <th>total_sum_optimum</th>\n",
              "      <th>have_optimum_tarif</th>\n",
              "      <th>optimum_tarif</th>\n",
              "      <th>search_sum</th>\n",
              "      <th>search_sum_B</th>\n",
              "      <th>search_sum_C</th>\n",
              "    </tr>\n",
              "  </thead>\n",
              "  <tbody>\n",
              "    <tr>\n",
              "      <th>142</th>\n",
              "      <td>167727</td>\n",
              "      <td>C</td>\n",
              "      <td>11</td>\n",
              "      <td>1000.0</td>\n",
              "      <td>100</td>\n",
              "      <td>1380.4</td>\n",
              "      <td>2480.4</td>\n",
              "      <td>5000.0</td>\n",
              "      <td>100</td>\n",
              "      <td>788.8</td>\n",
              "      <td>5888.8</td>\n",
              "      <td>2000.0</td>\n",
              "      <td>100</td>\n",
              "      <td>986.0</td>\n",
              "      <td>3086.0</td>\n",
              "      <td>1000.0</td>\n",
              "      <td>100</td>\n",
              "      <td>1380.4</td>\n",
              "      <td>2480.4</td>\n",
              "      <td>2480.4</td>\n",
              "      <td>False</td>\n",
              "      <td>C</td>\n",
              "      <td>2480.4</td>\n",
              "      <td>2480.4</td>\n",
              "      <td>2480.4</td>\n",
              "    </tr>\n",
              "  </tbody>\n",
              "</table>\n",
              "</div>"
            ],
            "text/plain": [
              "     user_id tariff_plan  month_count  ...  search_sum  search_sum_B  search_sum_C\n",
              "142   167727           C           11  ...      2480.4        2480.4        2480.4\n",
              "\n",
              "[1 rows x 25 columns]"
            ]
          },
          "metadata": {},
          "execution_count": 103
        }
      ]
    },
    {
      "cell_type": "code",
      "metadata": {
        "colab": {
          "base_uri": "https://localhost:8080/"
        },
        "id": "2ltdAk7wGJyU",
        "outputId": "499c9edc-e417-4bc7-9919-d3809a0be0d9"
      },
      "source": [
        "df_client_optimal.groupby(['tariff_plan','have_optimum_tarif'])['user_id'].count()"
      ],
      "execution_count": 104,
      "outputs": [
        {
          "output_type": "execute_result",
          "data": {
            "text/plain": [
              "tariff_plan  have_optimum_tarif\n",
              "A            False                   1\n",
              "             True                   27\n",
              "B            False                   2\n",
              "             True                   84\n",
              "C            False                 131\n",
              "Name: user_id, dtype: int64"
            ]
          },
          "metadata": {},
          "execution_count": 104
        }
      ]
    },
    {
      "cell_type": "code",
      "metadata": {
        "id": "cFCrVO-hGJyU"
      },
      "source": [
        ""
      ],
      "execution_count": 104,
      "outputs": []
    },
    {
      "cell_type": "code",
      "metadata": {
        "id": "vmJxvpg6GJyU"
      },
      "source": [
        ""
      ],
      "execution_count": 104,
      "outputs": []
    }
  ]
}